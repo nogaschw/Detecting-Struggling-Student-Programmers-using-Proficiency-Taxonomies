{
 "cells": [
  {
   "cell_type": "code",
   "execution_count": 2,
   "metadata": {},
   "outputs": [],
   "source": [
    "import os\n",
    "import torch\n",
    "import wandb\n",
    "from Data import *\n",
    "import pandas as pd\n",
    "from helper import *\n",
    "from Models import *\n",
    "import torch.nn as nn\n",
    "import torch.optim as optim\n",
    "from choosedataset import *\n",
    "from Data_Embedding import *\n",
    "from sklearn.metrics import confusion_matrix\n",
    "from transformers import AutoTokenizer, AutoModel\n",
    "from torch.nn.utils.rnn import pack_padded_sequence\n",
    "import warnings\n",
    "warnings.filterwarnings('ignore') # Ignore all warnings"
   ]
  },
  {
   "cell_type": "markdown",
   "metadata": {},
   "source": [
    "# start"
   ]
  },
  {
   "cell_type": "code",
   "execution_count": 11,
   "metadata": {},
   "outputs": [],
   "source": [
    "data = [Codeworkout, Falcon, Both][0]()\n",
    "df = data.df"
   ]
  },
  {
   "cell_type": "code",
   "execution_count": 10,
   "metadata": {},
   "outputs": [
    {
     "data": {
      "text/plain": [
       "correct_eventually\n",
       "True     29757\n",
       "False     6323\n",
       "Name: count, dtype: int64"
      ]
     },
     "execution_count": 10,
     "metadata": {},
     "output_type": "execute_result"
    }
   ],
   "source": [
    "df.correct_eventually.value_counts()"
   ]
  },
  {
   "cell_type": "code",
   "execution_count": 14,
   "metadata": {},
   "outputs": [
    {
     "data": {
      "text/plain": [
       "CorrectEventually\n",
       "True     7591\n",
       "False     379\n",
       "Name: count, dtype: int64"
      ]
     },
     "execution_count": 14,
     "metadata": {},
     "output_type": "execute_result"
    }
   ],
   "source": [
    "df.CorrectEventually.value_counts()"
   ]
  },
  {
   "cell_type": "code",
   "execution_count": 8,
   "metadata": {},
   "outputs": [],
   "source": [
    "text_model_name = 'google-bert/bert-base-uncased'\n",
    "code_model_name = 'microsoft/codebert-base'\n",
    "\n",
    "text_tokenizer = AutoTokenizer.from_pretrained(text_model_name)\n",
    "code_tokenizer = AutoTokenizer.from_pretrained(code_model_name)\n",
    "if text_tokenizer.pad_token is None:\n",
    "    text_tokenizer.pad_token = text_tokenizer.eos_token\n",
    "if code_tokenizer.pad_token is None:\n",
    "    code_tokenizer.pad_token = code_tokenizer.eos_token\n",
    "device_name = \"cuda\" if torch.cuda.is_available() else \"cpu\"\n",
    "device = torch.device(device_name)\n",
    "df['Label'].value_counts()\n",
    "feature = ['IfElse', 'Loops', 'MathOperations', 'LogicOperators', 'StringOperations', 'List', 'FileOperations', 'Functions', 'Dictionary', 'Tuple']\n",
    "# feature = ['IfElse', 'Loops', 'MathOperations', 'LogicOperators', 'StringOperations', 'List', 'FileOperations', 'Functions', 'Dictionary', 'Tuple', 'comprehension', 'alg_design', 'decomposition']\n"
   ]
  },
  {
   "cell_type": "code",
   "execution_count": 9,
   "metadata": {},
   "outputs": [
    {
     "data": {
      "text/plain": [
       "Index(['student_id', 'assignment_id', 'problem_id', 'start_time', 'score',\n",
       "       'max_score', 'question', 'prev_question', 'prev_code', 'prev_score',\n",
       "       'prev_submission_score', 'prev_start_time', 'prev_label', 'Label',\n",
       "       'Below75', 'CorrectEventually', 'IfElse', 'Loops', 'MathOperations',\n",
       "       'LogicOperators', 'StringOperations', 'List', 'FileOperations',\n",
       "       'Functions', 'Dictionary', 'Tuple', 'num_attempts', 'comprehension',\n",
       "       'alg_design', 'decomposition', 'prev_comp_cons'],\n",
       "      dtype='object')"
      ]
     },
     "execution_count": 9,
     "metadata": {},
     "output_type": "execute_result"
    }
   ],
   "source": [
    "df.columns"
   ]
  },
  {
   "cell_type": "code",
   "execution_count": 10,
   "metadata": {},
   "outputs": [],
   "source": [
    "# df['prev_code'] = df['prev_code'].apply(lambda x: [[i[-1]] for i in x]) # Only submission\n",
    "df['prev_code'] = df['prev_code'].apply(lambda x: [i[-100:] for i in x])\n",
    "# df['score'] = df['score'].apply(lambda x: [i[-100:] for i in x])"
   ]
  },
  {
   "cell_type": "code",
   "execution_count": 19,
   "metadata": {},
   "outputs": [
    {
     "name": "stdout",
     "output_type": "stream",
     "text": [
      "Load exist spliting\n"
     ]
    }
   ],
   "source": [
    "train_dataloader, valid_dataloader, test_dataloader = create_data_loader(df, Dataset_Embedding_Q, text_tokenizer, code_tokenizer, balanced_def=same_df, limit=30, padding_size_q=30, padding_size_code=100, batch_size=32, create_split=False, ids_filepath_prefix='Data/both/split_ids', feature=feature)"
   ]
  },
  {
   "cell_type": "code",
   "execution_count": 12,
   "metadata": {},
   "outputs": [],
   "source": [
    "def num_of(train_dataloader, valid_dataloader, test_dataloader):\n",
    "    print(len(train_dataloader), len(valid_dataloader), len(test_dataloader))\n",
    "    print(len(set(train_dataloader.dataset.df['student_id'])), len(set(valid_dataloader.dataset.df['student_id'])), len(set(test_dataloader.dataset.df['student_id'])))\n",
    "    print(set(train_dataloader.dataset.df['student_id']).intersection(set(valid_dataloader.dataset.df['student_id'])))\n",
    "    print(set(train_dataloader.dataset.df['student_id']).intersection(set(test_dataloader.dataset.df['student_id'])))\n",
    "    print(set(valid_dataloader.dataset.df['student_id']).intersection(set(test_dataloader.dataset.df['student_id'])))"
   ]
  },
  {
   "cell_type": "code",
   "execution_count": 13,
   "metadata": {},
   "outputs": [
    {
     "name": "stdout",
     "output_type": "stream",
     "text": [
      "175 25 51\n",
      "287 40 83\n",
      "set()\n",
      "set()\n",
      "set()\n"
     ]
    }
   ],
   "source": [
    "num_of(train_dataloader, valid_dataloader, test_dataloader)"
   ]
  },
  {
   "cell_type": "code",
   "execution_count": null,
   "metadata": {},
   "outputs": [
    {
     "name": "stderr",
     "output_type": "stream",
     "text": [
      "A parameter name that contains `beta` will be renamed internally to `bias`. Please use a different name to suppress this warning.\n",
      "A parameter name that contains `gamma` will be renamed internally to `weight`. Please use a different name to suppress this warning.\n",
      "A parameter name that contains `beta` will be renamed internally to `bias`. Please use a different name to suppress this warning.\n",
      "A parameter name that contains `gamma` will be renamed internally to `weight`. Please use a different name to suppress this warning.\n",
      "A parameter name that contains `beta` will be renamed internally to `bias`. Please use a different name to suppress this warning.\n",
      "A parameter name that contains `gamma` will be renamed internally to `weight`. Please use a different name to suppress this warning.\n",
      "A parameter name that contains `beta` will be renamed internally to `bias`. Please use a different name to suppress this warning.\n",
      "A parameter name that contains `gamma` will be renamed internally to `weight`. Please use a different name to suppress this warning.\n",
      "A parameter name that contains `beta` will be renamed internally to `bias`. Please use a different name to suppress this warning.\n",
      "A parameter name that contains `gamma` will be renamed internally to `weight`. Please use a different name to suppress this warning.\n",
      "A parameter name that contains `beta` will be renamed internally to `bias`. Please use a different name to suppress this warning.\n",
      "A parameter name that contains `gamma` will be renamed internally to `weight`. Please use a different name to suppress this warning.\n",
      "A parameter name that contains `beta` will be renamed internally to `bias`. Please use a different name to suppress this warning.\n",
      "A parameter name that contains `gamma` will be renamed internally to `weight`. Please use a different name to suppress this warning.\n",
      "A parameter name that contains `beta` will be renamed internally to `bias`. Please use a different name to suppress this warning.\n",
      "A parameter name that contains `gamma` will be renamed internally to `weight`. Please use a different name to suppress this warning.\n",
      "A parameter name that contains `beta` will be renamed internally to `bias`. Please use a different name to suppress this warning.\n",
      "A parameter name that contains `gamma` will be renamed internally to `weight`. Please use a different name to suppress this warning.\n",
      "A parameter name that contains `beta` will be renamed internally to `bias`. Please use a different name to suppress this warning.\n",
      "A parameter name that contains `gamma` will be renamed internally to `weight`. Please use a different name to suppress this warning.\n",
      "A parameter name that contains `beta` will be renamed internally to `bias`. Please use a different name to suppress this warning.\n",
      "A parameter name that contains `gamma` will be renamed internally to `weight`. Please use a different name to suppress this warning.\n",
      "A parameter name that contains `beta` will be renamed internally to `bias`. Please use a different name to suppress this warning.\n",
      "A parameter name that contains `gamma` will be renamed internally to `weight`. Please use a different name to suppress this warning.\n",
      "A parameter name that contains `beta` will be renamed internally to `bias`. Please use a different name to suppress this warning.\n",
      "A parameter name that contains `gamma` will be renamed internally to `weight`. Please use a different name to suppress this warning.\n",
      "A parameter name that contains `beta` will be renamed internally to `bias`. Please use a different name to suppress this warning.\n",
      "A parameter name that contains `gamma` will be renamed internally to `weight`. Please use a different name to suppress this warning.\n",
      "A parameter name that contains `beta` will be renamed internally to `bias`. Please use a different name to suppress this warning.\n",
      "A parameter name that contains `gamma` will be renamed internally to `weight`. Please use a different name to suppress this warning.\n",
      "A parameter name that contains `beta` will be renamed internally to `bias`. Please use a different name to suppress this warning.\n",
      "A parameter name that contains `gamma` will be renamed internally to `weight`. Please use a different name to suppress this warning.\n",
      "A parameter name that contains `beta` will be renamed internally to `bias`. Please use a different name to suppress this warning.\n",
      "A parameter name that contains `gamma` will be renamed internally to `weight`. Please use a different name to suppress this warning.\n",
      "A parameter name that contains `beta` will be renamed internally to `bias`. Please use a different name to suppress this warning.\n",
      "A parameter name that contains `gamma` will be renamed internally to `weight`. Please use a different name to suppress this warning.\n",
      "A parameter name that contains `beta` will be renamed internally to `bias`. Please use a different name to suppress this warning.\n",
      "A parameter name that contains `gamma` will be renamed internally to `weight`. Please use a different name to suppress this warning.\n",
      "A parameter name that contains `beta` will be renamed internally to `bias`. Please use a different name to suppress this warning.\n",
      "A parameter name that contains `gamma` will be renamed internally to `weight`. Please use a different name to suppress this warning.\n",
      "A parameter name that contains `beta` will be renamed internally to `bias`. Please use a different name to suppress this warning.\n",
      "A parameter name that contains `gamma` will be renamed internally to `weight`. Please use a different name to suppress this warning.\n",
      "A parameter name that contains `beta` will be renamed internally to `bias`. Please use a different name to suppress this warning.\n",
      "A parameter name that contains `gamma` will be renamed internally to `weight`. Please use a different name to suppress this warning.\n",
      "A parameter name that contains `beta` will be renamed internally to `bias`. Please use a different name to suppress this warning.\n",
      "A parameter name that contains `gamma` will be renamed internally to `weight`. Please use a different name to suppress this warning.\n",
      "A parameter name that contains `beta` will be renamed internally to `bias`. Please use a different name to suppress this warning.\n",
      "A parameter name that contains `gamma` will be renamed internally to `weight`. Please use a different name to suppress this warning.\n",
      "A parameter name that contains `beta` will be renamed internally to `bias`. Please use a different name to suppress this warning.\n",
      "A parameter name that contains `gamma` will be renamed internally to `weight`. Please use a different name to suppress this warning.\n",
      "A parameter name that contains `beta` will be renamed internally to `bias`. Please use a different name to suppress this warning.\n",
      "A parameter name that contains `gamma` will be renamed internally to `weight`. Please use a different name to suppress this warning.\n"
     ]
    }
   ],
   "source": [
    "model = AllWithTaxonomyQmatrix(text_model_name)"
   ]
  },
  {
   "cell_type": "code",
   "execution_count": 34,
   "metadata": {},
   "outputs": [],
   "source": [
    "criterion = nn.BCEWithLogitsLoss() # pos_weight=pos_weight)\n",
    "optimizer = optim.Adam(model.parameters(), lr=0.00001)"
   ]
  },
  {
   "cell_type": "code",
   "execution_count": 35,
   "metadata": {},
   "outputs": [],
   "source": [
    "model = model.to(device)"
   ]
  },
  {
   "cell_type": "code",
   "execution_count": null,
   "metadata": {},
   "outputs": [],
   "source": [
    "weights = [0.244, 0.756]\n",
    "model = training_loop(model=model, train_dataloader=train_dataloader, test_dataloader=valid_dataloader, optimizer=optimizer, criterion=criterion, device=device, name=\"a\", weights=None) # lr_scheduler=lr_schedule"
   ]
  },
  {
   "cell_type": "code",
   "execution_count": null,
   "metadata": {},
   "outputs": [],
   "source": [
    "    # def custom_backward(self):\n",
    "    #     with torch.no_grad(): # Step1: Mask the gradients to only update relevant KCs\n",
    "    #         filtered_gradients = self.KCweight.weight.grad * self.mask\n",
    "    #     with torch.no_grad(): # Step 2: Apply gradient descent step (standard update for weights)\n",
    "    #         self.KCweight.weight -= filtered_gradients\n",
    "    #     with torch.no_grad(): # Step 3: Apply positive weight constraint (ReLU to enforce positivity)\n",
    "    #         self.KCweight.weight.data = torch.maximum(self.KCweight.weight.data, torch.zeros_like(self.KCweight.weight.data))\n",
    "    #     with torch.no_grad(): # Step 4: Normalize the weights so they sum to 1 (per problem/task)\n",
    "    #         weight_sums = self.KCweight.weight.sum()\n",
    "    #         self.KCweight.weight.data = self.KCweight.weight.data / weight_sums    "
   ]
  },
  {
   "cell_type": "code",
   "execution_count": 16,
   "metadata": {},
   "outputs": [
    {
     "data": {
      "text/plain": [
       "['My full model (cw) q-matrix .pth',\n",
       " 'My full model (cw) sum .pth',\n",
       " 'My full model (cw) sum-norm .pth',\n",
       " 'My full model (cw) (b) .pth',\n",
       " 'My full model (cw) without taxonomy.pth',\n",
       " 'Falcon',\n",
       " 'My full model (cw) without taxonomy and past snapshots.pth',\n",
       " 'My full model (cw) Prev (b) .pth',\n",
       " 'My full model (falcon) PS without taxonomy.pth',\n",
       " 'My full model (cw) Q-matrix smaller .pth',\n",
       " 'My full model (cw) single Q-matrix smaller .pth',\n",
       " 'My full model (cw) prev Q-matrix smaller .pth',\n",
       " 'My full model (cw) Q-matrix skills .pth',\n",
       " 'My full model (cw) q-matrix with backward .pth',\n",
       " 'My full model (cw) with stat without taxonomy.pth',\n",
       " 'My full model (cw) with improves without taxonomy and past snapshots.pth',\n",
       " 'My full model (cw) with lrwithout taxonomy.pth',\n",
       " 'My full model (cw) imbalancewithout taxonomy.pth',\n",
       " 'My full model (cw) attention without taxonomy.pth',\n",
       " 'My full model (falcon) Pearson similarity without taxonomy.pth',\n",
       " 'My full model (cw) stats as in comp without taxonomy.pth',\n",
       " 'My full model (cw) with backward without taxonomy.pth',\n",
       " 'My full model (cw) with backward without stats without taxonomy.pth',\n",
       " 'My full model (cw) with backward without stats + codemlp without taxonomy.pth',\n",
       " 'My full model (cw) with backward without stats + codemlp + q_text without taxonomy.pth',\n",
       " 'My full model (cw) without stats + codemlp + q_text without taxonomy.pth',\n",
       " 'My full model (cw) q-matrix with backward without stats .pth',\n",
       " 'My full model (cw) q-matrix with backward without stats + mlp .pth',\n",
       " 'My full model (cw) q-matrix with backward without stats + mlp + qtext.pth',\n",
       " 'My full model (cw) q-matrix with backward without q similarity .pth',\n",
       " 'My full model (cw) Soft Constraints Q-matrix .pth',\n",
       " 'My full model (cw) backward single Q-matrix Reg with q_att .pth',\n",
       " 'My full model (cw) Q-matrix backward include all layers .pth',\n",
       " 'My full model (cw) Q-matrix with linear layer + all backward .pth',\n",
       " 'My full model (cw) Q-matrix with linear layer .pth',\n",
       " 'My full model (cw) Q-matrix without backward .pth',\n",
       " 'My full model (cw) Q-matrix without relu in backward .pth',\n",
       " 'My full model (cw) Q-matrix with mul .pth',\n",
       " 'My full model (cw) Q-matrix without stats .pth',\n",
       " 'My full model (cw) Q-matrix with sig .pth',\n",
       " 'My full model (cw) Q-matrix concate .pth',\n",
       " 'My full model (cw) Q-matrix without text .pth',\n",
       " 'My full model (cw) 32 batches without taxonomy and past snapshots.pth',\n",
       " 'My full model (cw) 32 batches without snapshots.pth',\n",
       " 'My full model (cw) 32 batches without taxonomy.pth',\n",
       " 'My full model (cw) 32 batches without backward without snapshots.pth',\n",
       " 'My full model (cw) 32 batches .pth',\n",
       " 'My full model (cw) 32 batches without backward .pth',\n",
       " 'My full model (cw)sigmod in end .pth',\n",
       " 'My full model (cw) weight sum-norm reg .pth',\n",
       " 'My full model (cw) weight sum-norm (b) .pth',\n",
       " 'My full model (cw) sum-norm (b) .pth',\n",
       " 'My full model (cw) with 10 without taxonomy.pth',\n",
       " 'My full model (cw) Prev (b) sum .pth',\n",
       " 'My full model (cw) without weight layer (b) .pth',\n",
       " 'My full model (cw) sum-norm (b) (dropout and relu) .pth',\n",
       " 'My full model (cw) sum-norm (b) grad_norm .pth',\n",
       " 'My full model (cw) sum-norm (b) without weights .pth']"
      ]
     },
     "metadata": {},
     "output_type": "display_data"
    }
   ],
   "source": [
    "path_models = \"/home/nogaschw/Codeworkout/Thesis/Models\"\n",
    "files = os.listdir(path_models)\n",
    "display(files)\n"
   ]
  },
  {
   "cell_type": "code",
   "execution_count": 23,
   "metadata": {},
   "outputs": [
    {
     "name": "stdout",
     "output_type": "stream",
     "text": [
      "/home/nogaschw/Codeworkout/Thesis/Models/My full model (cw) 32 batches without taxonomy.pth\n"
     ]
    },
    {
     "data": {
      "text/plain": [
       "All(\n",
       "  (text_model): BertModel(\n",
       "    (embeddings): BertEmbeddings(\n",
       "      (word_embeddings): Embedding(30522, 768, padding_idx=0)\n",
       "      (position_embeddings): Embedding(512, 768)\n",
       "      (token_type_embeddings): Embedding(2, 768)\n",
       "      (LayerNorm): LayerNorm((768,), eps=1e-12, elementwise_affine=True)\n",
       "      (dropout): Dropout(p=0.1, inplace=False)\n",
       "    )\n",
       "    (encoder): BertEncoder(\n",
       "      (layer): ModuleList(\n",
       "        (0-11): 12 x BertLayer(\n",
       "          (attention): BertAttention(\n",
       "            (self): BertSdpaSelfAttention(\n",
       "              (query): Linear(in_features=768, out_features=768, bias=True)\n",
       "              (key): Linear(in_features=768, out_features=768, bias=True)\n",
       "              (value): Linear(in_features=768, out_features=768, bias=True)\n",
       "              (dropout): Dropout(p=0.1, inplace=False)\n",
       "            )\n",
       "            (output): BertSelfOutput(\n",
       "              (dense): Linear(in_features=768, out_features=768, bias=True)\n",
       "              (LayerNorm): LayerNorm((768,), eps=1e-12, elementwise_affine=True)\n",
       "              (dropout): Dropout(p=0.1, inplace=False)\n",
       "            )\n",
       "          )\n",
       "          (intermediate): BertIntermediate(\n",
       "            (dense): Linear(in_features=768, out_features=3072, bias=True)\n",
       "            (intermediate_act_fn): GELUActivation()\n",
       "          )\n",
       "          (output): BertOutput(\n",
       "            (dense): Linear(in_features=3072, out_features=768, bias=True)\n",
       "            (LayerNorm): LayerNorm((768,), eps=1e-12, elementwise_affine=True)\n",
       "            (dropout): Dropout(p=0.1, inplace=False)\n",
       "          )\n",
       "        )\n",
       "      )\n",
       "    )\n",
       "    (pooler): BertPooler(\n",
       "      (dense): Linear(in_features=768, out_features=768, bias=True)\n",
       "      (activation): Tanh()\n",
       "    )\n",
       "  )\n",
       "  (lstm_snapshots): LSTM(768, 512, batch_first=True)\n",
       "  (dropout): Dropout(p=0.2, inplace=False)\n",
       "  (norm_lstm_output_prev_labels): BatchNorm1d(513, eps=1e-05, momentum=0.1, affine=True, track_running_stats=True)\n",
       "  (lstm_submissions): LSTM(513, 512, batch_first=True)\n",
       "  (MLP_text): Sequential(\n",
       "    (0): Linear(in_features=768, out_features=512, bias=True)\n",
       "    (1): LayerNorm((512,), eps=1e-05, elementwise_affine=True)\n",
       "    (2): ReLU()\n",
       "    (3): Dropout(p=0.2, inplace=False)\n",
       "    (4): Linear(in_features=512, out_features=512, bias=True)\n",
       "    (5): LayerNorm((512,), eps=1e-05, elementwise_affine=True)\n",
       "    (6): ReLU()\n",
       "    (7): Dropout(p=0.2, inplace=False)\n",
       "  )\n",
       "  (batch_norm_code_mlp): BatchNorm1d(515, eps=1e-05, momentum=0.1, affine=True, track_running_stats=True)\n",
       "  (MLP_code): Sequential(\n",
       "    (0): Linear(in_features=515, out_features=512, bias=True)\n",
       "    (1): LayerNorm((512,), eps=1e-05, elementwise_affine=True)\n",
       "    (2): ReLU()\n",
       "    (3): Dropout(p=0.2, inplace=False)\n",
       "    (4): Linear(in_features=512, out_features=512, bias=True)\n",
       "    (5): LayerNorm((512,), eps=1e-05, elementwise_affine=True)\n",
       "    (6): ReLU()\n",
       "    (7): Dropout(p=0.2, inplace=False)\n",
       "  )\n",
       "  (fully_connected_layer): Linear(in_features=512, out_features=1, bias=True)\n",
       ")"
      ]
     },
     "execution_count": 23,
     "metadata": {},
     "output_type": "execute_result"
    }
   ],
   "source": [
    "model_path_name = os.path.join(path_models, f'My full model (cw) 32 batches without taxonomy.pth')\n",
    "print(model_path_name)\n",
    "model.load_state_dict(torch.load(model_path_name))\n",
    "model.to(device)"
   ]
  },
  {
   "cell_type": "code",
   "execution_count": null,
   "metadata": {},
   "outputs": [],
   "source": [
    "wandb.login()\n",
    "\n",
    "wandb.init(\n",
    "    project=\"Struggling Students\",  # Set your project name\n",
    "    entity=\"naji1\",                 # Your WandB username or team\n",
    "    id=\"v0dhrg3n\",                  # The run ID of the run you want to resume\n",
    "    resume=\"allow\",                 # This allows WandB to resume the run\n",
    ")"
   ]
  },
  {
   "cell_type": "code",
   "execution_count": 24,
   "metadata": {},
   "outputs": [
    {
     "name": "stdout",
     "output_type": "stream",
     "text": [
      "Batch 0 from 25\n"
     ]
    }
   ],
   "source": [
    "from sklearn.metrics import roc_curve\n",
    " \n",
    "all_labels, all_probs = eval_loop(model, valid_dataloader, device)\n",
    "\n",
    "fpr, tpr, thresholds = roc_curve(all_labels, all_probs)\n",
    "\n",
    "# J = tpr - fpr\n",
    "# best_index = J.argmax()\n",
    "# best_threshold = thresholds[best_index]"
   ]
  },
  {
   "cell_type": "code",
   "execution_count": 26,
   "metadata": {},
   "outputs": [
    {
     "data": {
      "text/plain": [
       "np.float64(0.4545215666294098)"
      ]
     },
     "execution_count": 26,
     "metadata": {},
     "output_type": "execute_result"
    }
   ],
   "source": [
    "J = tpr - fpr\n",
    "best_index = J.argmax()\n",
    "thresholds[best_index]"
   ]
  },
  {
   "cell_type": "code",
   "execution_count": 27,
   "metadata": {},
   "outputs": [
    {
     "name": "stdout",
     "output_type": "stream",
     "text": [
      "Batch 0 from 51\n"
     ]
    }
   ],
   "source": [
    "y_labels, y_probs = eval_loop(model, test_dataloader, device)"
   ]
  },
  {
   "cell_type": "code",
   "execution_count": 34,
   "metadata": {},
   "outputs": [
    {
     "data": {
      "text/plain": [
       "np.float64(0.6915131942031356)"
      ]
     },
     "execution_count": 34,
     "metadata": {},
     "output_type": "execute_result"
    }
   ],
   "source": [
    "roc_auc = roc_auc_score(y_labels, y_probs)\n",
    "roc_auc"
   ]
  },
  {
   "cell_type": "code",
   "execution_count": 28,
   "metadata": {},
   "outputs": [],
   "source": [
    "from sklearn.metrics import f1_score, precision_score, matthews_corrcoef\n",
    "\n",
    "def find_f1_threshold(all_labels, all_probs, thresholds):\n",
    "    \"\"\"Finds the threshold that maximizes F1 Score.\"\"\"\n",
    "    best_threshold = thresholds[0]\n",
    "    best_f1 = 0\n",
    "    for threshold in thresholds:\n",
    "        predictions = (all_probs >= threshold).astype(int)\n",
    "        f1 = f1_score(all_labels, predictions)\n",
    "        if f1 > best_f1:\n",
    "            best_f1 = f1\n",
    "            best_threshold = threshold\n",
    "    return best_threshold\n",
    "\n",
    "def find_geometric_mean_threshold(fpr, tpr, thresholds):\n",
    "    \"\"\"Finds the threshold that maximizes the Geometric Mean of TPR and TNR (1 - FPR).\"\"\"\n",
    "    best_threshold = thresholds[0]\n",
    "    best_geometric_mean = 0\n",
    "    for idx, threshold in enumerate(thresholds):\n",
    "        geometric_mean = np.sqrt(tpr[idx] * (1 - fpr[idx]))\n",
    "        if geometric_mean > best_geometric_mean:\n",
    "            best_geometric_mean = geometric_mean\n",
    "            best_threshold = threshold\n",
    "    return best_threshold\n",
    "\n",
    "def find_mcc_threshold(all_labels, all_probs, thresholds):\n",
    "    \"\"\"Finds the threshold that maximizes Matthews Correlation Coefficient (MCC).\"\"\"\n",
    "    best_threshold = thresholds[0]\n",
    "    best_mcc = -1  # MCC ranges from -1 to +1, so start lower than the minimum possible value\n",
    "    for threshold in thresholds:\n",
    "        predictions = (all_probs >= threshold).astype(int)\n",
    "        mcc = matthews_corrcoef(all_labels, predictions)\n",
    "        if mcc > best_mcc:\n",
    "            best_mcc = mcc\n",
    "            best_threshold = threshold\n",
    "    return best_threshold\n",
    "\n",
    "def find_precision_threshold(all_labels, all_probs, thresholds):\n",
    "    \"\"\"Finds the threshold that maximizes Precision.\"\"\"\n",
    "    best_threshold = thresholds[0]\n",
    "    best_precision = 0\n",
    "    for threshold in thresholds:\n",
    "        predictions = (all_probs >= threshold).astype(int)\n",
    "        precision = precision_score(all_labels, predictions)\n",
    "        if precision > best_precision:\n",
    "            best_precision = precision\n",
    "            best_threshold = threshold\n",
    "    return best_threshold\n"
   ]
  },
  {
   "cell_type": "code",
   "execution_count": 29,
   "metadata": {},
   "outputs": [],
   "source": [
    "f1_score_threshold = find_f1_threshold(all_labels, all_probs, thresholds)\n",
    "geometric_mean_threshold = find_geometric_mean_threshold(fpr, tpr, thresholds)\n",
    "mcc_threshold = find_mcc_threshold(all_labels, all_probs, thresholds)\n",
    "precision_threshold = find_precision_threshold(all_labels, all_probs, thresholds)"
   ]
  },
  {
   "cell_type": "code",
   "execution_count": 30,
   "metadata": {},
   "outputs": [],
   "source": [
    "thershold_list = [f1_score_threshold, geometric_mean_threshold, mcc_threshold, precision_threshold, thresholds[best_index], 0.5]"
   ]
  },
  {
   "cell_type": "code",
   "execution_count": 31,
   "metadata": {},
   "outputs": [],
   "source": [
    "def which_cm(pred, label):\n",
    "    if pred == 1 and label == 0:\n",
    "        return \"FP\"\n",
    "    if pred == 0 and label == 0:\n",
    "        return \"TN\"\n",
    "    if pred == 1 and label == 1:\n",
    "        return \"TP\"\n",
    "    return \"FN\"\n",
    "\n"
   ]
  },
  {
   "cell_type": "code",
   "execution_count": 32,
   "metadata": {},
   "outputs": [
    {
     "name": "stdout",
     "output_type": "stream",
     "text": [
      "thershold:  0.18481391668319702\n",
      "CM\n",
      "TP    1204\n",
      "FP     406\n",
      "FN       1\n",
      "Name: count, dtype: int64\n",
      "0.9991701244813278 0.7478260869565218 0.8554174067495559 \n",
      "\n",
      "thershold:  0.42778509855270386\n",
      "CM\n",
      "TP    693\n",
      "FN    512\n",
      "TN    272\n",
      "FP    134\n",
      "Name: count, dtype: int64\n",
      "0.575103734439834 0.837968561064087 0.6820866141732284 \n",
      "\n",
      "thershold:  0.4545215666294098\n",
      "CM\n",
      "TP    618\n",
      "FN    587\n",
      "TN    302\n",
      "FP    104\n",
      "Name: count, dtype: int64\n",
      "0.512863070539419 0.8559556786703602 0.6414115204981837 \n",
      "\n",
      "thershold:  0.7726464867591858\n",
      "CM\n",
      "FN    1205\n",
      "TN     406\n",
      "Name: count, dtype: int64\n",
      "0.0 0.0 0.0 \n",
      "\n",
      "thershold:  0.4545215666294098\n",
      "CM\n",
      "TP    618\n",
      "FN    587\n",
      "TN    302\n",
      "FP    104\n",
      "Name: count, dtype: int64\n",
      "0.512863070539419 0.8559556786703602 0.6414115204981837 \n",
      "\n",
      "thershold:  0.5\n",
      "CM\n",
      "FN    735\n",
      "TP    470\n",
      "TN    342\n",
      "FP     64\n",
      "Name: count, dtype: int64\n",
      "0.3900414937759336 0.8801498127340824 0.5405405405405406 \n",
      "\n"
     ]
    }
   ],
   "source": [
    "for i in thershold_list:\n",
    "    y_pred = np.where(y_probs > np.float64(i), 1, 0)\n",
    "    cm = []\n",
    "    for j, (pred, label) in enumerate(zip(y_pred, y_labels)):\n",
    "        if test_dataloader.dataset.df.iloc[j]['Label'] != label:\n",
    "            print('problem', j)\n",
    "            break\n",
    "        cm.append(which_cm(pred, label))\n",
    "    work = test_dataloader.dataset.df.copy()\n",
    "    work[\"CM\"] = cm\n",
    "    print(\"thershold: \", i)\n",
    "    print(work.CM.value_counts())\n",
    "    print(recall_score(y_labels, y_pred), precision_score(y_labels, y_pred), f1_score(y_labels, y_pred), \"\\n\")"
   ]
  },
  {
   "cell_type": "code",
   "execution_count": 73,
   "metadata": {},
   "outputs": [
    {
     "data": {
      "text/plain": [
       "CM\n",
       "TP    828\n",
       "FN    377\n",
       "TN    271\n",
       "FP    135\n",
       "Name: count, dtype: int64"
      ]
     },
     "execution_count": 73,
     "metadata": {},
     "output_type": "execute_result"
    }
   ],
   "source": [
    "work.CM.value_counts()"
   ]
  },
  {
   "cell_type": "markdown",
   "metadata": {},
   "source": [
    "I told he is success but he struggling"
   ]
  },
  {
   "cell_type": "code",
   "execution_count": 27,
   "metadata": {},
   "outputs": [
    {
     "data": {
      "text/plain": [
       "Index(['student_id', 'assignment_id', 'problem_id', 'start_time', 'score',\n",
       "       'max_score', 'question', 'prev_question', 'prev_code', 'prev_score',\n",
       "       'prev_submission_score', 'prev_start_time', 'prev_label', 'Label',\n",
       "       'Below75', 'CorrectEventually', 'IfElse', 'Loops', 'MathOperations',\n",
       "       'LogicOperators', 'StringOperations', 'List', 'FileOperations',\n",
       "       'Functions', 'Dictionary', 'Tuple', 'comprehension', 'alg_design',\n",
       "       'decomposition', 'num_attempts', 'CM'],\n",
       "      dtype='object')"
      ]
     },
     "execution_count": 27,
     "metadata": {},
     "output_type": "execute_result"
    }
   ],
   "source": [
    "work.columns"
   ]
  },
  {
   "cell_type": "code",
   "execution_count": 50,
   "metadata": {},
   "outputs": [],
   "source": [
    "def filter_by_bool_array(row):\n",
    "    # Use numpy boolean indexing to filter `True` positions in `bool_array\n",
    "    bool_indices = pd.Series(row['prev_label'])\n",
    "    \n",
    "    # Filter `values` and `labels` based on `True` values in `bool_array`\n",
    "    row['prev_code'] = [v for v, b in zip(row['prev_code'], bool_indices) if b]\n",
    "    row['prev_question'] = [l for l, b in zip(row['prev_question'], bool_indices) if b]\n",
    "    return row"
   ]
  },
  {
   "cell_type": "code",
   "execution_count": 75,
   "metadata": {},
   "outputs": [
    {
     "data": {
      "text/plain": [
       "135"
      ]
     },
     "execution_count": 75,
     "metadata": {},
     "output_type": "execute_result"
    }
   ],
   "source": [
    "len(work[work.CM == 'FP'])"
   ]
  },
  {
   "cell_type": "code",
   "execution_count": 74,
   "metadata": {},
   "outputs": [
    {
     "data": {
      "text/plain": [
       "problem_id\n",
       "71     13\n",
       "43     13\n",
       "44     12\n",
       "67     12\n",
       "49      8\n",
       "64      7\n",
       "51      7\n",
       "70      7\n",
       "118     7\n",
       "57      6\n",
       "106     6\n",
       "48      6\n",
       "104     5\n",
       "41      5\n",
       "56      5\n",
       "46      4\n",
       "112     4\n",
       "45      4\n",
       "107     3\n",
       "108     1\n",
       "Name: count, dtype: int64"
      ]
     },
     "execution_count": 74,
     "metadata": {},
     "output_type": "execute_result"
    }
   ],
   "source": [
    "work[work.CM == 'FP'].problem_id.value_counts()\n"
   ]
  },
  {
   "cell_type": "code",
   "execution_count": 127,
   "metadata": {},
   "outputs": [
    {
     "data": {
      "text/plain": [
       "410"
      ]
     },
     "execution_count": 127,
     "metadata": {},
     "output_type": "execute_result"
    }
   ],
   "source": [
    "len(set(df.student_id.values))"
   ]
  },
  {
   "cell_type": "code",
   "execution_count": 131,
   "metadata": {},
   "outputs": [
    {
     "data": {
      "text/plain": [
       "Index(['student_id', 'assignment_id', 'problem_id', 'start_time', 'score',\n",
       "       'max_score', 'question', 'prev_question', 'prev_code', 'prev_score',\n",
       "       'prev_submission_score', 'prev_start_time', 'prev_label', 'Label',\n",
       "       'Below75', 'CorrectEventually', 'IfElse', 'Loops', 'MathOperations',\n",
       "       'LogicOperators', 'StringOperations', 'List', 'FileOperations',\n",
       "       'Functions', 'Dictionary', 'Tuple', 'comprehension', 'alg_design',\n",
       "       'decomposition'],\n",
       "      dtype='object')"
      ]
     },
     "execution_count": 131,
     "metadata": {},
     "output_type": "execute_result"
    }
   ],
   "source": [
    "df.columns"
   ]
  },
  {
   "cell_type": "code",
   "execution_count": 133,
   "metadata": {},
   "outputs": [],
   "source": [
    "# Temporarily convert lists to tuples in `prev_code` column (or any other column with lists)\n",
    "df_big['prev_code_tuple'] = df_big['prev_code'].apply(tuple)\n",
    "\n",
    "# Now drop duplicates based on the column with tuples\n",
    "df_big = df_big.drop_duplicates(subset=['prev_code_tuple'])\n",
    "\n",
    "# Optionally, remove the tuple column if it's no longer needed\n",
    "df_big.drop(columns=['prev_code_tuple'], inplace=True)"
   ]
  },
  {
   "cell_type": "code",
   "execution_count": 120,
   "metadata": {},
   "outputs": [
    {
     "data": {
      "text/plain": [
       "([['public int sortaSum(int a, int b)\\r\\n{\\r\\n  int c = a+b;\\r\\n  if( c>9 && c<20)\\r\\n  {\\r\\n      return 20;\\r\\n  }\\r\\n  else\\r\\n  {\\r\\n      return c;\\r\\n  }\\r\\n    \\r\\n}\\r\\n']],\n",
       " [['public boolean in1To10(int n, boolean outsideMode)\\r\\n{\\r\\n    if( n>0 && n<11 && !(outsideMode))\\r\\n    {\\r\\n        return true;\\r\\n    }\\r\\n    else if(outsideMode && (n<= 1 || n>=10))\\r\\n    {\\r\\n        return true;\\r\\n    }\\r\\n    else \\r\\n    {\\r\\n        return false;\\r\\n    }\\r\\n    \\r\\n}\\r\\n']],\n",
       " [['public boolean answerCell(boolean isMorning, boolean isMom, boolean isAsleep)\\r\\n{\\r\\n   if( isMorning && isMom)\\r\\n   {\\r\\n       return true;\\r\\n   }\\r\\n   else if ( isMorning && !(isMom))\\r\\n   {\\r\\n       return false;\\r\\n   }\\r\\n   else if ( isAsleep)\\r\\n   {\\r\\n       return false;\\r\\n   }\\r\\n   else\\r\\n   {\\r\\n       return true;\\r\\n   }\\r\\n}\\r\\n']],\n",
       " [['public boolean squirrelPlay(int temp, boolean isSummer)\\r\\n{\\r\\n    int tempUp = 0;\\r\\n    if(isSummer)\\r\\n    {\\r\\n        tempUp = temp -10;\\r\\n    }\\r\\n    if( temp>59 && tempUp<91)\\r\\n    {\\r\\n        return true;\\r\\n    }\\r\\n    else\\r\\n    {\\r\\n        return false;\\r\\n    }\\r\\n    \\r\\n}\\r\\n']],\n",
       " [['public int caughtSpeeding(int speed, boolean isBirthday)\\r\\n{\\r\\n if(isBirthday)\\r\\n {\\r\\n    speed = speed - 5;\\r\\n }\\r\\n if(speed< 61)\\r\\n {\\r\\n     return 0;\\r\\n }\\r\\n else if(speed > 60 && speed < 81)\\r\\n {\\r\\n        return 1 ;\\r\\n }\\r\\n else\\r\\n {\\r\\n     return 2;\\r\\n }\\r\\n}\\r\\n']],\n",
       " [['public String alarmClock(int day, boolean vacation)\\r\\n{\\r\\n  if(day <= 5 && day!=0)\\r\\n  {\\r\\n      if(vacation)\\r\\n      {\\r\\n          return \"10:00\";\\r\\n      }\\r\\n      else\\r\\n      {\\r\\n          return \"7:00\";\\r\\n      }\\r\\n  }\\r\\n   if(day == 6 || day == 0)\\r\\n  {\\r\\n      if(vacation)\\r\\n      {\\r\\n          return \"off\";\\r\\n      }\\r\\n      else\\r\\n      {\\r\\n          return \"10:00\";\\r\\n      }\\r\\n}    \\r\\n    return \"alarm\";\\r\\n}\\r\\n']],\n",
       " [['public boolean love6(int a, int b)\\r\\n{\\r\\n    a = Math.abs(a);\\r\\n    b = Math.abs(b);\\r\\n    if( a==6|| b==6 || a+b == 6 || a-b == 6 || b-a ==6 )\\r\\n    {\\r\\n        return true;\\r\\n    }\\r\\n    else \\r\\n    {\\r\\n        return false;\\r\\n    }\\r\\n    \\r\\n}\\r\\n']],\n",
       " [['public boolean cigarParty(int cigars, boolean isWeekend)\\r\\n{\\r\\n    if ( cigars > 39 && isWeekend)\\r\\n    {\\r\\n        return true;\\r\\n    }\\r\\n    if( cigars > 39 && cigars<61)\\r\\n    {\\r\\n        return true;\\r\\n    }\\r\\n    else \\r\\n    {\\r\\n        return false;\\r\\n    }\\r\\n    \\r\\n}\\r\\n']],\n",
       " [['public int dateFashion(int you, int date)\\r\\n{\\r\\n    if( (you>=8 || date>=8) && !(you<=2) && !(you<=2) )\\r\\n    {\\r\\n        return 2;\\r\\n    }\\r\\n    else if( date <=2 || you<= 2)\\r\\n    {\\r\\n        return 0;\\r\\n    }\\r\\n    else\\r\\n    {\\r\\n        return 1;\\r\\n    }   \\r\\n}\\r\\n']],\n",
       " [['public int greenTicket(int a, int b, int c)\\r\\n{\\r\\n    if( (a==b) && (b==c))\\r\\n    {\\r\\n        return 20;\\r\\n    }\\r\\n    if( a==b || b==c || a==c)\\r\\n    {\\r\\n        return 10;\\r\\n    }\\r\\n    else\\r\\n    {\\r\\n        return 0;\\r\\n    }\\r\\n    \\r\\n}\\r\\n']],\n",
       " [['public int redTicket(int a, int b, int c)\\r\\n{\\r\\n    if( b==2 && a == 2 && c==2)\\r\\n    {\\r\\n        return 10;\\r\\n    }\\r\\n    else if ( a==b && b==c)\\r\\n    {\\r\\n        return 5;\\r\\n    }\\r\\n    else if (  c!= a && b!=a )\\r\\n    {\\r\\n        return 1;\\r\\n    }\\r\\n    else\\r\\n    {\\r\\n        return 0;\\r\\n    }\\r\\n    \\r\\n}\\r\\n']],\n",
       " [['public int loneSum(int a, int b, int c)\\r\\n{\\r\\n    if( a==b ) \\r\\n    {\\r\\n        return c;\\r\\n    }\\r\\n    else if ( b==c)\\r\\n    {\\r\\n        return a;\\r\\n    }\\r\\n    else if ( a==c)\\r\\n    {\\r\\n        return b;\\r\\n    }\\r\\n    else\\r\\n    {\\r\\n        return a+b+c;\\r\\n    }\\r\\n    \\r\\n}\\r\\n']],\n",
       " [['public int luckySum(int a, int b, int c)\\r\\n{\\r\\n    if( a==13)\\r\\n    {\\r\\n        return 0;\\r\\n    }\\r\\n    else if( b==13)\\r\\n    {\\r\\n        return a;\\r\\n    }\\r\\n    else if ( c==13)\\r\\n    {\\r\\n        return a+b;\\r\\n    }\\r\\n    else\\r\\n    {\\r\\n        return a+b+c;\\r\\n    }\\r\\n    \\r\\n}\\r\\n']],\n",
       " [['public int noTeenSum(int a, int b, int c)\\r\\n{\\r\\n    return fixteen(a) + fixteen(b) + fixteen(c);\\r\\n\\r\\n}\\r\\n\\r\\npublic int fixTeen(int n)\\r\\n{\\r\\n    if( n >12 && n<20 && n!= 15 && n!= 16)\\r\\n    {\\r\\n        return 0;\\r\\n    }\\r\\n    else\\r\\n    {\\r\\n        return n;\\r\\n    }\\r\\n    \\r\\n}\\r\\n']],\n",
       " [['public int blackjack(int a, int b)\\r\\n{\\r\\n    if(a>21 && b>21)\\r\\n    {\\r\\n        return 0;\\r\\n    }\\r\\n    if(a<=21 && b<=21)\\r\\n    {\\r\\n        if(a>b)\\r\\n        {\\r\\n            return a;\\r\\n        }\\r\\n        else \\r\\n        {\\r\\n            return b;\\r\\n        } \\r\\n    }\\r\\n    if( a<=21 && b>21)\\r\\n    {\\r\\n        return a;\\r\\n    }\\r\\n    if(a>21 && b<=21)\\r\\n    {\\r\\n        return b;\\r\\n    }\\r\\n    \\r\\n    \\r\\n}\\r\\n']],\n",
       " [['public boolean evenlySpaced(int a, int b, int c)\\r\\n{\\r\\n    if( a-b == b-c || a-c == c-b || a-b == c-a)\\r\\n    {\\r\\n        return true;\\r\\n    }\\r\\n    else\\r\\n    {\\r\\n        return false;\\r\\n    }\\r\\n}\\r\\n']],\n",
       " [['public String atFirst(String str)\\r\\n{\\r\\n    if(str.length() < 2)\\r\\n    {\\r\\n        int ats = Math.abs(str.length()-2);\\r\\n        if( ats == 2)\\r\\n        {\\r\\n            return  str + \"@@\";\\r\\n        }\\r\\n        else\\r\\n        {\\r\\n            return str + \"@\";\\r\\n        }\\r\\n    }\\r\\n    else\\r\\n    {\\r\\n        return str.substring( 0,2);\\r\\n    }\\r\\n    \\r\\n}\\r\\n']],\n",
       " [['public int roundSum(int a, int b, int c)\\r\\n{\\r\\n    return round10(a);\\r\\n    return round10(b);\\r\\n    return round10(c);\\r\\n    \\r\\n}\\r\\n\\r\\npublic int round10(int num)\\r\\n{\\r\\n    \\r\\n    if(num% 10 < 4 )\\r\\n    {\\r\\n        num = (num/10)*10;\\r\\n    }\\r\\n    else\\r\\n    {\\r\\n        num = ((num+10)/10)*10;\\r\\n    }\\r\\n    return num;\\r\\n}\\r\\n']],\n",
       " [['public int makeChocolate(int small, int big, int goal)\\r\\n{\\r\\n    int bigkg = big * 5;\\r\\n    if( bigkg > goal)\\r\\n    {\\r\\n        return goal % 5;\\r\\n    }\\r\\n    else if ( bigkg + small < goal)\\r\\n    {\\r\\n        return -1;\\r\\n    }\\r\\n    else \\r\\n    {\\r\\n        return goal - bigkg;\\r\\n    }\\r\\n    \\r\\n}\\r\\n']],\n",
       " [['public String without2(String str) \\r\\n{\\r\\n    String compare = str.charAt[0] + str.charAt[1];\\r\\n    String compare1 = str.charAt[str.length()-1] + str.charAt[str.length()-2];\\r\\n    if ( compare = compare1)\\r\\n    {\\r\\n        String print = \"\";\\r\\n        for ( i=2; i<str.length() ; i++)\\r\\n        {\\r\\n             print = print + str.charAt[i];\\r\\n        }\\r\\n        return print;\\r\\n    }\\r\\n    else\\r\\n    {\\r\\n        return str;\\r\\n    }\\r\\n        \\r\\n    \\r\\n}\\r\\n']],\n",
       " [['public String repeatEnd(String str, int n)\\r\\n{\\r\\n    String newm = \"\";\\r\\n    if(n != 0 )\\r\\n    {      \\r\\n       String sub = str.substring(str.length()-n, str.length());\\r\\n        for(int i = 0; i < n; i++)\\r\\n        {\\r\\n            newm = newm + sub;\\r\\n        }\\r\\n    }\\r\\n    return newm;\\r\\n    \\r\\n}\\r\\n']],\n",
       " [['public String plusOut(String str, String word)\\r\\n{\\r\\n    String plus = \"\"\\r\\n    for(int i = 0; i<str.length(); i++)\\r\\n    {\\r\\n        if(str.charAt(i).equals(word))\\r\\n        {\\r\\n            plus = plus + word;\\r\\n        }\\r\\n        else\\r\\n        {\\r\\n            plus = plus + \\'+\\';\\r\\n        }\\r\\n    }\\r\\n    return plus;\\r\\n    \\r\\n}\\r\\n']],\n",
       " [['public String mixString(String a, String b)\\r\\n{\\r\\n    String big = \"\";\\r\\n    int x = 0;\\r\\n    int y = 0;\\r\\n    int count = 2;\\r\\n    while(big.length() < (a.length() + b.length()))\\r\\n    {   \\r\\n    if( count%2 == 0 && x < a.length())\\r\\n    {\\r\\n        big = big + a.charAt(x);\\r\\n        x = x + 1;\\r\\n        count = count + 1;\\r\\n    }\\r\\n    else if( y < b.length())\\r\\n    {\\r\\n        big = big + b.charAt(y);\\r\\n        y = y + 1;\\r\\n    }\\r\\n    }\\r\\n    \\r\\n  return big;  \\r\\n}\\r\\n']],\n",
       " [['public String zipZap(String str)\\r\\n{\\r\\n    String newn = \"\";\\r\\n    for( int i = 0; i < str.length(); i++)\\r\\n    {\\r\\n        if(str.charAt(i) ==\\'z\\' && str.length() >= i+2 && str.charAt(i+2) ==\\'p\\')\\r\\n        {\\r\\n            newn = newn + \"zp\";\\r\\n            i = i + 2;\\r\\n        }\\r\\n        else\\r\\n        {\\r\\n            newn = newn + str.charAt(i);\\r\\n        }\\r\\n    }\\r\\n    return newn;\\r\\n}\\r\\n']],\n",
       " [[\"public int countCode(String str)\\r\\n{\\r\\n    int y = 0;\\r\\n    int start = 0;\\r\\n    int end = 3;\\r\\n    for( int i = 3; i<str.length(); i++)\\r\\n    {\\r\\n        if(str.charAt(start) =='c' && str.charAt(start+1) =='o' &&        str.charAt(end) == 'e')\\r\\n        {\\r\\n            y = y + 1;\\r\\n        }\\r\\n      start = start + 1;\\r\\n      end = end + 1;\\r\\n    } \\r\\n    return y;\\r\\n}\"]],\n",
       " [['public boolean endOther(String a, String b)\\r\\n{\\r\\n    a = a.toLowerCase();\\r\\n    b = b.toLowerCase();\\r\\n    int numb = b.length();\\r\\n    int numa = a.length();\\r\\n    if(a.substring(numa-numb, numa) == b || b.substring(numb-numa, numb) == a)\\r\\n    {\\r\\n        return true;\\r\\n    }\\r\\n    else\\r\\n    {\\r\\n        return false;\\r\\n    }\\r\\n}\\r\\n']],\n",
       " [['public boolean xyzThere(String str)\\r\\n{\\r\\n    boolean answer = false;\\r\\n    int start = 0;\\r\\n    int end = 2;\\r\\n    int last = str.length() - 3;\\r\\n    for( int i = 0; i < last; i++)\\r\\n    {\\r\\n        if(str.substring(start, end).equals(\"xyz\")\\r\\n        {\\r\\n            if(start != 0)\\r\\n            {\\r\\n                if(!(str.charAt(start-1) == \\'.\\'))\\r\\n                {\\r\\n                    answer = true;\\r\\n                }\\r\\n            }\\r\\n            else\\r\\n            {\\r\\n                answer = true;\\r\\n            }\\r\\n        }\\r\\n    }\\r\\n   return answer; \\r\\n}\\r\\n']],\n",
       " [[\"public boolean xyBalance(String str)\\r\\n{\\r\\n    int x = 0;\\r\\n    int y = 0;\\r\\n    for( int i = 0; i < str.length(); i++)\\r\\n    {\\r\\n        if( str.charAt(i) == 'x')\\r\\n        {\\r\\n            x = 1;\\r\\n            y = 0;\\r\\n        }\\r\\n        else if(str.charAt(i) =='y')\\r\\n        {\\r\\n            y = 1;\\r\\n            x = 0;\\r\\n        }\\r\\n    }\\r\\n    if( y == 1)\\r\\n    {\\r\\n        return true;\\r\\n    }\\r\\n      return false;   \\r\\n}\\r\\n\"]],\n",
       " [['public String getSandwich(String str)\\r\\n{\\r\\n    int bread0 = str.indexOf(\"bread\");\\r\\n    if(bread0 == -1)\\r\\n    {\\r\\n        return \"\";\\r\\n    }\\r\\n    int bread1 = str.lastIndexOf(\"bread\");\\r\\n    if(bread1 == -1)\\r\\n    {\\r\\n        return \"\";\\r\\n    }\\r\\n    return str.substring(bread0+5, bread1);\\r\\n}\\r\\n']],\n",
       " [[\"public boolean bobThere(String str)\\r\\n{\\r\\n  int start = 0;\\r\\n  int end = 2;\\r\\n  for( int i = 2 ; i < str.length(); i++)\\r\\n  {\\r\\n      if( str.charAt(start) == 'b' && str.charAt(end) == 'b')\\r\\n      {\\r\\n          return true;\\r\\n      }\\r\\n    start = start + 1;\\r\\n    end = end + 1;\\r\\n  }\\r\\n    return false;\\r\\n}\\r\\n\"]])"
      ]
     },
     "execution_count": 120,
     "metadata": {},
     "output_type": "execute_result"
    }
   ],
   "source": [
    "tuple(df_big['prev_code'].iloc[10000])"
   ]
  },
  {
   "cell_type": "code",
   "execution_count": 95,
   "metadata": {},
   "outputs": [
    {
     "data": {
      "text/plain": [
       "0       38\n",
       "1       38\n",
       "2       38\n",
       "3       38\n",
       "4       38\n",
       "        ..\n",
       "7965    10\n",
       "7966    10\n",
       "7967    10\n",
       "7968    10\n",
       "7969    10\n",
       "Name: prev_code, Length: 7970, dtype: int64"
      ]
     },
     "execution_count": 95,
     "metadata": {},
     "output_type": "execute_result"
    }
   ],
   "source": [
    "df['prev_code'].apply(lambda x: max([len(i) for i in x]))"
   ]
  },
  {
   "cell_type": "code",
   "execution_count": 87,
   "metadata": {},
   "outputs": [
    {
     "data": {
      "text/plain": [
       "problem_id\n",
       "44     13\n",
       "71     13\n",
       "67     12\n",
       "43     11\n",
       "49      8\n",
       "64      7\n",
       "118     7\n",
       "70      7\n",
       "48      6\n",
       "57      6\n",
       "51      6\n",
       "56      5\n",
       "41      5\n",
       "104     4\n",
       "46      4\n",
       "45      4\n",
       "106     4\n",
       "107     3\n",
       "112     3\n",
       "108     1\n",
       "Name: count, dtype: int64"
      ]
     },
     "execution_count": 87,
     "metadata": {},
     "output_type": "execute_result"
    }
   ],
   "source": [
    "work[work.CM == 'FP'].problem_id.value_counts()"
   ]
  },
  {
   "cell_type": "code",
   "execution_count": 85,
   "metadata": {},
   "outputs": [
    {
     "data": {
      "text/plain": [
       "Below75\n",
       "False    108\n",
       "True      21\n",
       "Name: count, dtype: int64"
      ]
     },
     "execution_count": 85,
     "metadata": {},
     "output_type": "execute_result"
    }
   ],
   "source": [
    "work[work.CM == 'FP'].Below75.value_counts()"
   ]
  },
  {
   "cell_type": "code",
   "execution_count": 54,
   "metadata": {},
   "outputs": [],
   "source": [
    "a = work[(work.CM == 'FP') & (work.problem_id == 67)].apply(filter_by_bool_array, axis=1).prev_question"
   ]
  },
  {
   "cell_type": "code",
   "execution_count": 58,
   "metadata": {},
   "outputs": [],
   "source": [
    "from collections import Counter\n",
    "\n",
    "flat_list = [item for sublist in list(a) for item in sublist]\n",
    "count_dict = dict(Counter(flat_list))"
   ]
  },
  {
   "cell_type": "code",
   "execution_count": 56,
   "metadata": {},
   "outputs": [
    {
     "data": {
      "text/plain": [
       "Label\n",
       "False    14\n",
       "True      6\n",
       "Name: count, dtype: int64"
      ]
     },
     "execution_count": 56,
     "metadata": {},
     "output_type": "execute_result"
    }
   ],
   "source": [
    "work[work.student_id == '321ceeadc24ba2a88fba401927295f3c972429fcf3873d45a5cd9134279987cb'].Label.value_counts()"
   ]
  },
  {
   "cell_type": "code",
   "execution_count": 41,
   "metadata": {},
   "outputs": [
    {
     "data": {
      "text/plain": [
       "'Write a function in Java that implements the following logic: Given 2 int values greater than 0, return whichever value is nearest to 21 without going over. Return 0 if they both go over.'"
      ]
     },
     "execution_count": 41,
     "metadata": {},
     "output_type": "execute_result"
    }
   ],
   "source": [
    "work[(work.CM == 'FP') & (work.problem_id == 67)].iloc[0]['prev_question'][14]"
   ]
  },
  {
   "cell_type": "code",
   "execution_count": 44,
   "metadata": {},
   "outputs": [
    {
     "data": {
      "text/html": [
       "<div>\n",
       "<style scoped>\n",
       "    .dataframe tbody tr th:only-of-type {\n",
       "        vertical-align: middle;\n",
       "    }\n",
       "\n",
       "    .dataframe tbody tr th {\n",
       "        vertical-align: top;\n",
       "    }\n",
       "\n",
       "    .dataframe thead th {\n",
       "        text-align: right;\n",
       "    }\n",
       "</style>\n",
       "<table border=\"1\" class=\"dataframe\">\n",
       "  <thead>\n",
       "    <tr style=\"text-align: right;\">\n",
       "      <th></th>\n",
       "      <th>student_id</th>\n",
       "      <th>assignment_id</th>\n",
       "      <th>problem_id</th>\n",
       "      <th>start_time</th>\n",
       "      <th>score</th>\n",
       "      <th>max_score</th>\n",
       "      <th>question</th>\n",
       "      <th>prev_question</th>\n",
       "      <th>prev_code</th>\n",
       "      <th>prev_score</th>\n",
       "      <th>...</th>\n",
       "      <th>StringOperations</th>\n",
       "      <th>List</th>\n",
       "      <th>FileOperations</th>\n",
       "      <th>Functions</th>\n",
       "      <th>Dictionary</th>\n",
       "      <th>Tuple</th>\n",
       "      <th>comprehension</th>\n",
       "      <th>alg_design</th>\n",
       "      <th>decomposition</th>\n",
       "      <th>CM</th>\n",
       "    </tr>\n",
       "  </thead>\n",
       "  <tbody>\n",
       "    <tr>\n",
       "      <th>1480</th>\n",
       "      <td>321ceeadc24ba2a88fba401927295f3c972429fcf3873d...</td>\n",
       "      <td>494</td>\n",
       "      <td>67</td>\n",
       "      <td>2019-11-09 02:23:57+00:00</td>\n",
       "      <td>[0.0, 0.0, 0.0, 0.05, 0.0, 0.0, 0.55, 1.0]</td>\n",
       "      <td>100.0</td>\n",
       "      <td>Given an array of ints, return true if the arr...</td>\n",
       "      <td>[Write a function in Java that implements the ...</td>\n",
       "      <td>[[public int sortaSum(int a, int b)\\r\\n{\\r\\n  ...</td>\n",
       "      <td>[[0.0, 1.0], [1.0], [1.0], [1.0], [0.0, 0.0, 0...</td>\n",
       "      <td>...</td>\n",
       "      <td>0.0</td>\n",
       "      <td>1.0</td>\n",
       "      <td>0</td>\n",
       "      <td>0.0</td>\n",
       "      <td>0</td>\n",
       "      <td>0</td>\n",
       "      <td>4</td>\n",
       "      <td>3</td>\n",
       "      <td>4</td>\n",
       "      <td>FP</td>\n",
       "    </tr>\n",
       "    <tr>\n",
       "      <th>2189</th>\n",
       "      <td>48f565383f47c6752893810686bd0c5f07fef08e34bc22...</td>\n",
       "      <td>494</td>\n",
       "      <td>67</td>\n",
       "      <td>2019-11-10 20:21:29+00:00</td>\n",
       "      <td>[0.9, 0.9, 0.9, 0.0, 0.9, 0.9, 0.9, 0.9, 0.0, ...</td>\n",
       "      <td>100.0</td>\n",
       "      <td>Given an array of ints, return true if the arr...</td>\n",
       "      <td>[Write a function in Java that implements the ...</td>\n",
       "      <td>[[public int sortaSum(int a, int b)\\r\\n{\\r\\n  ...</td>\n",
       "      <td>[[0.6, 0.6, 0.0, 0.0, 0.2, 0.2, 0.2, 0.466667,...</td>\n",
       "      <td>...</td>\n",
       "      <td>0.0</td>\n",
       "      <td>1.0</td>\n",
       "      <td>0</td>\n",
       "      <td>0.0</td>\n",
       "      <td>0</td>\n",
       "      <td>0</td>\n",
       "      <td>4</td>\n",
       "      <td>3</td>\n",
       "      <td>4</td>\n",
       "      <td>FP</td>\n",
       "    </tr>\n",
       "    <tr>\n",
       "      <th>3237</th>\n",
       "      <td>6b689d246c11ea35bf66a151aa4d7d83d1e1b11f9f3a38...</td>\n",
       "      <td>494</td>\n",
       "      <td>67</td>\n",
       "      <td>2019-11-12 03:55:28+00:00</td>\n",
       "      <td>[0.0, 0.0, 0.0, 0.35, 0.9, 0.9, 1.0]</td>\n",
       "      <td>100.0</td>\n",
       "      <td>Given an array of ints, return true if the arr...</td>\n",
       "      <td>[Write a function in Java that implements the ...</td>\n",
       "      <td>[[public int sortaSum(int a, int b)\\r\\n{\\r\\n\\t...</td>\n",
       "      <td>[[0.466667, 0.466667, 1.0], [0.0, 0.0, 0.25, 0...</td>\n",
       "      <td>...</td>\n",
       "      <td>0.0</td>\n",
       "      <td>1.0</td>\n",
       "      <td>0</td>\n",
       "      <td>0.0</td>\n",
       "      <td>0</td>\n",
       "      <td>0</td>\n",
       "      <td>4</td>\n",
       "      <td>3</td>\n",
       "      <td>4</td>\n",
       "      <td>FP</td>\n",
       "    </tr>\n",
       "    <tr>\n",
       "      <th>3470</th>\n",
       "      <td>753b3dfbf00b265816877af61db67c39ee3fae2b4e0a7b...</td>\n",
       "      <td>494</td>\n",
       "      <td>67</td>\n",
       "      <td>2019-11-10 23:46:43+00:00</td>\n",
       "      <td>[0.9, 0.9, 0.8, 0.0, 0.0, 0.0, 0.9, 1.0]</td>\n",
       "      <td>100.0</td>\n",
       "      <td>Given an array of ints, return true if the arr...</td>\n",
       "      <td>[Write a function in Java that implements the ...</td>\n",
       "      <td>[[public int sortaSum(int a, int b)\\r\\n{\\r\\n  ...</td>\n",
       "      <td>[[0.466667, 1.0], [1.0], [1.0], [0.0, 1.0], [0...</td>\n",
       "      <td>...</td>\n",
       "      <td>0.0</td>\n",
       "      <td>1.0</td>\n",
       "      <td>0</td>\n",
       "      <td>0.0</td>\n",
       "      <td>0</td>\n",
       "      <td>0</td>\n",
       "      <td>4</td>\n",
       "      <td>3</td>\n",
       "      <td>4</td>\n",
       "      <td>FP</td>\n",
       "    </tr>\n",
       "    <tr>\n",
       "      <th>3749</th>\n",
       "      <td>7a6026fd215e0059f3d620352b64b05a944244be51bbf2...</td>\n",
       "      <td>494</td>\n",
       "      <td>67</td>\n",
       "      <td>2019-11-11 14:35:45+00:00</td>\n",
       "      <td>[0.7, 0.9, 0.8, 0.9, 0.7, 0.9, 0.9, 1.0]</td>\n",
       "      <td>100.0</td>\n",
       "      <td>Given an array of ints, return true if the arr...</td>\n",
       "      <td>[Write a function in Java that implements the ...</td>\n",
       "      <td>[[public int sortaSum(int a, int b)\\r\\n{\\r\\n  ...</td>\n",
       "      <td>[[0.733333, 1.0], [0.0, 1.0], [1.0], [1.0], [0...</td>\n",
       "      <td>...</td>\n",
       "      <td>0.0</td>\n",
       "      <td>1.0</td>\n",
       "      <td>0</td>\n",
       "      <td>0.0</td>\n",
       "      <td>0</td>\n",
       "      <td>0</td>\n",
       "      <td>4</td>\n",
       "      <td>3</td>\n",
       "      <td>4</td>\n",
       "      <td>FP</td>\n",
       "    </tr>\n",
       "    <tr>\n",
       "      <th>4164</th>\n",
       "      <td>8b18f5693d6822beefe70802cad008f0b0232654ea218f...</td>\n",
       "      <td>494</td>\n",
       "      <td>67</td>\n",
       "      <td>2019-11-08 01:45:13+00:00</td>\n",
       "      <td>[0.7, 0.65, 0.45, 0.45, 0.9, 0.9, 0.9, 0.45, 0...</td>\n",
       "      <td>100.0</td>\n",
       "      <td>Given an array of ints, return true if the arr...</td>\n",
       "      <td>[Write a function in Java that implements the ...</td>\n",
       "      <td>[[public int sortaSum(int a, int b)\\r\\n{\\r\\n  ...</td>\n",
       "      <td>[[0.733333, 0.0, 1.0], [0.375, 0.4375, 0.0, 0....</td>\n",
       "      <td>...</td>\n",
       "      <td>0.0</td>\n",
       "      <td>1.0</td>\n",
       "      <td>0</td>\n",
       "      <td>0.0</td>\n",
       "      <td>0</td>\n",
       "      <td>0</td>\n",
       "      <td>4</td>\n",
       "      <td>3</td>\n",
       "      <td>4</td>\n",
       "      <td>FP</td>\n",
       "    </tr>\n",
       "    <tr>\n",
       "      <th>4638</th>\n",
       "      <td>98d77a2b714b28f705c31ae807ec9dc0e2e5415b10f7bd...</td>\n",
       "      <td>494</td>\n",
       "      <td>67</td>\n",
       "      <td>2019-11-12 03:07:59+00:00</td>\n",
       "      <td>[0.0, 0.7, 0.9, 0.7, 0.0, 0.8, 1.0]</td>\n",
       "      <td>100.0</td>\n",
       "      <td>Given an array of ints, return true if the arr...</td>\n",
       "      <td>[Write a function in Java that implements the ...</td>\n",
       "      <td>[[public int sortaSum(int a, int b)\\r\\n{\\r\\n  ...</td>\n",
       "      <td>[[0.466667, 0.0, 0.466667, 1.0], [0.0, 0.0, 0....</td>\n",
       "      <td>...</td>\n",
       "      <td>0.0</td>\n",
       "      <td>1.0</td>\n",
       "      <td>0</td>\n",
       "      <td>0.0</td>\n",
       "      <td>0</td>\n",
       "      <td>0</td>\n",
       "      <td>4</td>\n",
       "      <td>3</td>\n",
       "      <td>4</td>\n",
       "      <td>FP</td>\n",
       "    </tr>\n",
       "    <tr>\n",
       "      <th>4908</th>\n",
       "      <td>a1a4b0c316442b879083c61343bcb56ce2233230e64fc4...</td>\n",
       "      <td>494</td>\n",
       "      <td>67</td>\n",
       "      <td>2019-11-11 20:41:28+00:00</td>\n",
       "      <td>[0.55, 0.0, 0.0, 0.0, 0.55, 0.0, 0.5, 0.0, 0.0...</td>\n",
       "      <td>100.0</td>\n",
       "      <td>Given an array of ints, return true if the arr...</td>\n",
       "      <td>[Write a function in Java that implements the ...</td>\n",
       "      <td>[[public int sortaSum(int a, int b)\\r\\n{\\r\\n  ...</td>\n",
       "      <td>[[0.333333, 0.466667, 1.0], [0.0, 0.0, 0.0, 0....</td>\n",
       "      <td>...</td>\n",
       "      <td>0.0</td>\n",
       "      <td>1.0</td>\n",
       "      <td>0</td>\n",
       "      <td>0.0</td>\n",
       "      <td>0</td>\n",
       "      <td>0</td>\n",
       "      <td>4</td>\n",
       "      <td>3</td>\n",
       "      <td>4</td>\n",
       "      <td>FP</td>\n",
       "    </tr>\n",
       "    <tr>\n",
       "      <th>4928</th>\n",
       "      <td>a1a57315af0421443e73ff39f4cc4afaabfb05e5c435fa...</td>\n",
       "      <td>494</td>\n",
       "      <td>67</td>\n",
       "      <td>2019-11-10 22:28:40+00:00</td>\n",
       "      <td>[0.0, 0.55, 0.75, 0.9, 0.9, 0.0, 0.0, 1.0]</td>\n",
       "      <td>100.0</td>\n",
       "      <td>Given an array of ints, return true if the arr...</td>\n",
       "      <td>[Write a function in Java that implements the ...</td>\n",
       "      <td>[[public int sortaSum(int a, int b)\\r\\n{\\r\\n  ...</td>\n",
       "      <td>[[0.0, 0.0, 0.0, 0.0, 1.0], [0.0, 0.0, 0.6875,...</td>\n",
       "      <td>...</td>\n",
       "      <td>0.0</td>\n",
       "      <td>1.0</td>\n",
       "      <td>0</td>\n",
       "      <td>0.0</td>\n",
       "      <td>0</td>\n",
       "      <td>0</td>\n",
       "      <td>4</td>\n",
       "      <td>3</td>\n",
       "      <td>4</td>\n",
       "      <td>FP</td>\n",
       "    </tr>\n",
       "    <tr>\n",
       "      <th>6085</th>\n",
       "      <td>c8d01afd1e4a742fb48896441f92f6f4f1c21f02b0059b...</td>\n",
       "      <td>494</td>\n",
       "      <td>67</td>\n",
       "      <td>2019-11-08 00:22:32+00:00</td>\n",
       "      <td>[0.0, 0.5, 0.65, 0.0, 0.9, 0.0, 1.0]</td>\n",
       "      <td>100.0</td>\n",
       "      <td>Given an array of ints, return true if the arr...</td>\n",
       "      <td>[Write a function in Java that implements the ...</td>\n",
       "      <td>[[public int sortaSum(int a, int b)\\r\\n{\\r\\n  ...</td>\n",
       "      <td>[[1.0], [0.0, 1.0], [1.0], [1.0], [0.0, 0.7826...</td>\n",
       "      <td>...</td>\n",
       "      <td>0.0</td>\n",
       "      <td>1.0</td>\n",
       "      <td>0</td>\n",
       "      <td>0.0</td>\n",
       "      <td>0</td>\n",
       "      <td>0</td>\n",
       "      <td>4</td>\n",
       "      <td>3</td>\n",
       "      <td>4</td>\n",
       "      <td>FP</td>\n",
       "    </tr>\n",
       "    <tr>\n",
       "      <th>6394</th>\n",
       "      <td>d7508e75bd7e54d88e3668085557bbbb459453ab26ec03...</td>\n",
       "      <td>494</td>\n",
       "      <td>67</td>\n",
       "      <td>2019-11-11 15:15:25+00:00</td>\n",
       "      <td>[0.9, 0.9]</td>\n",
       "      <td>90.0</td>\n",
       "      <td>Given an array of ints, return true if the arr...</td>\n",
       "      <td>[Write a function in Java that implements the ...</td>\n",
       "      <td>[[public int sortaSum(int a, int b)\\r\\n{\\r\\n  ...</td>\n",
       "      <td>[[1.0], [0.0, 1.0], [0.0, 0.0, 0.0, 0.0, 0.0, ...</td>\n",
       "      <td>...</td>\n",
       "      <td>0.0</td>\n",
       "      <td>1.0</td>\n",
       "      <td>0</td>\n",
       "      <td>0.0</td>\n",
       "      <td>0</td>\n",
       "      <td>0</td>\n",
       "      <td>4</td>\n",
       "      <td>3</td>\n",
       "      <td>4</td>\n",
       "      <td>FP</td>\n",
       "    </tr>\n",
       "    <tr>\n",
       "      <th>7354</th>\n",
       "      <td>f3d99c0db5449980ac699a2ef199f23eaff5c4808e5f5e...</td>\n",
       "      <td>494</td>\n",
       "      <td>67</td>\n",
       "      <td>2019-11-12 00:24:06+00:00</td>\n",
       "      <td>[0.5]</td>\n",
       "      <td>50.0</td>\n",
       "      <td>Given an array of ints, return true if the arr...</td>\n",
       "      <td>[Write a function in Java that implements the ...</td>\n",
       "      <td>[[public int sortaSum(int a, int b)\\r\\n{\\r\\n  ...</td>\n",
       "      <td>[[0.0, 0.0, 1.0], [0.0, 0.75, 1.0], [0.0, 0.0,...</td>\n",
       "      <td>...</td>\n",
       "      <td>0.0</td>\n",
       "      <td>1.0</td>\n",
       "      <td>0</td>\n",
       "      <td>0.0</td>\n",
       "      <td>0</td>\n",
       "      <td>0</td>\n",
       "      <td>4</td>\n",
       "      <td>3</td>\n",
       "      <td>4</td>\n",
       "      <td>FP</td>\n",
       "    </tr>\n",
       "  </tbody>\n",
       "</table>\n",
       "<p>12 rows × 30 columns</p>\n",
       "</div>"
      ],
      "text/plain": [
       "                                             student_id  assignment_id  \\\n",
       "1480  321ceeadc24ba2a88fba401927295f3c972429fcf3873d...            494   \n",
       "2189  48f565383f47c6752893810686bd0c5f07fef08e34bc22...            494   \n",
       "3237  6b689d246c11ea35bf66a151aa4d7d83d1e1b11f9f3a38...            494   \n",
       "3470  753b3dfbf00b265816877af61db67c39ee3fae2b4e0a7b...            494   \n",
       "3749  7a6026fd215e0059f3d620352b64b05a944244be51bbf2...            494   \n",
       "4164  8b18f5693d6822beefe70802cad008f0b0232654ea218f...            494   \n",
       "4638  98d77a2b714b28f705c31ae807ec9dc0e2e5415b10f7bd...            494   \n",
       "4908  a1a4b0c316442b879083c61343bcb56ce2233230e64fc4...            494   \n",
       "4928  a1a57315af0421443e73ff39f4cc4afaabfb05e5c435fa...            494   \n",
       "6085  c8d01afd1e4a742fb48896441f92f6f4f1c21f02b0059b...            494   \n",
       "6394  d7508e75bd7e54d88e3668085557bbbb459453ab26ec03...            494   \n",
       "7354  f3d99c0db5449980ac699a2ef199f23eaff5c4808e5f5e...            494   \n",
       "\n",
       "      problem_id                start_time  \\\n",
       "1480          67 2019-11-09 02:23:57+00:00   \n",
       "2189          67 2019-11-10 20:21:29+00:00   \n",
       "3237          67 2019-11-12 03:55:28+00:00   \n",
       "3470          67 2019-11-10 23:46:43+00:00   \n",
       "3749          67 2019-11-11 14:35:45+00:00   \n",
       "4164          67 2019-11-08 01:45:13+00:00   \n",
       "4638          67 2019-11-12 03:07:59+00:00   \n",
       "4908          67 2019-11-11 20:41:28+00:00   \n",
       "4928          67 2019-11-10 22:28:40+00:00   \n",
       "6085          67 2019-11-08 00:22:32+00:00   \n",
       "6394          67 2019-11-11 15:15:25+00:00   \n",
       "7354          67 2019-11-12 00:24:06+00:00   \n",
       "\n",
       "                                                  score  max_score  \\\n",
       "1480         [0.0, 0.0, 0.0, 0.05, 0.0, 0.0, 0.55, 1.0]      100.0   \n",
       "2189  [0.9, 0.9, 0.9, 0.0, 0.9, 0.9, 0.9, 0.9, 0.0, ...      100.0   \n",
       "3237               [0.0, 0.0, 0.0, 0.35, 0.9, 0.9, 1.0]      100.0   \n",
       "3470           [0.9, 0.9, 0.8, 0.0, 0.0, 0.0, 0.9, 1.0]      100.0   \n",
       "3749           [0.7, 0.9, 0.8, 0.9, 0.7, 0.9, 0.9, 1.0]      100.0   \n",
       "4164  [0.7, 0.65, 0.45, 0.45, 0.9, 0.9, 0.9, 0.45, 0...      100.0   \n",
       "4638                [0.0, 0.7, 0.9, 0.7, 0.0, 0.8, 1.0]      100.0   \n",
       "4908  [0.55, 0.0, 0.0, 0.0, 0.55, 0.0, 0.5, 0.0, 0.0...      100.0   \n",
       "4928         [0.0, 0.55, 0.75, 0.9, 0.9, 0.0, 0.0, 1.0]      100.0   \n",
       "6085               [0.0, 0.5, 0.65, 0.0, 0.9, 0.0, 1.0]      100.0   \n",
       "6394                                         [0.9, 0.9]       90.0   \n",
       "7354                                              [0.5]       50.0   \n",
       "\n",
       "                                               question  \\\n",
       "1480  Given an array of ints, return true if the arr...   \n",
       "2189  Given an array of ints, return true if the arr...   \n",
       "3237  Given an array of ints, return true if the arr...   \n",
       "3470  Given an array of ints, return true if the arr...   \n",
       "3749  Given an array of ints, return true if the arr...   \n",
       "4164  Given an array of ints, return true if the arr...   \n",
       "4638  Given an array of ints, return true if the arr...   \n",
       "4908  Given an array of ints, return true if the arr...   \n",
       "4928  Given an array of ints, return true if the arr...   \n",
       "6085  Given an array of ints, return true if the arr...   \n",
       "6394  Given an array of ints, return true if the arr...   \n",
       "7354  Given an array of ints, return true if the arr...   \n",
       "\n",
       "                                          prev_question  \\\n",
       "1480  [Write a function in Java that implements the ...   \n",
       "2189  [Write a function in Java that implements the ...   \n",
       "3237  [Write a function in Java that implements the ...   \n",
       "3470  [Write a function in Java that implements the ...   \n",
       "3749  [Write a function in Java that implements the ...   \n",
       "4164  [Write a function in Java that implements the ...   \n",
       "4638  [Write a function in Java that implements the ...   \n",
       "4908  [Write a function in Java that implements the ...   \n",
       "4928  [Write a function in Java that implements the ...   \n",
       "6085  [Write a function in Java that implements the ...   \n",
       "6394  [Write a function in Java that implements the ...   \n",
       "7354  [Write a function in Java that implements the ...   \n",
       "\n",
       "                                              prev_code  \\\n",
       "1480  [[public int sortaSum(int a, int b)\\r\\n{\\r\\n  ...   \n",
       "2189  [[public int sortaSum(int a, int b)\\r\\n{\\r\\n  ...   \n",
       "3237  [[public int sortaSum(int a, int b)\\r\\n{\\r\\n\\t...   \n",
       "3470  [[public int sortaSum(int a, int b)\\r\\n{\\r\\n  ...   \n",
       "3749  [[public int sortaSum(int a, int b)\\r\\n{\\r\\n  ...   \n",
       "4164  [[public int sortaSum(int a, int b)\\r\\n{\\r\\n  ...   \n",
       "4638  [[public int sortaSum(int a, int b)\\r\\n{\\r\\n  ...   \n",
       "4908  [[public int sortaSum(int a, int b)\\r\\n{\\r\\n  ...   \n",
       "4928  [[public int sortaSum(int a, int b)\\r\\n{\\r\\n  ...   \n",
       "6085  [[public int sortaSum(int a, int b)\\r\\n{\\r\\n  ...   \n",
       "6394  [[public int sortaSum(int a, int b)\\r\\n{\\r\\n  ...   \n",
       "7354  [[public int sortaSum(int a, int b)\\r\\n{\\r\\n  ...   \n",
       "\n",
       "                                             prev_score  ... StringOperations  \\\n",
       "1480  [[0.0, 1.0], [1.0], [1.0], [1.0], [0.0, 0.0, 0...  ...              0.0   \n",
       "2189  [[0.6, 0.6, 0.0, 0.0, 0.2, 0.2, 0.2, 0.466667,...  ...              0.0   \n",
       "3237  [[0.466667, 0.466667, 1.0], [0.0, 0.0, 0.25, 0...  ...              0.0   \n",
       "3470  [[0.466667, 1.0], [1.0], [1.0], [0.0, 1.0], [0...  ...              0.0   \n",
       "3749  [[0.733333, 1.0], [0.0, 1.0], [1.0], [1.0], [0...  ...              0.0   \n",
       "4164  [[0.733333, 0.0, 1.0], [0.375, 0.4375, 0.0, 0....  ...              0.0   \n",
       "4638  [[0.466667, 0.0, 0.466667, 1.0], [0.0, 0.0, 0....  ...              0.0   \n",
       "4908  [[0.333333, 0.466667, 1.0], [0.0, 0.0, 0.0, 0....  ...              0.0   \n",
       "4928  [[0.0, 0.0, 0.0, 0.0, 1.0], [0.0, 0.0, 0.6875,...  ...              0.0   \n",
       "6085  [[1.0], [0.0, 1.0], [1.0], [1.0], [0.0, 0.7826...  ...              0.0   \n",
       "6394  [[1.0], [0.0, 1.0], [0.0, 0.0, 0.0, 0.0, 0.0, ...  ...              0.0   \n",
       "7354  [[0.0, 0.0, 1.0], [0.0, 0.75, 1.0], [0.0, 0.0,...  ...              0.0   \n",
       "\n",
       "     List FileOperations  Functions  Dictionary  Tuple  comprehension  \\\n",
       "1480  1.0              0        0.0           0      0              4   \n",
       "2189  1.0              0        0.0           0      0              4   \n",
       "3237  1.0              0        0.0           0      0              4   \n",
       "3470  1.0              0        0.0           0      0              4   \n",
       "3749  1.0              0        0.0           0      0              4   \n",
       "4164  1.0              0        0.0           0      0              4   \n",
       "4638  1.0              0        0.0           0      0              4   \n",
       "4908  1.0              0        0.0           0      0              4   \n",
       "4928  1.0              0        0.0           0      0              4   \n",
       "6085  1.0              0        0.0           0      0              4   \n",
       "6394  1.0              0        0.0           0      0              4   \n",
       "7354  1.0              0        0.0           0      0              4   \n",
       "\n",
       "      alg_design  decomposition  CM  \n",
       "1480           3              4  FP  \n",
       "2189           3              4  FP  \n",
       "3237           3              4  FP  \n",
       "3470           3              4  FP  \n",
       "3749           3              4  FP  \n",
       "4164           3              4  FP  \n",
       "4638           3              4  FP  \n",
       "4908           3              4  FP  \n",
       "4928           3              4  FP  \n",
       "6085           3              4  FP  \n",
       "6394           3              4  FP  \n",
       "7354           3              4  FP  \n",
       "\n",
       "[12 rows x 30 columns]"
      ]
     },
     "execution_count": 44,
     "metadata": {},
     "output_type": "execute_result"
    }
   ],
   "source": [
    "work[(work.CM == 'FP') & (work.problem_id == 67)]"
   ]
  },
  {
   "cell_type": "code",
   "execution_count": 59,
   "metadata": {},
   "outputs": [
    {
     "data": {
      "text/plain": [
       "[['public int sortaSum(int a, int b)\\r\\n{\\r\\n    if ( a + b >= 10 && a + b <=19 )\\r\\n    {\\r\\n        return 20;\\r\\n    }\\r\\n    else\\r\\n    {\\r\\n        return a + b;\\r\\n    }\\r\\n}\\r\\n',\n",
       "  'public int sortaSum(int a, int b)\\r\\n{\\r\\n    if ( a + b >= 10 && <=19 )\\r\\n    {\\r\\n        return 20;\\r\\n    }\\r\\n    else\\r\\n    {\\r\\n        return a + b;\\r\\n    }\\r\\n}\\r\\n'],\n",
       " ['public boolean in1To10(int n, boolean outsideMode)\\r\\n{\\r\\n    if (outsideMode)\\r\\n    {\\r\\n        if (n <= 1 || n >=10)\\r\\n        {\\r\\n            return true;\\r\\n        }\\r\\n        else\\r\\n        {\\r\\n            return false;\\r\\n        }\\r\\n\\t}\\t\\r\\n    else if (n >= 1 && n <= 10)\\r\\n    {\\r\\n        return true;\\r\\n    }\\r\\n    else\\r\\n    {\\r\\n        return false;\\r\\n    }\\r\\n        \\r\\n}\\r\\n'],\n",
       " ['public boolean answerCell(boolean isMorning, boolean isMom, boolean isAsleep)\\r\\n{\\r\\n    if (isAsleep)\\r\\n    {\\r\\n        return false;\\r\\n    }\\r\\n    else\\r\\n    {\\r\\n        if (isMorning && isMom)\\r\\n        {\\r\\n            return true;\\r\\n        }\\r\\n        else if (isMorning)\\r\\n        {\\r\\n            return false;\\r\\n        }\\r\\n        else\\r\\n        {\\r\\n            return true;\\r\\n        }        \\r\\n    }\\r\\n}\\r\\n'],\n",
       " ['public boolean squirrelPlay(int temp, boolean isSummer)\\r\\n{\\r\\n    int offset = 0;\\r\\n    if (isSummer)\\r\\n    {\\r\\n        offset = 10;\\r\\n    }\\r\\n    if (temp >= 60 && temp <= 90 + offset)\\r\\n    {\\r\\n        return true;\\r\\n    }\\r\\n    else\\r\\n    {\\r\\n        return false;\\r\\n    }\\r\\n}\\r\\n'],\n",
       " ['public int caughtSpeeding(int speed, boolean isBirthday)\\r\\n{\\r\\n    int offset = 0;\\r\\n    if (isBirthday())\\r\\n    {\\r\\n        offset = offset - 5;\\r\\n    }\\r\\n    if (speed + offset =< 60)\\r\\n    {\\r\\n        this.return(0);\\r\\n    }\\r\\n    else if (speed + offset =< 80)\\r\\n    {\\r\\n        this.return(1);\\r\\n    }\\r\\n    else\\r\\n    {\\r\\n        this.return(2);\\r\\n    }\\r\\n    \\r\\n}\\r\\n',\n",
       "  'public int caughtSpeeding(int speed, boolean isBirthday)\\r\\n{\\r\\n    int offset;\\r\\n    \\r\\n}\\r\\n',\n",
       "  'public int caughtSpeeding(int speed, boolean isBirthday)\\r\\n{\\r\\n    int offset = 0;\\r\\n    int ticketValue = 0;\\r\\n    if (isBirthday())\\r\\n    {\\r\\n        offset = offset + 5;\\r\\n    }\\r\\n    if (speed <= 60 + offset)\\r\\n    {\\r\\n        return ticketValue;\\r\\n    }\\r\\n    else if (speed <= 80 + offset)\\r\\n    {\\r\\n        ticketValue = 1;\\r\\n        return ticketValue;\\r\\n    }\\r\\n    else\\r\\n    {\\r\\n        ticketValue = 2;\\r\\n        return ticketValue;\\r\\n    }\\r\\n    \\r\\n}\\r\\n',\n",
       "  'public int caughtSpeeding(int speed, boolean isBirthday)\\r\\n{\\r\\n    int offset = 0;\\r\\n    if (isBirthday())\\r\\n    {\\r\\n        offset = offset - 5;\\r\\n    }\\r\\n    if (speed + offset =< 60)\\r\\n    {\\r\\n        return.(0);\\r\\n    }\\r\\n    else if (speed + offset =< 80)\\r\\n    {\\r\\n        return.(1);\\r\\n    }\\r\\n    else\\r\\n    {\\r\\n        return(2);\\r\\n    }\\r\\n    \\r\\n}\\r\\n',\n",
       "  'public int caughtSpeeding(int speed, boolean isBirthday)\\r\\n{\\r\\n    int offset = 0;\\r\\n    if (isBirthday())\\r\\n    {\\r\\n        offset = offset + 5;\\r\\n    }\\r\\n    if (speed =< 60 + offset)\\r\\n    {\\r\\n        this.return(0);\\r\\n    }\\r\\n    else if (speed =< 80 + offset)\\r\\n    {\\r\\n        this.return(1);\\r\\n    }\\r\\n    else\\r\\n    {\\r\\n        this.return(2);\\r\\n    }\\r\\n    \\r\\n}\\r\\n',\n",
       "  'public int caughtSpeeding(int speed, boolean isBirthday)\\r\\n{\\r\\n    int offset = 0;\\r\\n    int ticketValue = 0;\\r\\n    if (isBirthday)\\r\\n    {\\r\\n        offset = offset + 5;\\r\\n    }\\r\\n    if (speed <= 60 + offset)\\r\\n    {\\r\\n        return ticketValue;\\r\\n    }\\r\\n    else if (speed <= 80 + offset)\\r\\n    {\\r\\n        ticketValue = 1;\\r\\n        return ticketValue;\\r\\n    }\\r\\n    else\\r\\n    {\\r\\n        ticketValue = 2;\\r\\n        return ticketValue;\\r\\n    }\\r\\n    \\r\\n}\\r\\n',\n",
       "  'public int caughtSpeeding(int speed, boolean isBirthday)\\r\\n{\\r\\n    int offset = 0;\\r\\n    if (isBirthday())\\r\\n    {\\r\\n        offset = offset + 5;\\r\\n    }\\r\\n    if (speed <= 60 + offset)\\r\\n    {\\r\\n        this.return(0);\\r\\n    }\\r\\n    else if (speed <= 80 + offset)\\r\\n    {\\r\\n        this.return(1);\\r\\n    }\\r\\n    else\\r\\n    {\\r\\n        this.return(2);\\r\\n    }\\r\\n    \\r\\n}\\r\\n'],\n",
       " ['public String alarmClock(int day, boolean vacation)\\r\\n{\\r\\n    if (vacation)\\r\\n    {\\r\\n        return \"10:00\";\\r\\n    }\\r\\n    else\\r\\n    {\\r\\n        return \"7:00\";\\r\\n    }\\r\\n',\n",
       "  'public String alarmClock(int day, boolean vacation)\\r\\n{\\r\\n    if (vacation)\\r\\n    {\\r\\n        if (day = 0)\\r\\n        {\\r\\n            return \"off\";\\r\\n        }\\r\\n        else if (day = 6)\\r\\n        {\\r\\n            return \"off\";\\r\\n        }\\r\\n        else\\r\\n        {\\r\\n            return \"10:00\";\\r\\n        }\\r\\n    }\\r\\n    else\\r\\n    {\\r\\n        if (day = 0)\\r\\n        {\\r\\n            return \"10:00\";\\r\\n        }\\r\\n        else if (day = 6)\\r\\n            return \"10:00\";\\r\\n \\t    }\\r\\n    \\telse\\r\\n        {\\r\\n            return \"7:00\";\\r\\n        }\\r\\n    }\\r\\n    \\r\\n}\\r\\n',\n",
       "  'public String alarmClock(int day, boolean vacation)\\r\\n{\\r\\n    if (vacation)\\r\\n    {\\r\\n        if (day = 0)\\r\\n        {\\r\\n            return \"off\";\\r\\n        }\\r\\n        else if (day = 6)\\r\\n        {\\r\\n            return \"off\";\\r\\n        }\\r\\n        else\\r\\n        {\\r\\n            return \"10:00\";\\r\\n        }\\r\\n    }\\r\\n    else\\r\\n    {\\r\\n        if (day = 0)\\r\\n        {\\r\\n            return \"10:00\";\\r\\n        }\\r\\n        else if (day = 6)\\r\\n            return \"10:00\";\\r\\n \\t    }\\r\\n        else\\r\\n        {\\r\\n            return \"7:00\";\\r\\n        }\\r\\n    }\\r\\n    \\r\\n}\\r\\n',\n",
       "  'public String alarmClock(int day, boolean vacation)\\r\\n{\\r\\n    if (vacation)\\r\\n    {\\r\\n        if (day = 0)\\r\\n        {\\r\\n            return \"off\";\\r\\n        }\\r\\n        if (day = 6)\\r\\n        {\\r\\n            return \"off\";\\r\\n        }\\r\\n        else\\r\\n        {\\r\\n            return \"10:00\"\\r\\n        }\\r\\n    }\\r\\n    else\\r\\n    {\\r\\n        return \"7:00\";\\r\\n    }\\r\\n}\\r\\n',\n",
       "  'public String alarmClock(int day, boolean vacation)\\r\\n{\\r\\n    if (vacation)\\r\\n    {\\r\\n        if (day = 0)\\r\\n        {\\r\\n            return \"off\";\\r\\n        }\\r\\n        if (day = 6)\\r\\n        {\\r\\n            return \"off\";\\r\\n        }\\r\\n        else\\r\\n        {\\r\\n            return \"10:00\";\\r\\n        }\\r\\n    }\\r\\n    else\\r\\n    {\\r\\n        if (day = 0)\\r\\n        {\\r\\n            return \"10:00\";\\r\\n        }\\r\\n        if (day = 6)\\r\\n            return \"10:00\";\\r\\n \\t    }\\r\\n        else\\r\\n        {\\r\\n            return \"7:00\";\\r\\n        }\\r\\n    }\\r\\n    \\r\\n}\\r\\n',\n",
       "  'public String alarmClock(int day, boolean vacation)\\r\\n{\\r\\n    if (vacation)\\r\\n    {\\r\\n        if (day = 0)\\r\\n        {\\r\\n            return \"off\";\\r\\n        }\\r\\n        if (day = 6)\\r\\n        {\\r\\n            return \"off\";\\r\\n        }\\r\\n        else\\r\\n        {\\r\\n            return \"10:00\";\\r\\n        }\\r\\n    }\\r\\n    else\\r\\n    {\\r\\n        return \"7:00\";\\r\\n    }\\r\\n}\\r\\n',\n",
       "  'public String alarmClock(int day, boolean vacation)\\r\\n{\\r\\n    if (vacation)\\r\\n    {\\r\\n        if (day == 0)\\r\\n        {\\r\\n            return \"off\";\\r\\n        }\\r\\n        if (day == 6)\\r\\n        {\\r\\n            return \"off\";\\r\\n        }\\r\\n        else\\r\\n        {\\r\\n            return \"10:00\";\\r\\n        }\\r\\n    }\\r\\n    else\\r\\n    {\\r\\n        if (day == 0)\\r\\n        {\\r\\n            return \"10:00\";\\r\\n        }\\r\\n            if (day == 6\\r\\n        {\\r\\n            return \"off\";\\r\\n        }\\r\\n        else\\r\\n        {\\r\\n            return \"7:00\";\\r\\n        }\\r\\n    }\\r\\n}\\r\\n',\n",
       "  'public String alarmClock(int day, boolean vacation)\\r\\n{\\r\\n    if (vacation)\\r\\n    {\\r\\n        if (day = 0)\\r\\n        {\\r\\n            return \"off\";\\r\\n        }\\r\\n        else if (day = 6)\\r\\n        {\\r\\n            return \"off\";\\r\\n        }\\r\\n        else\\r\\n        {\\r\\n            return \"10:00\";\\r\\n        }\\r\\n    }\\r\\n    else\\r\\n    {\\r\\n        if (day = 0)\\r\\n        {\\r\\n            return \"10:00\";\\r\\n        }\\r\\n        else if (day = 6)\\r\\n            return \"10:00\";\\r\\n \\t    }\\r\\n    \\telse if (day = 1)\\r\\n        {\\r\\n            return \"7:00\";\\r\\n        }\\r\\n \\t    else if (day = 2)\\r\\n        {\\r\\n            return \"7:00\";\\r\\n        }\\r\\n        else if (day = 3)\\r\\n        {\\r\\n            return \"7:00\";\\r\\n        }\\r\\n     \\telse if (day = 4)\\r\\n        {\\r\\n            return \"7:00\";\\r\\n        }\\r\\n     \\telse if (day = 5)\\r\\n        {\\r\\n            return \"7:00\";\\r\\n        }\\r\\n    \\r\\n    \\r\\n}\\r\\n',\n",
       "  'public String alarmClock(int day, boolean vacation)\\r\\n{\\r\\n    if (vacation)\\r\\n    {\\r\\n        if (day == 0 || 6)\\r\\n        {\\r\\n            return \"off\";\\r\\n        }\\r\\n        else\\r\\n        {\\r\\n            return \"10:00\";\\r\\n        }\\r\\n    }\\r\\n    else\\r\\n    {\\r\\n        if (day == 0|| 6)\\r\\n        {\\r\\n            return \"10:00\";\\r\\n        }\\r\\n        else\\r\\n        {\\r\\n            return \"7:00\";\\r\\n        }\\r\\n    }\\r\\n}\\r\\n',\n",
       "  'public String alarmClock(int day, boolean vacation)\\r\\n{\\r\\n    if (vacation)\\r\\n    {\\r\\n        if (day == 0)\\r\\n        {\\r\\n            return \"off\";\\r\\n        }\\r\\n        if (day == 6)\\r\\n        {\\r\\n            return \"off\";\\r\\n        }\\r\\n        else\\r\\n        {\\r\\n            return \"10:00\";\\r\\n        }\\r\\n    }\\r\\n    else\\r\\n    {\\r\\n        if (day == 0)\\r\\n        {\\r\\n            return \"10:00\";\\r\\n        }\\r\\n            if (day == 6)\\r\\n        {\\r\\n            return \"off\";\\r\\n        }\\r\\n        else\\r\\n        {\\r\\n            return \"7:00\";\\r\\n        }\\r\\n    }\\r\\n}\\r\\n',\n",
       "  'public String alarmClock(int day, boolean vacation)\\r\\n{\\r\\n    if (vacation)\\r\\n    {\\r\\n        return \"10:00\";\\r\\n    }\\r\\n    else\\r\\n    {\\r\\n        return \"7:00\";\\r\\n    }\\r\\n}\\r\\n',\n",
       "  'public String alarmClock(int day, boolean vacation)\\r\\n{\\r\\n    if (vacation)\\r\\n    {\\r\\n        if (day = 0 || 6)\\r\\n        {\\r\\n            return \"off\";\\r\\n        }\\r\\n        else\\r\\n        {\\r\\n            return \"10:00\";\\r\\n        }\\r\\n    }\\r\\n    else\\r\\n    {\\r\\n        if (day = 0 || 6)\\r\\n        {\\r\\n            return \"10:00\";\\r\\n        }\\r\\n        else\\r\\n        {\\r\\n            return \"7:00\";\\r\\n        }\\r\\n    }\\r\\n    \\r\\n}\\r\\n',\n",
       "  'public String alarmClock(int day, boolean vacation)\\r\\n{\\r\\n    if (vacation)\\r\\n    {\\r\\n        if (day == 0)\\r\\n        {\\r\\n            return \"off\";\\r\\n        }\\r\\n        if (day == 6\\r\\n        {\\r\\n            return \"off\";\\r\\n        }\\r\\n        else\\r\\n        {\\r\\n            return \"10:00\";\\r\\n        }\\r\\n    }\\r\\n    else\\r\\n    {\\r\\n        if (day == 0)\\r\\n        {\\r\\n            return \"10:00\";\\r\\n        }\\r\\n            if (day == 6\\r\\n        {\\r\\n            return \"off\";\\r\\n        }\\r\\n        else\\r\\n        {\\r\\n            return \"7:00\";\\r\\n        }\\r\\n    }\\r\\n}\\r\\n',\n",
       "  'public String alarmClock(int day, boolean vacation)\\r\\n{\\r\\n    if (vacation)\\r\\n    {\\r\\n        if (day == 0)\\r\\n        {\\r\\n            return \"off\";\\r\\n        }\\r\\n        if (day == 6)\\r\\n        {\\r\\n            return \"off\";\\r\\n        }\\r\\n        else\\r\\n        {\\r\\n            return \"10:00\";\\r\\n        }\\r\\n    }\\r\\n    else\\r\\n    {\\r\\n        if (day == 0)\\r\\n        {\\r\\n            return \"10:00\";\\r\\n        }\\r\\n            if (day == 6)\\r\\n        {\\r\\n            return \"10:00\";\\r\\n        }\\r\\n        else\\r\\n        {\\r\\n            return \"7:00\";\\r\\n        }\\r\\n    }\\r\\n}\\r\\n',\n",
       "  'public String alarmClock(int day, boolean vacation)\\r\\n{\\r\\n    if (vacation)\\r\\n    {\\r\\n        if (day = 0)\\r\\n        {\\r\\n            return \"off\";\\r\\n        }\\r\\n        else if (day = 6)\\r\\n        {\\r\\n            return \"off\";\\r\\n        }\\r\\n        else\\r\\n        {\\r\\n            return \"10:00\";\\r\\n        }\\r\\n    }\\r\\n    else\\r\\n    {\\r\\n        if (day = 0)\\r\\n        {\\r\\n            return \"10:00\";\\r\\n        }\\r\\n        else if (day = 6)\\r\\n            return \"10:00\";\\r\\n \\t    }\\r\\n    \\telse if (day != 6)\\r\\n        {\\r\\n            return \"7:00\";\\r\\n        }\\r\\n    }\\r\\n    \\r\\n}\\r\\n',\n",
       "  'public String alarmClock(int day, boolean vacation)\\r\\n{\\r\\n    if (vacation)\\r\\n    {\\r\\n        if (day = 0)\\r\\n        {\\r\\n            return \"off\";\\r\\n        }\\r\\n        else if (day = 6)\\r\\n        {\\r\\n            return \"off\";\\r\\n        }\\r\\n        else\\r\\n        {\\r\\n            return \"10:00\";\\r\\n        }\\r\\n    }\\r\\n    else\\r\\n    {\\r\\n        if (day = 0)\\r\\n        {\\r\\n            return \"10:00\";\\r\\n        }\\r\\n        else if (day = 6)\\r\\n            return \"10:00\";\\r\\n \\t    }\\r\\n    \\telse if (day = 1)\\r\\n        {\\r\\n            return \"7:00\";\\r\\n        }\\r\\n \\t    else if (day = 2)\\r\\n        {\\r\\n            return \"7:00\";\\r\\n        }\\r\\n        else if (day = 3)\\r\\n        {\\r\\n            return \"7:00\";\\r\\n        }\\r\\n     \\telse if (day = 4)\\r\\n        {\\r\\n            return \"7:00\";\\r\\n        }\\r\\n     \\telse if (day = 5)\\r\\n        {\\r\\n            return \"7:00\";\\r\\n        }\\r\\n    }\\r\\n    \\r\\n}\\r\\n',\n",
       "  'public String alarmClock(int day, boolean vacation)\\r\\n{\\r\\n    if (vacation)\\r\\n    {\\r\\n        if (day == 0 || 6)\\r\\n        {\\r\\n            return \"off\";\\r\\n        }\\r\\n        else\\r\\n        {\\r\\n            return \"10:00\";\\r\\n        }\\r\\n    }\\r\\n    else\\r\\n    {\\r\\n        if (day == 0|| 6)\\r\\n        {\\r\\n            return \"10:00\";\\r\\n        }\\r\\n        else\\r\\n        {\\r\\n            return \"7:00\"\\r\\n        }\\r\\n    }\\r\\n}\\r\\n'],\n",
       " ['public boolean love6(int a, int b)\\r\\n{\\r\\n    if ( a == 6 || b == 6)\\r\\n    {\\r\\n        return true;\\r\\n    }\\r\\n    else if ( a + b == 6)\\r\\n    {\\r\\n        return true;\\r\\n    }\\r\\n    else if (Math.abs(a-b) == 6)\\r\\n    {\\r\\n        return true;\\r\\n    }\\r\\n    else\\r\\n    {\\r\\n        return false;\\r\\n    }\\r\\n}\\r\\n'],\n",
       " ['public boolean cigarParty(int cigars, boolean isWeekend)\\r\\n{\\r\\n    if (isWeekend)\\r\\n    {\\r\\n        if (cigars >= 40)\\r\\n        {\\r\\n            return true;\\r\\n        }\\r\\n        else\\r\\n        {\\r\\n            return false;\\r\\n        }\\r\\n    }\\r\\n    else if (cigars >= 40 && cigars <=60)\\r\\n    {\\r\\n        return true;\\r\\n    }\\r\\n    else\\r\\n    {\\r\\n        return false;\\r\\n    }\\r\\n        \\r\\n    \\r\\n\\r\\n}\\r\\n'],\n",
       " ['public int dateFashion(int you, int date)\\r\\n{\\r\\n    if (you <= 2)\\r\\n    {\\r\\n        return 0;\\r\\n    }\\r\\n    else if (you <=7)\\r\\n    {\\r\\n        if (date <= 2)\\r\\n        {\\r\\n            return 0;\\r\\n        }\\r\\n        else if (date <= 7)\\r\\n        {\\r\\n            return 1;\\r\\n        }\\r\\n        else\\r\\n        {\\r\\n            return 2;\\r\\n        }\\r\\n    }\\r\\n    else\\r\\n    {\\r\\n        if (date <= 2)\\r\\n        {\\r\\n            return 0;\\r\\n        }\\r\\n        else\\r\\n        {\\r\\n            return 2;\\r\\n        }\\r\\n    }\\r\\n}\\r\\n'],\n",
       " ['public int greenTicket(int a, int b, int c)\\r\\n{\\r\\n    if (a == b && b == c)\\r\\n    {\\r\\n        return 20;\\r\\n    }\\r\\n    else if (a == b || b == c || a == c)\\r\\n    {\\r\\n        return 10:\\r\\n    }\\r\\n    else\\r\\n    {\\r\\n        return 0;\\r\\n    }\\r\\n}\\r\\n',\n",
       "  'public int greenTicket(int a, int b, int c)\\r\\n{\\r\\n    if (a == b && b == c)\\r\\n    {\\r\\n        return 20;\\r\\n    }\\r\\n    else if (a == b || b == c || a == c)\\r\\n    {\\r\\n        return 10;\\r\\n    }\\r\\n    else\\r\\n    {\\r\\n        return 0;\\r\\n    }\\r\\n}\\r\\n',\n",
       "  'public int greenTicket(int a, int b, int c)\\r\\n{\\r\\n    if (a == b == c)\\r\\n    {\\r\\n        return 20;\\r\\n    }\\r\\n}\\r\\n',\n",
       "  'public int greenTicket(int a, int b, int c)\\r\\n{\\r\\n    if (a == b && b == c)\\r\\n    {\\r\\n        return 20;\\r\\n    }\\r\\n}\\r\\n'],\n",
       " ['public int redTicket(int a, int b, int c)\\r\\n{\\r\\n    if ( a == 2 && b == 2 && c == 2)\\r\\n    {\\r\\n        return 10;\\r\\n    }\\r\\n    else if ( a == b && b == c)\\r\\n    {\\r\\n        return 5;\\r\\n    }\\r\\n    else if (b != a && c != a)\\r\\n    {\\r\\n        return 1;\\r\\n    }\\r\\n    else\\r\\n    {\\r\\n        return 0;\\r\\n    }\\r\\n}\\r\\n'],\n",
       " ['public int loneSum(int a, int b, int c)\\r\\n{\\r\\n    int sum = 0;\\r\\n    if (a != b && a !=c)\\r\\n    {\\r\\n        sum = sum +a;\\r\\n    }\\r\\n    if (b != a && b != c)\\r\\n    {\\r\\n        sum = sum + b;\\r\\n    }\\r\\n    if (c !=a && c !=b)\\r\\n    {\\r\\n        sum = sum + c;\\r\\n    }\\r\\n    return sum;\\r\\n}\\r\\n',\n",
       "  'public int loneSum(int a, int b, int c)\\r\\n{\\r\\n    int sum = 0;\\r\\n    if (a != b && a !=c)\\r\\n    {\\r\\n        sum = sum +a;\\r\\n    }\\r\\n    else if (b != a && b != c)\\r\\n    {\\r\\n        sum = sum + b + c;\\r\\n    }\\r\\n    else if (c !=a && c !=b)\\r\\n    {\\r\\n        sum = sum + c;\\r\\n    }\\r\\n    return sum;\\r\\n}\\r\\n'],\n",
       " ['public int luckySum(int a, int b, int c)\\r\\n{\\r\\n    int sum = 0;\\r\\n    if (a != 13)\\r\\n    {\\r\\n        sum = sum + a;\\r\\n        if (b != 13)\\r\\n        {\\r\\n            sum = sum + b;\\r\\n            if (c != 13)\\r\\n            {\\r\\n                sum = sum +c;\\r\\n            }\\r\\n        }\\r\\n        \\r\\n    }\\r\\n    return sum;\\r\\n}\\r\\n'],\n",
       " ['public int noTeenSum(int a, int b, int c)\\r\\n{\\r\\n\\tint sum = 0;\\r\\n    int sum = fixTeen(a) + fixTeen(b) + fixTeen(c);\\r\\n    return sum;\\r\\n}\\r\\n\\r\\npublic int fixTeen(int n)\\r\\n{\\r\\n    if ( n >= 13 && n <= 19)\\r\\n    {\\r\\n        int n = 0;\\r\\n    }\\r\\n    return n;\\r\\n}\\r\\n',\n",
       "  'public int noTeenSum(int a, int b, int c)\\r\\n{\\r\\n\\tint sum = 0;\\r\\n    sum = fixTeen(a) + fixTeen(b) + fixTeen(c);\\r\\n    return sum;\\r\\n}\\r\\n\\r\\npublic int fixTeen(int n)\\r\\n{\\r\\n    if ( n >= 13 && n <= 19)\\r\\n    {\\r\\n        if (n != 15 && n != 16)\\r\\n        {\\r\\n        \\tn = 0;\\r\\n        }    \\r\\n    }\\r\\n    return n;\\r\\n}\\r\\n',\n",
       "  'public int noTeenSum(int a, int b, int c)\\r\\n{\\r\\n\\tint sum = 0;\\r\\n    sum = fixTeen(a) + fixTeen(b) + fixTeen(c);\\r\\n    return sum;\\r\\n}\\r\\n\\r\\npublic int fixTeen(int n)\\r\\n{\\r\\n    if ( n >= 13 && n <= 19)\\r\\n    {\\r\\n        int n = 0;\\r\\n    }\\r\\n    return n;\\r\\n}\\r\\n'],\n",
       " ['public int blackjack(int a, int b)\\r\\n{\\r\\n    \\r\\n    if (a>21 && b>21)\\r\\n    {\\r\\n        return 0;\\r\\n    }\\r\\n    else if (a>b && a<22)\\r\\n    {\\r\\n        return a;\\r\\n    }\\r\\n    else if (b>a && b<22)\\r\\n    {\\r\\n        return b;\\r\\n    }\\r\\n}\\r\\n',\n",
       "  'public int blackjack(int a, int b)\\r\\n{\\r\\n    if (a>21 && b>21)\\r\\n    {\\r\\n        return 0;\\r\\n    }\\r\\n    else if (a>b && a<22)\\r\\n    {\\r\\n        return a;\\r\\n    }\\r\\n    else if (b>a && b<22)\\r\\n    {\\r\\n        return b;\\r\\n    }\\r\\n}\\r\\n',\n",
       "  'public int blackjack(int a, int b)\\r\\n{\\r\\n    if (a>21 && b>21)\\r\\n    {\\r\\n        return 0;\\r\\n    }\\r\\n    else if (a>b && a<22)\\r\\n    {\\r\\n        return a;\\r\\n    }\\r\\n    else if (a>b && a>22)\\r\\n    {\\r\\n        return b;\\r\\n    }\\r\\n    else if (b>a && b<22)\\r\\n    {\\r\\n        return b;\\r\\n    }\\r\\n    else\\r\\n    {\\r\\n        return a;\\r\\n    }\\r\\n}\\r\\n',\n",
       "  'public int blackjack(int a, int b)\\r\\n{\\r\\n    private int c = 0;\\r\\n    private int d = 0;\\r\\n    \\r\\n    if (a>21 && b>21)\\r\\n    {\\r\\n        return 0;\\r\\n    }\\r\\n    else if (a>b)\\r\\n    {\\r\\n        int c =a;\\r\\n        int d = b;\\r\\n    }\\r\\n    else\\r\\n    {\\r\\n        int c = b;\\r\\n        int d = a;\\r\\n    }\\r\\n    if (c < 22)\\r\\n    {\\r\\n        return c;\\r\\n    }\\r\\n    else\\r\\n    {\\r\\n        return d;\\r\\n    }\\r\\n}\\r\\n',\n",
       "  'public int blackjack(int a, int b)\\r\\n{\\r\\n    if (a>21 && b>21)\\r\\n    {\\r\\n        return 0;\\r\\n    }\\r\\n    else if (a>b && a<22)\\r\\n    {\\r\\n        return a;\\r\\n    }\\r\\n    else\\r\\n    {\\r\\n        return b;\\r\\n    }\\r\\n}\\r\\n',\n",
       "  'public int blackjack(int a, int b)\\r\\n{\\r\\n    if (a>21 && b>21)\\r\\n    {\\r\\n        return 0;\\r\\n    }\\r\\n    else if (a>b && a<22)\\r\\n    {\\r\\n        return a;\\r\\n    }\\r\\n    else if (a>b && a>=22)\\r\\n    {\\r\\n        return b;\\r\\n    }\\r\\n    else if (b>a && b<22)\\r\\n    {\\r\\n        return b;\\r\\n    }\\r\\n    else\\r\\n    {\\r\\n        return a;\\r\\n    }\\r\\n}\\r\\n',\n",
       "  'public int blackjack(int a, int b)\\r\\n{\\r\\n    \\r\\n    if (a>21 && b>21)\\r\\n    {\\r\\n        return 0;\\r\\n    }\\r\\n    else if (a>b && a<22)\\r\\n    {\\r\\n        return a;\\r\\n    }\\r\\n    else if (b>a && b<22)\\r\\n    {\\r\\n        return b;\\r\\n    }\\r\\n    \\r\\n}\\r\\n',\n",
       "  'public int blackjack(int a, int b)\\r\\n{\\r\\n    int c = 0;\\r\\n    int d = 0;\\r\\n    \\r\\n    if (a>21 && b>21)\\r\\n    {\\r\\n        return 0;\\r\\n    }\\r\\n    else if (a>b)\\r\\n    {\\r\\n        int c =a;\\r\\n        int d = b;\\r\\n    }\\r\\n    else\\r\\n    {\\r\\n        int c = b;\\r\\n        int d = a;\\r\\n    }\\r\\n    if (c < 22)\\r\\n    {\\r\\n        return c;\\r\\n    }\\r\\n    else\\r\\n    {\\r\\n        return d;\\r\\n    }\\r\\n}\\r\\n',\n",
       "  'public int blackjack(int a, int b)\\r\\n{\\r\\n    if (a>21 && b>21)\\r\\n    {\\r\\n        return 0;\\r\\n    }\\r\\n    else if (a>b && a<22)\\r\\n    {\\r\\n        return a;\\r\\n    }\\r\\n    else if (a>b && a=>22)\\r\\n    {\\r\\n        return b;\\r\\n    }\\r\\n    else if (b>a && b<22)\\r\\n    {\\r\\n        return b;\\r\\n    }\\r\\n    else\\r\\n    {\\r\\n        return a;\\r\\n    }\\r\\n}\\r\\n',\n",
       "  'public int blackjack(int a, int b)\\r\\n{\\r\\n    if (a>21 && b>21)\\r\\n    {\\r\\n        return 0;\\r\\n    }\\r\\n    else if (a>b)\\r\\n    {\\r\\n        int c =a;\\r\\n        int d = b;\\r\\n    }\\r\\n    else\\r\\n    {\\r\\n        int c = b;\\r\\n        int d = a;\\r\\n    }\\r\\n    if (c < 22)\\r\\n    {\\r\\n        return c;\\r\\n    }\\r\\n    else\\r\\n    {\\r\\n        return d;\\r\\n    }\\r\\n}\\r\\n',\n",
       "  'public int blackjack(int a, int b)\\r\\n{\\r\\n    \\r\\n    if (a>21 && b>21)\\r\\n    {\\r\\n        return 0;\\r\\n    }\\r\\n    else if (a>b && a<22)\\r\\n    {\\r\\n        return a;\\r\\n    }\\r\\n    else if (b>a && b<22)\\r\\n    {\\r\\n        return b;\\r\\n    }\\r\\n    \\r\\n\\r\\n'],\n",
       " ['public boolean evenlySpaced(int a, int b, int c)\\r\\n{\\r\\n    if (a > b && a > c)\\r\\n    {\\r\\n        int large = a;\\r\\n        if (b > c)\\r\\n        {\\r\\n            int medium = b;\\r\\n            int small = c;\\r\\n        }\\r\\n        else\\r\\n        {\\r\\n            int medium = c;\\r\\n            int small = b;\\r\\n        }\\r\\n    }\\r\\n    if (b > a && b > c)\\r\\n    {\\r\\n        int large = b;\\r\\n        if (a > c)\\r\\n        {\\r\\n            int medium = a;\\r\\n            int small = c;\\r\\n        }\\r\\n        else\\r\\n        {\\r\\n            int medium = c;\\r\\n            int small = a;\\r\\n        }\\r\\n    }\\r\\n    if (c > a && c > b)\\r\\n    {\\r\\n        int large = c;\\r\\n        if (a > b)\\r\\n        {\\r\\n            int medium = a;\\r\\n            int small = b;\\r\\n        }\\r\\n        else\\r\\n        {\\r\\n            int medium = b;\\r\\n            int small = a;\\r\\n        }\\r\\n    }\\r\\n    //int difference1 = large - medium;\\r\\n    int difference2 = medium - small;\\r\\n    if (difference1 == difference2)\\r\\n    {\\r\\n        return true;\\r\\n    }\\r\\n    else\\r\\n    {\\r\\n        return false;\\r\\n    }\\r\\n}\\r\\n',\n",
       "  'public boolean evenlySpaced(int a, int b, int c)\\r\\n{\\r\\n    int large = 0;\\r\\n    int medium = 2;\\r\\n    int small = 7;\\r\\n    if (a > b && a > c)\\r\\n    {\\r\\n        large = a;\\r\\n        if (b > c)\\r\\n        {\\r\\n            medium = b;\\r\\n            small = c;\\r\\n        }\\r\\n        else\\r\\n        {\\r\\n            medium = c;\\r\\n            small = b;\\r\\n        }\\r\\n    }\\r\\n    if (b > a && b > c)\\r\\n    {\\r\\n     large = b;\\r\\n        if (a > c)\\r\\n        {\\r\\n            medium = a;\\r\\n            small = c;\\r\\n        }\\r\\n        else\\r\\n        {\\r\\n            medium = c;\\r\\n            small = a;\\r\\n        }\\r\\n    }\\r\\n    if (c > a && c > b)\\r\\n    {\\r\\n        large = c;\\r\\n        if (a > b)\\r\\n        {\\r\\n            medium = a;\\r\\n            small = b;\\r\\n        }\\r\\n        else\\r\\n        {\\r\\n            medium = b;\\r\\n            small = a;\\r\\n        }\\r\\n    }\\r\\n    int difference1 = large - medium;\\r\\n    int difference2 = medium - small;\\r\\n    if ((difference1 == difference2))\\r\\n    {\\r\\n        return true;\\r\\n    }\\r\\n    else if (a == b && b == c)\\r\\n    {\\r\\n        return true;\\r\\n    }\\r\\n    else\\r\\n    {\\r\\n        return false;\\r\\n    }\\r\\n}\\r\\n',\n",
       "  'public boolean evenlySpaced(int a, int b, int c)\\r\\n{\\r\\n   e = abs(b-c);\\r\\n}\\r\\n',\n",
       "  'public boolean evenlySpaced(int a, int b, int c)\\r\\n{\\r\\n    int large = 0;\\r\\n    int medium = 0;\\r\\n    int small = 0;\\r\\n    if (a > b && a > c)\\r\\n    {\\r\\n        large = a;\\r\\n        if (b > c)\\r\\n        {\\r\\n            medium = b;\\r\\n            small = c;\\r\\n        }\\r\\n        else\\r\\n        {\\r\\n            medium = c;\\r\\n            small = b;\\r\\n        }\\r\\n    }\\r\\n    if (b > a && b > c)\\r\\n    {\\r\\n     large = b;\\r\\n        if (a > c)\\r\\n        {\\r\\n            medium = a;\\r\\n            small = c;\\r\\n        }\\r\\n        else\\r\\n        {\\r\\n            medium = c;\\r\\n            small = a;\\r\\n        }\\r\\n    }\\r\\n    if (c > a && c > b)\\r\\n    {\\r\\n        large = c;\\r\\n        if (a > b)\\r\\n        {\\r\\n            medium = a;\\r\\n            small = b;\\r\\n        }\\r\\n        else\\r\\n        {\\r\\n            medium = b;\\r\\n            small = a;\\r\\n        }\\r\\n    }\\r\\n    int difference1 = large - medium;\\r\\n    int difference2 = medium - small;\\r\\n    if (difference1 != 0 && difference1 == difference2)\\r\\n    {\\r\\n        return true;\\r\\n    }\\r\\n    else\\r\\n    {\\r\\n        return false;\\r\\n    }\\r\\n}\\r\\n',\n",
       "  'public boolean evenlySpaced(int a, int b, int c)\\r\\n{\\r\\n    int large = 0;\\r\\n    int medium = 0;\\r\\n    int small = 0;\\r\\n    if (a > b && a > c)\\r\\n    {\\r\\n        large = a;\\r\\n        if (b > c)\\r\\n        {\\r\\n            medium = b;\\r\\n            small = c;\\r\\n        }\\r\\n        else\\r\\n        {\\r\\n            medium = c;\\r\\n            small = b;\\r\\n        }\\r\\n    }\\r\\n    if (b > a && b > c)\\r\\n    {\\r\\n     large = b;\\r\\n        if (a > c)\\r\\n        {\\r\\n            medium = a;\\r\\n            small = c;\\r\\n        }\\r\\n        else\\r\\n        {\\r\\n            medium = c;\\r\\n            small = a;\\r\\n        }\\r\\n    }\\r\\n    if (c > a && c > b)\\r\\n    {\\r\\n        large = c;\\r\\n        if (a > b)\\r\\n        {\\r\\n            medium = a;\\r\\n            small = b;\\r\\n        }\\r\\n        else\\r\\n        {\\r\\n            medium = b;\\r\\n            small = a;\\r\\n        }\\r\\n    }\\r\\n    int difference1 = large - medium;\\r\\n    int difference2 = medium - small;\\r\\n    if (difference1 != 0 && difference2 != 0 && difference1 == difference2)\\r\\n    {\\r\\n        return true;\\r\\n    }\\r\\n    else\\r\\n    {\\r\\n        return false;\\r\\n    }\\r\\n}\\r\\n',\n",
       "  'public boolean evenlySpaced(int a, int b, int c)\\r\\n{\\r\\n    int large = 0;\\r\\n    int medium = 0;\\r\\n    int small = 0;\\r\\n    if (a > b && a > c)\\r\\n    {\\r\\n        int large = a;\\r\\n        if (b > c)\\r\\n        {\\r\\n            int medium = b;\\r\\n            int small = c;\\r\\n        }\\r\\n        else\\r\\n        {\\r\\n            int medium = c;\\r\\n            int small = b;\\r\\n        }\\r\\n    }\\r\\n    if (b > a && b > c)\\r\\n    {\\r\\n        int large = b;\\r\\n        if (a > c)\\r\\n        {\\r\\n            int medium = a;\\r\\n            int small = c;\\r\\n        }\\r\\n        else\\r\\n        {\\r\\n            int medium = c;\\r\\n            int small = a;\\r\\n        }\\r\\n    }\\r\\n    if (c > a && c > b)\\r\\n    {\\r\\n        int large = c;\\r\\n        if (a > b)\\r\\n        {\\r\\n            int medium = a;\\r\\n            int small = b;\\r\\n        }\\r\\n        else\\r\\n        {\\r\\n            int medium = b;\\r\\n            int small = a;\\r\\n        }\\r\\n    }\\r\\n    int difference1 = large - medium;\\r\\n    int difference2 = medium - small;\\r\\n    if (difference1 == difference2)\\r\\n    {\\r\\n        return true;\\r\\n    }\\r\\n    else\\r\\n    {\\r\\n        return false;\\r\\n    }\\r\\n}\\r\\n',\n",
       "  'public boolean evenlySpaced(int a, int b, int c)\\r\\n{\\r\\n    int large = 0;\\r\\n    int medium = 2;\\r\\n    int small = 7;\\r\\n    if (a > b && a > c)\\r\\n    {\\r\\n        large = a;\\r\\n        if (b > c)\\r\\n        {\\r\\n            medium = b;\\r\\n            small = c;\\r\\n        }\\r\\n        else\\r\\n        {\\r\\n            medium = c;\\r\\n            small = b;\\r\\n        }\\r\\n    }\\r\\n    if (b > a && b > c)\\r\\n    {\\r\\n     large = b;\\r\\n        if (a > c)\\r\\n        {\\r\\n            medium = a;\\r\\n            small = c;\\r\\n        }\\r\\n        else\\r\\n        {\\r\\n            medium = c;\\r\\n            small = a;\\r\\n        }\\r\\n    }\\r\\n    if (c > a && c > b)\\r\\n    {\\r\\n        large = c;\\r\\n        if (a > b)\\r\\n        {\\r\\n            medium = a;\\r\\n            small = b;\\r\\n        }\\r\\n        else\\r\\n        {\\r\\n            medium = b;\\r\\n            small = a;\\r\\n        }\\r\\n    }\\r\\n    int difference1 = large - medium;\\r\\n    int difference2 = medium - small;\\r\\n    if ((difference1 == difference2)\\r\\n    {\\r\\n        return true;\\r\\n    }\\r\\n    else\\r\\n    {\\r\\n        return false;\\r\\n    }\\r\\n}\\r\\n',\n",
       "  'public boolean evenlySpaced(int a, int b, int c)\\r\\n{\\r\\n    int large = 0;\\r\\n    int medium = 2;\\r\\n    int small = 7;\\r\\n    if (a > b && a > c)\\r\\n    {\\r\\n        large = a;\\r\\n        if (b > c)\\r\\n        {\\r\\n            medium = b;\\r\\n            small = c;\\r\\n        }\\r\\n        else\\r\\n        {\\r\\n            medium = c;\\r\\n            small = b;\\r\\n        }\\r\\n    }\\r\\n    if (b > a && b > c)\\r\\n    {\\r\\n     large = b;\\r\\n        if (a > c)\\r\\n        {\\r\\n            medium = a;\\r\\n            small = c;\\r\\n        }\\r\\n        else\\r\\n        {\\r\\n            medium = c;\\r\\n            small = a;\\r\\n        }\\r\\n    }\\r\\n    if (c > a && c > b)\\r\\n    {\\r\\n        large = c;\\r\\n        if (a > b)\\r\\n        {\\r\\n            medium = a;\\r\\n            small = b;\\r\\n        }\\r\\n        else\\r\\n        {\\r\\n            medium = b;\\r\\n            small = a;\\r\\n        }\\r\\n    }\\r\\n    int difference1 = large - medium;\\r\\n    int difference2 = medium - small;\\r\\n    if ((difference1 == difference2))\\r\\n    {\\r\\n        return true;\\r\\n    }\\r\\n    else\\r\\n    {\\r\\n        return false;\\r\\n    }\\r\\n}\\r\\n',\n",
       "  'public boolean evenlySpaced(int a, int b, int c)\\r\\n{\\r\\n    int large = 0;\\r\\n    int medium = 0;\\r\\n    int small = 0;\\r\\n    if (a > b && a > c)\\r\\n    {\\r\\n        large = a;\\r\\n        if (b > c)\\r\\n        {\\r\\n            medium = b;\\r\\n            small = c;\\r\\n        }\\r\\n        else\\r\\n        {\\r\\n            medium = c;\\r\\n            small = b;\\r\\n        }\\r\\n    }\\r\\n    if (b > a && b > c)\\r\\n    {\\r\\n     large = b;\\r\\n        if (a > c)\\r\\n        {\\r\\n            medium = a;\\r\\n            small = c;\\r\\n        }\\r\\n        else\\r\\n        {\\r\\n            medium = c;\\r\\n            small = a;\\r\\n        }\\r\\n    }\\r\\n    if (c > a && c > b)\\r\\n    {\\r\\n        large = c;\\r\\n        if (a > b)\\r\\n        {\\r\\n            medium = a;\\r\\n            small = b;\\r\\n        }\\r\\n        else\\r\\n        {\\r\\n            medium = b;\\r\\n            ismall = a;\\r\\n        }\\r\\n    }\\r\\n    int difference1 = large - medium;\\r\\n    int difference2 = medium - small;\\r\\n    if (difference1 == difference2)\\r\\n    {\\r\\n        return true;\\r\\n    }\\r\\n    else\\r\\n    {\\r\\n        return false;\\r\\n    }\\r\\n}\\r\\n',\n",
       "  'public boolean evenlySpaced(int a, int b, int c)\\r\\n{\\r\\n    if (a > b && a > c)\\r\\n    {\\r\\n        int large = a;\\r\\n        if (b > c)\\r\\n        {\\r\\n            int medium = b;\\r\\n            int small = c;\\r\\n        }\\r\\n        else\\r\\n        {\\r\\n            int medium = c;\\r\\n            int small = b;\\r\\n        }\\r\\n    }\\r\\n    if (b > a && b > c)\\r\\n    {\\r\\n        int large = b;\\r\\n        if (a > c)\\r\\n        {\\r\\n            int medium = a;\\r\\n            int small = c;\\r\\n        }\\r\\n        else\\r\\n        {\\r\\n            int medium = c;\\r\\n            int small = a;\\r\\n        }\\r\\n    }\\r\\n    if (c > a && c > b)\\r\\n    {\\r\\n        int large = c;\\r\\n        if (a > b)\\r\\n        {\\r\\n            int medium = a;\\r\\n            int small = b;\\r\\n        }\\r\\n        else\\r\\n        {\\r\\n            int medium = b;\\r\\n            int small = a;\\r\\n        }\\r\\n    }\\r\\n    int difference1 = large-medium;\\r\\n    int difference2 = medium - small;\\r\\n    if (difference1 == difference2)\\r\\n    {\\r\\n        return true;\\r\\n    }\\r\\n    else\\r\\n    {\\r\\n        return false;\\r\\n    }\\r\\n}\\r\\n',\n",
       "  'public boolean evenlySpaced(int a, int b, int c)\\r\\n{\\r\\n    int large = 0;\\r\\n    int medium = 0;\\r\\n    int small = 0;\\r\\n    if (a > b && a > c)\\r\\n    {\\r\\n        large = a;\\r\\n        if (b > c)\\r\\n        {\\r\\n            medium = b;\\r\\n            small = c;\\r\\n        }\\r\\n        else\\r\\n        {\\r\\n            medium = c;\\r\\n            small = b;\\r\\n        }\\r\\n    }\\r\\n    if (b > a && b > c)\\r\\n    {\\r\\n     large = b;\\r\\n        if (a > c)\\r\\n        {\\r\\n            medium = a;\\r\\n            small = c;\\r\\n        }\\r\\n        else\\r\\n        {\\r\\n            medium = c;\\r\\n            small = a;\\r\\n        }\\r\\n    }\\r\\n    if (c > a && c > b)\\r\\n    {\\r\\n        large = c;\\r\\n        if (a > b)\\r\\n        {\\r\\n            medium = a;\\r\\n            small = b;\\r\\n        }\\r\\n        else\\r\\n        {\\r\\n            medium = b;\\r\\n            small = a;\\r\\n        }\\r\\n    }\\r\\n    int difference1 = large - medium;\\r\\n    int difference2 = medium - small;\\r\\n    if (difference1 == difference2)\\r\\n    {\\r\\n        return true;\\r\\n    }\\r\\n    else\\r\\n    {\\r\\n        return false;\\r\\n    }\\r\\n}\\r\\n',\n",
       "  'public boolean evenlySpaced(int a, int b, int c)\\r\\n{\\r\\n    int large = 0;\\r\\n    int medium = 0;\\r\\n    int small = 0;\\r\\n    if (a > b && a > c)\\r\\n    {\\r\\n        large = a;\\r\\n        if (b > c)\\r\\n        {\\r\\n            medium = b;\\r\\n            small = c;\\r\\n        }\\r\\n        else\\r\\n        {\\r\\n            imedium = c;\\r\\n            small = b;\\r\\n        }\\r\\n    }\\r\\n    if (b > a && b > c)\\r\\n    {\\r\\n     large = b;\\r\\n        if (a > c)\\r\\n        {\\r\\n            medium = a;\\r\\n            small = c;\\r\\n        }\\r\\n        else\\r\\n        {\\r\\n            medium = c;\\r\\n            small = a;\\r\\n        }\\r\\n    }\\r\\n    if (c > a && c > b)\\r\\n    {\\r\\n        large = c;\\r\\n        if (a > b)\\r\\n        {\\r\\n            medium = a;\\r\\n            small = b;\\r\\n        }\\r\\n        else\\r\\n        {\\r\\n            medium = b;\\r\\n            ismall = a;\\r\\n        }\\r\\n    }\\r\\n    int difference1 = large - medium;\\r\\n    int difference2 = medium - small;\\r\\n    if (difference1 == difference2)\\r\\n    {\\r\\n        return true;\\r\\n    }\\r\\n    else\\r\\n    {\\r\\n        return false;\\r\\n    }\\r\\n}\\r\\n'],\n",
       " ['public String atFirst(String str)\\r\\n{\\r\\n    int length = str.length();\\r\\n    if (length == 1)\\r\\n    {\\r\\n        return str.substring(0,1) + \"@\";\\r\\n    }\\r\\n    else if (length == 0)\\r\\n    {\\r\\n        return \"@@\";\\r\\n    }\\r\\n    else\\r\\n    {\\r\\n        return str.substring(0,2);\\r\\n    }\\r\\n}\\r\\n',\n",
       "  'public String atFirst(String str)\\r\\n{\\r\\n    length = str.length();\\r\\n    if (length == 1)\\r\\n    {\\r\\n        return str.substring(0,1) + \"@\";\\r\\n    }\\r\\n    else if (length == 0)\\r\\n    {\\r\\n        return \"@@\";\\r\\n    }\\r\\n    else\\r\\n    {\\r\\n        return str.substring(0,2);\\r\\n    }\\r\\n}\\r\\n',\n",
       "  'public String atFirst(String str)\\r\\n{\\r\\n    length = str.length();\\r\\n    if (length == 1)\\r\\n    {\\r\\n        return str.substring(0,1) + \"@\";\\r\\n    }\\r\\n    else if (length == 0)\\r\\n    {\\r\\n        return \"@@\";\\r\\n    else\\r\\n    {\\r\\n        return str.substring(0,2);\\r\\n    }\\r\\n}\\r\\n',\n",
       "  'public String atFirst(String str)\\r\\n{\\r\\n    length = str.length()\\r\\n    if (length == 1)\\r\\n    {\\r\\n        return str.substring(0,1) + \"@\";\\r\\n    }\\r\\n    else if (length == 0)\\r\\n    {\\r\\n        return \"@@\";\\r\\n    else\\r\\n    {\\r\\n        return str.substring(0,2);\\r\\n    }\\r\\n}\\r\\n'],\n",
       " ['public int roundSum(int a, int b, int c)\\r\\n{\\r\\n    return round10(a)+round10(b)+round10(c);\\r\\n}\\r\\n\\r\\npublic int round10(int num)\\r\\n{\\r\\n    if(num%10>=5)\\r\\n    {\\r\\n        num=num+(10-num%10);\\r\\n        return num;\\r\\n    }\\r\\n    else\\r\\n    {\\r\\n        num=num-num%10;\\r\\n        return num;\\r\\n    }\\r\\n}\\r\\n',\n",
       "  'public int roundSum(int a, int b, int c)\\r\\n{\\r\\n    return round10(a)+round10(b)+round10(c);\\r\\n}\\r\\n\\r\\npublic int round10(int num)\\r\\n{\\r\\n    if(num%10>=5)\\r\\n    {\\r\\n        num=num+(10-num%10);\\r\\n    }\\r\\n    else\\r\\n    {\\r\\n        num=num-num%10;\\r\\n    }\\r\\n}\\r\\n'],\n",
       " ['public int makeChocolate(int small, int big, int goal)\\r\\n{\\r\\n    small = goal%big;\\r\\n    if (goal<5)\\r\\n    {\\r\\n        return -1;\\r\\n    }\\r\\n    else\\r\\n    {\\r\\n        return small;\\r\\n    }\\r\\n}\\r\\n',\n",
       "  'public int makeChocolate(int small, int big, int goal)\\r\\n{\\r\\n    while (big*5 > goal)\\r\\n    {\\r\\n        big--;\\r\\n    }\\r\\n    goal = goal - big*five;\\r\\n    int numRemaining = goal%(big*5);\\r\\n    if (numRemaining > small)\\r\\n    {\\r\\n        return -1;\\r\\n    }\\r\\n    else\\r\\n    {\\r\\n        return numRemaining;\\r\\n    }\\r\\n}\\r\\n',\n",
       "  'public int makeChocolate(int small, int big, int goal)\\r\\n{\\r\\n    int numSmall = goal%(big*5);\\r\\n    if (goal<5)\\r\\n    {\\r\\n        return -1;\\r\\n    }\\r\\n    else if (numSmall > small)\\r\\n    {\\r\\n        return -1;\\r\\n    }\\r\\n    else\\r\\n    {\\r\\n        return numSmall;\\r\\n    }\\r\\n}\\r\\n',\n",
       "  'public int makeChocolate(int small, int big, int goal)\\r\\n{\\r\\n    theoreticalSmall = goal%(big*5);\\r\\n    if (goal<5)\\r\\n    {\\r\\n        return -1;\\r\\n    }\\r\\n    else if (theoreticalSmall > small)\\r\\n    {\\r\\n        return -1;\\r\\n    }\\r\\n    else\\r\\n    {\\r\\n        return small;\\r\\n    }\\r\\n}\\r\\n',\n",
       "  'public int makeChocolate(int small, int big, int goal)\\r\\n{\\r\\n    while (big*5 > goal)\\r\\n    {\\r\\n        big--;\\r\\n    }\\r\\n    goal = goal - big*5;\\r\\n    int numRemaining = goal%(big*5);\\r\\n    if (numRemaining > small)\\r\\n    {\\r\\n        return -1;\\r\\n    }\\r\\n    else\\r\\n    {\\r\\n        return numRemaining;\\r\\n    }\\r\\n}\\r\\n',\n",
       "  'public int makeChocolate(int small, int big, int goal)\\r\\n{\\r\\n    while (big*5 > goal)\\r\\n    {\\r\\n        big--;\\r\\n    }\\r\\n    goal = goal - big*five\\r\\n    int numRemaining = goal%(big*5);\\r\\n    if (numRemaining > small)\\r\\n    {\\r\\n        return -1;\\r\\n    }\\r\\n    else\\r\\n    {\\r\\n        return numRemaining;\\r\\n    }\\r\\n}\\r\\n',\n",
       "  'public int makeChocolate(int small, int big, int goal)\\r\\n{\\r\\n    while (big*5>goal)\\r\\n    {\\r\\n        big--;\\r\\n    }\\r\\n    int numSmall = goal%big*5;\\r\\n    if (goal<5)\\r\\n    {\\r\\n        return -1;\\r\\n    }\\r\\n    else if (numSmall > small)\\r\\n    {\\r\\n        return -1;\\r\\n    }\\r\\n    else\\r\\n    {\\r\\n        return numSmall;\\r\\n    }\\r\\n}\\r\\n',\n",
       "  'public int makeChocolate(int small, int big, int goal)\\r\\n{\\r\\n    while (big*5 > goal)\\r\\n    {\\r\\n        big--;\\r\\n    }\\r\\n    int numRemaining = goal%(big*5);\\r\\n    if (numRemaining > small)\\r\\n    {\\r\\n        return -1;\\r\\n    }\\r\\n    else\\r\\n    {\\r\\n        return numRemaining;\\r\\n    }\\r\\n}\\r\\n',\n",
       "  'public int makeChocolate(int small, int big, int goal)\\r\\n{\\r\\n    small = goal%(big*5);\\r\\n    if (goal<5)\\r\\n    {\\r\\n        return -1;\\r\\n    }\\r\\n    else\\r\\n    {\\r\\n        return small;\\r\\n    }\\r\\n}\\r\\n',\n",
       "  'public int makeChocolate(int small, int big, int goal)\\r\\n{\\r\\n    int theoreticalSmall = goal%(big*5);\\r\\n    if (goal<5)\\r\\n    {\\r\\n        return -1;\\r\\n    }\\r\\n    else if (theoreticalSmall > small)\\r\\n    {\\r\\n        return -1;\\r\\n    }\\r\\n    else\\r\\n    {\\r\\n        return small;\\r\\n    }\\r\\n}\\r\\n',\n",
       "  'public int makeChocolate(int small, int big, int goal)\\r\\n{\\r\\n    while (big*5 > goal)\\r\\n    {\\r\\n        big--;\\r\\n    }\\r\\n    goal = goal - big*5;\\r\\n    if (goal > small)\\r\\n    {\\r\\n        return -1;\\r\\n    }\\r\\n    else\\r\\n    {\\r\\n        return goal;\\r\\n    }\\r\\n}\\r\\n',\n",
       "  'public int makeChocolate(int small, int big, int goal)\\r\\n{\\r\\n    int numSmall = goal-big*5);\\r\\n    if (goal<5)\\r\\n    {\\r\\n        return -1;\\r\\n    }\\r\\n    else if (numSmall > small)\\r\\n    {\\r\\n        return -1;\\r\\n    }\\r\\n    else\\r\\n    {\\r\\n        return numSmall;\\r\\n    }\\r\\n}\\r\\n',\n",
       "  'public int makeChocolate(int small, int big, int goal)\\r\\n{\\r\\n    int numSmall = goal-big*5;\\r\\n    if (goal<5)\\r\\n    {\\r\\n        return -1;\\r\\n    }\\r\\n    else if (numSmall > small)\\r\\n    {\\r\\n        return -1;\\r\\n    }\\r\\n    else\\r\\n    {\\r\\n        return numSmall;\\r\\n    }\\r\\n}\\r\\n'],\n",
       " ['public String without2(String str) \\r\\n{\\r\\n    int length = str.length();\\r\\n    if (str.substring(0, 1) == str.substring(length-2, length-1))//last two = firsttwo\\r\\n    {\\r\\n        String smaller = str.substring(2, length-1); //new string that has all but first two characters\\r\\n        return smaller;\\r\\n    }\\r\\n    else\\r\\n    {\\r\\n        return str;\\r\\n    }\\r\\n}\\r\\n',\n",
       "  'public String without2(String str) \\r\\n{\\r\\n    int length = length(str);\\r\\n    if (str.charAt(0) + str.charAt(1) = str.charAt(length - 1) + str.charAt(length - 2))//last two = firsttwo\\r\\n    {\\r\\n        return str; //new string that has all but first two characters\\r\\n    }\\r\\n    else\\r\\n    {\\r\\n        return str;\\r\\n    }\\r\\n}\\r\\n',\n",
       "  'public String without2(String str) \\r\\n{\\r\\n    int length = length(str);\\r\\n    if (str.charAt(0) + str.charAt(1) = str.charAt(length - 1) + str.charAt(length - 2))//last two = firsttwo\\r\\n    {\\r\\n        return () //new string that has all but first two characters\\r\\n    }\\r\\n    else\\r\\n    {\\r\\n        return str;\\r\\n    }\\r\\n}\\r\\n',\n",
       "  'public String without2(String str) \\r\\n{\\r\\n    int length = str.length();\\r\\n    if (length >= 2)\\r\\n    {\\r\\n    \\tif (str.substring(0, 1).equals(str.substring(length-2, length-1)))//last two = firsttwo\\r\\n   \\t    {\\r\\n        \\tif(length == 2 || length == 1)\\r\\n            {\\r\\n                return \"\";\\r\\n            }\\r\\n            else\\r\\n            {\\r\\n            \\tString smallerStr = str.substring(2, length-1);\\r\\n        \\t\\treturn smallerStr;\\r\\n            }\\r\\n    \\t}\\r\\n        else\\r\\n        {\\r\\n            return str;\\r\\n        }\\r\\n    }\\r\\n    else\\r\\n    {\\r\\n        return str;\\r\\n    }\\r\\n}\\r\\n',\n",
       "  'public String without2(String str) \\r\\n{\\r\\n    int length = str.length();\\r\\n    if (length < 2)\\r\\n    {\\r\\n    `\\tif (str.substring(0, 1) == str.substring(length-2, length-1))//last two = firsttwo\\r\\n   \\t    {\\r\\n        \\tString smaller = str.substring(2, length-1);\\r\\n        \\treturn smaller;\\r\\n    \\t}\\r\\n    }\\r\\n    else\\r\\n    {\\r\\n        return str;\\r\\n    }\\r\\n}\\r\\n',\n",
       "  'public String without2(String str) \\r\\n{\\r\\n    int length = str.length();\\r\\n    if (length >= 2)\\r\\n    {\\r\\n    \\tif (str.substring(0, 1).equals(str.substring(length-2, length-1)))//last two = firsttwo\\r\\n   \\t    {\\r\\n        \\tif(length = 2 || length = 1)\\r\\n            {\\r\\n                return \"\";\\r\\n            }\\r\\n            else\\r\\n            {\\r\\n            \\tString smallerStr = str.substring(2, length-1);\\r\\n        \\t\\treturn smallerStr;\\r\\n            }\\r\\n    \\t}\\r\\n        else\\r\\n        {\\r\\n            return str;\\r\\n        }\\r\\n    }\\r\\n    else\\r\\n    {\\r\\n        return str;\\r\\n    }\\r\\n}\\r\\n',\n",
       "  'public String without2(String str) \\r\\n{\\r\\n    int length = str.length();\\r\\n    if (length >= 2)\\r\\n    {\\r\\n    \\tif (str.substring(0, 2).equals(str.substring(length-2, length)))//last two = firsttwo\\r\\n   \\t    {\\r\\n        \\tif(length == 2 || length == 1)\\r\\n            {\\r\\n                return \"\";\\r\\n            }\\r\\n            else\\r\\n            {\\r\\n            \\tString smallerStr = str.substring(2, length);\\r\\n        \\t\\treturn smallerStr;\\r\\n            }\\r\\n    \\t}\\r\\n        else\\r\\n        {\\r\\n            return str;\\r\\n        }\\r\\n    }\\r\\n    else\\r\\n    {\\r\\n        return str;\\r\\n    }\\r\\n}\\r\\n',\n",
       "  'public String without2(String str) \\r\\n{\\r\\n    int length = str.length();\\r\\n    if (str.charAt(0) + str.charAt(1) = str.charAt(length - 1) + str.charAt(length - 2))//last two = firsttwo\\r\\n    {\\r\\n        String smaller = str.substring(2, length); //new string that has all but first two characters\\r\\n    }\\r\\n    else\\r\\n    {\\r\\n        return str;\\r\\n    }\\r\\n}\\r\\n',\n",
       "  'public String without2(String str) \\r\\n{\\r\\n    if ()//last two = firsttwo\\r\\n    {\\r\\n        return () //new string that has all but first two characters\\r\\n    }\\r\\n    else\\r\\n    {\\r\\n        return str;\\r\\n    }\\r\\n}\\r\\n',\n",
       "  'public String without2(String str) \\r\\n{\\r\\n    int length = str.length();\\r\\n    if (length >= 2)\\r\\n    {\\r\\n    \\tif (str.substring(0, 1) == str.substring(length-2, length-1))//last two = firsttwo\\r\\n   \\t    {\\r\\n        \\tString smaller = str.substring(2, length-1);\\r\\n        \\treturn smaller;\\r\\n    \\t}\\r\\n        else\\r\\n        {\\r\\n            return str;\\r\\n        }\\r\\n    }\\r\\n    else\\r\\n    {\\r\\n        return str;\\r\\n    }\\r\\n}\\r\\n',\n",
       "  'public String without2(String str) \\r\\n{\\r\\n    int length = str.length();\\r\\n    if (length < 2)\\r\\n    {\\r\\n    \\tif (str.substring(0, 1) == str.substring(length-2, length-1))//last two = firsttwo\\r\\n   \\t    {\\r\\n        \\tString smaller = str.substring(2, length-1);\\r\\n        \\treturn smaller;\\r\\n    \\t}\\r\\n    }\\r\\n    else\\r\\n    {\\r\\n        return str;\\r\\n    }\\r\\n}\\r\\n',\n",
       "  'public String without2(String str) \\r\\n{\\r\\n    int length = str.length();\\r\\n    if (length >= 2)\\r\\n    {\\r\\n    \\tif (str.substring(0, 1).equals(str.substring(length-2, length-1)))//last two = firsttwo\\r\\n   \\t    {\\r\\n        \\tString smallerStr = str.substring(2, length-1);\\r\\n        \\treturn smallerStr;\\r\\n    \\t}\\r\\n        else\\r\\n        {\\r\\n            return str;\\r\\n        }\\r\\n    }\\r\\n    else\\r\\n    {\\r\\n        return str;\\r\\n    }\\r\\n}\\r\\n',\n",
       "  'public String without2(String str) \\r\\n{\\r\\n    int length = str.length();\\r\\n    if (length >= 2)\\r\\n    {\\r\\n    \\tif (str.substring(0, 1).equals(str.substring(length-2, length-1)))//last two = firsttwo\\r\\n   \\t    {\\r\\n        \\tif(length == 2 || length == 1)\\r\\n            {\\r\\n                return \"\";\\r\\n            }\\r\\n            else\\r\\n            {\\r\\n            \\tString smallerStr = str.substring(2, length);\\r\\n        \\t\\treturn smallerStr;\\r\\n            }\\r\\n    \\t}\\r\\n        else\\r\\n        {\\r\\n            return str;\\r\\n        }\\r\\n    }\\r\\n    else\\r\\n    {\\r\\n        return str;\\r\\n    }\\r\\n}\\r\\n',\n",
       "  'public String without2(String str) \\r\\n{\\r\\n    int length = str.length();\\r\\n    if (str.substring(0, 1) == str.substring(length-2, length-1))//last two = firsttwo\\r\\n    {\\r\\n        String smaller = str.substring(2, length); //new string that has all but first two characters\\r\\n    }\\r\\n    else\\r\\n    {\\r\\n        return str;\\r\\n    }\\r\\n}\\r\\n',\n",
       "  'public String without2(String str) \\r\\n{\\r\\n    int length = str.length();\\r\\n    if (length > 2)\\r\\n    {\\r\\n    \\tif (str.substring(0, 1) == str.substring(length-2, length-1))//last two = firsttwo\\r\\n   \\t    {\\r\\n        \\tString smaller = str.substring(2, length-1);\\r\\n        \\treturn smaller;\\r\\n    \\t}\\r\\n        else\\r\\n        {\\r\\n            return str;\\r\\n        }\\r\\n    }\\r\\n    else\\r\\n    {\\r\\n        return str;\\r\\n    }\\r\\n}\\r\\n',\n",
       "  'public String without2(String str) \\r\\n{\\r\\n    int length = str.length();\\r\\n    if (str.substring(0, 1) == str.substring(length-2, length-1))//last two = firsttwo\\r\\n    {\\r\\n        String smaller = str.substring(2, length); //new string that has all but first two characters\\r\\n        return smaller;\\r\\n    }\\r\\n    else\\r\\n    {\\r\\n        return str;\\r\\n    }\\r\\n}\\r\\n',\n",
       "  'public String without2(String str) \\r\\n{\\r\\n    int length = length(str);\\r\\n    if (str.charAt(0) + str.charAt(1) = str.charAt(length - 1) + str.charAt(length - 2)//last two = firsttwo\\r\\n    {\\r\\n        return () //new string that has all but first two characters\\r\\n    }\\r\\n    else\\r\\n    {\\r\\n        return str;\\r\\n    }\\r\\n}\\r\\n',\n",
       "  'public String without2(String str) \\r\\n{\\r\\n    int length = str.length();\\r\\n    if (str.charAt(0) + str.charAt(1) = str.charAt(length - 1) + str.charAt(length - 2))//last two = firsttwo\\r\\n    {\\r\\n        return str; //new string that has all but first two characters\\r\\n    }\\r\\n    else\\r\\n    {\\r\\n        return str;\\r\\n    }\\r\\n}\\r\\n',\n",
       "  'public String without2(String str) \\r\\n{\\r\\n    int length = str.length();\\r\\n    if (length => 2)\\r\\n    {\\r\\n    \\tif (str.substring(0, 1) == str.substring(length-2, length-1))//last two = firsttwo\\r\\n   \\t    {\\r\\n        \\tString smaller = str.substring(2, length-1);\\r\\n        \\treturn smaller;\\r\\n    \\t}\\r\\n        else\\r\\n        {\\r\\n            return str;\\r\\n        }\\r\\n    }\\r\\n    else\\r\\n    {\\r\\n        return str;\\r\\n    }\\r\\n}\\r\\n',\n",
       "  'public String without2(String str) \\r\\n{\\r\\n    int length = str.length();\\r\\n    if (str.substring(0, 1) == str.substring(length-2, length-1))//last two = firsttwo\\r\\n    {\\r\\n        String smaller = str.substring(2, length-1) //new string that has all but first two characters\\r\\n        return smaller;\\r\\n    }\\r\\n    else\\r\\n    {\\r\\n        return str;\\r\\n    }\\r\\n}\\r\\n',\n",
       "  'public String without2(String str) \\r\\n{\\r\\n    int length = str.length();\\r\\n    if (length >= 2)\\r\\n    {\\r\\n    \\tif (str.substring(0, 1).equals(str.substring(length-2, length-1)))//last two = firsttwo\\r\\n   \\t    {\\r\\n        \\tString smallerStr = str.substring(2, length);\\r\\n        \\treturn smallerStr;\\r\\n    \\t}\\r\\n        else\\r\\n        {\\r\\n            return str;\\r\\n        }\\r\\n    }\\r\\n    else\\r\\n    {\\r\\n        return str;\\r\\n    }\\r\\n}\\r\\n',\n",
       "  'public String without2(String str) \\r\\n{\\r\\n    int length = str.length();\\r\\n    if (length >= 2)\\r\\n    {\\r\\n    \\tif (str.substring(0, 1).equals(str.substring(length-1, length)))//last two = firsttwo\\r\\n   \\t    {\\r\\n        \\tString smallerStr = str.substring(2, length);\\r\\n        \\treturn smallerStr;\\r\\n    \\t}\\r\\n        else\\r\\n        {\\r\\n            return str;\\r\\n        }\\r\\n    }\\r\\n    else\\r\\n    {\\r\\n        return str;\\r\\n    }\\r\\n}\\r\\n'],\n",
       " ['public String repeatEnd(String str, int n)\\r\\n{\\r\\n    String answer = \"\";\\r\\n    String sub = str.substring(str.length() - n - 1, str.length() - 1);\\r\\n    for (int i = 0; i < n; i++)\\r\\n    {\\r\\n        String answer = answer + sub;\\r\\n    }\\r\\n    return answer;\\r\\n}\\r\\n',\n",
       "  'public String repeatEnd(String str, int n)\\r\\n{\\r\\n    sub = str.substring(str.length() - n - 1, str.length() - 1);\\r\\n    for (int i = 0; i < n; i++)\\r\\n    {\\r\\n        String answer = answer + sub;\\r\\n    }\\r\\n    return answer;\\r\\n}\\r\\n',\n",
       "  'public String repeatEnd(String str, int n)\\r\\n{\\r\\n    String answer;\\r\\n    String sub = str.substring(str.length() - n - 1, str.length() - 1);\\r\\n    for (int i = 0; i < n; i++)\\r\\n    {\\r\\n        answer = answer + sub;\\r\\n    }\\r\\n    return answer;\\r\\n}\\r\\n',\n",
       "  'public String repeatEnd(String str, int n)\\r\\n{\\r\\n    String answer = \"\";\\r\\n    String sub = str.substring(str.length() - n, str.length() - 1);\\r\\n    for (int i = 0; i < n; i++)\\r\\n    {\\r\\n        answer = answer + sub;\\r\\n    }\\r\\n    return answer;\\r\\n}\\r\\n',\n",
       "  'public String repeatEnd(String str, int n)\\r\\n{\\r\\n    String answer;\\r\\n    String sub = str.substring(str.length() - n - 1, str.length() - 1);\\r\\n    for (int i = 0; i < n; i++)\\r\\n    {\\r\\n        String answer = answer + sub;\\r\\n    }\\r\\n    return answer;\\r\\n}\\r\\n',\n",
       "  'public String repeatEnd(String str, int n)\\r\\n{\\r\\n    String answer = \"\";\\r\\n    String sub = str.substring(str.length() - n - 1, str.length() - 1);\\r\\n    for (int i = 0; i < n; i++)\\r\\n    {\\r\\n        answer = answer + sub;\\r\\n    }\\r\\n    return answer;\\r\\n}\\r\\n',\n",
       "  'public String repeatEnd(String str, int n)\\r\\n{\\r\\n    String sub = str.substring(str.length() - n - 1, str.length() - 1);\\r\\n    for (int i = 0; i < n; i++)\\r\\n    {\\r\\n        String answer = answer + sub;\\r\\n    }\\r\\n    return answer;\\r\\n}\\r\\n',\n",
       "  'public String repeatEnd(String str, int n)\\r\\n{\\r\\n    String answer = \"\";\\r\\n    String sub = str.substring(str.length() - n, str.length());\\r\\n    for (int i = 0; i < n; i++)\\r\\n    {\\r\\n        answer = answer + sub;\\r\\n    }\\r\\n    return answer;\\r\\n}\\r\\n',\n",
       "  'public String repeatEnd(String str, int n)\\r\\n{\\r\\n    sub = str.substring(str.length() - n - 1, str.length() - 1)\\r\\n    for (int i = 0; i < n; i++)\\r\\n    {\\r\\n        String answer = answer + sub;\\r\\n    }\\r\\n    return answer;\\r\\n}\\r\\n',\n",
       "  'public String repeatEnd(String str, int n)\\r\\n{\\r\\n    String answer = \"\"\\r\\n    String sub = str.substring(str.length() - n - 1, str.length() - 1);\\r\\n    for (int i = 0; i < n; i++)\\r\\n    {\\r\\n        String answer = answer + sub;\\r\\n    }\\r\\n    return answer\\r\\n}\\r\\n',\n",
       "  'public String repeatEnd(String str, int n)\\r\\n{\\r\\n    String finalAnswer;\\r\\n    String sub = str.substring(str.length() - n - 1, str.length() - 1);\\r\\n    for (int i = 0; i < n; i++)\\r\\n    {\\r\\n        String answer = answer + sub;\\r\\n        finalAnswer = answer;\\r\\n    }\\r\\n    return finalAnswer;\\r\\n}\\r\\n'],\n",
       " ['public String plusOut(String str, String word)\\r\\n{\\r\\n    String sub = \"\";\\r\\n    String leftover = str;\\r\\n    String answer = \"\";\\r\\n    while (leftover.contains(word))\\r\\n    {\\r\\n    \\tsub = leftover.substring(0, leftover.indexOf(word));\\r\\n        leftover = leftover.substring(\\r\\n                leftover.indexOf(word) + word.length(), leftover.length());\\r\\n        for (int j = 0; j < sub.length(); j++)\\r\\n        {\\r\\n            answer = answer + \"+\";\\r\\n        }\\r\\n        answer = answer + word;\\r\\n    }\\r\\n    return answer;\\r\\n    \\r\\n}\\r\\n',\n",
       "  'public String plusOut(String str, String word)\\r\\n{\\r\\n    String sub = \"\";\\r\\n    String leftover = str;\\r\\n    String answer = \"\";\\r\\n    for (int i = 0; i < 5; i++)\\r\\n    {\\r\\n    \\tsub = leftover.substring(0, leftover.indexOf(word));\\r\\n        leftover = leftover.substring(\\r\\n                leftover.indexOf(word) + word.length(), leftover.length());\\r\\n        for (int i = 0; i < sub.length(); i++)\\r\\n        {\\r\\n            answer = answer + \"+\";\\r\\n        }\\r\\n        answer = answer + word;\\r\\n    }\\r\\n    \\r\\n}\\r\\n',\n",
       "  'public String plusOut(String str, String word)\\r\\n{\\r\\n    String sub = \"\";\\r\\n    String leftover = str;\\r\\n    String answer = \"\";\\r\\n    for (int i = 0; i < 5; i++)\\r\\n    {\\r\\n    \\tsub = leftover.substring(0, leftover.indexOf(word));\\r\\n        leftover = leftover.substring(\\r\\n                leftover.indexOf(word) + word.length(), leftover.length());\\r\\n        for (int j = 0; j < sub.length(); j++)\\r\\n        {\\r\\n            answer = answer + \"+\";\\r\\n        }\\r\\n        answer = answer + word;\\r\\n    }\\r\\n    return answer;\\r\\n    \\r\\n}\\r\\n',\n",
       "  'public String plusOut(String str, String word)\\r\\n{\\r\\n    String sub = \"\";\\r\\n    String leftover = str;\\r\\n    String answer = \"\";\\r\\n    while (leftover.contains(word))\\r\\n    {\\r\\n    \\tsub = leftover.substring(0, leftover.indexOf(word));\\r\\n        leftover = leftover.substring(\\r\\n                leftover.indexOf(word) + word.length(), leftover.length());\\r\\n        for (int j = 0; j < sub.length(); j++)\\r\\n        {\\r\\n            answer = answer + \"+\";\\r\\n        }\\r\\n        answer = answer + word;\\r\\n    }\\r\\n    for (int x = 0; x < leftover.length(); x++)\\r\\n    {\\r\\n        answer = answer + \"+\";\\r\\n    }\\r\\n    return answer;\\r\\n    \\r\\n}\\r\\n',\n",
       "  'public String plusOut(String str, String word)\\r\\n{\\r\\n    int last = 0;\\r\\n    String sub2 = \"\";\\r\\n    String answer = \"\";\\r\\n        \\r\\n    for (int i = 0; i < str.length(); i++)\\r\\n    {\\r\\n        if (str.charAt(i) = \\'w\\' && str.charAt(i + 1) = \\'o\\' &&     \\t\\t\\t\\t\\tstr.charAt( i + 2) = \\'r\\' && str.charAt(i + 3) = \\'d\\')\\r\\n        {\\r\\n            String sub = str.substring(last, i);\\r\\n            int num = sub.length();\\r\\n            for (int i = 0; i < num; i++)\\r\\n            {\\r\\n                sub2 = sub2 + \"+\";\\r\\n            }\\r\\n            answer = answer + sub2 + \"word\";\\r\\n        }\\r\\n    }\\r\\n    return answer;\\r\\n}\\r\\n',\n",
       "  'public String plusOut(String str, String word)\\r\\n{\\r\\n    int last = 0;\\r\\n    String sub2 = \"\";\\r\\n    String answer = \"\";\\r\\n        \\r\\n    for (int i = 0; i < str.length(); i++)\\r\\n    {\\r\\n        if (str.charAt(i) == \\'w\\' && str.charAt(i + 1) == \\'o\\' &&     \\t\\t\\tstr.charAt( i + 2) == \\'r\\' && str.charAt(i + 3) == \\'d\\')\\r\\n        {\\r\\n            String sub = str.substring(last, i);\\r\\n            for (int j = 0; j < sub.length(); j++)\\r\\n            {\\r\\n                sub2 = sub2 + \"+\";\\r\\n            }\\r\\n            answer = answer + sub2 + \"word\";\\r\\n        }\\r\\n    }\\r\\n    return answer;\\r\\n}\\r\\n',\n",
       "  'public String plusOut(String str, String word)\\r\\n{\\r\\n    int last = 0;\\r\\n    String sub2 = \"\";\\r\\n    String answer = \"\";\\r\\n        \\r\\n    for (int i = 0; i < str.length(); i++)\\r\\n    {\\r\\n        if (str.charAt(i) == \\'w\\' && str.charAt(i + 1) == \\'o\\' &&     \\t\\t\\t\\t\\tstr.charAt( i + 2) == \\'r\\' && str.charAt(i + 3) == \\'d\\')\\r\\n        {\\r\\n            String sub = str.substring(last, i);\\r\\n            int num = sub.length();\\r\\n            for (int i = 0; i < num; i++)\\r\\n            {\\r\\n                sub2 = sub2 + \"+\";\\r\\n            }\\r\\n            answer = answer + sub2 + \"word\";\\r\\n        }\\r\\n    }\\r\\n    return answer;\\r\\n}\\r\\n',\n",
       "  'public String plusOut(String str, String word)\\r\\n{\\r\\n    int last = 0;\\r\\n    String sub2 = \"\";\\r\\n    String answer = \"\";\\r\\n        \\r\\n    for (int i = 0; i < str.length(); i++)\\r\\n    {\\r\\n        if (str.charAt(i) == \\'w\\' && str.charAt(i + 1) == \\'o\\' &&     \\t\\t\\tstr.charAt( i + 2) == \\'r\\' && str.charAt(i + 3) == \\'d\\')\\r\\n        {\\r\\n            String sub = str.substring(last, i);\\r\\n            int num = sub.length();\\r\\n            for (int j = 0; j < num; j++)\\r\\n            {\\r\\n                sub2 = sub2 + \"+\";\\r\\n            }\\r\\n            answer = answer + sub2 + \"word\";\\r\\n        }\\r\\n    }\\r\\n    return answer;\\r\\n}\\r\\n'],\n",
       " ['public String mixString(String a, String b)\\r\\n{\\r\\n    String result = \"\";\\r\\n    String subA = \"\";\\r\\n    String subB = \"\";\\r\\n    for (int i = 0; i < a.length() && i < b.length())\\r\\n    {\\r\\n       result = result + a.charAt(i) + b.charAt(i)\\r\\n    }\\r\\n    if (a.length() > b.length())\\r\\n    {\\r\\n        subA = a.substring(b.length(), a.length());\\r\\n    }\\r\\n    else if (b.length() > a.length())\\r\\n    {\\r\\n        subB = b.substring(a.length(), b.length());\\r\\n    }\\r\\n    result = result + subA + subB;\\r\\n    return result;\\r\\n}\\r\\n',\n",
       "  'public String mixString(String a, String b)\\r\\n{\\r\\n    String result = \"\";\\r\\n    String subA = \"\";\\r\\n    String subB = \"\";\\r\\n    for (int i = 0; i < a.length() && i < b.length())\\r\\n    {\\r\\n       result = result + a.charAt(i) + b.charAt(i);\\r\\n    }\\r\\n    if (a.length() > b.length())\\r\\n    {\\r\\n        subA = a.substring(b.length(), a.length());\\r\\n    }\\r\\n    else if (b.length() > a.length())\\r\\n    {\\r\\n        subB = b.substring(a.length(), b.length());\\r\\n    }\\r\\n    result = result + subA + subB;\\r\\n    return result;\\r\\n}\\r\\n',\n",
       "  'public String mixString(String a, String b)\\r\\n{\\r\\n    String result = \"\";\\r\\n    String subA = \"\";\\r\\n    String subB = \"\";\\r\\n    for (int i = 0; i < a.length() && i < b.length(); i++)\\r\\n    {\\r\\n       result = result + a.charAt(i) + b.charAt(i);\\r\\n    }\\r\\n    if (a.length() > b.length())\\r\\n    {\\r\\n        subA = a.substring(b.length(), a.length());\\r\\n    }\\r\\n    else if (b.length() > a.length())\\r\\n    {\\r\\n        subB = b.substring(a.length(), b.length());\\r\\n    }\\r\\n    result = result + subA + subB;\\r\\n    return result;\\r\\n}\\r\\n'],\n",
       " ['public String zipZap(String str)\\r\\n{\\r\\n    str = str.toLowerCase();\\r\\n    String answer = \"\";\\r\\n    answer = answer + str.charAt(0);\\r\\n    for (int i = 1; i < str.length()-1; i++)\\r\\n    {\\r\\n        if (str.charAt(i-1) != \\'z\\' || str.charAt(i+1) != \\'p\\')\\r\\n        {\\r\\n            answer = answer + str.charAt(i);\\r\\n        }\\r\\n    }\\r\\n    answer = answer +str.charAt(str.length() - 1);\\r\\n    return answer;\\r\\n}\\r\\n',\n",
       "  'public String zipZap(String str)\\r\\n{\\r\\n    str = str.toLowerCase();\\r\\n    String answer = \"\";\\r\\n    answer = answer + str.charAt(0);\\r\\n    for (int i = 1; i < str.length()-1; i++)\\r\\n    {\\r\\n        if (str.charAt(i-1) != \\'z\\' || str.charAt(i+1) != \\'p\\')\\r\\n        {\\r\\n            answer = answer + str.charAt(i);\\r\\n        }\\r\\n    }\\r\\n    if (str.length() > 1)\\r\\n    {\\r\\n       answer = answer +str.charAt(str.length() - 1);\\r\\n    }\\r\\n    return answer;\\r\\n}\\r\\n',\n",
       "  'public String zipZap(String str)\\r\\n{\\r\\n    String answer = \"\";\\r\\n    for (int i = 1; i < str.length()-1; i++)\\r\\n    {\\r\\n        if (str.charAt(i-1) != \\'z\\' && str.charAt(i+1) != \\'p\\')\\r\\n        {\\r\\n            answer = answer + str.charAt(i);\\r\\n        }\\r\\n    }\\r\\n    return answer;\\r\\n}\\r\\n',\n",
       "  'public String zipZap(String str)\\r\\n{\\r\\n    String answer = \"\";\\r\\n    answer = answer + str.charAt(0);\\r\\n    for (int i = 1; i < str.length()-1; i++)\\r\\n    {\\r\\n        if (str.charAt(i-1) != \\'z\\' || str.charAt(i+1) != \\'p\\')\\r\\n        {\\r\\n            answer = answer + str.charAt(i);\\r\\n        }\\r\\n    }\\r\\n    answer = answer +str.charAt(str.length() - 1);\\r\\n    return answer;\\r\\n}\\r\\n',\n",
       "  'public String zipZap(String str)\\r\\n{\\r\\n    String answer = \"\";\\r\\n    answer = answer + str.charAt(0);\\r\\n    for (int i = 1; i < str.length()-1; i++)\\r\\n    {\\r\\n        if (str.charAt(i-1) != \\'z\\' || str.charAt(i+1) != \\'p\\')\\r\\n        {\\r\\n            answer = answer + str.charAt(i);\\r\\n        }\\r\\n    }\\r\\n    if (str.length() > 1)\\r\\n    {\\r\\n       answer = answer +str.charAt(str.length() - 1);\\r\\n    }\\r\\n    return answer;\\r\\n}\\r\\n',\n",
       "  'public String zipZap(String str)\\r\\n{\\r\\n    String answer = \"\";\\r\\n    for (int i = 0; i < str.length(); i++)\\r\\n    {\\r\\n        if (str.charAt(i-1) != \\'z\\' && str.charAt(i+1) != \\'p\\')\\r\\n        {\\r\\n            answer = answer + str.charAt(i);\\r\\n        }\\r\\n    }\\r\\n    return answer;\\r\\n}\\r\\n',\n",
       "  'public String zipZap(String str)\\r\\n{\\r\\n    String answer = \"\";\\r\\n    for (int i = 1; i < str.length()-1; i++)\\r\\n    {\\r\\n        if (str.charAt(i-1) != \\'z\\' || str.charAt(i+1) != \\'p\\')\\r\\n        {\\r\\n            answer = answer + str.charAt(i);\\r\\n        }\\r\\n    }\\r\\n    return answer;\\r\\n}\\r\\n',\n",
       "  'public String zipZap(String str)\\r\\n{\\r\\n    String answer = \"\";\\r\\n    if (str.length() > 0)\\r\\n    {\\r\\n    answer = answer + str.charAt(0);\\r\\n    for (int i = 1; i < str.length()-1; i++)\\r\\n    {\\r\\n        if (str.charAt(i-1) != \\'z\\' || str.charAt(i+1) != \\'p\\')\\r\\n        {\\r\\n            answer = answer + str.charAt(i);\\r\\n        }\\r\\n    }\\r\\n    if (str.length() > 1)\\r\\n    {\\r\\n       answer = answer +str.charAt(str.length() - 1);\\r\\n    }\\r\\n    }\\r\\n    return answer;\\r\\n        \\r\\n}\\r\\n',\n",
       "  'public String zipZap(String str)\\r\\n{\\r\\n    String answer = e\"\";\\r\\n    answer = answer + str.charAt(0);\\r\\n    for (int i = 1; i < str.length()-1; i++)\\r\\n    {\\r\\n        if (str.charAt(i-1) != \\'z\\' || str.charAt(i+1) != \\'p\\')\\r\\n        {\\r\\n            answer = answer + str.charAt(i);\\r\\n        }\\r\\n    }\\r\\n    answer = answer +str.charAt(str.length() - 1);\\r\\n    return answer;\\r\\n}\\r\\n',\n",
       "  \"public String zipZap(String str)\\r\\n{\\r\\n    String answer = str.charAt(0);\\r\\n    for (int i = 1; i < str.length()-1; i++)\\r\\n    {\\r\\n        if (str.charAt(i-1) != 'z' || str.charAt(i+1) != 'p')\\r\\n        {\\r\\n            answer = answer + str.charAt(i);\\r\\n        }\\r\\n    }\\r\\n    answer = answer +str.charAt(str.length() - 1);\\r\\n    return answer;\\r\\n}\\r\\n\",\n",
       "  'public String zipZap(String str)\\r\\n{\\r\\n    String answer = \"\";\\r\\n    for (int i = 1; i < str.length(); i++)\\r\\n    {\\r\\n        if (str.charAt(i-1) != \\'z\\' && str.charAt(i+1) != \\'p\\')\\r\\n        {\\r\\n            answer = answer + str.charAt(i);\\r\\n        }\\r\\n    }\\r\\n    return answer;\\r\\n}\\r\\n',\n",
       "  'public String zipZap(String str)\\r\\n{\\r\\n    String answer = \"\";\\r\\n    for (int i = 1; i < str.length()-1; i++)\\r\\n    {\\r\\n        if (!str.charAt(i-1) == \\'z\\' || !str.charAt(i+1) == \\'p\\')\\r\\n        {\\r\\n            answer = answer + str.charAt(i);\\r\\n        }\\r\\n    }\\r\\n    return answer;\\r\\n}\\r\\n'],\n",
       " [\"public int countCode(String str)\\r\\n{\\r\\n    int count = 0;\\r\\n    for (int i = 0; i < str.length()-3; i++)\\r\\n    {\\r\\n        if (str.charAt(i) == 'c' && str.charAt(\\r\\n            i+1) == 'o' && str.charAt(i + 3) == 'e')\\r\\n        {\\r\\n            count = count + 1;\\r\\n        }\\r\\n    }\\r\\n    return count;\\r\\n}\\r\\n\",\n",
       "  \"public int countCode(String str)\\r\\n{\\r\\n    for (int i = 0; i < str.length()-3; i++)\\r\\n    {\\r\\n        if (str.charAt(i) == 'c' && str.charAt(\\r\\n            i+1) == 'o' && str.charAt(i + 3) == 'b')\\r\\n        {\\r\\n            return true;\\r\\n        }\\r\\n    }\\r\\n    return false;\\r\\n}\\r\\n\",\n",
       "  \"public int countCode(String str)\\r\\n{\\r\\n    int count = 0;\\r\\n    for (int i = 0; i < str.length()-3; i++)\\r\\n    {\\r\\n        if (str.charAt(i) == 'c' && str.charAt(\\r\\n            i+1) == 'o' && str.charAt(i + 3) == 'b')\\r\\n        {\\r\\n            count = count + 1;\\r\\n        }\\r\\n    }\\r\\n    return count;\\r\\n}\\r\\n\"],\n",
       " ['public boolean endOther(String a, String b)\\r\\n{\\r\\n   \\tString aFixed = a.toLowerCase();\\r\\n    String bFixed = b.toLowerCase();\\r\\n    if (bFixed.endsWith(aFixed))\\r\\n    {\\r\\n        return true;\\r\\n    }\\r\\n    else if (aFixed.endsWith(bFixed))\\r\\n    {\\r\\n        return true;\\r\\n    }\\r\\n    else\\r\\n    {\\r\\n        return false;\\r\\n    }\\r\\n}\\r\\n',\n",
       "  'public boolean endOther(String a, String b)\\r\\n{\\r\\n   \\taFixed = a.toLowerCase();\\r\\n    bFixed = b.toLowerCase();\\r\\n    if (bFixed.endsWith(aFixed))\\r\\n    {\\r\\n        return true;\\r\\n    }\\r\\n    else if (aFixed.endsWith(bFixed))\\r\\n    {\\r\\n        return true;\\r\\n    }\\r\\n    else\\r\\n    {\\r\\n        return false;\\r\\n    }\\r\\n}\\r\\n'],\n",
       " ['public boolean xyzThere(String str)\\r\\n{\\r\\n    if (str.contains(\"xyz\"))\\r\\n    {\\r\\n        String sub = str.substring(0, str.indexOf(\"xyz\"));\\r\\n        if (!sub.endsWith(\".\"))\\r\\n        {\\r\\n            return true;\\r\\n        }\\r\\n        else\\r\\n        {\\r\\n            String sub2 = str.substring(\\r\\n                str.indexOf(\"xyz\",str.indexOf(\"xyz\") + 1),str.length()-1);\\r\\n            if (sub2 != sub && !sub2.endsWith(\".\"))\\r\\n            {\\r\\n\\t\\t\\t\\treturn true;\\r\\n            }\\r\\n            else\\r\\n            {\\r\\n                return false;\\r\\n            }\\r\\n        }\\r\\n    }\\r\\n    else\\r\\n    {\\r\\n        return false;\\r\\n    }\\r\\n}\\r\\n',\n",
       "  'public boolean xyzThere(String str)\\r\\n{\\r\\n    if (str.contains(\"xyz\"))\\r\\n    {\\r\\n        String sub = str.substring(0, str.indexOf(\"xyz\"));\\r\\n        if (!sub.endsWith(\".\"))\\r\\n        {\\r\\n            return true;\\r\\n        }\\r\\n        else\\r\\n        {\\r\\n            String sub2 = str.substring(\\r\\n                str.indexOf(\"xyz\",str.indexOf(\"xyz\") + 1),str.length());\\r\\n      \\t    if (!sub2.endsWith(\".\"))\\r\\n            {\\r\\n                return true;\\r\\n            }\\r\\n            return false;\\r\\n        }\\r\\n    }\\r\\n    else\\r\\n    {\\r\\n        return false;\\r\\n    }\\r\\n}\\r\\n',\n",
       "  'public boolean xyzThere(String str)\\r\\n{\\r\\n    if (str.contains(\"xyz\"))\\r\\n    {\\r\\n        String sub = str.substring(0, str.indexOf(\"xyz\"));\\r\\n        if (!sub.endsWith(\".\"))\\r\\n        {\\r\\n            return true;\\r\\n        }\\r\\n        else\\r\\n        {\\r\\n            String sub2 = str.substring(\\r\\n                str.indexOf(\"xyz\",str.indexOf(\"xyz\") + 1),str.length()-1);\\r\\n            if (sub2 != sub1)\\r\\n            {\\r\\n            \\r\\n      \\t    if (!sub2.endsWith(\".\"))\\r\\n            {\\r\\n                return true;\\r\\n            }\\r\\n            return false;\\r\\n                \\r\\n            }\\r\\n        }\\r\\n    }\\r\\n    else\\r\\n    {\\r\\n        return false;\\r\\n    }\\r\\n}\\r\\n',\n",
       "  'public boolean xyzThere(String str)\\r\\n{\\r\\n    if (str.contains(\"xyz\"))\\r\\n    {\\r\\n        String sub = str.substring(0, str.indexOf(\"xyz\"));\\r\\n        if (!sub.endsWith(\".\"))\\r\\n        {\\r\\n            return true;\\r\\n        }\\r\\n        else\\r\\n        {\\r\\n            String sub2 = str.substring(\\r\\n                str.indexOf(\"xyz\",str.indexOf(\"xyz\") + 1),str.length()-1))\\r\\n      \\t    if (!sub.endsWith(\".\"))\\r\\n            {\\r\\n                return true;\\r\\n            }\\r\\n            return false;\\r\\n        }\\r\\n    }\\r\\n    else\\r\\n    {\\r\\n        return false;\\r\\n    }\\r\\n}\\r\\n',\n",
       "  'public boolean xyzThere(String str)\\r\\n{\\r\\n    if (str.contains(\"xyz\"))\\r\\n    {\\r\\n        String sub = str.substring(0, str.indexOf(\"xyz\"));\\r\\n        if (!sub.endsWith(\".\"))\\r\\n        {\\r\\n            return true;\\r\\n        }\\r\\n        else\\r\\n        {\\r\\n            String sub2 = str.substring(\\r\\n                str.indexOf(\"xyz\",str.indexOf(\"xyz\") + 1),str.length()-1));\\r\\n      \\t    if (!sub.endsWith(\".\"))\\r\\n            {\\r\\n                return true;\\r\\n            }\\r\\n            return false;\\r\\n        }\\r\\n    }\\r\\n    else\\r\\n    {\\r\\n        return false;\\r\\n    }\\r\\n}\\r\\n',\n",
       "  'public boolean xyzThere(String str)\\r\\n{\\r\\n    if (str.contains(\"xyz\"))\\r\\n    {\\r\\n        String sub = str.substring(0, str.indexOf(\"xyz\"));\\r\\n        if (!sub.endsWith(\".\"))\\r\\n        {\\r\\n            return true;\\r\\n        }\\r\\n        else\\r\\n        {\\r\\n            String sub2 = str.substring(\\r\\n                str.indexOf(\"xyz\",str.indexOf(\"xyz\") + 1),str.length()-1));;\\r\\n      \\t    if (!sub.endsWith(\".\"))\\r\\n            {\\r\\n                return true;\\r\\n            }\\r\\n            return false;\\r\\n        }\\r\\n    }\\r\\n    else\\r\\n    {\\r\\n        return false;\\r\\n    }\\r\\n}\\r\\n',\n",
       "  'public boolean xyzThere(String str)\\r\\n{\\r\\n    if (str.contains(\"xyz\"))\\r\\n    {\\r\\n        String sub = str.substring(0, str.indexOf(\"xyz\"));\\r\\n        if (!sub.endsWith(\\'.\\'))\\r\\n        {\\r\\n            return true;\\r\\n        }\\r\\n        else\\r\\n        {\\r\\n            return false;\\r\\n        }\\r\\n    }\\r\\n    else\\r\\n    {\\r\\n        return false;\\r\\n    }\\r\\n}\\r\\n',\n",
       "  'public boolean xyzThere(String str)\\r\\n{\\r\\n    if (str.contains(\"xyz\"))\\r\\n    {\\r\\n        String sub = str.substring(0, str.indexOf(\"xyz\"));\\r\\n        if (!sub.endsWith(\".\"))\\r\\n        {\\r\\n            return true;\\r\\n        }\\r\\n        else\\r\\n        {\\r\\n            String sub2 = str.substring(\\r\\n                str.indexOf(\"xyz\",str.indexOf(\"xyz\") + 1),str.length()-1);\\r\\n      \\t    if (!sub2.endsWith(\".\"))\\r\\n            {\\r\\n                return true;\\r\\n            }\\r\\n            return false;\\r\\n        }\\r\\n    }\\r\\n    else\\r\\n    {\\r\\n        return false;\\r\\n    }\\r\\n}\\r\\n',\n",
       "  'public boolean xyzThere(String str)\\r\\n{\\r\\n    if (str.contains(\"xyz\"))\\r\\n    {\\r\\n        String sub = str.substring(0, str.indexOf(\"xyz\"));\\r\\n        if (!sub.endsWith(\".\"))\\r\\n        {\\r\\n            return true;\\r\\n        }\\r\\n        else\\r\\n        {\\r\\n            String sub2 = str.substring(\\r\\n                str.indexOf(\"xyz\",str.indexOf(\"xyz\") + 1),str.length());\\r\\n      \\t    if (!sub.endsWith(\".\"))\\r\\n            {\\r\\n                return true;\\r\\n            }\\r\\n            return false;\\r\\n        }\\r\\n    }\\r\\n    else\\r\\n    {\\r\\n        return false;\\r\\n    }\\r\\n}\\r\\n',\n",
       "  'public boolean xyzThere(String str)\\r\\n{\\r\\n    if (str.contains(\"xyz\")\\r\\n    {\\r\\n        String sub = str.substring(0, str.indexOf(\"xyz\"))\\r\\n        if (!sub.endsWith(\\'.\\')\\r\\n        {\\r\\n            return true;\\r\\n        }\\r\\n        else\\r\\n        {\\r\\n            return false;\\r\\n        }\\r\\n    }\\r\\n    else\\r\\n    {\\r\\n        return false;\\r\\n    }\\r\\n}\\r\\n',\n",
       "  'public boolean xyzThere(String str)\\r\\n{\\r\\n    if (str.contains(\"xyz\"))\\r\\n    {\\r\\n        String sub = str.substring(0, str.indexOf(\"xyz\"));\\r\\n        if (!sub.endsWith(\".\"))\\r\\n        {\\r\\n            return true;\\r\\n        }\\r\\n        else\\r\\n        {\\r\\n            String sub2 = str.substring(\\r\\n                str.indexOf(\"xyz\",str.indexOf(\"xyz\") + 1),str.length()));;\\r\\n      \\t    if (!sub.endsWith(\".\"))\\r\\n            {\\r\\n                return true;\\r\\n            }\\r\\n            return false;\\r\\n        }\\r\\n    }\\r\\n    else\\r\\n    {\\r\\n        return false;\\r\\n    }\\r\\n}\\r\\n',\n",
       "  'public boolean xyzThere(String str)\\r\\n{\\r\\n    if (str.contains(\"xyz\"))\\r\\n    {\\r\\n        String sub = str.substring(0, str.indexOf(\"xyz\"));\\r\\n        if (!sub.endsWith(\".\"))\\r\\n        {\\r\\n            return true;\\r\\n        }\\r\\n        else\\r\\n        {\\r\\n            String sub2 = str.substring(\\r\\n                str.indexOf(\"xyz\",str.indexOf(\"xyz\") + 1),str.length()-1);\\r\\n            if (sub2 != sub)\\r\\n            {\\r\\n            \\r\\n      \\t    if (!sub2.endsWith(\".\"))\\r\\n            {\\r\\n                return true;\\r\\n            }\\r\\n            return false;\\r\\n                \\r\\n            }\\r\\n        }\\r\\n    }\\r\\n    else\\r\\n    {\\r\\n        return false;\\r\\n    }\\r\\n}\\r\\n',\n",
       "  'public boolean xyzThere(String str)\\r\\n{\\r\\n    if (str.contains(\"xyz\"))\\r\\n    {\\r\\n        String sub = str.substring(0, str.indexOf(\"xyz\"));\\r\\n        if (!sub.endsWith(\".\"))\\r\\n        {\\r\\n            return true;\\r\\n        }\\r\\n        else\\r\\n        {\\r\\n            String sub2 = str.substring(\\r\\n                str.lastIndexOf(\"xyz\")-1,str.length()-1);\\r\\n            if (sub2 != sub && !sub2.endsWith(\".\"))\\r\\n            {\\r\\n\\t\\t\\t\\treturn true;\\r\\n            }\\r\\n            else\\r\\n            {\\r\\n                return false;\\r\\n            }\\r\\n        }\\r\\n    }\\r\\n    else\\r\\n    {\\r\\n        return false;\\r\\n    }\\r\\n}\\r\\n',\n",
       "  'public boolean xyzThere(String str)\\r\\n{\\r\\n    if (str.contains(\"xyz\"))\\r\\n    {\\r\\n        String sub = str.substring(0, str.indexOf(\"xyz\"));\\r\\n        if (!sub.endsWith(\".\"))\\r\\n        {\\r\\n            return true;\\r\\n        }\\r\\n        else\\r\\n        {\\r\\n            String sub2 = str.substring(\\r\\n                str.indexOf(\"xyz\",str.indexOf(\"xyz\") + 1),str.length()-1);\\r\\n      \\t    if (!sub.endsWith(\".\"))\\r\\n            {\\r\\n                return true;\\r\\n            }\\r\\n            return false;\\r\\n        }\\r\\n    }\\r\\n    else\\r\\n    {\\r\\n        return false;\\r\\n    }\\r\\n}\\r\\n',\n",
       "  'public boolean xyzThere(String str)\\r\\n{\\r\\n    if (str.contains(\"xyz\"))\\r\\n    {\\r\\n        String sub = str.substring(0, str.indexOf(\"xyz\"));\\r\\n        if (!sub.endsWith(\".\"))\\r\\n        {\\r\\n            return true;\\r\\n        }\\r\\n        else\\r\\n        {\\r\\n            return false;\\r\\n        }\\r\\n    }\\r\\n    else\\r\\n    {\\r\\n        return false;\\r\\n    }\\r\\n}\\r\\n',\n",
       "  'public boolean xyzThere(String str)\\r\\n{\\r\\n    if (str.contains(\"xyz\"))\\r\\n    {\\r\\n        String sub = str.substring(0, str.indexOf(\"xyz\"));\\r\\n        if (!sub.endsWith(\".\"))\\r\\n        {\\r\\n            return true;\\r\\n        }\\r\\n        else\\r\\n        {\\r\\n            String sub2 = str.substring(\\r\\n                str.indexOf(\"xyz\",str.indexOf(\"xyz\") + 1),str.length()));\\r\\n      \\t    if (!sub.endsWith(\".\"))\\r\\n            {\\r\\n                return true;\\r\\n            }\\r\\n            return false;\\r\\n        }\\r\\n    }\\r\\n    else\\r\\n    {\\r\\n        return false;\\r\\n    }\\r\\n}\\r\\n',\n",
       "  'public boolean xyzThere(String str)\\r\\n{\\r\\n    if (str.contains(\"xyz\"))\\r\\n    {\\r\\n        String sub = str.substring(0, str.indexOf(\"xyz\"));\\r\\n        if (!sub.endsWith(\".\"))\\r\\n        {\\r\\n            return true;\\r\\n        }\\r\\n        else\\r\\n        {\\r\\n            String sub2 = str.substring(\\r\\n                str.indexOf(\"xyz\",str.indexOf(\"xyz\") + 1),str.length()-1);\\r\\n            if (sub2 != sub && !sub2.endsWith(\".\")\\r\\n            {\\r\\n\\t\\t\\t\\treturn true;\\r\\n             else\\r\\n             {\\r\\n                 return false;\\r\\n             }\\r\\n            }\\r\\n        }\\r\\n    }\\r\\n    else\\r\\n    {\\r\\n        return false;\\r\\n    }\\r\\n}\\r\\n',\n",
       "  'public boolean xyzThere(String str)\\r\\n{\\r\\n    if (str.contains(\"xyz\"))\\r\\n    {\\r\\n        String sub = str.substring(0, str.indexOf(\"xyz\"));\\r\\n        if (!sub.endsWith(\".\"))\\r\\n        {\\r\\n            return true;\\r\\n        }\\r\\n        else\\r\\n        {\\r\\n            String sub2 = str.substring(0,\\r\\n                str.lastIndexOf(\"xyz\")-1);\\r\\n            if (sub2 != sub && !sub2.endsWith(\".\"))\\r\\n            {\\r\\n\\t\\t\\t\\treturn true;\\r\\n            }\\r\\n            else\\r\\n            {\\r\\n                return false;\\r\\n            }\\r\\n        }\\r\\n    }\\r\\n    else\\r\\n    {\\r\\n        return false;\\r\\n    }\\r\\n}\\r\\n',\n",
       "  'public boolean xyzThere(String str)\\r\\n{\\r\\n    if (str.contains(\"xyz\"))\\r\\n    {\\r\\n        String sub = str.substring(0, str.indexOf(\"xyz\"));\\r\\n        if (!sub.endsWith(\".\"))\\r\\n        {\\r\\n            return true;\\r\\n        }\\r\\n        else\\r\\n        {\\r\\n            String sub2 = str.substring(\\r\\n                str.indexOf(\"xyz\",str.indexOf(\"xyz\")),str.length()-1));\\r\\n      \\t    if (!sub.endsWith(\".\"))\\r\\n            {\\r\\n                return true;\\r\\n            }\\r\\n            return false;\\r\\n        }\\r\\n    }\\r\\n    else\\r\\n    {\\r\\n        return false;\\r\\n    }\\r\\n}\\r\\n',\n",
       "  'public boolean xyzThere(String str)\\r\\n{\\r\\n    if (str.contains(\"xyz\"))\\r\\n    {\\r\\n        String sub = str.substring(0, str.indexOf(\"xyz\"));\\r\\n        if (!sub.endsWith(\".\"))\\r\\n        {\\r\\n            return true;\\r\\n        }\\r\\n        else\\r\\n        {\\r\\n            String sub2 = str.substring(0,\\r\\n                str.lastIndexOf(\"xyz\"));\\r\\n            if (sub2 != sub && !sub2.endsWith(\".\"))\\r\\n            {\\r\\n\\t\\t\\t\\treturn true;\\r\\n            }\\r\\n            else\\r\\n            {\\r\\n                return false;\\r\\n            }\\r\\n        }\\r\\n    }\\r\\n    else\\r\\n    {\\r\\n        return false;\\r\\n    }\\r\\n}\\r\\n'],\n",
       " ['public boolean xyBalance(String str)\\r\\n{\\r\\n    int xindex = str.lastIndexOf(\"x\");\\r\\n    int yindex = str.lastIndexOf(\"y\");\\r\\n    if (xindex > yindex)\\r\\n    {\\r\\n        return false;\\r\\n    }\\r\\n    else\\r\\n    {\\r\\n        return true;\\r\\n    }\\r\\n}\\r\\n',\n",
       "  'public boolean xyBalance(String str)\\r\\n{\\r\\n    xindex = str.lastIndexOf(\"x\");\\r\\n    yindex = str.lastIndexOf(\"y\");\\r\\n    if (xindex > yindex)\\r\\n    {\\r\\n        return false;\\r\\n    }\\r\\n    else\\r\\n    {\\r\\n        return true;\\r\\n    }\\r\\n}\\r\\n'],\n",
       " ['public String getSandwich(String str)\\r\\n{\\r\\n    String bread2 = indexOf(\"bread\");\\r\\n    if (bread == -1)\\r\\n    {\\r\\n        return \"\";\\r\\n    } \\r\\n    String bread1 = str.indexOf(\"bread\", bread2 + 1);\\r\\n    if (bread1 == -1)\\r\\n    {\\r\\n        return \"\";\\r\\n    }\\r\\n    else\\r\\n    {\\r\\n        return str.replace(\"bread\", \"\");\\r\\n    }\\r\\n}\\r\\n',\n",
       "  'public String getSandwich(String str)\\r\\n{\\r\\n    String bread = \"bread\";\\r\\n    int bread1 = str.indexOf(bread);\\r\\n    if (bread1 == -1)\\r\\n    {\\r\\n        return \"\";\\r\\n    } \\r\\n    int bread2 = str.lastIndexOf(bread, bread1 + 1);\\r\\n    if (bread2 == -1)\\r\\n    {\\r\\n        return \"\";\\r\\n    }\\r\\n    else\\r\\n    {\\r\\n        return str.substring(bread1 +5, bread2);\\r\\n    }\\r\\n}\\r\\n',\n",
       "  'public String getSandwich(String str)\\r\\n{\\r\\n    String bread = \"bread\";\\r\\n    int bread1 = str.indexOf(bread);\\r\\n    if (bread1 == -1)\\r\\n    {\\r\\n        return \"\";\\r\\n    } \\r\\n    int bread2 = str.lastIndexOf(bread);\\r\\n    if (bread2 == -1)\\r\\n    {\\r\\n        return \"\";\\r\\n    }\\r\\n    else\\r\\n    {\\r\\n        return str.substring(bread1 +5, bread2);\\r\\n    }\\r\\n}\\r\\n',\n",
       "  'public String getSandwich(String str)\\r\\n{\\r\\n    String bread = \"bread\";\\r\\n    String bread2 = str.indexOf(bread);\\r\\n    if (bread == -1)\\r\\n    {\\r\\n        return \"\";\\r\\n    } \\r\\n    String bread1 = str.indexOf(bread, bread2 + 1);\\r\\n    if (bread1 == -1)\\r\\n    {\\r\\n        return \"\";\\r\\n    }\\r\\n    else\\r\\n    {\\r\\n        return str.replace(\"bread\", \"\");\\r\\n    }\\r\\n}\\r\\n',\n",
       "  'public String getSandwich(String str)\\r\\n{\\r\\n    String bread = \"bread\";\\r\\n    int bread1 = str.indexOf(bread);\\r\\n    if (bread1 == -1)\\r\\n    {\\r\\n        return \"\";\\r\\n    } \\r\\n    int bread2 = str.lastIndexOf(bread);\\r\\n    if (bread2 == bread1)\\r\\n    {\\r\\n        return \"\";\\r\\n    }\\r\\n    else\\r\\n    {\\r\\n        return str.substring(bread1 +5, bread2);\\r\\n    }\\r\\n}\\r\\n',\n",
       "  'public String getSandwich(String str)\\r\\n{\\r\\n    String bread = \"bread\";\\r\\n    int bread2 = str.indexOf(bread);\\r\\n    if (bread == -1)\\r\\n    {\\r\\n        return \"\";\\r\\n    } \\r\\n    String bread1 = str.indexOf(bread, bread2 + 1);\\r\\n    if (bread1 == -1)\\r\\n    {\\r\\n        return \"\";\\r\\n    }\\r\\n    else\\r\\n    {\\r\\n        return str.replace(\"bread\", \"\");\\r\\n    }\\r\\n}\\r\\n',\n",
       "  'public String getSandwich(String str)\\r\\n{\\r\\n    String bread = \"bread\";\\r\\n    int bread1 = str.indexOf(bread);\\r\\n    if (bread1 == -1)\\r\\n    {\\r\\n        return \"\";\\r\\n    } \\r\\n    int bread2 = str.indexOf(bread, bread1 + 1);\\r\\n    if (bread2 == -1)\\r\\n    {\\r\\n        return \"\";\\r\\n    }\\r\\n    else\\r\\n    {\\r\\n        return str.substring(bread1 +5, bread2 -1);\\r\\n    }\\r\\n}\\r\\n',\n",
       "  'public String getSandwich(String str)\\r\\n{\\r\\n    String bread = \"bread\";\\r\\n    int bread1 = str.indexOf(bread);\\r\\n    if (bread1 == -1)\\r\\n    {\\r\\n        return \"\";\\r\\n    } \\r\\n    int bread2 = str.indexOf(bread, bread1 + 1);\\r\\n    if (bread2 == -1)\\r\\n    {\\r\\n        return \"\";\\r\\n    }\\r\\n    else\\r\\n    {\\r\\n        return str.substring(bread1 +5, bread2);\\r\\n    }\\r\\n}\\r\\n',\n",
       "  'public String getSandwich(String str)\\r\\n{\\r\\n    String bread = \"bread\";\\r\\n    int bread1 = str.indexOf(bread);\\r\\n    if (bread1 == -1)\\r\\n    {\\r\\n        return \"\";\\r\\n    } \\r\\n    int bread2 = str.lastIndexOf(bread);\\r\\n    if (bread2 = bread1)\\r\\n    {\\r\\n        return \"\";\\r\\n    }\\r\\n    else\\r\\n    {\\r\\n        return str.substring(bread1 +5, bread2);\\r\\n    }\\r\\n}\\r\\n',\n",
       "  'public String getSandwich(String str)\\r\\n{\\r\\n    String bread = \"bread\";\\r\\n    String bread2 = indexOf(String bread);\\r\\n    if (bread == -1)\\r\\n    {\\r\\n        return \"\";\\r\\n    } \\r\\n    String bread1 = str.indexOf(String bread, bread2 + 1);\\r\\n    if (bread1 == -1)\\r\\n    {\\r\\n        return \"\";\\r\\n    }\\r\\n    else\\r\\n    {\\r\\n        return str.replace(\"bread\", \"\");\\r\\n    }\\r\\n}\\r\\n',\n",
       "  'public String getSandwich(String str)\\r\\n{\\r\\n    String bread = \"bread\";\\r\\n    int bread2 = str.indexOf(bread);\\r\\n    if (bread2 == -1)\\r\\n    {\\r\\n        return \"\";\\r\\n    } \\r\\n    String bread1 = str.indexOf(bread, bread2 + 1);\\r\\n    if (bread1 == -1)\\r\\n    {\\r\\n        return \"\";\\r\\n    }\\r\\n    else\\r\\n    {\\r\\n        return str.replace(\"bread\", \"\");\\r\\n    }\\r\\n}\\r\\n',\n",
       "  'public String getSandwich(String str)\\r\\n{\\r\\n    String bread = \"bread\";\\r\\n    String bread2 = indexOf(bread);\\r\\n    if (bread == -1)\\r\\n    {\\r\\n        return \"\";\\r\\n    } \\r\\n    String bread1 = str.indexOf(bread, bread2 + 1);\\r\\n    if (bread1 == -1)\\r\\n    {\\r\\n        return \"\";\\r\\n    }\\r\\n    else\\r\\n    {\\r\\n        return str.replace(\"bread\", \"\");\\r\\n    }\\r\\n}\\r\\n',\n",
       "  'public String getSandwich(String str)\\r\\n{\\r\\n    String bread = \"bread\";\\r\\n    int bread2 = str.indexOf(bread);\\r\\n    if (bread2 == -1)\\r\\n    {\\r\\n        return \"\";\\r\\n    } \\r\\n    int bread1 = str.indexOf(bread, bread2 + 1);\\r\\n    if (bread1 == -1)\\r\\n    {\\r\\n        return \"\";\\r\\n    }\\r\\n    else\\r\\n    {\\r\\n        return str.replace(\"bread\", \"\");\\r\\n    }\\r\\n}\\r\\n'],\n",
       " [\"public boolean bobThere(String str)\\r\\n{\\r\\n    for (int i = 0; i < str.length(); i++)\\r\\n    {\\r\\n        if (str.charAt(i) == 'b' && str.charAt(i + 2) == 'b')\\r\\n        {\\r\\n            return true;\\r\\n        }\\r\\n    }\\r\\n    return false;\\r\\n}\\r\\n\",\n",
       "  \"public boolean bobThere(String str)\\r\\n{\\r\\n    for (int i = 0; i < str.length()-2; i++)\\r\\n    {\\r\\n        if (str.charAt(i) == 'b' && str.charAt(i + 2) == 'b')\\r\\n        {\\r\\n            return true;\\r\\n        }\\r\\n    }\\r\\n    return false;\\r\\n}\\r\\n\"]]"
      ]
     },
     "execution_count": 59,
     "metadata": {},
     "output_type": "execute_result"
    }
   ],
   "source": [
    "work[(work.CM == 'FP') & (work.problem_id == 67)].prev_code.iloc[0]"
   ]
  },
  {
   "cell_type": "code",
   "execution_count": 28,
   "metadata": {},
   "outputs": [
    {
     "data": {
      "text/plain": [
       "Index(['student_id', 'assignment_id', 'problem_id', 'start_time', 'score',\n",
       "       'max_score', 'question', 'prev_question', 'prev_code', 'prev_score',\n",
       "       'prev_submission_score', 'prev_start_time', 'prev_label', 'Label',\n",
       "       'Below75', 'CorrectEventually', 'IfElse', 'Loops', 'MathOperations',\n",
       "       'LogicOperators', 'StringOperations', 'List', 'FileOperations',\n",
       "       'Functions', 'Dictionary', 'Tuple', 'comprehension', 'alg_design',\n",
       "       'decomposition', 'CM'],\n",
       "      dtype='object')"
      ]
     },
     "execution_count": 28,
     "metadata": {},
     "output_type": "execute_result"
    }
   ],
   "source": [
    "work.columns"
   ]
  },
  {
   "cell_type": "code",
   "execution_count": 33,
   "metadata": {},
   "outputs": [
    {
     "data": {
      "text/plain": [
       "CorrectEventually\n",
       "True    80\n",
       "Name: count, dtype: int64"
      ]
     },
     "execution_count": 33,
     "metadata": {},
     "output_type": "execute_result"
    }
   ],
   "source": [
    "work[work.problem_id == 57].CorrectEventually.value_counts()"
   ]
  },
  {
   "cell_type": "code",
   "execution_count": 42,
   "metadata": {},
   "outputs": [
    {
     "data": {
      "text/plain": [
       "'125ae2e6409e498cf96017e4f7168a1612ea2f181a0ea99530cfafb7b3a64807'"
      ]
     },
     "execution_count": 42,
     "metadata": {},
     "output_type": "execute_result"
    }
   ],
   "source": [
    "work[(work.problem_id == 57) & (work.Below75 != False) & (work.CM == 'FN')].student_id.iloc[0]"
   ]
  },
  {
   "cell_type": "code",
   "execution_count": 99,
   "metadata": {},
   "outputs": [
    {
     "data": {
      "text/plain": [
       "494     15\n",
       "693     13\n",
       "944     25\n",
       "1189    25\n",
       "2078    19\n",
       "2755    25\n",
       "2775    27\n",
       "2795    15\n",
       "3954    25\n",
       "5017    19\n",
       "5587    21\n",
       "5734    26\n",
       "5974    16\n",
       "6269    18\n",
       "6483    20\n",
       "6654    20\n",
       "6694    14\n",
       "6871    20\n",
       "7212    22\n",
       "7824    22\n",
       "Name: prev_label, dtype: int64"
      ]
     },
     "execution_count": 99,
     "metadata": {},
     "output_type": "execute_result"
    }
   ],
   "source": [
    "work[(work.problem_id == 57) & (work.Below75 != False) & (work.CM == 'FN')].prev_label.apply(sum)"
   ]
  },
  {
   "cell_type": "code",
   "execution_count": 108,
   "metadata": {},
   "outputs": [
    {
     "data": {
      "text/plain": [
       "prev_label\n",
       "25    73\n",
       "19    39\n",
       "21    34\n",
       "22    33\n",
       "20    33\n",
       "26    32\n",
       "15    30\n",
       "23    21\n",
       "14    14\n",
       "24    13\n",
       "3     12\n",
       "17    11\n",
       "27    11\n",
       "16    11\n",
       "18    10\n",
       "13     8\n",
       "29     4\n",
       "5      1\n",
       "Name: count, dtype: int64"
      ]
     },
     "execution_count": 108,
     "metadata": {},
     "output_type": "execute_result"
    }
   ],
   "source": [
    "work[work.CM == 'FN'].prev_label.apply(sum).value_counts()"
   ]
  },
  {
   "cell_type": "code",
   "execution_count": 112,
   "metadata": {},
   "outputs": [
    {
     "data": {
      "text/plain": [
       "prev_label\n",
       "28    23\n",
       "21    22\n",
       "22    18\n",
       "20    13\n",
       "19    12\n",
       "25    10\n",
       "24    10\n",
       "27     9\n",
       "26     5\n",
       "15     2\n",
       "29     2\n",
       "30     2\n",
       "5      2\n",
       "17     1\n",
       "Name: count, dtype: int64"
      ]
     },
     "execution_count": 112,
     "metadata": {},
     "output_type": "execute_result"
    }
   ],
   "source": [
    "work[work.CM == 'FP'].prev_label.apply(sum).value_counts()"
   ]
  },
  {
   "cell_type": "code",
   "execution_count": 64,
   "metadata": {},
   "outputs": [
    {
     "data": {
      "text/plain": [
       "\"Given an array, return an array that contains exactly the same numbers as the original array, but rearranged so that every 4 is immediately followed by a 5. Do not move the 4's, but every other number may move. The array contains the same number of 4's and 5's, and every 4 has a number after it that is not a 4. In this version, 5's may appear anywhere in the original array. (This is a slightly harder version of the fix34 problem.)\""
      ]
     },
     "execution_count": 64,
     "metadata": {},
     "output_type": "execute_result"
    }
   ],
   "source": [
    "work[(work.student_id == '125ae2e6409e498cf96017e4f7168a1612ea2f181a0ea99530cfafb7b3a64807') & ((work.CM == 'TN'))].question.iloc[0]"
   ]
  },
  {
   "cell_type": "code",
   "execution_count": 100,
   "metadata": {},
   "outputs": [
    {
     "data": {
      "text/plain": [
       "Label\n",
       "True     58\n",
       "False    22\n",
       "Name: count, dtype: int64"
      ]
     },
     "execution_count": 100,
     "metadata": {},
     "output_type": "execute_result"
    }
   ],
   "source": [
    "work[work.problem_id == 104].Label.value_counts()"
   ]
  },
  {
   "cell_type": "code",
   "execution_count": 174,
   "metadata": {},
   "outputs": [
    {
     "data": {
      "text/plain": [
       "\"Given an array, return an array that contains exactly the same numbers as the original array, but rearranged so that every 4 is immediately followed by a 5. Do not move the 4's, but every other number may move. The array contains the same number of 4's and 5's, and every 4 has a number after it that is not a 4. In this version, 5's may appear anywhere in the original array. (This is a slightly harder version of the fix34 problem.)\""
      ]
     },
     "execution_count": 174,
     "metadata": {},
     "output_type": "execute_result"
    }
   ],
   "source": [
    "work[(work.student_id == '125ae2e6409e498cf96017e4f7168a1612ea2f181a0ea99530cfafb7b3a64807') & (work.CM == 'FN')].question.iloc[0]"
   ]
  },
  {
   "cell_type": "code",
   "execution_count": 109,
   "metadata": {},
   "outputs": [
    {
     "name": "stdout",
     "output_type": "stream",
     "text": [
      "Write a function in Java that implements the following logic: Your cell phone rings. Return true if you should answer it. Normally you answer, except in the morning you only answer if it is your mom calling. In all cases, if you are asleep, you do not answer.\n"
     ]
    }
   ],
   "source": [
    "print(work[(work.CM == 'FP') & (work.Below75 == False)].prev_question.iloc[0][2])"
   ]
  },
  {
   "cell_type": "code",
   "execution_count": 160,
   "metadata": {},
   "outputs": [
    {
     "data": {
      "text/plain": [
       "'Given a number n, create and return a new int array of length n, containing the numbers 0, 1, 2, ... n-1. The given n may be 0, in which case just return a length 0 array. You do not need a separate if statement for the length-0 case; the for loop should naturally execute 0 times in that case, so it just works. The syntax to make a new int array is new int[desired_length].'"
      ]
     },
     "execution_count": 160,
     "metadata": {},
     "output_type": "execute_result"
    }
   ],
   "source": [
    "False, 'Write a function in Java that implements the following logic: Your cell phone rings. Return true if you should answer it. Normally you answer, except in the morning you only answer if it is your mom calling. In all cases, if you are asleep, you do not answer.'\n",
    "\n",
    "True, 'FN', \"Given an array, return an array that contains exactly the same numbers as the original array, but rearranged so that every 4 is immediately followed by a 5. Do not move the 4's, but every other number may move. The array contains the same number of 4's and 5's, and every 4 has a number after it that is not a 4. In this version, 5's may appear anywhere in the original array. (This is a slightly harder version of the fix34 problem.)\"\n",
    "\n",
    "False, 'FP', 'Write a function in Java that implements the following logic: Return a version of the given array where each zero value in the array is replaced by the largest odd value to the right of the zero in the array. If there is no odd value to the right of the zero, leave the zero as a zero. Hint: in solving this: you may use a second helper function if you want, say to find the largest odd value to the right of a specified position.'\n",
    "\n",
    "True, 'TP', 'Given an array containing three ints, return the sum of all the elements.'\n",
    "\n",
    "False, 'TN', 'Consider the series of numbers beginning at start and running up to but not including end, so for example start=1 and end=5 gives the series 1, 2, 3, 4. Return a new String[] array containing the string form of these numbers, except in the case of multiples of 3, use \"Fizz\" instead of the number, and for multiples of 5 use \"Buzz\", and for multiples of both 3 and 5 use \"FizzBuzz\". In Java, String.valueOf(xxx) will make the String form of an int or other type.'\n",
    "\n",
    "False, 'TN', 'Given n >= 0, create an array with the pattern {1, 1, 2, 1, 2, 3, ... 1, 2, 3 .. n} (spaces added to show the grouping). Note that the length of the array will be 1 + 2 + 3 ... + n, which is known to sum to exactly n * (n + 1)/2.'\n",
    "\n",
    "False, 'FP', 'Given an array of int values, return true if the group of n numbers at the start of the array is the same as the group of n numbers at the end of the array. For example, with {5, 6, 45, 99, 13, 5, 6}, the ends are the same for n == 0 and n == 2, and false for n == 1 and n == 3. You may assume that n is in the range 0..nums.length, inclusive.'\n",
    "\n",
    "False, 'FP', \"Given an int[] array, write a function that returns an array where all the 10's have been removed. The remaining elements should shift left towards the start of the array as needed, and the empty spaces at the end of the array should be set to 0. So {1, 10, 10, 2} yields {1, 2, 0, 0}. You may modify and return the given array or make a new array.\"\n",
    "\n",
    "True, 'FN', 'Given a number n, create and return a new int array of length n, containing the numbers 0, 1, 2, ... n-1. The given n may be 0, in which case just return a length 0 array. You do not need a separate if statement for the length-0 case; the for loop should naturally execute 0 times in that case, so it just works. The syntax to make a new int array is new int[desired_length].'\n",
    "\n",
    "False, 'Write a function in Java that implements the following logic: The squirrels in Palo Alto spend most of the day playing. In particular, they play if the temperature is between 60 and 90 (inclusive). Unless it is summer, then the upper limit is 100 instead of 90. Given an int temperature and a boolean isSummer, return true if the squirrels play and false otherwise.'\n"
   ]
  },
  {
   "cell_type": "code",
   "execution_count": 91,
   "metadata": {},
   "outputs": [
    {
     "data": {
      "text/plain": [
       "[['public int sortaSum(int a, int b)\\r\\n{\\r\\n    if ( a + b >= 10 && a + b <=19 )\\r\\n    {\\r\\n        return 20;\\r\\n    }\\r\\n    else\\r\\n    {\\r\\n        return a + b;\\r\\n    }\\r\\n}\\r\\n',\n",
       "  'public int sortaSum(int a, int b)\\r\\n{\\r\\n    if ( a + b >= 10 && <=19 )\\r\\n    {\\r\\n        return 20;\\r\\n    }\\r\\n    else\\r\\n    {\\r\\n        return a + b;\\r\\n    }\\r\\n}\\r\\n'],\n",
       " ['public boolean in1To10(int n, boolean outsideMode)\\r\\n{\\r\\n    if (outsideMode)\\r\\n    {\\r\\n        if (n <= 1 || n >=10)\\r\\n        {\\r\\n            return true;\\r\\n        }\\r\\n        else\\r\\n        {\\r\\n            return false;\\r\\n        }\\r\\n\\t}\\t\\r\\n    else if (n >= 1 && n <= 10)\\r\\n    {\\r\\n        return true;\\r\\n    }\\r\\n    else\\r\\n    {\\r\\n        return false;\\r\\n    }\\r\\n        \\r\\n}\\r\\n'],\n",
       " ['public boolean answerCell(boolean isMorning, boolean isMom, boolean isAsleep)\\r\\n{\\r\\n    if (isAsleep)\\r\\n    {\\r\\n        return false;\\r\\n    }\\r\\n    else\\r\\n    {\\r\\n        if (isMorning && isMom)\\r\\n        {\\r\\n            return true;\\r\\n        }\\r\\n        else if (isMorning)\\r\\n        {\\r\\n            return false;\\r\\n        }\\r\\n        else\\r\\n        {\\r\\n            return true;\\r\\n        }        \\r\\n    }\\r\\n}\\r\\n'],\n",
       " ['public boolean squirrelPlay(int temp, boolean isSummer)\\r\\n{\\r\\n    int offset = 0;\\r\\n    if (isSummer)\\r\\n    {\\r\\n        offset = 10;\\r\\n    }\\r\\n    if (temp >= 60 && temp <= 90 + offset)\\r\\n    {\\r\\n        return true;\\r\\n    }\\r\\n    else\\r\\n    {\\r\\n        return false;\\r\\n    }\\r\\n}\\r\\n'],\n",
       " ['public int caughtSpeeding(int speed, boolean isBirthday)\\r\\n{\\r\\n    int offset;\\r\\n    \\r\\n}\\r\\n',\n",
       "  'public int caughtSpeeding(int speed, boolean isBirthday)\\r\\n{\\r\\n    int offset = 0;\\r\\n    if (isBirthday())\\r\\n    {\\r\\n        offset = offset - 5;\\r\\n    }\\r\\n    if (speed + offset =< 60)\\r\\n    {\\r\\n        return.(0);\\r\\n    }\\r\\n    else if (speed + offset =< 80)\\r\\n    {\\r\\n        return.(1);\\r\\n    }\\r\\n    else\\r\\n    {\\r\\n        return(2);\\r\\n    }\\r\\n    \\r\\n}\\r\\n',\n",
       "  'public int caughtSpeeding(int speed, boolean isBirthday)\\r\\n{\\r\\n    int offset = 0;\\r\\n    int ticketValue = 0;\\r\\n    if (isBirthday)\\r\\n    {\\r\\n        offset = offset + 5;\\r\\n    }\\r\\n    if (speed <= 60 + offset)\\r\\n    {\\r\\n        return ticketValue;\\r\\n    }\\r\\n    else if (speed <= 80 + offset)\\r\\n    {\\r\\n        ticketValue = 1;\\r\\n        return ticketValue;\\r\\n    }\\r\\n    else\\r\\n    {\\r\\n        ticketValue = 2;\\r\\n        return ticketValue;\\r\\n    }\\r\\n    \\r\\n}\\r\\n',\n",
       "  'public int caughtSpeeding(int speed, boolean isBirthday)\\r\\n{\\r\\n    int offset = 0;\\r\\n    if (isBirthday())\\r\\n    {\\r\\n        offset = offset - 5;\\r\\n    }\\r\\n    if (speed + offset =< 60)\\r\\n    {\\r\\n        this.return(0);\\r\\n    }\\r\\n    else if (speed + offset =< 80)\\r\\n    {\\r\\n        this.return(1);\\r\\n    }\\r\\n    else\\r\\n    {\\r\\n        this.return(2);\\r\\n    }\\r\\n    \\r\\n}\\r\\n',\n",
       "  'public int caughtSpeeding(int speed, boolean isBirthday)\\r\\n{\\r\\n    int offset = 0;\\r\\n    if (isBirthday())\\r\\n    {\\r\\n        offset = offset + 5;\\r\\n    }\\r\\n    if (speed <= 60 + offset)\\r\\n    {\\r\\n        this.return(0);\\r\\n    }\\r\\n    else if (speed <= 80 + offset)\\r\\n    {\\r\\n        this.return(1);\\r\\n    }\\r\\n    else\\r\\n    {\\r\\n        this.return(2);\\r\\n    }\\r\\n    \\r\\n}\\r\\n',\n",
       "  'public int caughtSpeeding(int speed, boolean isBirthday)\\r\\n{\\r\\n    int offset = 0;\\r\\n    int ticketValue = 0;\\r\\n    if (isBirthday())\\r\\n    {\\r\\n        offset = offset + 5;\\r\\n    }\\r\\n    if (speed <= 60 + offset)\\r\\n    {\\r\\n        return ticketValue;\\r\\n    }\\r\\n    else if (speed <= 80 + offset)\\r\\n    {\\r\\n        ticketValue = 1;\\r\\n        return ticketValue;\\r\\n    }\\r\\n    else\\r\\n    {\\r\\n        ticketValue = 2;\\r\\n        return ticketValue;\\r\\n    }\\r\\n    \\r\\n}\\r\\n',\n",
       "  'public int caughtSpeeding(int speed, boolean isBirthday)\\r\\n{\\r\\n    int offset = 0;\\r\\n    if (isBirthday())\\r\\n    {\\r\\n        offset = offset + 5;\\r\\n    }\\r\\n    if (speed =< 60 + offset)\\r\\n    {\\r\\n        this.return(0);\\r\\n    }\\r\\n    else if (speed =< 80 + offset)\\r\\n    {\\r\\n        this.return(1);\\r\\n    }\\r\\n    else\\r\\n    {\\r\\n        this.return(2);\\r\\n    }\\r\\n    \\r\\n}\\r\\n'],\n",
       " ['public String alarmClock(int day, boolean vacation)\\r\\n{\\r\\n    if (vacation)\\r\\n    {\\r\\n        if (day = 0)\\r\\n        {\\r\\n            return \"off\";\\r\\n        }\\r\\n        if (day = 6)\\r\\n        {\\r\\n            return \"off\";\\r\\n        }\\r\\n        else\\r\\n        {\\r\\n            return \"10:00\"\\r\\n        }\\r\\n    }\\r\\n    else\\r\\n    {\\r\\n        return \"7:00\";\\r\\n    }\\r\\n}\\r\\n',\n",
       "  'public String alarmClock(int day, boolean vacation)\\r\\n{\\r\\n    if (vacation)\\r\\n    {\\r\\n        if (day == 0 || 6)\\r\\n        {\\r\\n            return \"off\";\\r\\n        }\\r\\n        else\\r\\n        {\\r\\n            return \"10:00\";\\r\\n        }\\r\\n    }\\r\\n    else\\r\\n    {\\r\\n        if (day == 0|| 6)\\r\\n        {\\r\\n            return \"10:00\";\\r\\n        }\\r\\n        else\\r\\n        {\\r\\n            return \"7:00\"\\r\\n        }\\r\\n    }\\r\\n}\\r\\n',\n",
       "  'public String alarmClock(int day, boolean vacation)\\r\\n{\\r\\n    if (vacation)\\r\\n    {\\r\\n        if (day == 0)\\r\\n        {\\r\\n            return \"off\";\\r\\n        }\\r\\n        if (day == 6)\\r\\n        {\\r\\n            return \"off\";\\r\\n        }\\r\\n        else\\r\\n        {\\r\\n            return \"10:00\";\\r\\n        }\\r\\n    }\\r\\n    else\\r\\n    {\\r\\n        if (day == 0)\\r\\n        {\\r\\n            return \"10:00\";\\r\\n        }\\r\\n            if (day == 6\\r\\n        {\\r\\n            return \"off\";\\r\\n        }\\r\\n        else\\r\\n        {\\r\\n            return \"7:00\";\\r\\n        }\\r\\n    }\\r\\n}\\r\\n',\n",
       "  'public String alarmClock(int day, boolean vacation)\\r\\n{\\r\\n    if (vacation)\\r\\n    {\\r\\n        if (day = 0)\\r\\n        {\\r\\n            return \"off\";\\r\\n        }\\r\\n        else if (day = 6)\\r\\n        {\\r\\n            return \"off\";\\r\\n        }\\r\\n        else\\r\\n        {\\r\\n            return \"10:00\";\\r\\n        }\\r\\n    }\\r\\n    else\\r\\n    {\\r\\n        if (day = 0)\\r\\n        {\\r\\n            return \"10:00\";\\r\\n        }\\r\\n        else if (day = 6)\\r\\n            return \"10:00\";\\r\\n \\t    }\\r\\n    \\telse if (day = 1)\\r\\n        {\\r\\n            return \"7:00\";\\r\\n        }\\r\\n \\t    else if (day = 2)\\r\\n        {\\r\\n            return \"7:00\";\\r\\n        }\\r\\n        else if (day = 3)\\r\\n        {\\r\\n            return \"7:00\";\\r\\n        }\\r\\n     \\telse if (day = 4)\\r\\n        {\\r\\n            return \"7:00\";\\r\\n        }\\r\\n     \\telse if (day = 5)\\r\\n        {\\r\\n            return \"7:00\";\\r\\n        }\\r\\n    \\r\\n    \\r\\n}\\r\\n',\n",
       "  'public String alarmClock(int day, boolean vacation)\\r\\n{\\r\\n    if (vacation)\\r\\n    {\\r\\n        if (day = 0)\\r\\n        {\\r\\n            return \"off\";\\r\\n        }\\r\\n        if (day = 6)\\r\\n        {\\r\\n            return \"off\";\\r\\n        }\\r\\n        else\\r\\n        {\\r\\n            return \"10:00\";\\r\\n        }\\r\\n    }\\r\\n    else\\r\\n    {\\r\\n        if (day = 0)\\r\\n        {\\r\\n            return \"10:00\";\\r\\n        }\\r\\n        if (day = 6)\\r\\n            return \"10:00\";\\r\\n \\t    }\\r\\n        else\\r\\n        {\\r\\n            return \"7:00\";\\r\\n        }\\r\\n    }\\r\\n    \\r\\n}\\r\\n',\n",
       "  'public String alarmClock(int day, boolean vacation)\\r\\n{\\r\\n    if (vacation)\\r\\n    {\\r\\n        if (day = 0)\\r\\n        {\\r\\n            return \"off\";\\r\\n        }\\r\\n        else if (day = 6)\\r\\n        {\\r\\n            return \"off\";\\r\\n        }\\r\\n        else\\r\\n        {\\r\\n            return \"10:00\";\\r\\n        }\\r\\n    }\\r\\n    else\\r\\n    {\\r\\n        if (day = 0)\\r\\n        {\\r\\n            return \"10:00\";\\r\\n        }\\r\\n        else if (day = 6)\\r\\n            return \"10:00\";\\r\\n \\t    }\\r\\n        else\\r\\n        {\\r\\n            return \"7:00\";\\r\\n        }\\r\\n    }\\r\\n    \\r\\n}\\r\\n',\n",
       "  'public String alarmClock(int day, boolean vacation)\\r\\n{\\r\\n    if (vacation)\\r\\n    {\\r\\n        if (day == 0)\\r\\n        {\\r\\n            return \"off\";\\r\\n        }\\r\\n        if (day == 6)\\r\\n        {\\r\\n            return \"off\";\\r\\n        }\\r\\n        else\\r\\n        {\\r\\n            return \"10:00\";\\r\\n        }\\r\\n    }\\r\\n    else\\r\\n    {\\r\\n        if (day == 0)\\r\\n        {\\r\\n            return \"10:00\";\\r\\n        }\\r\\n            if (day == 6)\\r\\n        {\\r\\n            return \"off\";\\r\\n        }\\r\\n        else\\r\\n        {\\r\\n            return \"7:00\";\\r\\n        }\\r\\n    }\\r\\n}\\r\\n',\n",
       "  'public String alarmClock(int day, boolean vacation)\\r\\n{\\r\\n    if (vacation)\\r\\n    {\\r\\n        return \"10:00\";\\r\\n    }\\r\\n    else\\r\\n    {\\r\\n        return \"7:00\";\\r\\n    }\\r\\n',\n",
       "  'public String alarmClock(int day, boolean vacation)\\r\\n{\\r\\n    if (vacation)\\r\\n    {\\r\\n        return \"10:00\";\\r\\n    }\\r\\n    else\\r\\n    {\\r\\n        return \"7:00\";\\r\\n    }\\r\\n}\\r\\n',\n",
       "  'public String alarmClock(int day, boolean vacation)\\r\\n{\\r\\n    if (vacation)\\r\\n    {\\r\\n        if (day = 0 || 6)\\r\\n        {\\r\\n            return \"off\";\\r\\n        }\\r\\n        else\\r\\n        {\\r\\n            return \"10:00\";\\r\\n        }\\r\\n    }\\r\\n    else\\r\\n    {\\r\\n        if (day = 0 || 6)\\r\\n        {\\r\\n            return \"10:00\";\\r\\n        }\\r\\n        else\\r\\n        {\\r\\n            return \"7:00\";\\r\\n        }\\r\\n    }\\r\\n    \\r\\n}\\r\\n',\n",
       "  'public String alarmClock(int day, boolean vacation)\\r\\n{\\r\\n    if (vacation)\\r\\n    {\\r\\n        if (day == 0 || 6)\\r\\n        {\\r\\n            return \"off\";\\r\\n        }\\r\\n        else\\r\\n        {\\r\\n            return \"10:00\";\\r\\n        }\\r\\n    }\\r\\n    else\\r\\n    {\\r\\n        if (day == 0|| 6)\\r\\n        {\\r\\n            return \"10:00\";\\r\\n        }\\r\\n        else\\r\\n        {\\r\\n            return \"7:00\";\\r\\n        }\\r\\n    }\\r\\n}\\r\\n',\n",
       "  'public String alarmClock(int day, boolean vacation)\\r\\n{\\r\\n    if (vacation)\\r\\n    {\\r\\n        if (day = 0)\\r\\n        {\\r\\n            return \"off\";\\r\\n        }\\r\\n        else if (day = 6)\\r\\n        {\\r\\n            return \"off\";\\r\\n        }\\r\\n        else\\r\\n        {\\r\\n            return \"10:00\";\\r\\n        }\\r\\n    }\\r\\n    else\\r\\n    {\\r\\n        if (day = 0)\\r\\n        {\\r\\n            return \"10:00\";\\r\\n        }\\r\\n        else if (day = 6)\\r\\n            return \"10:00\";\\r\\n \\t    }\\r\\n    \\telse if (day != 6)\\r\\n        {\\r\\n            return \"7:00\";\\r\\n        }\\r\\n    }\\r\\n    \\r\\n}\\r\\n',\n",
       "  'public String alarmClock(int day, boolean vacation)\\r\\n{\\r\\n    if (vacation)\\r\\n    {\\r\\n        if (day == 0)\\r\\n        {\\r\\n            return \"off\";\\r\\n        }\\r\\n        if (day == 6\\r\\n        {\\r\\n            return \"off\";\\r\\n        }\\r\\n        else\\r\\n        {\\r\\n            return \"10:00\";\\r\\n        }\\r\\n    }\\r\\n    else\\r\\n    {\\r\\n        if (day == 0)\\r\\n        {\\r\\n            return \"10:00\";\\r\\n        }\\r\\n            if (day == 6\\r\\n        {\\r\\n            return \"off\";\\r\\n        }\\r\\n        else\\r\\n        {\\r\\n            return \"7:00\";\\r\\n        }\\r\\n    }\\r\\n}\\r\\n',\n",
       "  'public String alarmClock(int day, boolean vacation)\\r\\n{\\r\\n    if (vacation)\\r\\n    {\\r\\n        if (day = 0)\\r\\n        {\\r\\n            return \"off\";\\r\\n        }\\r\\n        else if (day = 6)\\r\\n        {\\r\\n            return \"off\";\\r\\n        }\\r\\n        else\\r\\n        {\\r\\n            return \"10:00\";\\r\\n        }\\r\\n    }\\r\\n    else\\r\\n    {\\r\\n        if (day = 0)\\r\\n        {\\r\\n            return \"10:00\";\\r\\n        }\\r\\n        else if (day = 6)\\r\\n            return \"10:00\";\\r\\n \\t    }\\r\\n    \\telse\\r\\n        {\\r\\n            return \"7:00\";\\r\\n        }\\r\\n    }\\r\\n    \\r\\n}\\r\\n',\n",
       "  'public String alarmClock(int day, boolean vacation)\\r\\n{\\r\\n    if (vacation)\\r\\n    {\\r\\n        if (day == 0)\\r\\n        {\\r\\n            return \"off\";\\r\\n        }\\r\\n        if (day == 6)\\r\\n        {\\r\\n            return \"off\";\\r\\n        }\\r\\n        else\\r\\n        {\\r\\n            return \"10:00\";\\r\\n        }\\r\\n    }\\r\\n    else\\r\\n    {\\r\\n        if (day == 0)\\r\\n        {\\r\\n            return \"10:00\";\\r\\n        }\\r\\n            if (day == 6)\\r\\n        {\\r\\n            return \"10:00\";\\r\\n        }\\r\\n        else\\r\\n        {\\r\\n            return \"7:00\";\\r\\n        }\\r\\n    }\\r\\n}\\r\\n',\n",
       "  'public String alarmClock(int day, boolean vacation)\\r\\n{\\r\\n    if (vacation)\\r\\n    {\\r\\n        if (day = 0)\\r\\n        {\\r\\n            return \"off\";\\r\\n        }\\r\\n        else if (day = 6)\\r\\n        {\\r\\n            return \"off\";\\r\\n        }\\r\\n        else\\r\\n        {\\r\\n            return \"10:00\";\\r\\n        }\\r\\n    }\\r\\n    else\\r\\n    {\\r\\n        if (day = 0)\\r\\n        {\\r\\n            return \"10:00\";\\r\\n        }\\r\\n        else if (day = 6)\\r\\n            return \"10:00\";\\r\\n \\t    }\\r\\n    \\telse if (day = 1)\\r\\n        {\\r\\n            return \"7:00\";\\r\\n        }\\r\\n \\t    else if (day = 2)\\r\\n        {\\r\\n            return \"7:00\";\\r\\n        }\\r\\n        else if (day = 3)\\r\\n        {\\r\\n            return \"7:00\";\\r\\n        }\\r\\n     \\telse if (day = 4)\\r\\n        {\\r\\n            return \"7:00\";\\r\\n        }\\r\\n     \\telse if (day = 5)\\r\\n        {\\r\\n            return \"7:00\";\\r\\n        }\\r\\n    }\\r\\n    \\r\\n}\\r\\n',\n",
       "  'public String alarmClock(int day, boolean vacation)\\r\\n{\\r\\n    if (vacation)\\r\\n    {\\r\\n        if (day = 0)\\r\\n        {\\r\\n            return \"off\";\\r\\n        }\\r\\n        if (day = 6)\\r\\n        {\\r\\n            return \"off\";\\r\\n        }\\r\\n        else\\r\\n        {\\r\\n            return \"10:00\";\\r\\n        }\\r\\n    }\\r\\n    else\\r\\n    {\\r\\n        return \"7:00\";\\r\\n    }\\r\\n}\\r\\n'],\n",
       " ['public boolean love6(int a, int b)\\r\\n{\\r\\n    if ( a == 6 || b == 6)\\r\\n    {\\r\\n        return true;\\r\\n    }\\r\\n    else if ( a + b == 6)\\r\\n    {\\r\\n        return true;\\r\\n    }\\r\\n    else if (Math.abs(a-b) == 6)\\r\\n    {\\r\\n        return true;\\r\\n    }\\r\\n    else\\r\\n    {\\r\\n        return false;\\r\\n    }\\r\\n}\\r\\n'],\n",
       " ['public boolean cigarParty(int cigars, boolean isWeekend)\\r\\n{\\r\\n    if (isWeekend)\\r\\n    {\\r\\n        if (cigars >= 40)\\r\\n        {\\r\\n            return true;\\r\\n        }\\r\\n        else\\r\\n        {\\r\\n            return false;\\r\\n        }\\r\\n    }\\r\\n    else if (cigars >= 40 && cigars <=60)\\r\\n    {\\r\\n        return true;\\r\\n    }\\r\\n    else\\r\\n    {\\r\\n        return false;\\r\\n    }\\r\\n        \\r\\n    \\r\\n\\r\\n}\\r\\n'],\n",
       " ['public int dateFashion(int you, int date)\\r\\n{\\r\\n    if (you <= 2)\\r\\n    {\\r\\n        return 0;\\r\\n    }\\r\\n    else if (you <=7)\\r\\n    {\\r\\n        if (date <= 2)\\r\\n        {\\r\\n            return 0;\\r\\n        }\\r\\n        else if (date <= 7)\\r\\n        {\\r\\n            return 1;\\r\\n        }\\r\\n        else\\r\\n        {\\r\\n            return 2;\\r\\n        }\\r\\n    }\\r\\n    else\\r\\n    {\\r\\n        if (date <= 2)\\r\\n        {\\r\\n            return 0;\\r\\n        }\\r\\n        else\\r\\n        {\\r\\n            return 2;\\r\\n        }\\r\\n    }\\r\\n}\\r\\n'],\n",
       " ['public int greenTicket(int a, int b, int c)\\r\\n{\\r\\n    if (a == b && b == c)\\r\\n    {\\r\\n        return 20;\\r\\n    }\\r\\n    else if (a == b || b == c || a == c)\\r\\n    {\\r\\n        return 10;\\r\\n    }\\r\\n    else\\r\\n    {\\r\\n        return 0;\\r\\n    }\\r\\n}\\r\\n',\n",
       "  'public int greenTicket(int a, int b, int c)\\r\\n{\\r\\n    if (a == b == c)\\r\\n    {\\r\\n        return 20;\\r\\n    }\\r\\n}\\r\\n',\n",
       "  'public int greenTicket(int a, int b, int c)\\r\\n{\\r\\n    if (a == b && b == c)\\r\\n    {\\r\\n        return 20;\\r\\n    }\\r\\n    else if (a == b || b == c || a == c)\\r\\n    {\\r\\n        return 10:\\r\\n    }\\r\\n    else\\r\\n    {\\r\\n        return 0;\\r\\n    }\\r\\n}\\r\\n',\n",
       "  'public int greenTicket(int a, int b, int c)\\r\\n{\\r\\n    if (a == b && b == c)\\r\\n    {\\r\\n        return 20;\\r\\n    }\\r\\n}\\r\\n'],\n",
       " ['public int redTicket(int a, int b, int c)\\r\\n{\\r\\n    if ( a == 2 && b == 2 && c == 2)\\r\\n    {\\r\\n        return 10;\\r\\n    }\\r\\n    else if ( a == b && b == c)\\r\\n    {\\r\\n        return 5;\\r\\n    }\\r\\n    else if (b != a && c != a)\\r\\n    {\\r\\n        return 1;\\r\\n    }\\r\\n    else\\r\\n    {\\r\\n        return 0;\\r\\n    }\\r\\n}\\r\\n'],\n",
       " ['public int loneSum(int a, int b, int c)\\r\\n{\\r\\n    int sum = 0;\\r\\n    if (a != b && a !=c)\\r\\n    {\\r\\n        sum = sum +a;\\r\\n    }\\r\\n    else if (b != a && b != c)\\r\\n    {\\r\\n        sum = sum + b + c;\\r\\n    }\\r\\n    else if (c !=a && c !=b)\\r\\n    {\\r\\n        sum = sum + c;\\r\\n    }\\r\\n    return sum;\\r\\n}\\r\\n',\n",
       "  'public int loneSum(int a, int b, int c)\\r\\n{\\r\\n    int sum = 0;\\r\\n    if (a != b && a !=c)\\r\\n    {\\r\\n        sum = sum +a;\\r\\n    }\\r\\n    if (b != a && b != c)\\r\\n    {\\r\\n        sum = sum + b;\\r\\n    }\\r\\n    if (c !=a && c !=b)\\r\\n    {\\r\\n        sum = sum + c;\\r\\n    }\\r\\n    return sum;\\r\\n}\\r\\n'],\n",
       " ['public int luckySum(int a, int b, int c)\\r\\n{\\r\\n    int sum = 0;\\r\\n    if (a != 13)\\r\\n    {\\r\\n        sum = sum + a;\\r\\n        if (b != 13)\\r\\n        {\\r\\n            sum = sum + b;\\r\\n            if (c != 13)\\r\\n            {\\r\\n                sum = sum +c;\\r\\n            }\\r\\n        }\\r\\n        \\r\\n    }\\r\\n    return sum;\\r\\n}\\r\\n'],\n",
       " ['public int noTeenSum(int a, int b, int c)\\r\\n{\\r\\n\\tint sum = 0;\\r\\n    sum = fixTeen(a) + fixTeen(b) + fixTeen(c);\\r\\n    return sum;\\r\\n}\\r\\n\\r\\npublic int fixTeen(int n)\\r\\n{\\r\\n    if ( n >= 13 && n <= 19)\\r\\n    {\\r\\n        if (n != 15 && n != 16)\\r\\n        {\\r\\n        \\tn = 0;\\r\\n        }    \\r\\n    }\\r\\n    return n;\\r\\n}\\r\\n',\n",
       "  'public int noTeenSum(int a, int b, int c)\\r\\n{\\r\\n\\tint sum = 0;\\r\\n    sum = fixTeen(a) + fixTeen(b) + fixTeen(c);\\r\\n    return sum;\\r\\n}\\r\\n\\r\\npublic int fixTeen(int n)\\r\\n{\\r\\n    if ( n >= 13 && n <= 19)\\r\\n    {\\r\\n        int n = 0;\\r\\n    }\\r\\n    return n;\\r\\n}\\r\\n',\n",
       "  'public int noTeenSum(int a, int b, int c)\\r\\n{\\r\\n\\tint sum = 0;\\r\\n    int sum = fixTeen(a) + fixTeen(b) + fixTeen(c);\\r\\n    return sum;\\r\\n}\\r\\n\\r\\npublic int fixTeen(int n)\\r\\n{\\r\\n    if ( n >= 13 && n <= 19)\\r\\n    {\\r\\n        int n = 0;\\r\\n    }\\r\\n    return n;\\r\\n}\\r\\n'],\n",
       " ['public int blackjack(int a, int b)\\r\\n{\\r\\n    private int c = 0;\\r\\n    private int d = 0;\\r\\n    \\r\\n    if (a>21 && b>21)\\r\\n    {\\r\\n        return 0;\\r\\n    }\\r\\n    else if (a>b)\\r\\n    {\\r\\n        int c =a;\\r\\n        int d = b;\\r\\n    }\\r\\n    else\\r\\n    {\\r\\n        int c = b;\\r\\n        int d = a;\\r\\n    }\\r\\n    if (c < 22)\\r\\n    {\\r\\n        return c;\\r\\n    }\\r\\n    else\\r\\n    {\\r\\n        return d;\\r\\n    }\\r\\n}\\r\\n',\n",
       "  'public int blackjack(int a, int b)\\r\\n{\\r\\n    if (a>21 && b>21)\\r\\n    {\\r\\n        return 0;\\r\\n    }\\r\\n    else if (a>b && a<22)\\r\\n    {\\r\\n        return a;\\r\\n    }\\r\\n    else\\r\\n    {\\r\\n        return b;\\r\\n    }\\r\\n}\\r\\n',\n",
       "  'public int blackjack(int a, int b)\\r\\n{\\r\\n    if (a>21 && b>21)\\r\\n    {\\r\\n        return 0;\\r\\n    }\\r\\n    else if (a>b && a<22)\\r\\n    {\\r\\n        return a;\\r\\n    }\\r\\n    else if (b>a && b<22)\\r\\n    {\\r\\n        return b;\\r\\n    }\\r\\n}\\r\\n',\n",
       "  'public int blackjack(int a, int b)\\r\\n{\\r\\n    \\r\\n    if (a>21 && b>21)\\r\\n    {\\r\\n        return 0;\\r\\n    }\\r\\n    else if (a>b && a<22)\\r\\n    {\\r\\n        return a;\\r\\n    }\\r\\n    else if (b>a && b<22)\\r\\n    {\\r\\n        return b;\\r\\n    }\\r\\n    \\r\\n}\\r\\n',\n",
       "  'public int blackjack(int a, int b)\\r\\n{\\r\\n    if (a>21 && b>21)\\r\\n    {\\r\\n        return 0;\\r\\n    }\\r\\n    else if (a>b)\\r\\n    {\\r\\n        int c =a;\\r\\n        int d = b;\\r\\n    }\\r\\n    else\\r\\n    {\\r\\n        int c = b;\\r\\n        int d = a;\\r\\n    }\\r\\n    if (c < 22)\\r\\n    {\\r\\n        return c;\\r\\n    }\\r\\n    else\\r\\n    {\\r\\n        return d;\\r\\n    }\\r\\n}\\r\\n',\n",
       "  'public int blackjack(int a, int b)\\r\\n{\\r\\n    \\r\\n    if (a>21 && b>21)\\r\\n    {\\r\\n        return 0;\\r\\n    }\\r\\n    else if (a>b && a<22)\\r\\n    {\\r\\n        return a;\\r\\n    }\\r\\n    else if (b>a && b<22)\\r\\n    {\\r\\n        return b;\\r\\n    }\\r\\n}\\r\\n',\n",
       "  'public int blackjack(int a, int b)\\r\\n{\\r\\n    if (a>21 && b>21)\\r\\n    {\\r\\n        return 0;\\r\\n    }\\r\\n    else if (a>b && a<22)\\r\\n    {\\r\\n        return a;\\r\\n    }\\r\\n    else if (a>b && a>=22)\\r\\n    {\\r\\n        return b;\\r\\n    }\\r\\n    else if (b>a && b<22)\\r\\n    {\\r\\n        return b;\\r\\n    }\\r\\n    else\\r\\n    {\\r\\n        return a;\\r\\n    }\\r\\n}\\r\\n',\n",
       "  'public int blackjack(int a, int b)\\r\\n{\\r\\n    \\r\\n    if (a>21 && b>21)\\r\\n    {\\r\\n        return 0;\\r\\n    }\\r\\n    else if (a>b && a<22)\\r\\n    {\\r\\n        return a;\\r\\n    }\\r\\n    else if (b>a && b<22)\\r\\n    {\\r\\n        return b;\\r\\n    }\\r\\n    \\r\\n\\r\\n',\n",
       "  'public int blackjack(int a, int b)\\r\\n{\\r\\n    if (a>21 && b>21)\\r\\n    {\\r\\n        return 0;\\r\\n    }\\r\\n    else if (a>b && a<22)\\r\\n    {\\r\\n        return a;\\r\\n    }\\r\\n    else if (a>b && a=>22)\\r\\n    {\\r\\n        return b;\\r\\n    }\\r\\n    else if (b>a && b<22)\\r\\n    {\\r\\n        return b;\\r\\n    }\\r\\n    else\\r\\n    {\\r\\n        return a;\\r\\n    }\\r\\n}\\r\\n',\n",
       "  'public int blackjack(int a, int b)\\r\\n{\\r\\n    int c = 0;\\r\\n    int d = 0;\\r\\n    \\r\\n    if (a>21 && b>21)\\r\\n    {\\r\\n        return 0;\\r\\n    }\\r\\n    else if (a>b)\\r\\n    {\\r\\n        int c =a;\\r\\n        int d = b;\\r\\n    }\\r\\n    else\\r\\n    {\\r\\n        int c = b;\\r\\n        int d = a;\\r\\n    }\\r\\n    if (c < 22)\\r\\n    {\\r\\n        return c;\\r\\n    }\\r\\n    else\\r\\n    {\\r\\n        return d;\\r\\n    }\\r\\n}\\r\\n',\n",
       "  'public int blackjack(int a, int b)\\r\\n{\\r\\n    if (a>21 && b>21)\\r\\n    {\\r\\n        return 0;\\r\\n    }\\r\\n    else if (a>b && a<22)\\r\\n    {\\r\\n        return a;\\r\\n    }\\r\\n    else if (a>b && a>22)\\r\\n    {\\r\\n        return b;\\r\\n    }\\r\\n    else if (b>a && b<22)\\r\\n    {\\r\\n        return b;\\r\\n    }\\r\\n    else\\r\\n    {\\r\\n        return a;\\r\\n    }\\r\\n}\\r\\n'],\n",
       " ['public boolean evenlySpaced(int a, int b, int c)\\r\\n{\\r\\n    int large = 0;\\r\\n    int medium = 0;\\r\\n    int small = 0;\\r\\n    if (a > b && a > c)\\r\\n    {\\r\\n        large = a;\\r\\n        if (b > c)\\r\\n        {\\r\\n            medium = b;\\r\\n            small = c;\\r\\n        }\\r\\n        else\\r\\n        {\\r\\n            medium = c;\\r\\n            small = b;\\r\\n        }\\r\\n    }\\r\\n    if (b > a && b > c)\\r\\n    {\\r\\n     large = b;\\r\\n        if (a > c)\\r\\n        {\\r\\n            medium = a;\\r\\n            small = c;\\r\\n        }\\r\\n        else\\r\\n        {\\r\\n            medium = c;\\r\\n            small = a;\\r\\n        }\\r\\n    }\\r\\n    if (c > a && c > b)\\r\\n    {\\r\\n        large = c;\\r\\n        if (a > b)\\r\\n        {\\r\\n            medium = a;\\r\\n            small = b;\\r\\n        }\\r\\n        else\\r\\n        {\\r\\n            medium = b;\\r\\n            small = a;\\r\\n        }\\r\\n    }\\r\\n    int difference1 = large - medium;\\r\\n    int difference2 = medium - small;\\r\\n    if (difference1 != 0 && difference1 == difference2)\\r\\n    {\\r\\n        return true;\\r\\n    }\\r\\n    else\\r\\n    {\\r\\n        return false;\\r\\n    }\\r\\n}\\r\\n',\n",
       "  'public boolean evenlySpaced(int a, int b, int c)\\r\\n{\\r\\n    int large = 0;\\r\\n    int medium = 2;\\r\\n    int small = 7;\\r\\n    if (a > b && a > c)\\r\\n    {\\r\\n        large = a;\\r\\n        if (b > c)\\r\\n        {\\r\\n            medium = b;\\r\\n            small = c;\\r\\n        }\\r\\n        else\\r\\n        {\\r\\n            medium = c;\\r\\n            small = b;\\r\\n        }\\r\\n    }\\r\\n    if (b > a && b > c)\\r\\n    {\\r\\n     large = b;\\r\\n        if (a > c)\\r\\n        {\\r\\n            medium = a;\\r\\n            small = c;\\r\\n        }\\r\\n        else\\r\\n        {\\r\\n            medium = c;\\r\\n            small = a;\\r\\n        }\\r\\n    }\\r\\n    if (c > a && c > b)\\r\\n    {\\r\\n        large = c;\\r\\n        if (a > b)\\r\\n        {\\r\\n            medium = a;\\r\\n            small = b;\\r\\n        }\\r\\n        else\\r\\n        {\\r\\n            medium = b;\\r\\n            small = a;\\r\\n        }\\r\\n    }\\r\\n    int difference1 = large - medium;\\r\\n    int difference2 = medium - small;\\r\\n    if ((difference1 == difference2))\\r\\n    {\\r\\n        return true;\\r\\n    }\\r\\n    else if (a == b && b == c)\\r\\n    {\\r\\n        return true;\\r\\n    }\\r\\n    else\\r\\n    {\\r\\n        return false;\\r\\n    }\\r\\n}\\r\\n',\n",
       "  'public boolean evenlySpaced(int a, int b, int c)\\r\\n{\\r\\n    int large = 0;\\r\\n    int medium = 2;\\r\\n    int small = 7;\\r\\n    if (a > b && a > c)\\r\\n    {\\r\\n        large = a;\\r\\n        if (b > c)\\r\\n        {\\r\\n            medium = b;\\r\\n            small = c;\\r\\n        }\\r\\n        else\\r\\n        {\\r\\n            medium = c;\\r\\n            small = b;\\r\\n        }\\r\\n    }\\r\\n    if (b > a && b > c)\\r\\n    {\\r\\n     large = b;\\r\\n        if (a > c)\\r\\n        {\\r\\n            medium = a;\\r\\n            small = c;\\r\\n        }\\r\\n        else\\r\\n        {\\r\\n            medium = c;\\r\\n            small = a;\\r\\n        }\\r\\n    }\\r\\n    if (c > a && c > b)\\r\\n    {\\r\\n        large = c;\\r\\n        if (a > b)\\r\\n        {\\r\\n            medium = a;\\r\\n            small = b;\\r\\n        }\\r\\n        else\\r\\n        {\\r\\n            medium = b;\\r\\n            small = a;\\r\\n        }\\r\\n    }\\r\\n    int difference1 = large - medium;\\r\\n    int difference2 = medium - small;\\r\\n    if ((difference1 == difference2))\\r\\n    {\\r\\n        return true;\\r\\n    }\\r\\n    else\\r\\n    {\\r\\n        return false;\\r\\n    }\\r\\n}\\r\\n',\n",
       "  'public boolean evenlySpaced(int a, int b, int c)\\r\\n{\\r\\n    int large = 0;\\r\\n    int medium = 0;\\r\\n    int small = 0;\\r\\n    if (a > b && a > c)\\r\\n    {\\r\\n        int large = a;\\r\\n        if (b > c)\\r\\n        {\\r\\n            int medium = b;\\r\\n            int small = c;\\r\\n        }\\r\\n        else\\r\\n        {\\r\\n            int medium = c;\\r\\n            int small = b;\\r\\n        }\\r\\n    }\\r\\n    if (b > a && b > c)\\r\\n    {\\r\\n        int large = b;\\r\\n        if (a > c)\\r\\n        {\\r\\n            int medium = a;\\r\\n            int small = c;\\r\\n        }\\r\\n        else\\r\\n        {\\r\\n            int medium = c;\\r\\n            int small = a;\\r\\n        }\\r\\n    }\\r\\n    if (c > a && c > b)\\r\\n    {\\r\\n        int large = c;\\r\\n        if (a > b)\\r\\n        {\\r\\n            int medium = a;\\r\\n            int small = b;\\r\\n        }\\r\\n        else\\r\\n        {\\r\\n            int medium = b;\\r\\n            int small = a;\\r\\n        }\\r\\n    }\\r\\n    int difference1 = large - medium;\\r\\n    int difference2 = medium - small;\\r\\n    if (difference1 == difference2)\\r\\n    {\\r\\n        return true;\\r\\n    }\\r\\n    else\\r\\n    {\\r\\n        return false;\\r\\n    }\\r\\n}\\r\\n',\n",
       "  'public boolean evenlySpaced(int a, int b, int c)\\r\\n{\\r\\n    int large = 0;\\r\\n    int medium = 0;\\r\\n    int small = 0;\\r\\n    if (a > b && a > c)\\r\\n    {\\r\\n        large = a;\\r\\n        if (b > c)\\r\\n        {\\r\\n            medium = b;\\r\\n            small = c;\\r\\n        }\\r\\n        else\\r\\n        {\\r\\n            medium = c;\\r\\n            small = b;\\r\\n        }\\r\\n    }\\r\\n    if (b > a && b > c)\\r\\n    {\\r\\n     large = b;\\r\\n        if (a > c)\\r\\n        {\\r\\n            medium = a;\\r\\n            small = c;\\r\\n        }\\r\\n        else\\r\\n        {\\r\\n            medium = c;\\r\\n            small = a;\\r\\n        }\\r\\n    }\\r\\n    if (c > a && c > b)\\r\\n    {\\r\\n        large = c;\\r\\n        if (a > b)\\r\\n        {\\r\\n            medium = a;\\r\\n            small = b;\\r\\n        }\\r\\n        else\\r\\n        {\\r\\n            medium = b;\\r\\n            ismall = a;\\r\\n        }\\r\\n    }\\r\\n    int difference1 = large - medium;\\r\\n    int difference2 = medium - small;\\r\\n    if (difference1 == difference2)\\r\\n    {\\r\\n        return true;\\r\\n    }\\r\\n    else\\r\\n    {\\r\\n        return false;\\r\\n    }\\r\\n}\\r\\n',\n",
       "  'public boolean evenlySpaced(int a, int b, int c)\\r\\n{\\r\\n    if (a > b && a > c)\\r\\n    {\\r\\n        int large = a;\\r\\n        if (b > c)\\r\\n        {\\r\\n            int medium = b;\\r\\n            int small = c;\\r\\n        }\\r\\n        else\\r\\n        {\\r\\n            int medium = c;\\r\\n            int small = b;\\r\\n        }\\r\\n    }\\r\\n    if (b > a && b > c)\\r\\n    {\\r\\n        int large = b;\\r\\n        if (a > c)\\r\\n        {\\r\\n            int medium = a;\\r\\n            int small = c;\\r\\n        }\\r\\n        else\\r\\n        {\\r\\n            int medium = c;\\r\\n            int small = a;\\r\\n        }\\r\\n    }\\r\\n    if (c > a && c > b)\\r\\n    {\\r\\n        int large = c;\\r\\n        if (a > b)\\r\\n        {\\r\\n            int medium = a;\\r\\n            int small = b;\\r\\n        }\\r\\n        else\\r\\n        {\\r\\n            int medium = b;\\r\\n            int small = a;\\r\\n        }\\r\\n    }\\r\\n    int difference1 = large-medium;\\r\\n    int difference2 = medium - small;\\r\\n    if (difference1 == difference2)\\r\\n    {\\r\\n        return true;\\r\\n    }\\r\\n    else\\r\\n    {\\r\\n        return false;\\r\\n    }\\r\\n}\\r\\n',\n",
       "  'public boolean evenlySpaced(int a, int b, int c)\\r\\n{\\r\\n    int large = 0;\\r\\n    int medium = 2;\\r\\n    int small = 7;\\r\\n    if (a > b && a > c)\\r\\n    {\\r\\n        large = a;\\r\\n        if (b > c)\\r\\n        {\\r\\n            medium = b;\\r\\n            small = c;\\r\\n        }\\r\\n        else\\r\\n        {\\r\\n            medium = c;\\r\\n            small = b;\\r\\n        }\\r\\n    }\\r\\n    if (b > a && b > c)\\r\\n    {\\r\\n     large = b;\\r\\n        if (a > c)\\r\\n        {\\r\\n            medium = a;\\r\\n            small = c;\\r\\n        }\\r\\n        else\\r\\n        {\\r\\n            medium = c;\\r\\n            small = a;\\r\\n        }\\r\\n    }\\r\\n    if (c > a && c > b)\\r\\n    {\\r\\n        large = c;\\r\\n        if (a > b)\\r\\n        {\\r\\n            medium = a;\\r\\n            small = b;\\r\\n        }\\r\\n        else\\r\\n        {\\r\\n            medium = b;\\r\\n            small = a;\\r\\n        }\\r\\n    }\\r\\n    int difference1 = large - medium;\\r\\n    int difference2 = medium - small;\\r\\n    if ((difference1 == difference2)\\r\\n    {\\r\\n        return true;\\r\\n    }\\r\\n    else\\r\\n    {\\r\\n        return false;\\r\\n    }\\r\\n}\\r\\n',\n",
       "  'public boolean evenlySpaced(int a, int b, int c)\\r\\n{\\r\\n    int large = 0;\\r\\n    int medium = 0;\\r\\n    int small = 0;\\r\\n    if (a > b && a > c)\\r\\n    {\\r\\n        large = a;\\r\\n        if (b > c)\\r\\n        {\\r\\n            medium = b;\\r\\n            small = c;\\r\\n        }\\r\\n        else\\r\\n        {\\r\\n            imedium = c;\\r\\n            small = b;\\r\\n        }\\r\\n    }\\r\\n    if (b > a && b > c)\\r\\n    {\\r\\n     large = b;\\r\\n        if (a > c)\\r\\n        {\\r\\n            medium = a;\\r\\n            small = c;\\r\\n        }\\r\\n        else\\r\\n        {\\r\\n            medium = c;\\r\\n            small = a;\\r\\n        }\\r\\n    }\\r\\n    if (c > a && c > b)\\r\\n    {\\r\\n        large = c;\\r\\n        if (a > b)\\r\\n        {\\r\\n            medium = a;\\r\\n            small = b;\\r\\n        }\\r\\n        else\\r\\n        {\\r\\n            medium = b;\\r\\n            ismall = a;\\r\\n        }\\r\\n    }\\r\\n    int difference1 = large - medium;\\r\\n    int difference2 = medium - small;\\r\\n    if (difference1 == difference2)\\r\\n    {\\r\\n        return true;\\r\\n    }\\r\\n    else\\r\\n    {\\r\\n        return false;\\r\\n    }\\r\\n}\\r\\n',\n",
       "  'public boolean evenlySpaced(int a, int b, int c)\\r\\n{\\r\\n    int large = 0;\\r\\n    int medium = 0;\\r\\n    int small = 0;\\r\\n    if (a > b && a > c)\\r\\n    {\\r\\n        large = a;\\r\\n        if (b > c)\\r\\n        {\\r\\n            medium = b;\\r\\n            small = c;\\r\\n        }\\r\\n        else\\r\\n        {\\r\\n            medium = c;\\r\\n            small = b;\\r\\n        }\\r\\n    }\\r\\n    if (b > a && b > c)\\r\\n    {\\r\\n     large = b;\\r\\n        if (a > c)\\r\\n        {\\r\\n            medium = a;\\r\\n            small = c;\\r\\n        }\\r\\n        else\\r\\n        {\\r\\n            medium = c;\\r\\n            small = a;\\r\\n        }\\r\\n    }\\r\\n    if (c > a && c > b)\\r\\n    {\\r\\n        large = c;\\r\\n        if (a > b)\\r\\n        {\\r\\n            medium = a;\\r\\n            small = b;\\r\\n        }\\r\\n        else\\r\\n        {\\r\\n            medium = b;\\r\\n            small = a;\\r\\n        }\\r\\n    }\\r\\n    int difference1 = large - medium;\\r\\n    int difference2 = medium - small;\\r\\n    if (difference1 == difference2)\\r\\n    {\\r\\n        return true;\\r\\n    }\\r\\n    else\\r\\n    {\\r\\n        return false;\\r\\n    }\\r\\n}\\r\\n',\n",
       "  'public boolean evenlySpaced(int a, int b, int c)\\r\\n{\\r\\n    int large = 0;\\r\\n    int medium = 0;\\r\\n    int small = 0;\\r\\n    if (a > b && a > c)\\r\\n    {\\r\\n        large = a;\\r\\n        if (b > c)\\r\\n        {\\r\\n            medium = b;\\r\\n            small = c;\\r\\n        }\\r\\n        else\\r\\n        {\\r\\n            medium = c;\\r\\n            small = b;\\r\\n        }\\r\\n    }\\r\\n    if (b > a && b > c)\\r\\n    {\\r\\n     large = b;\\r\\n        if (a > c)\\r\\n        {\\r\\n            medium = a;\\r\\n            small = c;\\r\\n        }\\r\\n        else\\r\\n        {\\r\\n            medium = c;\\r\\n            small = a;\\r\\n        }\\r\\n    }\\r\\n    if (c > a && c > b)\\r\\n    {\\r\\n        large = c;\\r\\n        if (a > b)\\r\\n        {\\r\\n            medium = a;\\r\\n            small = b;\\r\\n        }\\r\\n        else\\r\\n        {\\r\\n            medium = b;\\r\\n            small = a;\\r\\n        }\\r\\n    }\\r\\n    int difference1 = large - medium;\\r\\n    int difference2 = medium - small;\\r\\n    if (difference1 != 0 && difference2 != 0 && difference1 == difference2)\\r\\n    {\\r\\n        return true;\\r\\n    }\\r\\n    else\\r\\n    {\\r\\n        return false;\\r\\n    }\\r\\n}\\r\\n',\n",
       "  'public boolean evenlySpaced(int a, int b, int c)\\r\\n{\\r\\n   e = abs(b-c);\\r\\n}\\r\\n',\n",
       "  'public boolean evenlySpaced(int a, int b, int c)\\r\\n{\\r\\n    if (a > b && a > c)\\r\\n    {\\r\\n        int large = a;\\r\\n        if (b > c)\\r\\n        {\\r\\n            int medium = b;\\r\\n            int small = c;\\r\\n        }\\r\\n        else\\r\\n        {\\r\\n            int medium = c;\\r\\n            int small = b;\\r\\n        }\\r\\n    }\\r\\n    if (b > a && b > c)\\r\\n    {\\r\\n        int large = b;\\r\\n        if (a > c)\\r\\n        {\\r\\n            int medium = a;\\r\\n            int small = c;\\r\\n        }\\r\\n        else\\r\\n        {\\r\\n            int medium = c;\\r\\n            int small = a;\\r\\n        }\\r\\n    }\\r\\n    if (c > a && c > b)\\r\\n    {\\r\\n        int large = c;\\r\\n        if (a > b)\\r\\n        {\\r\\n            int medium = a;\\r\\n            int small = b;\\r\\n        }\\r\\n        else\\r\\n        {\\r\\n            int medium = b;\\r\\n            int small = a;\\r\\n        }\\r\\n    }\\r\\n    //int difference1 = large - medium;\\r\\n    int difference2 = medium - small;\\r\\n    if (difference1 == difference2)\\r\\n    {\\r\\n        return true;\\r\\n    }\\r\\n    else\\r\\n    {\\r\\n        return false;\\r\\n    }\\r\\n}\\r\\n'],\n",
       " ['public String atFirst(String str)\\r\\n{\\r\\n    length = str.length();\\r\\n    if (length == 1)\\r\\n    {\\r\\n        return str.substring(0,1) + \"@\";\\r\\n    }\\r\\n    else if (length == 0)\\r\\n    {\\r\\n        return \"@@\";\\r\\n    else\\r\\n    {\\r\\n        return str.substring(0,2);\\r\\n    }\\r\\n}\\r\\n',\n",
       "  'public String atFirst(String str)\\r\\n{\\r\\n    int length = str.length();\\r\\n    if (length == 1)\\r\\n    {\\r\\n        return str.substring(0,1) + \"@\";\\r\\n    }\\r\\n    else if (length == 0)\\r\\n    {\\r\\n        return \"@@\";\\r\\n    }\\r\\n    else\\r\\n    {\\r\\n        return str.substring(0,2);\\r\\n    }\\r\\n}\\r\\n',\n",
       "  'public String atFirst(String str)\\r\\n{\\r\\n    length = str.length();\\r\\n    if (length == 1)\\r\\n    {\\r\\n        return str.substring(0,1) + \"@\";\\r\\n    }\\r\\n    else if (length == 0)\\r\\n    {\\r\\n        return \"@@\";\\r\\n    }\\r\\n    else\\r\\n    {\\r\\n        return str.substring(0,2);\\r\\n    }\\r\\n}\\r\\n',\n",
       "  'public String atFirst(String str)\\r\\n{\\r\\n    length = str.length()\\r\\n    if (length == 1)\\r\\n    {\\r\\n        return str.substring(0,1) + \"@\";\\r\\n    }\\r\\n    else if (length == 0)\\r\\n    {\\r\\n        return \"@@\";\\r\\n    else\\r\\n    {\\r\\n        return str.substring(0,2);\\r\\n    }\\r\\n}\\r\\n'],\n",
       " ['public int roundSum(int a, int b, int c)\\r\\n{\\r\\n    return round10(a)+round10(b)+round10(c);\\r\\n}\\r\\n\\r\\npublic int round10(int num)\\r\\n{\\r\\n    if(num%10>=5)\\r\\n    {\\r\\n        num=num+(10-num%10);\\r\\n    }\\r\\n    else\\r\\n    {\\r\\n        num=num-num%10;\\r\\n    }\\r\\n}\\r\\n',\n",
       "  'public int roundSum(int a, int b, int c)\\r\\n{\\r\\n    return round10(a)+round10(b)+round10(c);\\r\\n}\\r\\n\\r\\npublic int round10(int num)\\r\\n{\\r\\n    if(num%10>=5)\\r\\n    {\\r\\n        num=num+(10-num%10);\\r\\n        return num;\\r\\n    }\\r\\n    else\\r\\n    {\\r\\n        num=num-num%10;\\r\\n        return num;\\r\\n    }\\r\\n}\\r\\n'],\n",
       " ['public int makeChocolate(int small, int big, int goal)\\r\\n{\\r\\n    while (big*5>goal)\\r\\n    {\\r\\n        big--;\\r\\n    }\\r\\n    int numSmall = goal%big*5;\\r\\n    if (goal<5)\\r\\n    {\\r\\n        return -1;\\r\\n    }\\r\\n    else if (numSmall > small)\\r\\n    {\\r\\n        return -1;\\r\\n    }\\r\\n    else\\r\\n    {\\r\\n        return numSmall;\\r\\n    }\\r\\n}\\r\\n',\n",
       "  'public int makeChocolate(int small, int big, int goal)\\r\\n{\\r\\n    small = goal%big;\\r\\n    if (goal<5)\\r\\n    {\\r\\n        return -1;\\r\\n    }\\r\\n    else\\r\\n    {\\r\\n        return small;\\r\\n    }\\r\\n}\\r\\n',\n",
       "  'public int makeChocolate(int small, int big, int goal)\\r\\n{\\r\\n    int numSmall = goal-big*5);\\r\\n    if (goal<5)\\r\\n    {\\r\\n        return -1;\\r\\n    }\\r\\n    else if (numSmall > small)\\r\\n    {\\r\\n        return -1;\\r\\n    }\\r\\n    else\\r\\n    {\\r\\n        return numSmall;\\r\\n    }\\r\\n}\\r\\n',\n",
       "  'public int makeChocolate(int small, int big, int goal)\\r\\n{\\r\\n    int theoreticalSmall = goal%(big*5);\\r\\n    if (goal<5)\\r\\n    {\\r\\n        return -1;\\r\\n    }\\r\\n    else if (theoreticalSmall > small)\\r\\n    {\\r\\n        return -1;\\r\\n    }\\r\\n    else\\r\\n    {\\r\\n        return small;\\r\\n    }\\r\\n}\\r\\n',\n",
       "  'public int makeChocolate(int small, int big, int goal)\\r\\n{\\r\\n    while (big*5 > goal)\\r\\n    {\\r\\n        big--;\\r\\n    }\\r\\n    int numRemaining = goal%(big*5);\\r\\n    if (numRemaining > small)\\r\\n    {\\r\\n        return -1;\\r\\n    }\\r\\n    else\\r\\n    {\\r\\n        return numRemaining;\\r\\n    }\\r\\n}\\r\\n',\n",
       "  'public int makeChocolate(int small, int big, int goal)\\r\\n{\\r\\n    while (big*5 > goal)\\r\\n    {\\r\\n        big--;\\r\\n    }\\r\\n    goal = goal - big*five;\\r\\n    int numRemaining = goal%(big*5);\\r\\n    if (numRemaining > small)\\r\\n    {\\r\\n        return -1;\\r\\n    }\\r\\n    else\\r\\n    {\\r\\n        return numRemaining;\\r\\n    }\\r\\n}\\r\\n',\n",
       "  'public int makeChocolate(int small, int big, int goal)\\r\\n{\\r\\n    while (big*5 > goal)\\r\\n    {\\r\\n        big--;\\r\\n    }\\r\\n    goal = goal - big*5;\\r\\n    if (goal > small)\\r\\n    {\\r\\n        return -1;\\r\\n    }\\r\\n    else\\r\\n    {\\r\\n        return goal;\\r\\n    }\\r\\n}\\r\\n',\n",
       "  'public int makeChocolate(int small, int big, int goal)\\r\\n{\\r\\n    while (big*5 > goal)\\r\\n    {\\r\\n        big--;\\r\\n    }\\r\\n    goal = goal - big*five\\r\\n    int numRemaining = goal%(big*5);\\r\\n    if (numRemaining > small)\\r\\n    {\\r\\n        return -1;\\r\\n    }\\r\\n    else\\r\\n    {\\r\\n        return numRemaining;\\r\\n    }\\r\\n}\\r\\n',\n",
       "  'public int makeChocolate(int small, int big, int goal)\\r\\n{\\r\\n    theoreticalSmall = goal%(big*5);\\r\\n    if (goal<5)\\r\\n    {\\r\\n        return -1;\\r\\n    }\\r\\n    else if (theoreticalSmall > small)\\r\\n    {\\r\\n        return -1;\\r\\n    }\\r\\n    else\\r\\n    {\\r\\n        return small;\\r\\n    }\\r\\n}\\r\\n',\n",
       "  'public int makeChocolate(int small, int big, int goal)\\r\\n{\\r\\n    while (big*5 > goal)\\r\\n    {\\r\\n        big--;\\r\\n    }\\r\\n    goal = goal - big*5;\\r\\n    int numRemaining = goal%(big*5);\\r\\n    if (numRemaining > small)\\r\\n    {\\r\\n        return -1;\\r\\n    }\\r\\n    else\\r\\n    {\\r\\n        return numRemaining;\\r\\n    }\\r\\n}\\r\\n',\n",
       "  'public int makeChocolate(int small, int big, int goal)\\r\\n{\\r\\n    int numSmall = goal%(big*5);\\r\\n    if (goal<5)\\r\\n    {\\r\\n        return -1;\\r\\n    }\\r\\n    else if (numSmall > small)\\r\\n    {\\r\\n        return -1;\\r\\n    }\\r\\n    else\\r\\n    {\\r\\n        return numSmall;\\r\\n    }\\r\\n}\\r\\n',\n",
       "  'public int makeChocolate(int small, int big, int goal)\\r\\n{\\r\\n    small = goal%(big*5);\\r\\n    if (goal<5)\\r\\n    {\\r\\n        return -1;\\r\\n    }\\r\\n    else\\r\\n    {\\r\\n        return small;\\r\\n    }\\r\\n}\\r\\n',\n",
       "  'public int makeChocolate(int small, int big, int goal)\\r\\n{\\r\\n    int numSmall = goal-big*5;\\r\\n    if (goal<5)\\r\\n    {\\r\\n        return -1;\\r\\n    }\\r\\n    else if (numSmall > small)\\r\\n    {\\r\\n        return -1;\\r\\n    }\\r\\n    else\\r\\n    {\\r\\n        return numSmall;\\r\\n    }\\r\\n}\\r\\n'],\n",
       " ['public String without2(String str) \\r\\n{\\r\\n    int length = str.length();\\r\\n    if (str.substring(0, 1) == str.substring(length-2, length-1))//last two = firsttwo\\r\\n    {\\r\\n        String smaller = str.substring(2, length); //new string that has all but first two characters\\r\\n    }\\r\\n    else\\r\\n    {\\r\\n        return str;\\r\\n    }\\r\\n}\\r\\n',\n",
       "  'public String without2(String str) \\r\\n{\\r\\n    int length = length(str);\\r\\n    if (str.charAt(0) + str.charAt(1) = str.charAt(length - 1) + str.charAt(length - 2))//last two = firsttwo\\r\\n    {\\r\\n        return str; //new string that has all but first two characters\\r\\n    }\\r\\n    else\\r\\n    {\\r\\n        return str;\\r\\n    }\\r\\n}\\r\\n',\n",
       "  'public String without2(String str) \\r\\n{\\r\\n    int length = str.length();\\r\\n    if (str.substring(0, 1) == str.substring(length-2, length-1))//last two = firsttwo\\r\\n    {\\r\\n        String smaller = str.substring(2, length-1); //new string that has all but first two characters\\r\\n        return smaller;\\r\\n    }\\r\\n    else\\r\\n    {\\r\\n        return str;\\r\\n    }\\r\\n}\\r\\n',\n",
       "  'public String without2(String str) \\r\\n{\\r\\n    int length = str.length();\\r\\n    if (length => 2)\\r\\n    {\\r\\n    \\tif (str.substring(0, 1) == str.substring(length-2, length-1))//last two = firsttwo\\r\\n   \\t    {\\r\\n        \\tString smaller = str.substring(2, length-1);\\r\\n        \\treturn smaller;\\r\\n    \\t}\\r\\n        else\\r\\n        {\\r\\n            return str;\\r\\n        }\\r\\n    }\\r\\n    else\\r\\n    {\\r\\n        return str;\\r\\n    }\\r\\n}\\r\\n',\n",
       "  'public String without2(String str) \\r\\n{\\r\\n    int length = length(str);\\r\\n    if (str.charAt(0) + str.charAt(1) = str.charAt(length - 1) + str.charAt(length - 2))//last two = firsttwo\\r\\n    {\\r\\n        return () //new string that has all but first two characters\\r\\n    }\\r\\n    else\\r\\n    {\\r\\n        return str;\\r\\n    }\\r\\n}\\r\\n',\n",
       "  'public String without2(String str) \\r\\n{\\r\\n    int length = str.length();\\r\\n    if (length >= 2)\\r\\n    {\\r\\n    \\tif (str.substring(0, 1).equals(str.substring(length-2, length-1)))//last two = firsttwo\\r\\n   \\t    {\\r\\n        \\tif(length == 2 || length == 1)\\r\\n            {\\r\\n                return \"\";\\r\\n            }\\r\\n            else\\r\\n            {\\r\\n            \\tString smallerStr = str.substring(2, length-1);\\r\\n        \\t\\treturn smallerStr;\\r\\n            }\\r\\n    \\t}\\r\\n        else\\r\\n        {\\r\\n            return str;\\r\\n        }\\r\\n    }\\r\\n    else\\r\\n    {\\r\\n        return str;\\r\\n    }\\r\\n}\\r\\n',\n",
       "  'public String without2(String str) \\r\\n{\\r\\n    int length = str.length();\\r\\n    if (length >= 2)\\r\\n    {\\r\\n    \\tif (str.substring(0, 1).equals(str.substring(length-2, length-1)))//last two = firsttwo\\r\\n   \\t    {\\r\\n        \\tString smallerStr = str.substring(2, length);\\r\\n        \\treturn smallerStr;\\r\\n    \\t}\\r\\n        else\\r\\n        {\\r\\n            return str;\\r\\n        }\\r\\n    }\\r\\n    else\\r\\n    {\\r\\n        return str;\\r\\n    }\\r\\n}\\r\\n',\n",
       "  'public String without2(String str) \\r\\n{\\r\\n    int length = str.length();\\r\\n    if (length >= 2)\\r\\n    {\\r\\n    \\tif (str.substring(0, 1).equals(str.substring(length-1, length)))//last two = firsttwo\\r\\n   \\t    {\\r\\n        \\tString smallerStr = str.substring(2, length);\\r\\n        \\treturn smallerStr;\\r\\n    \\t}\\r\\n        else\\r\\n        {\\r\\n            return str;\\r\\n        }\\r\\n    }\\r\\n    else\\r\\n    {\\r\\n        return str;\\r\\n    }\\r\\n}\\r\\n',\n",
       "  'public String without2(String str) \\r\\n{\\r\\n    int length = str.length();\\r\\n    if (str.charAt(0) + str.charAt(1) = str.charAt(length - 1) + str.charAt(length - 2))//last two = firsttwo\\r\\n    {\\r\\n        return str; //new string that has all but first two characters\\r\\n    }\\r\\n    else\\r\\n    {\\r\\n        return str;\\r\\n    }\\r\\n}\\r\\n',\n",
       "  'public String without2(String str) \\r\\n{\\r\\n    int length = str.length();\\r\\n    if (length >= 2)\\r\\n    {\\r\\n    \\tif (str.substring(0, 1) == str.substring(length-2, length-1))//last two = firsttwo\\r\\n   \\t    {\\r\\n        \\tString smaller = str.substring(2, length-1);\\r\\n        \\treturn smaller;\\r\\n    \\t}\\r\\n        else\\r\\n        {\\r\\n            return str;\\r\\n        }\\r\\n    }\\r\\n    else\\r\\n    {\\r\\n        return str;\\r\\n    }\\r\\n}\\r\\n',\n",
       "  'public String without2(String str) \\r\\n{\\r\\n    int length = str.length();\\r\\n    if (length >= 2)\\r\\n    {\\r\\n    \\tif (str.substring(0, 2).equals(str.substring(length-2, length)))//last two = firsttwo\\r\\n   \\t    {\\r\\n        \\tif(length == 2 || length == 1)\\r\\n            {\\r\\n                return \"\";\\r\\n            }\\r\\n            else\\r\\n            {\\r\\n            \\tString smallerStr = str.substring(2, length);\\r\\n        \\t\\treturn smallerStr;\\r\\n            }\\r\\n    \\t}\\r\\n        else\\r\\n        {\\r\\n            return str;\\r\\n        }\\r\\n    }\\r\\n    else\\r\\n    {\\r\\n        return str;\\r\\n    }\\r\\n}\\r\\n',\n",
       "  'public String without2(String str) \\r\\n{\\r\\n    int length = length(str);\\r\\n    if (str.charAt(0) + str.charAt(1) = str.charAt(length - 1) + str.charAt(length - 2)//last two = firsttwo\\r\\n    {\\r\\n        return () //new string that has all but first two characters\\r\\n    }\\r\\n    else\\r\\n    {\\r\\n        return str;\\r\\n    }\\r\\n}\\r\\n',\n",
       "  'public String without2(String str) \\r\\n{\\r\\n    int length = str.length();\\r\\n    if (length >= 2)\\r\\n    {\\r\\n    \\tif (str.substring(0, 1).equals(str.substring(length-2, length-1)))//last two = firsttwo\\r\\n   \\t    {\\r\\n        \\tif(length == 2 || length == 1)\\r\\n            {\\r\\n                return \"\";\\r\\n            }\\r\\n            else\\r\\n            {\\r\\n            \\tString smallerStr = str.substring(2, length);\\r\\n        \\t\\treturn smallerStr;\\r\\n            }\\r\\n    \\t}\\r\\n        else\\r\\n        {\\r\\n            return str;\\r\\n        }\\r\\n    }\\r\\n    else\\r\\n    {\\r\\n        return str;\\r\\n    }\\r\\n}\\r\\n',\n",
       "  'public String without2(String str) \\r\\n{\\r\\n    int length = str.length();\\r\\n    if (length < 2)\\r\\n    {\\r\\n    \\tif (str.substring(0, 1) == str.substring(length-2, length-1))//last two = firsttwo\\r\\n   \\t    {\\r\\n        \\tString smaller = str.substring(2, length-1);\\r\\n        \\treturn smaller;\\r\\n    \\t}\\r\\n    }\\r\\n    else\\r\\n    {\\r\\n        return str;\\r\\n    }\\r\\n}\\r\\n',\n",
       "  'public String without2(String str) \\r\\n{\\r\\n    int length = str.length();\\r\\n    if (length < 2)\\r\\n    {\\r\\n    `\\tif (str.substring(0, 1) == str.substring(length-2, length-1))//last two = firsttwo\\r\\n   \\t    {\\r\\n        \\tString smaller = str.substring(2, length-1);\\r\\n        \\treturn smaller;\\r\\n    \\t}\\r\\n    }\\r\\n    else\\r\\n    {\\r\\n        return str;\\r\\n    }\\r\\n}\\r\\n',\n",
       "  'public String without2(String str) \\r\\n{\\r\\n    int length = str.length();\\r\\n    if (str.substring(0, 1) == str.substring(length-2, length-1))//last two = firsttwo\\r\\n    {\\r\\n        String smaller = str.substring(2, length); //new string that has all but first two characters\\r\\n        return smaller;\\r\\n    }\\r\\n    else\\r\\n    {\\r\\n        return str;\\r\\n    }\\r\\n}\\r\\n',\n",
       "  'public String without2(String str) \\r\\n{\\r\\n    int length = str.length();\\r\\n    if (length >= 2)\\r\\n    {\\r\\n    \\tif (str.substring(0, 1).equals(str.substring(length-2, length-1)))//last two = firsttwo\\r\\n   \\t    {\\r\\n        \\tif(length = 2 || length = 1)\\r\\n            {\\r\\n                return \"\";\\r\\n            }\\r\\n            else\\r\\n            {\\r\\n            \\tString smallerStr = str.substring(2, length-1);\\r\\n        \\t\\treturn smallerStr;\\r\\n            }\\r\\n    \\t}\\r\\n        else\\r\\n        {\\r\\n            return str;\\r\\n        }\\r\\n    }\\r\\n    else\\r\\n    {\\r\\n        return str;\\r\\n    }\\r\\n}\\r\\n',\n",
       "  'public String without2(String str) \\r\\n{\\r\\n    int length = str.length();\\r\\n    if (str.charAt(0) + str.charAt(1) = str.charAt(length - 1) + str.charAt(length - 2))//last two = firsttwo\\r\\n    {\\r\\n        String smaller = str.substring(2, length); //new string that has all but first two characters\\r\\n    }\\r\\n    else\\r\\n    {\\r\\n        return str;\\r\\n    }\\r\\n}\\r\\n',\n",
       "  'public String without2(String str) \\r\\n{\\r\\n    int length = str.length();\\r\\n    if (length > 2)\\r\\n    {\\r\\n    \\tif (str.substring(0, 1) == str.substring(length-2, length-1))//last two = firsttwo\\r\\n   \\t    {\\r\\n        \\tString smaller = str.substring(2, length-1);\\r\\n        \\treturn smaller;\\r\\n    \\t}\\r\\n        else\\r\\n        {\\r\\n            return str;\\r\\n        }\\r\\n    }\\r\\n    else\\r\\n    {\\r\\n        return str;\\r\\n    }\\r\\n}\\r\\n',\n",
       "  'public String without2(String str) \\r\\n{\\r\\n    int length = str.length();\\r\\n    if (str.substring(0, 1) == str.substring(length-2, length-1))//last two = firsttwo\\r\\n    {\\r\\n        String smaller = str.substring(2, length-1) //new string that has all but first two characters\\r\\n        return smaller;\\r\\n    }\\r\\n    else\\r\\n    {\\r\\n        return str;\\r\\n    }\\r\\n}\\r\\n',\n",
       "  'public String without2(String str) \\r\\n{\\r\\n    if ()//last two = firsttwo\\r\\n    {\\r\\n        return () //new string that has all but first two characters\\r\\n    }\\r\\n    else\\r\\n    {\\r\\n        return str;\\r\\n    }\\r\\n}\\r\\n',\n",
       "  'public String without2(String str) \\r\\n{\\r\\n    int length = str.length();\\r\\n    if (length >= 2)\\r\\n    {\\r\\n    \\tif (str.substring(0, 1).equals(str.substring(length-2, length-1)))//last two = firsttwo\\r\\n   \\t    {\\r\\n        \\tString smallerStr = str.substring(2, length-1);\\r\\n        \\treturn smallerStr;\\r\\n    \\t}\\r\\n        else\\r\\n        {\\r\\n            return str;\\r\\n        }\\r\\n    }\\r\\n    else\\r\\n    {\\r\\n        return str;\\r\\n    }\\r\\n}\\r\\n'],\n",
       " ['public String repeatEnd(String str, int n)\\r\\n{\\r\\n    String answer;\\r\\n    String sub = str.substring(str.length() - n - 1, str.length() - 1);\\r\\n    for (int i = 0; i < n; i++)\\r\\n    {\\r\\n        answer = answer + sub;\\r\\n    }\\r\\n    return answer;\\r\\n}\\r\\n',\n",
       "  'public String repeatEnd(String str, int n)\\r\\n{\\r\\n    sub = str.substring(str.length() - n - 1, str.length() - 1);\\r\\n    for (int i = 0; i < n; i++)\\r\\n    {\\r\\n        String answer = answer + sub;\\r\\n    }\\r\\n    return answer;\\r\\n}\\r\\n',\n",
       "  'public String repeatEnd(String str, int n)\\r\\n{\\r\\n    String answer = \"\";\\r\\n    String sub = str.substring(str.length() - n, str.length());\\r\\n    for (int i = 0; i < n; i++)\\r\\n    {\\r\\n        answer = answer + sub;\\r\\n    }\\r\\n    return answer;\\r\\n}\\r\\n',\n",
       "  'public String repeatEnd(String str, int n)\\r\\n{\\r\\n    String sub = str.substring(str.length() - n - 1, str.length() - 1);\\r\\n    for (int i = 0; i < n; i++)\\r\\n    {\\r\\n        String answer = answer + sub;\\r\\n    }\\r\\n    return answer;\\r\\n}\\r\\n',\n",
       "  'public String repeatEnd(String str, int n)\\r\\n{\\r\\n    String answer = \"\";\\r\\n    String sub = str.substring(str.length() - n - 1, str.length() - 1);\\r\\n    for (int i = 0; i < n; i++)\\r\\n    {\\r\\n        String answer = answer + sub;\\r\\n    }\\r\\n    return answer;\\r\\n}\\r\\n',\n",
       "  'public String repeatEnd(String str, int n)\\r\\n{\\r\\n    String answer = \"\";\\r\\n    String sub = str.substring(str.length() - n - 1, str.length() - 1);\\r\\n    for (int i = 0; i < n; i++)\\r\\n    {\\r\\n        answer = answer + sub;\\r\\n    }\\r\\n    return answer;\\r\\n}\\r\\n',\n",
       "  'public String repeatEnd(String str, int n)\\r\\n{\\r\\n    String answer = \"\"\\r\\n    String sub = str.substring(str.length() - n - 1, str.length() - 1);\\r\\n    for (int i = 0; i < n; i++)\\r\\n    {\\r\\n        String answer = answer + sub;\\r\\n    }\\r\\n    return answer\\r\\n}\\r\\n',\n",
       "  'public String repeatEnd(String str, int n)\\r\\n{\\r\\n    String answer = \"\";\\r\\n    String sub = str.substring(str.length() - n, str.length() - 1);\\r\\n    for (int i = 0; i < n; i++)\\r\\n    {\\r\\n        answer = answer + sub;\\r\\n    }\\r\\n    return answer;\\r\\n}\\r\\n',\n",
       "  'public String repeatEnd(String str, int n)\\r\\n{\\r\\n    String answer;\\r\\n    String sub = str.substring(str.length() - n - 1, str.length() - 1);\\r\\n    for (int i = 0; i < n; i++)\\r\\n    {\\r\\n        String answer = answer + sub;\\r\\n    }\\r\\n    return answer;\\r\\n}\\r\\n',\n",
       "  'public String repeatEnd(String str, int n)\\r\\n{\\r\\n    sub = str.substring(str.length() - n - 1, str.length() - 1)\\r\\n    for (int i = 0; i < n; i++)\\r\\n    {\\r\\n        String answer = answer + sub;\\r\\n    }\\r\\n    return answer;\\r\\n}\\r\\n',\n",
       "  'public String repeatEnd(String str, int n)\\r\\n{\\r\\n    String finalAnswer;\\r\\n    String sub = str.substring(str.length() - n - 1, str.length() - 1);\\r\\n    for (int i = 0; i < n; i++)\\r\\n    {\\r\\n        String answer = answer + sub;\\r\\n        finalAnswer = answer;\\r\\n    }\\r\\n    return finalAnswer;\\r\\n}\\r\\n'],\n",
       " ['public String plusOut(String str, String word)\\r\\n{\\r\\n    int last = 0;\\r\\n    String sub2 = \"\";\\r\\n    String answer = \"\";\\r\\n        \\r\\n    for (int i = 0; i < str.length(); i++)\\r\\n    {\\r\\n        if (str.charAt(i) == \\'w\\' && str.charAt(i + 1) == \\'o\\' &&     \\t\\t\\tstr.charAt( i + 2) == \\'r\\' && str.charAt(i + 3) == \\'d\\')\\r\\n        {\\r\\n            String sub = str.substring(last, i);\\r\\n            int num = sub.length();\\r\\n            for (int j = 0; j < num; j++)\\r\\n            {\\r\\n                sub2 = sub2 + \"+\";\\r\\n            }\\r\\n            answer = answer + sub2 + \"word\";\\r\\n        }\\r\\n    }\\r\\n    return answer;\\r\\n}\\r\\n',\n",
       "  'public String plusOut(String str, String word)\\r\\n{\\r\\n    int last = 0;\\r\\n    String sub2 = \"\";\\r\\n    String answer = \"\";\\r\\n        \\r\\n    for (int i = 0; i < str.length(); i++)\\r\\n    {\\r\\n        if (str.charAt(i) == \\'w\\' && str.charAt(i + 1) == \\'o\\' &&     \\t\\t\\t\\t\\tstr.charAt( i + 2) == \\'r\\' && str.charAt(i + 3) == \\'d\\')\\r\\n        {\\r\\n            String sub = str.substring(last, i);\\r\\n            int num = sub.length();\\r\\n            for (int i = 0; i < num; i++)\\r\\n            {\\r\\n                sub2 = sub2 + \"+\";\\r\\n            }\\r\\n            answer = answer + sub2 + \"word\";\\r\\n        }\\r\\n    }\\r\\n    return answer;\\r\\n}\\r\\n',\n",
       "  'public String plusOut(String str, String word)\\r\\n{\\r\\n    int last = 0;\\r\\n    String sub2 = \"\";\\r\\n    String answer = \"\";\\r\\n        \\r\\n    for (int i = 0; i < str.length(); i++)\\r\\n    {\\r\\n        if (str.charAt(i) = \\'w\\' && str.charAt(i + 1) = \\'o\\' &&     \\t\\t\\t\\t\\tstr.charAt( i + 2) = \\'r\\' && str.charAt(i + 3) = \\'d\\')\\r\\n        {\\r\\n            String sub = str.substring(last, i);\\r\\n            int num = sub.length();\\r\\n            for (int i = 0; i < num; i++)\\r\\n            {\\r\\n                sub2 = sub2 + \"+\";\\r\\n            }\\r\\n            answer = answer + sub2 + \"word\";\\r\\n        }\\r\\n    }\\r\\n    return answer;\\r\\n}\\r\\n',\n",
       "  'public String plusOut(String str, String word)\\r\\n{\\r\\n    int last = 0;\\r\\n    String sub2 = \"\";\\r\\n    String answer = \"\";\\r\\n        \\r\\n    for (int i = 0; i < str.length(); i++)\\r\\n    {\\r\\n        if (str.charAt(i) == \\'w\\' && str.charAt(i + 1) == \\'o\\' &&     \\t\\t\\tstr.charAt( i + 2) == \\'r\\' && str.charAt(i + 3) == \\'d\\')\\r\\n        {\\r\\n            String sub = str.substring(last, i);\\r\\n            for (int j = 0; j < sub.length(); j++)\\r\\n            {\\r\\n                sub2 = sub2 + \"+\";\\r\\n            }\\r\\n            answer = answer + sub2 + \"word\";\\r\\n        }\\r\\n    }\\r\\n    return answer;\\r\\n}\\r\\n',\n",
       "  'public String plusOut(String str, String word)\\r\\n{\\r\\n    String sub = \"\";\\r\\n    String leftover = str;\\r\\n    String answer = \"\";\\r\\n    for (int i = 0; i < 5; i++)\\r\\n    {\\r\\n    \\tsub = leftover.substring(0, leftover.indexOf(word));\\r\\n        leftover = leftover.substring(\\r\\n                leftover.indexOf(word) + word.length(), leftover.length());\\r\\n        for (int i = 0; i < sub.length(); i++)\\r\\n        {\\r\\n            answer = answer + \"+\";\\r\\n        }\\r\\n        answer = answer + word;\\r\\n    }\\r\\n    \\r\\n}\\r\\n',\n",
       "  'public String plusOut(String str, String word)\\r\\n{\\r\\n    String sub = \"\";\\r\\n    String leftover = str;\\r\\n    String answer = \"\";\\r\\n    while (leftover.contains(word))\\r\\n    {\\r\\n    \\tsub = leftover.substring(0, leftover.indexOf(word));\\r\\n        leftover = leftover.substring(\\r\\n                leftover.indexOf(word) + word.length(), leftover.length());\\r\\n        for (int j = 0; j < sub.length(); j++)\\r\\n        {\\r\\n            answer = answer + \"+\";\\r\\n        }\\r\\n        answer = answer + word;\\r\\n    }\\r\\n    for (int x = 0; x < leftover.length(); x++)\\r\\n    {\\r\\n        answer = answer + \"+\";\\r\\n    }\\r\\n    return answer;\\r\\n    \\r\\n}\\r\\n',\n",
       "  'public String plusOut(String str, String word)\\r\\n{\\r\\n    String sub = \"\";\\r\\n    String leftover = str;\\r\\n    String answer = \"\";\\r\\n    while (leftover.contains(word))\\r\\n    {\\r\\n    \\tsub = leftover.substring(0, leftover.indexOf(word));\\r\\n        leftover = leftover.substring(\\r\\n                leftover.indexOf(word) + word.length(), leftover.length());\\r\\n        for (int j = 0; j < sub.length(); j++)\\r\\n        {\\r\\n            answer = answer + \"+\";\\r\\n        }\\r\\n        answer = answer + word;\\r\\n    }\\r\\n    return answer;\\r\\n    \\r\\n}\\r\\n',\n",
       "  'public String plusOut(String str, String word)\\r\\n{\\r\\n    String sub = \"\";\\r\\n    String leftover = str;\\r\\n    String answer = \"\";\\r\\n    for (int i = 0; i < 5; i++)\\r\\n    {\\r\\n    \\tsub = leftover.substring(0, leftover.indexOf(word));\\r\\n        leftover = leftover.substring(\\r\\n                leftover.indexOf(word) + word.length(), leftover.length());\\r\\n        for (int j = 0; j < sub.length(); j++)\\r\\n        {\\r\\n            answer = answer + \"+\";\\r\\n        }\\r\\n        answer = answer + word;\\r\\n    }\\r\\n    return answer;\\r\\n    \\r\\n}\\r\\n'],\n",
       " ['public String mixString(String a, String b)\\r\\n{\\r\\n    String result = \"\";\\r\\n    String subA = \"\";\\r\\n    String subB = \"\";\\r\\n    for (int i = 0; i < a.length() && i < b.length(); i++)\\r\\n    {\\r\\n       result = result + a.charAt(i) + b.charAt(i);\\r\\n    }\\r\\n    if (a.length() > b.length())\\r\\n    {\\r\\n        subA = a.substring(b.length(), a.length());\\r\\n    }\\r\\n    else if (b.length() > a.length())\\r\\n    {\\r\\n        subB = b.substring(a.length(), b.length());\\r\\n    }\\r\\n    result = result + subA + subB;\\r\\n    return result;\\r\\n}\\r\\n',\n",
       "  'public String mixString(String a, String b)\\r\\n{\\r\\n    String result = \"\";\\r\\n    String subA = \"\";\\r\\n    String subB = \"\";\\r\\n    for (int i = 0; i < a.length() && i < b.length())\\r\\n    {\\r\\n       result = result + a.charAt(i) + b.charAt(i);\\r\\n    }\\r\\n    if (a.length() > b.length())\\r\\n    {\\r\\n        subA = a.substring(b.length(), a.length());\\r\\n    }\\r\\n    else if (b.length() > a.length())\\r\\n    {\\r\\n        subB = b.substring(a.length(), b.length());\\r\\n    }\\r\\n    result = result + subA + subB;\\r\\n    return result;\\r\\n}\\r\\n',\n",
       "  'public String mixString(String a, String b)\\r\\n{\\r\\n    String result = \"\";\\r\\n    String subA = \"\";\\r\\n    String subB = \"\";\\r\\n    for (int i = 0; i < a.length() && i < b.length())\\r\\n    {\\r\\n       result = result + a.charAt(i) + b.charAt(i)\\r\\n    }\\r\\n    if (a.length() > b.length())\\r\\n    {\\r\\n        subA = a.substring(b.length(), a.length());\\r\\n    }\\r\\n    else if (b.length() > a.length())\\r\\n    {\\r\\n        subB = b.substring(a.length(), b.length());\\r\\n    }\\r\\n    result = result + subA + subB;\\r\\n    return result;\\r\\n}\\r\\n'],\n",
       " ['public String zipZap(String str)\\r\\n{\\r\\n    str = str.toLowerCase();\\r\\n    String answer = \"\";\\r\\n    answer = answer + str.charAt(0);\\r\\n    for (int i = 1; i < str.length()-1; i++)\\r\\n    {\\r\\n        if (str.charAt(i-1) != \\'z\\' || str.charAt(i+1) != \\'p\\')\\r\\n        {\\r\\n            answer = answer + str.charAt(i);\\r\\n        }\\r\\n    }\\r\\n    if (str.length() > 1)\\r\\n    {\\r\\n       answer = answer +str.charAt(str.length() - 1);\\r\\n    }\\r\\n    return answer;\\r\\n}\\r\\n',\n",
       "  'public String zipZap(String str)\\r\\n{\\r\\n    String answer = \"\";\\r\\n    for (int i = 1; i < str.length(); i++)\\r\\n    {\\r\\n        if (str.charAt(i-1) != \\'z\\' && str.charAt(i+1) != \\'p\\')\\r\\n        {\\r\\n            answer = answer + str.charAt(i);\\r\\n        }\\r\\n    }\\r\\n    return answer;\\r\\n}\\r\\n',\n",
       "  'public String zipZap(String str)\\r\\n{\\r\\n    String answer = \"\";\\r\\n    if (str.length() > 0)\\r\\n    {\\r\\n    answer = answer + str.charAt(0);\\r\\n    for (int i = 1; i < str.length()-1; i++)\\r\\n    {\\r\\n        if (str.charAt(i-1) != \\'z\\' || str.charAt(i+1) != \\'p\\')\\r\\n        {\\r\\n            answer = answer + str.charAt(i);\\r\\n        }\\r\\n    }\\r\\n    if (str.length() > 1)\\r\\n    {\\r\\n       answer = answer +str.charAt(str.length() - 1);\\r\\n    }\\r\\n    }\\r\\n    return answer;\\r\\n        \\r\\n}\\r\\n',\n",
       "  'public String zipZap(String str)\\r\\n{\\r\\n    str = str.toLowerCase();\\r\\n    String answer = \"\";\\r\\n    answer = answer + str.charAt(0);\\r\\n    for (int i = 1; i < str.length()-1; i++)\\r\\n    {\\r\\n        if (str.charAt(i-1) != \\'z\\' || str.charAt(i+1) != \\'p\\')\\r\\n        {\\r\\n            answer = answer + str.charAt(i);\\r\\n        }\\r\\n    }\\r\\n    answer = answer +str.charAt(str.length() - 1);\\r\\n    return answer;\\r\\n}\\r\\n',\n",
       "  'public String zipZap(String str)\\r\\n{\\r\\n    String answer = \"\";\\r\\n    for (int i = 1; i < str.length()-1; i++)\\r\\n    {\\r\\n        if (str.charAt(i-1) != \\'z\\' && str.charAt(i+1) != \\'p\\')\\r\\n        {\\r\\n            answer = answer + str.charAt(i);\\r\\n        }\\r\\n    }\\r\\n    return answer;\\r\\n}\\r\\n',\n",
       "  \"public String zipZap(String str)\\r\\n{\\r\\n    String answer = str.charAt(0);\\r\\n    for (int i = 1; i < str.length()-1; i++)\\r\\n    {\\r\\n        if (str.charAt(i-1) != 'z' || str.charAt(i+1) != 'p')\\r\\n        {\\r\\n            answer = answer + str.charAt(i);\\r\\n        }\\r\\n    }\\r\\n    answer = answer +str.charAt(str.length() - 1);\\r\\n    return answer;\\r\\n}\\r\\n\",\n",
       "  'public String zipZap(String str)\\r\\n{\\r\\n    String answer = \"\";\\r\\n    answer = answer + str.charAt(0);\\r\\n    for (int i = 1; i < str.length()-1; i++)\\r\\n    {\\r\\n        if (str.charAt(i-1) != \\'z\\' || str.charAt(i+1) != \\'p\\')\\r\\n        {\\r\\n            answer = answer + str.charAt(i);\\r\\n        }\\r\\n    }\\r\\n    if (str.length() > 1)\\r\\n    {\\r\\n       answer = answer +str.charAt(str.length() - 1);\\r\\n    }\\r\\n    return answer;\\r\\n}\\r\\n',\n",
       "  'public String zipZap(String str)\\r\\n{\\r\\n    String answer = \"\";\\r\\n    for (int i = 1; i < str.length()-1; i++)\\r\\n    {\\r\\n        if (!str.charAt(i-1) == \\'z\\' || !str.charAt(i+1) == \\'p\\')\\r\\n        {\\r\\n            answer = answer + str.charAt(i);\\r\\n        }\\r\\n    }\\r\\n    return answer;\\r\\n}\\r\\n',\n",
       "  'public String zipZap(String str)\\r\\n{\\r\\n    String answer = \"\";\\r\\n    answer = answer + str.charAt(0);\\r\\n    for (int i = 1; i < str.length()-1; i++)\\r\\n    {\\r\\n        if (str.charAt(i-1) != \\'z\\' || str.charAt(i+1) != \\'p\\')\\r\\n        {\\r\\n            answer = answer + str.charAt(i);\\r\\n        }\\r\\n    }\\r\\n    answer = answer +str.charAt(str.length() - 1);\\r\\n    return answer;\\r\\n}\\r\\n',\n",
       "  'public String zipZap(String str)\\r\\n{\\r\\n    String answer = \"\";\\r\\n    for (int i = 1; i < str.length()-1; i++)\\r\\n    {\\r\\n        if (str.charAt(i-1) != \\'z\\' || str.charAt(i+1) != \\'p\\')\\r\\n        {\\r\\n            answer = answer + str.charAt(i);\\r\\n        }\\r\\n    }\\r\\n    return answer;\\r\\n}\\r\\n',\n",
       "  'public String zipZap(String str)\\r\\n{\\r\\n    String answer = e\"\";\\r\\n    answer = answer + str.charAt(0);\\r\\n    for (int i = 1; i < str.length()-1; i++)\\r\\n    {\\r\\n        if (str.charAt(i-1) != \\'z\\' || str.charAt(i+1) != \\'p\\')\\r\\n        {\\r\\n            answer = answer + str.charAt(i);\\r\\n        }\\r\\n    }\\r\\n    answer = answer +str.charAt(str.length() - 1);\\r\\n    return answer;\\r\\n}\\r\\n',\n",
       "  'public String zipZap(String str)\\r\\n{\\r\\n    String answer = \"\";\\r\\n    for (int i = 0; i < str.length(); i++)\\r\\n    {\\r\\n        if (str.charAt(i-1) != \\'z\\' && str.charAt(i+1) != \\'p\\')\\r\\n        {\\r\\n            answer = answer + str.charAt(i);\\r\\n        }\\r\\n    }\\r\\n    return answer;\\r\\n}\\r\\n'],\n",
       " [\"public int countCode(String str)\\r\\n{\\r\\n    int count = 0;\\r\\n    for (int i = 0; i < str.length()-3; i++)\\r\\n    {\\r\\n        if (str.charAt(i) == 'c' && str.charAt(\\r\\n            i+1) == 'o' && str.charAt(i + 3) == 'e')\\r\\n        {\\r\\n            count = count + 1;\\r\\n        }\\r\\n    }\\r\\n    return count;\\r\\n}\\r\\n\",\n",
       "  \"public int countCode(String str)\\r\\n{\\r\\n    for (int i = 0; i < str.length()-3; i++)\\r\\n    {\\r\\n        if (str.charAt(i) == 'c' && str.charAt(\\r\\n            i+1) == 'o' && str.charAt(i + 3) == 'b')\\r\\n        {\\r\\n            return true;\\r\\n        }\\r\\n    }\\r\\n    return false;\\r\\n}\\r\\n\",\n",
       "  \"public int countCode(String str)\\r\\n{\\r\\n    int count = 0;\\r\\n    for (int i = 0; i < str.length()-3; i++)\\r\\n    {\\r\\n        if (str.charAt(i) == 'c' && str.charAt(\\r\\n            i+1) == 'o' && str.charAt(i + 3) == 'b')\\r\\n        {\\r\\n            count = count + 1;\\r\\n        }\\r\\n    }\\r\\n    return count;\\r\\n}\\r\\n\"],\n",
       " ['public boolean endOther(String a, String b)\\r\\n{\\r\\n   \\taFixed = a.toLowerCase();\\r\\n    bFixed = b.toLowerCase();\\r\\n    if (bFixed.endsWith(aFixed))\\r\\n    {\\r\\n        return true;\\r\\n    }\\r\\n    else if (aFixed.endsWith(bFixed))\\r\\n    {\\r\\n        return true;\\r\\n    }\\r\\n    else\\r\\n    {\\r\\n        return false;\\r\\n    }\\r\\n}\\r\\n',\n",
       "  'public boolean endOther(String a, String b)\\r\\n{\\r\\n   \\tString aFixed = a.toLowerCase();\\r\\n    String bFixed = b.toLowerCase();\\r\\n    if (bFixed.endsWith(aFixed))\\r\\n    {\\r\\n        return true;\\r\\n    }\\r\\n    else if (aFixed.endsWith(bFixed))\\r\\n    {\\r\\n        return true;\\r\\n    }\\r\\n    else\\r\\n    {\\r\\n        return false;\\r\\n    }\\r\\n}\\r\\n'],\n",
       " ['public boolean xyzThere(String str)\\r\\n{\\r\\n    if (str.contains(\"xyz\"))\\r\\n    {\\r\\n        String sub = str.substring(0, str.indexOf(\"xyz\"));\\r\\n        if (!sub.endsWith(\".\"))\\r\\n        {\\r\\n            return true;\\r\\n        }\\r\\n        else\\r\\n        {\\r\\n            String sub2 = str.substring(\\r\\n                str.indexOf(\"xyz\",str.indexOf(\"xyz\")),str.length()-1));\\r\\n      \\t    if (!sub.endsWith(\".\"))\\r\\n            {\\r\\n                return true;\\r\\n            }\\r\\n            return false;\\r\\n        }\\r\\n    }\\r\\n    else\\r\\n    {\\r\\n        return false;\\r\\n    }\\r\\n}\\r\\n',\n",
       "  'public boolean xyzThere(String str)\\r\\n{\\r\\n    if (str.contains(\"xyz\"))\\r\\n    {\\r\\n        String sub = str.substring(0, str.indexOf(\"xyz\"));\\r\\n        if (!sub.endsWith(\".\"))\\r\\n        {\\r\\n            return true;\\r\\n        }\\r\\n        else\\r\\n        {\\r\\n            String sub2 = str.substring(\\r\\n                str.indexOf(\"xyz\",str.indexOf(\"xyz\") + 1),str.length()-1);\\r\\n      \\t    if (!sub2.endsWith(\".\"))\\r\\n            {\\r\\n                return true;\\r\\n            }\\r\\n            return false;\\r\\n        }\\r\\n    }\\r\\n    else\\r\\n    {\\r\\n        return false;\\r\\n    }\\r\\n}\\r\\n',\n",
       "  'public boolean xyzThere(String str)\\r\\n{\\r\\n    if (str.contains(\"xyz\"))\\r\\n    {\\r\\n        String sub = str.substring(0, str.indexOf(\"xyz\"));\\r\\n        if (!sub.endsWith(\".\"))\\r\\n        {\\r\\n            return true;\\r\\n        }\\r\\n        else\\r\\n        {\\r\\n            String sub2 = str.substring(0,\\r\\n                str.lastIndexOf(\"xyz\"));\\r\\n            if (sub2 != sub && !sub2.endsWith(\".\"))\\r\\n            {\\r\\n\\t\\t\\t\\treturn true;\\r\\n            }\\r\\n            else\\r\\n            {\\r\\n                return false;\\r\\n            }\\r\\n        }\\r\\n    }\\r\\n    else\\r\\n    {\\r\\n        return false;\\r\\n    }\\r\\n}\\r\\n',\n",
       "  'public boolean xyzThere(String str)\\r\\n{\\r\\n    if (str.contains(\"xyz\"))\\r\\n    {\\r\\n        String sub = str.substring(0, str.indexOf(\"xyz\"));\\r\\n        if (!sub.endsWith(\".\"))\\r\\n        {\\r\\n            return true;\\r\\n        }\\r\\n        else\\r\\n        {\\r\\n            String sub2 = str.substring(\\r\\n                str.indexOf(\"xyz\",str.indexOf(\"xyz\") + 1),str.length()-1);\\r\\n            if (sub2 != sub)\\r\\n            {\\r\\n            \\r\\n      \\t    if (!sub2.endsWith(\".\"))\\r\\n            {\\r\\n                return true;\\r\\n            }\\r\\n            return false;\\r\\n                \\r\\n            }\\r\\n        }\\r\\n    }\\r\\n    else\\r\\n    {\\r\\n        return false;\\r\\n    }\\r\\n}\\r\\n',\n",
       "  'public boolean xyzThere(String str)\\r\\n{\\r\\n    if (str.contains(\"xyz\")\\r\\n    {\\r\\n        String sub = str.substring(0, str.indexOf(\"xyz\"))\\r\\n        if (!sub.endsWith(\\'.\\')\\r\\n        {\\r\\n            return true;\\r\\n        }\\r\\n        else\\r\\n        {\\r\\n            return false;\\r\\n        }\\r\\n    }\\r\\n    else\\r\\n    {\\r\\n        return false;\\r\\n    }\\r\\n}\\r\\n',\n",
       "  'public boolean xyzThere(String str)\\r\\n{\\r\\n    if (str.contains(\"xyz\"))\\r\\n    {\\r\\n        String sub = str.substring(0, str.indexOf(\"xyz\"));\\r\\n        if (!sub.endsWith(\".\"))\\r\\n        {\\r\\n            return true;\\r\\n        }\\r\\n        else\\r\\n        {\\r\\n            String sub2 = str.substring(\\r\\n                str.indexOf(\"xyz\",str.indexOf(\"xyz\") + 1),str.length()-1);\\r\\n            if (sub2 != sub && !sub2.endsWith(\".\"))\\r\\n            {\\r\\n\\t\\t\\t\\treturn true;\\r\\n            }\\r\\n            else\\r\\n            {\\r\\n                return false;\\r\\n            }\\r\\n        }\\r\\n    }\\r\\n    else\\r\\n    {\\r\\n        return false;\\r\\n    }\\r\\n}\\r\\n',\n",
       "  'public boolean xyzThere(String str)\\r\\n{\\r\\n    if (str.contains(\"xyz\"))\\r\\n    {\\r\\n        String sub = str.substring(0, str.indexOf(\"xyz\"));\\r\\n        if (!sub.endsWith(\".\"))\\r\\n        {\\r\\n            return true;\\r\\n        }\\r\\n        else\\r\\n        {\\r\\n            String sub2 = str.substring(\\r\\n                str.indexOf(\"xyz\",str.indexOf(\"xyz\") + 1),str.length()-1);\\r\\n      \\t    if (!sub.endsWith(\".\"))\\r\\n            {\\r\\n                return true;\\r\\n            }\\r\\n            return false;\\r\\n        }\\r\\n    }\\r\\n    else\\r\\n    {\\r\\n        return false;\\r\\n    }\\r\\n}\\r\\n',\n",
       "  'public boolean xyzThere(String str)\\r\\n{\\r\\n    if (str.contains(\"xyz\"))\\r\\n    {\\r\\n        String sub = str.substring(0, str.indexOf(\"xyz\"));\\r\\n        if (!sub.endsWith(\".\"))\\r\\n        {\\r\\n            return true;\\r\\n        }\\r\\n        else\\r\\n        {\\r\\n            String sub2 = str.substring(\\r\\n                str.indexOf(\"xyz\",str.indexOf(\"xyz\") + 1),str.length()-1);\\r\\n            if (sub2 != sub1)\\r\\n            {\\r\\n            \\r\\n      \\t    if (!sub2.endsWith(\".\"))\\r\\n            {\\r\\n                return true;\\r\\n            }\\r\\n            return false;\\r\\n                \\r\\n            }\\r\\n        }\\r\\n    }\\r\\n    else\\r\\n    {\\r\\n        return false;\\r\\n    }\\r\\n}\\r\\n',\n",
       "  'public boolean xyzThere(String str)\\r\\n{\\r\\n    if (str.contains(\"xyz\"))\\r\\n    {\\r\\n        String sub = str.substring(0, str.indexOf(\"xyz\"));\\r\\n        if (!sub.endsWith(\".\"))\\r\\n        {\\r\\n            return true;\\r\\n        }\\r\\n        else\\r\\n        {\\r\\n            String sub2 = str.substring(\\r\\n                str.indexOf(\"xyz\",str.indexOf(\"xyz\") + 1),str.length()-1))\\r\\n      \\t    if (!sub.endsWith(\".\"))\\r\\n            {\\r\\n                return true;\\r\\n            }\\r\\n            return false;\\r\\n        }\\r\\n    }\\r\\n    else\\r\\n    {\\r\\n        return false;\\r\\n    }\\r\\n}\\r\\n',\n",
       "  'public boolean xyzThere(String str)\\r\\n{\\r\\n    if (str.contains(\"xyz\"))\\r\\n    {\\r\\n        String sub = str.substring(0, str.indexOf(\"xyz\"));\\r\\n        if (!sub.endsWith(\".\"))\\r\\n        {\\r\\n            return true;\\r\\n        }\\r\\n        else\\r\\n        {\\r\\n            return false;\\r\\n        }\\r\\n    }\\r\\n    else\\r\\n    {\\r\\n        return false;\\r\\n    }\\r\\n}\\r\\n',\n",
       "  'public boolean xyzThere(String str)\\r\\n{\\r\\n    if (str.contains(\"xyz\"))\\r\\n    {\\r\\n        String sub = str.substring(0, str.indexOf(\"xyz\"));\\r\\n        if (!sub.endsWith(\".\"))\\r\\n        {\\r\\n            return true;\\r\\n        }\\r\\n        else\\r\\n        {\\r\\n            String sub2 = str.substring(\\r\\n                str.lastIndexOf(\"xyz\")-1,str.length()-1);\\r\\n            if (sub2 != sub && !sub2.endsWith(\".\"))\\r\\n            {\\r\\n\\t\\t\\t\\treturn true;\\r\\n            }\\r\\n            else\\r\\n            {\\r\\n                return false;\\r\\n            }\\r\\n        }\\r\\n    }\\r\\n    else\\r\\n    {\\r\\n        return false;\\r\\n    }\\r\\n}\\r\\n',\n",
       "  'public boolean xyzThere(String str)\\r\\n{\\r\\n    if (str.contains(\"xyz\"))\\r\\n    {\\r\\n        String sub = str.substring(0, str.indexOf(\"xyz\"));\\r\\n        if (!sub.endsWith(\".\"))\\r\\n        {\\r\\n            return true;\\r\\n        }\\r\\n        else\\r\\n        {\\r\\n            String sub2 = str.substring(\\r\\n                str.indexOf(\"xyz\",str.indexOf(\"xyz\") + 1),str.length()));\\r\\n      \\t    if (!sub.endsWith(\".\"))\\r\\n            {\\r\\n                return true;\\r\\n            }\\r\\n            return false;\\r\\n        }\\r\\n    }\\r\\n    else\\r\\n    {\\r\\n        return false;\\r\\n    }\\r\\n}\\r\\n',\n",
       "  'public boolean xyzThere(String str)\\r\\n{\\r\\n    if (str.contains(\"xyz\"))\\r\\n    {\\r\\n        String sub = str.substring(0, str.indexOf(\"xyz\"));\\r\\n        if (!sub.endsWith(\".\"))\\r\\n        {\\r\\n            return true;\\r\\n        }\\r\\n        else\\r\\n        {\\r\\n            String sub2 = str.substring(\\r\\n                str.indexOf(\"xyz\",str.indexOf(\"xyz\") + 1),str.length()-1);\\r\\n            if (sub2 != sub && !sub2.endsWith(\".\")\\r\\n            {\\r\\n\\t\\t\\t\\treturn true;\\r\\n             else\\r\\n             {\\r\\n                 return false;\\r\\n             }\\r\\n            }\\r\\n        }\\r\\n    }\\r\\n    else\\r\\n    {\\r\\n        return false;\\r\\n    }\\r\\n}\\r\\n',\n",
       "  'public boolean xyzThere(String str)\\r\\n{\\r\\n    if (str.contains(\"xyz\"))\\r\\n    {\\r\\n        String sub = str.substring(0, str.indexOf(\"xyz\"));\\r\\n        if (!sub.endsWith(\".\"))\\r\\n        {\\r\\n            return true;\\r\\n        }\\r\\n        else\\r\\n        {\\r\\n            String sub2 = str.substring(\\r\\n                str.indexOf(\"xyz\",str.indexOf(\"xyz\") + 1),str.length()));;\\r\\n      \\t    if (!sub.endsWith(\".\"))\\r\\n            {\\r\\n                return true;\\r\\n            }\\r\\n            return false;\\r\\n        }\\r\\n    }\\r\\n    else\\r\\n    {\\r\\n        return false;\\r\\n    }\\r\\n}\\r\\n',\n",
       "  'public boolean xyzThere(String str)\\r\\n{\\r\\n    if (str.contains(\"xyz\"))\\r\\n    {\\r\\n        String sub = str.substring(0, str.indexOf(\"xyz\"));\\r\\n        if (!sub.endsWith(\".\"))\\r\\n        {\\r\\n            return true;\\r\\n        }\\r\\n        else\\r\\n        {\\r\\n            String sub2 = str.substring(\\r\\n                str.indexOf(\"xyz\",str.indexOf(\"xyz\") + 1),str.length()-1));;\\r\\n      \\t    if (!sub.endsWith(\".\"))\\r\\n            {\\r\\n                return true;\\r\\n            }\\r\\n            return false;\\r\\n        }\\r\\n    }\\r\\n    else\\r\\n    {\\r\\n        return false;\\r\\n    }\\r\\n}\\r\\n',\n",
       "  'public boolean xyzThere(String str)\\r\\n{\\r\\n    if (str.contains(\"xyz\"))\\r\\n    {\\r\\n        String sub = str.substring(0, str.indexOf(\"xyz\"));\\r\\n        if (!sub.endsWith(\".\"))\\r\\n        {\\r\\n            return true;\\r\\n        }\\r\\n        else\\r\\n        {\\r\\n            String sub2 = str.substring(\\r\\n                str.indexOf(\"xyz\",str.indexOf(\"xyz\") + 1),str.length()-1));\\r\\n      \\t    if (!sub.endsWith(\".\"))\\r\\n            {\\r\\n                return true;\\r\\n            }\\r\\n            return false;\\r\\n        }\\r\\n    }\\r\\n    else\\r\\n    {\\r\\n        return false;\\r\\n    }\\r\\n}\\r\\n',\n",
       "  'public boolean xyzThere(String str)\\r\\n{\\r\\n    if (str.contains(\"xyz\"))\\r\\n    {\\r\\n        String sub = str.substring(0, str.indexOf(\"xyz\"));\\r\\n        if (!sub.endsWith(\".\"))\\r\\n        {\\r\\n            return true;\\r\\n        }\\r\\n        else\\r\\n        {\\r\\n            String sub2 = str.substring(\\r\\n                str.indexOf(\"xyz\",str.indexOf(\"xyz\") + 1),str.length());\\r\\n      \\t    if (!sub2.endsWith(\".\"))\\r\\n            {\\r\\n                return true;\\r\\n            }\\r\\n            return false;\\r\\n        }\\r\\n    }\\r\\n    else\\r\\n    {\\r\\n        return false;\\r\\n    }\\r\\n}\\r\\n',\n",
       "  'public boolean xyzThere(String str)\\r\\n{\\r\\n    if (str.contains(\"xyz\"))\\r\\n    {\\r\\n        String sub = str.substring(0, str.indexOf(\"xyz\"));\\r\\n        if (!sub.endsWith(\".\"))\\r\\n        {\\r\\n            return true;\\r\\n        }\\r\\n        else\\r\\n        {\\r\\n            String sub2 = str.substring(0,\\r\\n                str.lastIndexOf(\"xyz\")-1);\\r\\n            if (sub2 != sub && !sub2.endsWith(\".\"))\\r\\n            {\\r\\n\\t\\t\\t\\treturn true;\\r\\n            }\\r\\n            else\\r\\n            {\\r\\n                return false;\\r\\n            }\\r\\n        }\\r\\n    }\\r\\n    else\\r\\n    {\\r\\n        return false;\\r\\n    }\\r\\n}\\r\\n',\n",
       "  'public boolean xyzThere(String str)\\r\\n{\\r\\n    if (str.contains(\"xyz\"))\\r\\n    {\\r\\n        String sub = str.substring(0, str.indexOf(\"xyz\"));\\r\\n        if (!sub.endsWith(\\'.\\'))\\r\\n        {\\r\\n            return true;\\r\\n        }\\r\\n        else\\r\\n        {\\r\\n            return false;\\r\\n        }\\r\\n    }\\r\\n    else\\r\\n    {\\r\\n        return false;\\r\\n    }\\r\\n}\\r\\n',\n",
       "  'public boolean xyzThere(String str)\\r\\n{\\r\\n    if (str.contains(\"xyz\"))\\r\\n    {\\r\\n        String sub = str.substring(0, str.indexOf(\"xyz\"));\\r\\n        if (!sub.endsWith(\".\"))\\r\\n        {\\r\\n            return true;\\r\\n        }\\r\\n        else\\r\\n        {\\r\\n            String sub2 = str.substring(\\r\\n                str.indexOf(\"xyz\",str.indexOf(\"xyz\") + 1),str.length());\\r\\n      \\t    if (!sub.endsWith(\".\"))\\r\\n            {\\r\\n                return true;\\r\\n            }\\r\\n            return false;\\r\\n        }\\r\\n    }\\r\\n    else\\r\\n    {\\r\\n        return false;\\r\\n    }\\r\\n}\\r\\n'],\n",
       " ['public boolean xyBalance(String str)\\r\\n{\\r\\n    int xindex = str.lastIndexOf(\"x\");\\r\\n    int yindex = str.lastIndexOf(\"y\");\\r\\n    if (xindex > yindex)\\r\\n    {\\r\\n        return false;\\r\\n    }\\r\\n    else\\r\\n    {\\r\\n        return true;\\r\\n    }\\r\\n}\\r\\n',\n",
       "  'public boolean xyBalance(String str)\\r\\n{\\r\\n    xindex = str.lastIndexOf(\"x\");\\r\\n    yindex = str.lastIndexOf(\"y\");\\r\\n    if (xindex > yindex)\\r\\n    {\\r\\n        return false;\\r\\n    }\\r\\n    else\\r\\n    {\\r\\n        return true;\\r\\n    }\\r\\n}\\r\\n'],\n",
       " ['public String getSandwich(String str)\\r\\n{\\r\\n    String bread = \"bread\";\\r\\n    int bread2 = str.indexOf(bread);\\r\\n    if (bread2 == -1)\\r\\n    {\\r\\n        return \"\";\\r\\n    } \\r\\n    String bread1 = str.indexOf(bread, bread2 + 1);\\r\\n    if (bread1 == -1)\\r\\n    {\\r\\n        return \"\";\\r\\n    }\\r\\n    else\\r\\n    {\\r\\n        return str.replace(\"bread\", \"\");\\r\\n    }\\r\\n}\\r\\n',\n",
       "  'public String getSandwich(String str)\\r\\n{\\r\\n    String bread = \"bread\";\\r\\n    String bread2 = str.indexOf(bread);\\r\\n    if (bread == -1)\\r\\n    {\\r\\n        return \"\";\\r\\n    } \\r\\n    String bread1 = str.indexOf(bread, bread2 + 1);\\r\\n    if (bread1 == -1)\\r\\n    {\\r\\n        return \"\";\\r\\n    }\\r\\n    else\\r\\n    {\\r\\n        return str.replace(\"bread\", \"\");\\r\\n    }\\r\\n}\\r\\n',\n",
       "  'public String getSandwich(String str)\\r\\n{\\r\\n    String bread = \"bread\";\\r\\n    int bread2 = str.indexOf(bread);\\r\\n    if (bread == -1)\\r\\n    {\\r\\n        return \"\";\\r\\n    } \\r\\n    String bread1 = str.indexOf(bread, bread2 + 1);\\r\\n    if (bread1 == -1)\\r\\n    {\\r\\n        return \"\";\\r\\n    }\\r\\n    else\\r\\n    {\\r\\n        return str.replace(\"bread\", \"\");\\r\\n    }\\r\\n}\\r\\n',\n",
       "  'public String getSandwich(String str)\\r\\n{\\r\\n    String bread = \"bread\";\\r\\n    int bread1 = str.indexOf(bread);\\r\\n    if (bread1 == -1)\\r\\n    {\\r\\n        return \"\";\\r\\n    } \\r\\n    int bread2 = str.indexOf(bread, bread1 + 1);\\r\\n    if (bread2 == -1)\\r\\n    {\\r\\n        return \"\";\\r\\n    }\\r\\n    else\\r\\n    {\\r\\n        return str.substring(bread1 +5, bread2);\\r\\n    }\\r\\n}\\r\\n',\n",
       "  'public String getSandwich(String str)\\r\\n{\\r\\n    String bread = \"bread\";\\r\\n    int bread1 = str.indexOf(bread);\\r\\n    if (bread1 == -1)\\r\\n    {\\r\\n        return \"\";\\r\\n    } \\r\\n    int bread2 = str.lastIndexOf(bread);\\r\\n    if (bread2 == bread1)\\r\\n    {\\r\\n        return \"\";\\r\\n    }\\r\\n    else\\r\\n    {\\r\\n        return str.substring(bread1 +5, bread2);\\r\\n    }\\r\\n}\\r\\n',\n",
       "  'public String getSandwich(String str)\\r\\n{\\r\\n    String bread = \"bread\";\\r\\n    int bread1 = str.indexOf(bread);\\r\\n    if (bread1 == -1)\\r\\n    {\\r\\n        return \"\";\\r\\n    } \\r\\n    int bread2 = str.lastIndexOf(bread);\\r\\n    if (bread2 = bread1)\\r\\n    {\\r\\n        return \"\";\\r\\n    }\\r\\n    else\\r\\n    {\\r\\n        return str.substring(bread1 +5, bread2);\\r\\n    }\\r\\n}\\r\\n',\n",
       "  'public String getSandwich(String str)\\r\\n{\\r\\n    String bread = \"bread\";\\r\\n    int bread1 = str.indexOf(bread);\\r\\n    if (bread1 == -1)\\r\\n    {\\r\\n        return \"\";\\r\\n    } \\r\\n    int bread2 = str.lastIndexOf(bread, bread1 + 1);\\r\\n    if (bread2 == -1)\\r\\n    {\\r\\n        return \"\";\\r\\n    }\\r\\n    else\\r\\n    {\\r\\n        return str.substring(bread1 +5, bread2);\\r\\n    }\\r\\n}\\r\\n',\n",
       "  'public String getSandwich(String str)\\r\\n{\\r\\n    String bread = \"bread\";\\r\\n    String bread2 = indexOf(String bread);\\r\\n    if (bread == -1)\\r\\n    {\\r\\n        return \"\";\\r\\n    } \\r\\n    String bread1 = str.indexOf(String bread, bread2 + 1);\\r\\n    if (bread1 == -1)\\r\\n    {\\r\\n        return \"\";\\r\\n    }\\r\\n    else\\r\\n    {\\r\\n        return str.replace(\"bread\", \"\");\\r\\n    }\\r\\n}\\r\\n',\n",
       "  'public String getSandwich(String str)\\r\\n{\\r\\n    String bread = \"bread\";\\r\\n    int bread1 = str.indexOf(bread);\\r\\n    if (bread1 == -1)\\r\\n    {\\r\\n        return \"\";\\r\\n    } \\r\\n    int bread2 = str.indexOf(bread, bread1 + 1);\\r\\n    if (bread2 == -1)\\r\\n    {\\r\\n        return \"\";\\r\\n    }\\r\\n    else\\r\\n    {\\r\\n        return str.substring(bread1 +5, bread2 -1);\\r\\n    }\\r\\n}\\r\\n',\n",
       "  'public String getSandwich(String str)\\r\\n{\\r\\n    String bread2 = indexOf(\"bread\");\\r\\n    if (bread == -1)\\r\\n    {\\r\\n        return \"\";\\r\\n    } \\r\\n    String bread1 = str.indexOf(\"bread\", bread2 + 1);\\r\\n    if (bread1 == -1)\\r\\n    {\\r\\n        return \"\";\\r\\n    }\\r\\n    else\\r\\n    {\\r\\n        return str.replace(\"bread\", \"\");\\r\\n    }\\r\\n}\\r\\n',\n",
       "  'public String getSandwich(String str)\\r\\n{\\r\\n    String bread = \"bread\";\\r\\n    int bread1 = str.indexOf(bread);\\r\\n    if (bread1 == -1)\\r\\n    {\\r\\n        return \"\";\\r\\n    } \\r\\n    int bread2 = str.lastIndexOf(bread);\\r\\n    if (bread2 == -1)\\r\\n    {\\r\\n        return \"\";\\r\\n    }\\r\\n    else\\r\\n    {\\r\\n        return str.substring(bread1 +5, bread2);\\r\\n    }\\r\\n}\\r\\n',\n",
       "  'public String getSandwich(String str)\\r\\n{\\r\\n    String bread = \"bread\";\\r\\n    int bread2 = str.indexOf(bread);\\r\\n    if (bread2 == -1)\\r\\n    {\\r\\n        return \"\";\\r\\n    } \\r\\n    int bread1 = str.indexOf(bread, bread2 + 1);\\r\\n    if (bread1 == -1)\\r\\n    {\\r\\n        return \"\";\\r\\n    }\\r\\n    else\\r\\n    {\\r\\n        return str.replace(\"bread\", \"\");\\r\\n    }\\r\\n}\\r\\n',\n",
       "  'public String getSandwich(String str)\\r\\n{\\r\\n    String bread = \"bread\";\\r\\n    String bread2 = indexOf(bread);\\r\\n    if (bread == -1)\\r\\n    {\\r\\n        return \"\";\\r\\n    } \\r\\n    String bread1 = str.indexOf(bread, bread2 + 1);\\r\\n    if (bread1 == -1)\\r\\n    {\\r\\n        return \"\";\\r\\n    }\\r\\n    else\\r\\n    {\\r\\n        return str.replace(\"bread\", \"\");\\r\\n    }\\r\\n}\\r\\n'],\n",
       " [\"public boolean bobThere(String str)\\r\\n{\\r\\n    for (int i = 0; i < str.length()-2; i++)\\r\\n    {\\r\\n        if (str.charAt(i) == 'b' && str.charAt(i + 2) == 'b')\\r\\n        {\\r\\n            return true;\\r\\n        }\\r\\n    }\\r\\n    return false;\\r\\n}\\r\\n\",\n",
       "  \"public boolean bobThere(String str)\\r\\n{\\r\\n    for (int i = 0; i < str.length(); i++)\\r\\n    {\\r\\n        if (str.charAt(i) == 'b' && str.charAt(i + 2) == 'b')\\r\\n        {\\r\\n            return true;\\r\\n        }\\r\\n    }\\r\\n    return false;\\r\\n}\\r\\n\"]]"
      ]
     },
     "execution_count": 91,
     "metadata": {},
     "output_type": "execute_result"
    }
   ],
   "source": [
    "work[(work.CM == 'FP') & (work.Below75 == False)]['prev_code'].iloc[5]"
   ]
  },
  {
   "cell_type": "code",
   "execution_count": 101,
   "metadata": {},
   "outputs": [],
   "source": [
    "a = work[work['problem_id'].map(work['problem_id'].value_counts()) > 30]"
   ]
  },
  {
   "cell_type": "code",
   "execution_count": 102,
   "metadata": {},
   "outputs": [],
   "source": [
    "a = (a[a.CM == 'FP'].problem_id.value_counts() / a.problem_id.value_counts()).fillna(0)"
   ]
  },
  {
   "cell_type": "code",
   "execution_count": 134,
   "metadata": {},
   "outputs": [
    {
     "data": {
      "text/plain": [
       "\" Define a function called print_hello() . Your function should, when called, simply print out a message of your choosing that would be a greeting to someone. IMPORTANT NOTE: Functions only run when a program calls them. For the purposes of this exercise, you do not need to call the function. If you don't, however, nothing will appear on the screen when you run it in Thonny.\""
      ]
     },
     "execution_count": 134,
     "metadata": {},
     "output_type": "execute_result"
    }
   ],
   "source": [
    "work[work.problem_id == 'lsn9_skill3']['question'].iloc[0]"
   ]
  },
  {
   "cell_type": "code",
   "execution_count": 109,
   "metadata": {},
   "outputs": [
    {
     "data": {
      "text/plain": [
       "problem_id\n",
       "lsn11_skill1             0.000000\n",
       "lsn13_skill2             0.000000\n",
       "lsn19_skill2             0.000000\n",
       "lsn15_titanicsurvivor    0.000000\n",
       "lsn16_practice2          0.017544\n",
       "                           ...   \n",
       "lsn9_skill3              0.242424\n",
       "lsn15_skill2             0.243697\n",
       "lsn11_skill3             0.255814\n",
       "lsn13_averagerun         0.287234\n",
       "lists1_listrange         0.295082\n",
       "Name: count, Length: 64, dtype: float64"
      ]
     },
     "execution_count": 109,
     "metadata": {},
     "output_type": "execute_result"
    }
   ],
   "source": [
    "a.sort_values()"
   ]
  },
  {
   "cell_type": "code",
   "execution_count": null,
   "metadata": {},
   "outputs": [],
   "source": [
    "feature = ['IfElse', 'Loops', 'MathOperations', 'LogicOperators', 'StringOperations', 'List', 'FileOperations', 'Functions', 'Dictionary', 'Tuple']\n"
   ]
  },
  {
   "cell_type": "code",
   "execution_count": 63,
   "metadata": {},
   "outputs": [
    {
     "data": {
      "text/plain": [
       "CM\n",
       "TP    1138\n",
       "TN     951\n",
       "FN     749\n",
       "FP     354\n",
       "Name: count, dtype: int64"
      ]
     },
     "execution_count": 63,
     "metadata": {},
     "output_type": "execute_result"
    }
   ],
   "source": [
    "work[work.Functions == True].CM.value_counts().head(20)"
   ]
  },
  {
   "cell_type": "code",
   "execution_count": 61,
   "metadata": {},
   "outputs": [
    {
     "data": {
      "text/plain": [
       "FileOperations\n",
       "0    537\n",
       "1    122\n",
       "Name: count, dtype: int64"
      ]
     },
     "execution_count": 61,
     "metadata": {},
     "output_type": "execute_result"
    }
   ],
   "source": [
    "work[work.CM == 'FP'].FileOperations.value_counts().head(20)"
   ]
  },
  {
   "cell_type": "code",
   "execution_count": 18,
   "metadata": {},
   "outputs": [
    {
     "name": "stdout",
     "output_type": "stream",
     "text": [
      "[[284 122]\n",
      " [584 621]]\n"
     ]
    },
    {
     "data": {
      "text/plain": [
       "(np.float64(0.6379668049792531),\n",
       " 0.5617628801986344,\n",
       " np.float64(0.8358008075370121),\n",
       " np.float64(0.5153526970954356),\n",
       " np.float64(0.6375770020533881))"
      ]
     },
     "execution_count": 18,
     "metadata": {},
     "output_type": "execute_result"
    }
   ],
   "source": [
    "cm = confusion_matrix(y_labels, y_pred)\n",
    "print(cm)\n",
    "roc_auc = roc_auc_score(y_labels, y_probs)\n",
    "accuracy = accuracy_score(y_labels, y_pred)\n",
    "precision = precision_score(y_labels, y_pred)\n",
    "recall = recall_score(y_labels, y_pred)\n",
    "f1 = f1_score(y_labels, y_pred)\n",
    "roc_auc, accuracy, precision, recall, f1"
   ]
  },
  {
   "cell_type": "code",
   "execution_count": 28,
   "metadata": {},
   "outputs": [
    {
     "data": {
      "text/plain": [
       "0.3228215767634855"
      ]
     },
     "execution_count": 28,
     "metadata": {},
     "output_type": "execute_result"
    }
   ],
   "source": [
    "1945 / 6025"
   ]
  },
  {
   "cell_type": "code",
   "execution_count": 46,
   "metadata": {},
   "outputs": [
    {
     "name": "stdout",
     "output_type": "stream",
     "text": [
      "[[1643  952]\n",
      " [2053 2592]]\n"
     ]
    },
    {
     "data": {
      "text/plain": [
       "(np.float64(0.6493060057948652),\n",
       " 0.5849447513812155,\n",
       " np.float64(0.7313769751693002),\n",
       " np.float64(0.5580193756727664),\n",
       " np.float64(0.6330443277567469))"
      ]
     },
     "execution_count": 46,
     "metadata": {},
     "output_type": "execute_result"
    }
   ],
   "source": [
    "cm = confusion_matrix(y_labels, y_pred)\n",
    "print(cm)\n",
    "roc_auc = roc_auc_score(y_labels, y_probs)\n",
    "accuracy = accuracy_score(y_labels, y_pred)\n",
    "precision = precision_score(y_labels, y_pred)\n",
    "recall = recall_score(y_labels, y_pred)\n",
    "f1 = f1_score(y_labels, y_pred)\n",
    "roc_auc, accuracy, precision, recall, f1"
   ]
  },
  {
   "cell_type": "code",
   "execution_count": 32,
   "metadata": {},
   "outputs": [
    {
     "name": "stdout",
     "output_type": "stream",
     "text": [
      "[[242 164]\n",
      " [379 826]]\n"
     ]
    },
    {
     "data": {
      "text/plain": [
       "(np.float64(0.6913108353943952),\n",
       " 0.6629422718808193,\n",
       " np.float64(0.8343434343434344),\n",
       " np.float64(0.6854771784232365),\n",
       " np.float64(0.752619589977221))"
      ]
     },
     "execution_count": 32,
     "metadata": {},
     "output_type": "execute_result"
    }
   ],
   "source": [
    "cm = confusion_matrix(y_labels, y_pred)\n",
    "print(cm)\n",
    "roc_auc = roc_auc_score(y_labels, y_probs)\n",
    "accuracy = accuracy_score(y_labels, y_pred)\n",
    "precision = precision_score(y_labels, y_pred)\n",
    "recall = recall_score(y_labels, y_pred)\n",
    "f1 = f1_score(y_labels, y_pred)\n",
    "roc_auc, accuracy, precision, recall, f1"
   ]
  },
  {
   "cell_type": "code",
   "execution_count": 20,
   "metadata": {},
   "outputs": [
    {
     "data": {
      "text/html": [
       "<style>\n",
       "    table.wandb td:nth-child(1) { padding: 0 10px; text-align: left ; width: auto;} td:nth-child(2) {text-align: left ; width: 100%}\n",
       "    .wandb-row { display: flex; flex-direction: row; flex-wrap: wrap; justify-content: flex-start; width: 100% }\n",
       "    .wandb-col { display: flex; flex-direction: column; flex-basis: 100%; flex: 1; padding: 10px; }\n",
       "    </style>\n",
       "<div class=\"wandb-row\"><div class=\"wandb-col\"><h3>Run history:</h3><br/><table class=\"wandb\"><tr><td>accuracy</td><td>▁█</td></tr><tr><td>f1_0.5</td><td>▁</td></tr><tr><td>f1_best</td><td>▁</td></tr><tr><td>precision_0.5</td><td>▁</td></tr><tr><td>precision_best</td><td>▁</td></tr><tr><td>recall_0.5</td><td>▁</td></tr><tr><td>recall_best</td><td>▁</td></tr><tr><td>roc_auc</td><td>▁▁</td></tr><tr><td>threshold</td><td>█▁</td></tr></table><br/></div><div class=\"wandb-col\"><h3>Run summary:</h3><br/><table class=\"wandb\"><tr><td>accuracy</td><td>0.74798</td></tr><tr><td>avg_loss_valid loss</td><td>0.58279</td></tr><tr><td>f1_0.5</td><td>0.85582</td></tr><tr><td>f1_0.6841714382171631</td><td>0.82011</td></tr><tr><td>f1_best</td><td>0.82011</td></tr><tr><td>patience</td><td>1</td></tr><tr><td>precision_0.5</td><td>0.74798</td></tr><tr><td>precision_0.6841714382171631</td><td>0.82113</td></tr><tr><td>precision_best</td><td>0.82113</td></tr><tr><td>recall_0.5</td><td>1.0</td></tr><tr><td>recall_0.6841714382171631</td><td>0.81909</td></tr><tr><td>recall_best</td><td>0.81909</td></tr><tr><td>roc_auc</td><td>0.71824</td></tr><tr><td>threshold</td><td>0.5</td></tr><tr><td>training loss</td><td>0.50189</td></tr></table><br/></div></div>"
      ],
      "text/plain": [
       "<IPython.core.display.HTML object>"
      ]
     },
     "metadata": {},
     "output_type": "display_data"
    },
    {
     "data": {
      "text/html": [
       " View run <strong style=\"color:#cdcd00\">30 Last snapshot + Curr Q - True label</strong> at: <a href='https://wandb.ai/naji1/Struggling%20Students/runs/v0dhrg3n' target=\"_blank\">https://wandb.ai/naji1/Struggling%20Students/runs/v0dhrg3n</a><br/> View project at: <a href='https://wandb.ai/naji1/Struggling%20Students' target=\"_blank\">https://wandb.ai/naji1/Struggling%20Students</a><br/>Synced 4 W&B file(s), 0 media file(s), 0 artifact file(s) and 0 other file(s)"
      ],
      "text/plain": [
       "<IPython.core.display.HTML object>"
      ]
     },
     "metadata": {},
     "output_type": "display_data"
    },
    {
     "data": {
      "text/html": [
       "Find logs at: <code>./wandb/run-20241007_123836-v0dhrg3n/logs</code>"
      ],
      "text/plain": [
       "<IPython.core.display.HTML object>"
      ]
     },
     "metadata": {},
     "output_type": "display_data"
    },
    {
     "data": {
      "text/html": [
       "wandb version 0.18.3 is available!  To upgrade, please run:\n",
       " $ pip install wandb --upgrade"
      ],
      "text/plain": [
       "<IPython.core.display.HTML object>"
      ]
     },
     "metadata": {},
     "output_type": "display_data"
    },
    {
     "data": {
      "text/html": [
       "The new W&B backend becomes opt-out in version 0.18.0; try it out with `wandb.require(\"core\")`! See https://wandb.me/wandb-core for more information."
      ],
      "text/plain": [
       "<IPython.core.display.HTML object>"
      ]
     },
     "metadata": {},
     "output_type": "display_data"
    }
   ],
   "source": [
    "wandb.finish()"
   ]
  },
  {
   "cell_type": "markdown",
   "metadata": {},
   "source": [
    "# Models"
   ]
  },
  {
   "cell_type": "markdown",
   "metadata": {},
   "source": [
    "### Not"
   ]
  },
  {
   "cell_type": "markdown",
   "metadata": {},
   "source": [
    "#### Curr Q"
   ]
  },
  {
   "cell_type": "code",
   "execution_count": 20,
   "metadata": {},
   "outputs": [],
   "source": [
    "class SnapshotsClassifier(nn.Module):\n",
    "    def __init__(self, text_model_name, hidden_size):\n",
    "        super(SnapshotsClassifier, self).__init__()\n",
    "        self.text_model = AutoModel.from_pretrained(text_model_name)\n",
    "        self.layer1 = nn.Linear(self.text_model.config.hidden_size, hidden_size)\n",
    "        self.layer2 = nn.Linear(hidden_size, 1)\n",
    "        self.relu = nn.ReLU()\n",
    "\n",
    "    def forward(self, text_input_ids, text_attention_mask, code_embedding, code_num, questions_input_ids, questions_attention_mask, num_snapshots, que_num): \n",
    "        with torch.no_grad():\n",
    "            text_output = self.text_model(text_input_ids, text_attention_mask).last_hidden_state[:, 0, :]\n",
    "        x = self.layer1(text_output)\n",
    "        x = self.relu(x)\n",
    "        x = self.layer2(x)\n",
    "        return x"
   ]
  },
  {
   "cell_type": "markdown",
   "metadata": {},
   "source": [
    "#### Prev Snapshots"
   ]
  },
  {
   "cell_type": "code",
   "execution_count": 9,
   "metadata": {},
   "outputs": [],
   "source": [
    "class SnapshotsClassifier(nn.Module):\n",
    "    def __init__(self, text_model_name, hidden_size):\n",
    "        super(SnapshotsClassifier, self).__init__()\n",
    "        self.text_model = AutoModel.from_pretrained(text_model_name)\n",
    "        self.lstm = nn.LSTM(self.text_model.config.hidden_size, hidden_size, batch_first=True)\n",
    "        self.layer1 = nn.Linear(hidden_size, 1)\n",
    "\n",
    "    def forward(self, text_input_ids, text_attention_mask, code_embedding, code_num, questions_input_ids, questions_attention_mask, num_snapshots, que_num): \n",
    "        packed_sequence = pack_padded_sequence(code_embedding.float(), lengths=code_num.cpu(), batch_first=True, enforce_sorted=False)\n",
    "        packed_output, (h_n, c_n) = self.lstm(packed_sequence)\n",
    "        output = self.layer1(h_n[-1])\n",
    "        return output"
   ]
  },
  {
   "cell_type": "markdown",
   "metadata": {},
   "source": [
    "#### Prev Snapshots + Curr Q"
   ]
  },
  {
   "cell_type": "code",
   "execution_count": 47,
   "metadata": {},
   "outputs": [],
   "source": [
    "class SnapshotsClassifier(nn.Module):\n",
    "    def __init__(self, text_model_name, hidden_size):\n",
    "        super(SnapshotsClassifier, self).__init__()\n",
    "        self.text_model = AutoModel.from_pretrained(text_model_name)\n",
    "        self.lstm = nn.LSTM(self.text_model.config.hidden_size, hidden_size, batch_first=True)\n",
    "        self.layer1 = nn.Linear(hidden_size, 1)\n",
    "\n",
    "    def forward(self, text_input_ids, text_attention_mask, code_embedding, code_num, questions_input_ids, questions_attention_mask, num_snapshots, que_num): \n",
    "        with torch.no_grad():\n",
    "            text_output = self.text_model(text_input_ids, text_attention_mask).last_hidden_state[:, 0, :]\n",
    "            prev_q_output = self.text_model(questions_input_ids, questions_attention_mask).last_hidden_state[:, 0, :].unsqueeze(1)\n",
    "        batch_indices = torch.arange(code_embedding.size(0), device=code_embedding.device)\n",
    "        input_to_lstm =  torch.cat((prev_q_output, code_embedding[:, :(max(code_num) + 1), :]), dim=1).float()\n",
    "        input_to_lstm[batch_indices, code_num + 1, :] = text_output\n",
    "        packed_sequence = pack_padded_sequence(input_to_lstm.float(), lengths=code_num.cpu() + 2, batch_first=True, enforce_sorted=False)\n",
    "        packed_output, (h_n, c_n) = self.lstm(packed_sequence)\n",
    "        output = self.layer1(h_n[-1])\n",
    "        return output"
   ]
  },
  {
   "cell_type": "markdown",
   "metadata": {},
   "source": [
    "#### X Last snapshot + Curr Q"
   ]
  },
  {
   "cell_type": "code",
   "execution_count": 12,
   "metadata": {},
   "outputs": [],
   "source": [
    "class SnapshotsClassifier(nn.Module):\n",
    "    def __init__(self, text_model_name, hidden_size, question_num=30):\n",
    "        super(SnapshotsClassifier, self).__init__()\n",
    "        self.text_model = AutoModel.from_pretrained(text_model_name)\n",
    "        self.lstm = nn.LSTM(self.text_model.config.hidden_size, hidden_size, batch_first=True)\n",
    "        self.layer1 = nn.Linear(hidden_size, 1)\n",
    "\n",
    "    def forward(self, text_input_ids, text_attention_mask, code_embedding, code_num, questions_input_ids, questions_attention_mask, prev_struggling, que_num): \n",
    "        with torch.no_grad():\n",
    "            text_output = self.text_model(text_input_ids, text_attention_mask).last_hidden_state[:, 0, :]\n",
    "        input_to_lstm = torch.cat((code_embedding, text_output.unsqueeze(1)), dim=1).float()\n",
    "        packed_output, (h_n, c_n) = self.lstm(input_to_lstm)\n",
    "        output = self.layer1(h_n[-1])\n",
    "        return output"
   ]
  },
  {
   "cell_type": "markdown",
   "metadata": {},
   "source": [
    "#### X Last snapshot & Binary "
   ]
  },
  {
   "cell_type": "markdown",
   "metadata": {},
   "source": [
    "before LSTM"
   ]
  },
  {
   "cell_type": "code",
   "execution_count": 36,
   "metadata": {},
   "outputs": [],
   "source": [
    "class SnapshotsClassifier(nn.Module):\n",
    "    def __init__(self, text_model_name, hidden_size, question_num=30):\n",
    "        super(SnapshotsClassifier, self).__init__()\n",
    "        self.text_model = AutoModel.from_pretrained(text_model_name)\n",
    "        self.lstm = nn.LSTM(self.text_model.config.hidden_size + 1, hidden_size, batch_first=True)\n",
    "        self.layer1 = nn.Linear(hidden_size, 1)\n",
    "        self.batch_norm = nn.BatchNorm1d(769)\n",
    "\n",
    "    def forward(self, text_input_ids, text_attention_mask, code_embedding, code_num, questions_input_ids, questions_attention_mask, prev_struggling, que_num): \n",
    "        batch_size = code_embedding.size(0)\n",
    "        with torch.no_grad():\n",
    "            text_output = self.text_model(text_input_ids, text_attention_mask).last_hidden_state[:, 0, :]\n",
    "        last_s_curr_q = torch.cat((code_embedding, text_output.unsqueeze(1)), dim=1).float()\n",
    "        binary_tensor = torch.cat([prev_struggling.float(), torch.zeros((batch_size, 1), dtype=torch.float, device=code_embedding.device)], dim=1).unsqueeze(2)\n",
    "        unnormalized_input = torch.cat((last_s_curr_q, binary_tensor), dim=2).float()\n",
    "        input_to_lstm = self.batch_norm(unnormalized_input.permute(0, 2, 1)).permute(0, 2, 1) \n",
    "        packed_output, (h_n, c_n) = self.lstm(input_to_lstm)\n",
    "        output = self.layer1(h_n[-1])\n",
    "        return output"
   ]
  },
  {
   "cell_type": "markdown",
   "metadata": {},
   "source": [
    "After LSTM"
   ]
  },
  {
   "cell_type": "code",
   "execution_count": null,
   "metadata": {},
   "outputs": [],
   "source": [
    "class SnapshotsClassifier(nn.Module):\n",
    "    def __init__(self, text_model_name, hidden_size, question_num=30):\n",
    "        super(SnapshotsClassifier, self).__init__()\n",
    "        self.text_model = AutoModel.from_pretrained(text_model_name)\n",
    "        self.lstm = nn.LSTM(self.text_model.config.hidden_size, hidden_size, batch_first=True)\n",
    "        self.layer1 = nn.Linear(hidden_size + question_num, 1)\n",
    "        self.batch_norm = nn.BatchNorm1d(768)\n",
    "\n",
    "    def forward(self, text_input_ids, text_attention_mask, code_embedding, code_num, questions_input_ids, questions_attention_mask, prev_struggling, que_num): \n",
    "        with torch.no_grad():\n",
    "            text_output = self.text_model(text_input_ids, text_attention_mask).last_hidden_state[:, 0, :]\n",
    "        input_to_lstm = torch.cat((code_embedding, text_output.unsqueeze(1)), dim=1).float()\n",
    "        packed_output, (h_n, c_n) = self.lstm(input_to_lstm)\n",
    "        prev_struggling = prev_struggling.float()\n",
    "        concatenated = torch.cat((h_n[-1], prev_struggling), dim=1)\n",
    "        normalized = self.batch_norm(concatenated)\n",
    "        output = self.layer1(normalized)\n",
    "        return output"
   ]
  },
  {
   "cell_type": "markdown",
   "metadata": {},
   "source": [
    "#### X Prev Q & Last snapshot + Curr Q "
   ]
  },
  {
   "cell_type": "code",
   "execution_count": 19,
   "metadata": {},
   "outputs": [],
   "source": [
    "class SnapshotsClassifier(nn.Module):\n",
    "    def __init__(self, text_model_name, hidden_size):\n",
    "        super(SnapshotsClassifier, self).__init__()\n",
    "        self.text_model = AutoModel.from_pretrained(text_model_name)\n",
    "        self.lstm = nn.LSTM(self.text_model.config.hidden_size, hidden_size, batch_first=True)\n",
    "        self.layer1 = nn.Linear(hidden_size, 1)\n",
    "\n",
    "    def forward(self, text_input_ids, text_attention_mask, code_embedding, code_num, questions_input_ids, questions_attention_mask, num_snapshots, que_num): \n",
    "        batch_size, num_q , len = questions_input_ids.size()\n",
    "        with torch.no_grad():\n",
    "            text_output = self.text_model(text_input_ids, text_attention_mask).last_hidden_state[:, 0, :]\n",
    "            prev_q_output = self.text_model(\n",
    "                questions_input_ids.view(-1, len), \n",
    "                questions_attention_mask.view(-1, len)\n",
    "            ).last_hidden_state[:, 0, :].view(batch_size, num_q, -1)\n",
    "        embedding = torch.empty((batch_size,  2 * num_q, code_embedding.size(-1)), dtype=torch.float, device=code_embedding.device)\n",
    "        embedding[:, 0::2, :] = prev_q_output\n",
    "        embedding[:, 1::2, :] = code_embedding\n",
    "        embedding = torch.cat((embedding, text_output.unsqueeze(1)), dim=1).float()\n",
    "        packed_output, (h_n, c_n) = self.lstm(embedding)\n",
    "        output = self.layer1(h_n[-1])\n",
    "        return output"
   ]
  },
  {
   "cell_type": "code",
   "execution_count": 20,
   "metadata": {},
   "outputs": [],
   "source": [
    "class SnapshotsClassifier(nn.Module):\n",
    "    def __init__(self, text_model_name, hidden_size):\n",
    "        super(SnapshotsClassifier, self).__init__()\n",
    "        self.text_model = AutoModel.from_pretrained(text_model_name)\n",
    "        self.lstm = nn.LSTM(self.text_model.config.hidden_size, hidden_size, batch_first=True)\n",
    "        self.layer1 = nn.Linear(hidden_size, 1)\n",
    "\n",
    "    def forward(self, text_input_ids, text_attention_mask, code_embedding, code_num, questions_input_ids, questions_attention_mask, num_snapshots, que_num): \n",
    "        batch_size, num_q , len = questions_input_ids.size()\n",
    "        with torch.no_grad():\n",
    "            text_output = self.text_model(text_input_ids, text_attention_mask).last_hidden_state[:, 0, :]\n",
    "            prev_q_output = prev_questions_embedding.last_hidden_state[:, 0, :].unsqueeze(0).repeat(batch_size, 1, 1)\n",
    "        embedding = torch.empty((batch_size,  2 * num_q, code_embedding.size(-1)), dtype=torch.float, device=code_embedding.device)\n",
    "        embedding[:, 0::2, :] = prev_q_output\n",
    "        embedding[:, 1::2, :] = code_embedding\n",
    "        embedding = torch.cat((embedding, text_output.unsqueeze(1)), dim=1).float()\n",
    "        packed_output, (h_n, c_n) = self.lstm(embedding)\n",
    "        output = self.layer1(h_n[-1])\n",
    "        return output"
   ]
  },
  {
   "cell_type": "markdown",
   "metadata": {},
   "source": [
    "#### X Prev Q & Last snapshot & Binary struggling + Curr Q "
   ]
  },
  {
   "cell_type": "code",
   "execution_count": 17,
   "metadata": {},
   "outputs": [],
   "source": [
    "class SnapshotsClassifier(nn.Module):\n",
    "    def __init__(self, text_model_name, hidden_size, question_num=30):\n",
    "        super(SnapshotsClassifier, self).__init__()\n",
    "        self.text_model = AutoModel.from_pretrained(text_model_name)\n",
    "        self.lstm = nn.LSTM(self.text_model.config.hidden_size, hidden_size, batch_first=True)\n",
    "        self.batch_norm = nn.BatchNorm1d(hidden_size + question_num)\n",
    "        self.layer1 = nn.Linear(hidden_size + question_num, 1)\n",
    "\n",
    "    def forward(self, text_input_ids, text_attention_mask, code_embedding, code_num, questions_input_ids, questions_attention_mask, prev_struggling, que_num): \n",
    "        batch_size, num_q , len = questions_input_ids.size()\n",
    "        with torch.no_grad():\n",
    "            text_output = self.text_model(text_input_ids, text_attention_mask).last_hidden_state[:, 0, :]\n",
    "            prev_q_output = prev_questions_embedding.last_hidden_state[:, 0, :].unsqueeze(0).repeat(batch_size, 1, 1)\n",
    "        embedding = torch.empty((batch_size, num_q * 2, code_embedding.size(-1)), dtype=torch.float, device=code_embedding.device)\n",
    "        embedding[:, 0::2, :] = prev_q_output\n",
    "        embedding[:, 1::2, :] = code_embedding\n",
    "        embedding = torch.cat((embedding, text_output.unsqueeze(1)), dim=1).float()\n",
    "        packed_output, (h_n, c_n) = self.lstm(embedding)\n",
    "        prev_struggling = prev_struggling.float()\n",
    "        concatenated = torch.cat((h_n[-1], prev_struggling), dim=1)\n",
    "        normalized = self.batch_norm(concatenated)\n",
    "        output = self.layer1(normalized)\n",
    "        return output"
   ]
  },
  {
   "cell_type": "markdown",
   "metadata": {},
   "source": [
    "### MLP"
   ]
  },
  {
   "cell_type": "markdown",
   "metadata": {},
   "source": [
    "##### Smaller Layer"
   ]
  },
  {
   "cell_type": "code",
   "execution_count": null,
   "metadata": {},
   "outputs": [],
   "source": [
    "class SnapshotsClassifier(nn.Module):\n",
    "    def __init__(self, text_model_name, hidden_size_lstm=128 , hidden_dim_mlp=512, output_dim_mlp=256, question_num=30):\n",
    "        super(SnapshotsClassifier, self).__init__()\n",
    "        self.text_model = AutoModel.from_pretrained(text_model_name)\n",
    "        self.MLP_text = nn.Sequential(\n",
    "            nn.Linear(768, hidden_dim_mlp),\n",
    "            nn.LayerNorm(hidden_dim_mlp),\n",
    "            nn.ReLU(),\n",
    "            nn.Linear(hidden_dim_mlp, output_dim_mlp),\n",
    "            nn.LayerNorm(output_dim_mlp)\n",
    "        )\n",
    "        self.MLP_code = nn.Sequential(\n",
    "            nn.Linear(768, hidden_dim_mlp),\n",
    "            nn.LayerNorm(hidden_dim_mlp),\n",
    "            nn.ReLU(),\n",
    "            nn.Linear(hidden_dim_mlp, output_dim_mlp),\n",
    "            nn.LayerNorm(output_dim_mlp)\n",
    "        )\n",
    "        self.lstm = nn.LSTM(output_dim_mlp, hidden_size_lstm, batch_first=True)\n",
    "        self.layer1 = nn.Linear(hidden_size_lstm, 1)\n",
    "        \n",
    "    def forward(self, text_input_ids, text_attention_mask, code_embedding, code_num, questions_input_ids, questions_attention_mask, prev_struggling, que_num): \n",
    "        batch_size, num_q, _ = code_embedding.size()\n",
    "        with torch.no_grad():\n",
    "            text_output = self.text_model(text_input_ids, text_attention_mask).last_hidden_state[:, 0, :]\n",
    "        mlp_text_output = self.MLP_text(text_output) \n",
    "        mlp_code_output = self.MLP_code(code_embedding.view(batch_size * num_q, -1)).view(batch_size ,num_q, -1)\n",
    "        input_to_lstm = torch.cat((mlp_code_output, mlp_text_output.unsqueeze(1)), dim=1).float()\n",
    "        print(input_to_lstm.shape)\n",
    "        packed_output, (h_n, c_n) = self.lstm(input_to_lstm)\n",
    "        output = self.layer1(h_n[-1])\n",
    "        return output"
   ]
  },
  {
   "cell_type": "markdown",
   "metadata": {},
   "source": [
    "##### Only Last Submission"
   ]
  },
  {
   "cell_type": "code",
   "execution_count": 14,
   "metadata": {},
   "outputs": [],
   "source": [
    "class SnapshotsClassifier(nn.Module):\n",
    "    def __init__(self, text_model_name, hidden_size_lstm=768, question_num=30):\n",
    "        super(SnapshotsClassifier, self).__init__()\n",
    "        self.text_model = AutoModel.from_pretrained(text_model_name)\n",
    "        self.lstm_snaphots = nn.LSTM(self.text_model.config.hidden_size, hidden_size_lstm, batch_first=True)\n",
    "        self.batch_norm = nn.BatchNorm1d(hidden_size_lstm + 1)\n",
    "        self.lstm_submissions = nn.LSTM(hidden_size_lstm + 1, hidden_size_lstm, batch_first=True)\n",
    "        self.MLP_text = nn.Sequential(\n",
    "            nn.Linear(768, hidden_size_lstm),\n",
    "            nn.LayerNorm(hidden_size_lstm),\n",
    "            nn.ReLU(),\n",
    "            nn.Linear(hidden_size_lstm, hidden_size_lstm),\n",
    "            nn.LayerNorm(hidden_size_lstm)\n",
    "        )\n",
    "        self.MLP_code = nn.Sequential(\n",
    "            nn.Linear(hidden_size_lstm, hidden_size_lstm),\n",
    "            nn.LayerNorm(hidden_size_lstm),\n",
    "            nn.ReLU(),\n",
    "            nn.Linear(hidden_size_lstm, hidden_size_lstm),\n",
    "            nn.LayerNorm(hidden_size_lstm)\n",
    "        )\n",
    "        self.fully_connected_layer = nn.Linear(hidden_size_lstm, 1)\n",
    "        \n",
    "    def forward(self, text_input_ids, text_attention_mask, code_embedding, code_num, questions_input_ids, questions_attention_mask, prev_struggling, que_num): \n",
    "        batch_size, q_num, c_padding, len = code_embedding.size()\n",
    "        # snapshots_lstm = pack_padded_sequence(code_embedding.view(batch_size * q_num, c_padding, len), lengths=code_num.view(batch_size * q_num).to('cpu'), batch_first=True, enforce_sorted=False)\n",
    "        # packed_output, (snapshots_h, c_n) = self.lstm_snaphots(snapshots_lstm)\n",
    "        input_lstm_submissions = self.batch_norm(torch.cat((code_embedding.squeeze(2), prev_struggling.float().unsqueeze(-1)), dim=-1).view(batch_size * q_num, -1)).view(batch_size, q_num, -1)\n",
    "        packed_output, (final_submission_h, c_n) = self.lstm_submissions(input_lstm_submissions)\n",
    "        with torch.no_grad():\n",
    "            text_output = self.text_model(text_input_ids, text_attention_mask).last_hidden_state[:, 0, :]\n",
    "        text_mlp = self.MLP_text(text_output)\n",
    "        code_mlp = self.MLP_code(final_submission_h.squeeze(0))\n",
    "        combine_rep = text_mlp + code_mlp\n",
    "        output = self.fully_connected_layer(combine_rep)\n",
    "        return output"
   ]
  },
  {
   "cell_type": "markdown",
   "metadata": {},
   "source": [
    "##### Without Binary"
   ]
  },
  {
   "cell_type": "code",
   "execution_count": 13,
   "metadata": {},
   "outputs": [],
   "source": [
    "class SnapshotsClassifier(nn.Module):\n",
    "    def __init__(self, text_model_name, hidden_size_lstm=512, question_num=30):\n",
    "        super(SnapshotsClassifier, self).__init__()\n",
    "        self.text_model = AutoModel.from_pretrained(text_model_name)\n",
    "        self.lstm_snaphots = nn.LSTM(self.text_model.config.hidden_size, hidden_size_lstm, batch_first=True)\n",
    "        self.batch_norm = nn.BatchNorm1d(hidden_size_lstm)\n",
    "        self.lstm_submissions = nn.LSTM(hidden_size_lstm, hidden_size_lstm, batch_first=True)\n",
    "        self.MLP_text = nn.Sequential(\n",
    "            nn.Linear(768, hidden_size_lstm),\n",
    "            nn.LayerNorm(hidden_size_lstm),\n",
    "            nn.ReLU(),\n",
    "            nn.Linear(hidden_size_lstm, hidden_size_lstm),\n",
    "            nn.LayerNorm(hidden_size_lstm)\n",
    "        )\n",
    "        self.MLP_code = nn.Sequential(\n",
    "            nn.Linear(hidden_size_lstm, hidden_size_lstm),\n",
    "            nn.LayerNorm(hidden_size_lstm),\n",
    "            nn.ReLU(),\n",
    "            nn.Linear(hidden_size_lstm, hidden_size_lstm),\n",
    "            nn.LayerNorm(hidden_size_lstm)\n",
    "        )\n",
    "        self.fully_connected_layer = nn.Linear(hidden_size_lstm, 1)\n",
    "        \n",
    "    def forward(self, text_input_ids, text_attention_mask, code_embedding, code_num, questions_input_ids, questions_attention_mask, prev_struggling, que_num): \n",
    "        batch_size, q_num, c_padding, len = code_embedding.size()\n",
    "        snapshots_lstm = pack_padded_sequence(code_embedding.view(batch_size * q_num, c_padding, len), lengths=code_num.view(batch_size * q_num).to('cpu'), batch_first=True, enforce_sorted=False)\n",
    "        packed_output, (snapshots_h, c_n) = self.lstm_snaphots(snapshots_lstm)\n",
    "        # input_lstm_submissions = self.batch_norm(torch.cat((snapshots_h.view(batch_size, q_num, -1), prev_struggling.float().unsqueeze(-1)), dim=-1).view(batch_size * q_num, -1)).view(batch_size, q_num, -1)\n",
    "        packed_output, (final_submission_h, c_n) = self.lstm_submissions(snapshots_h.view(batch_size, q_num, -1))\n",
    "        with torch.no_grad():\n",
    "            text_output = self.text_model(text_input_ids, text_attention_mask).last_hidden_state[:, 0, :]\n",
    "        text_mlp = self.MLP_text(text_output)\n",
    "        code_mlp = self.MLP_code(final_submission_h.squeeze(0))\n",
    "        combine_rep = text_mlp + code_mlp\n",
    "        output = self.fully_connected_layer(combine_rep)\n",
    "        return output"
   ]
  },
  {
   "cell_type": "markdown",
   "metadata": {},
   "source": [
    "##### ALL"
   ]
  },
  {
   "cell_type": "code",
   "execution_count": 25,
   "metadata": {},
   "outputs": [],
   "source": [
    "class SnapshotsClassifier(nn.Module):\n",
    "    def __init__(self, text_model_name, hidden_size_lstm=512, question_num=30):\n",
    "        super(SnapshotsClassifier, self).__init__()\n",
    "        self.text_model = AutoModel.from_pretrained(text_model_name)\n",
    "        self.lstm_snaphots = nn.LSTM(self.text_model.config.hidden_size, hidden_size_lstm, batch_first=True)\n",
    "        self.batch_norm = nn.BatchNorm1d(hidden_size_lstm + 1)\n",
    "        self.lstm_submissions = nn.LSTM(hidden_size_lstm + 1, hidden_size_lstm, batch_first=True)\n",
    "        self.MLP_text = nn.Sequential(\n",
    "            nn.Linear(768, hidden_size_lstm),\n",
    "            nn.LayerNorm(hidden_size_lstm),\n",
    "            nn.ReLU(),\n",
    "            nn.Linear(hidden_size_lstm, hidden_size_lstm),\n",
    "            nn.LayerNorm(hidden_size_lstm)\n",
    "        )\n",
    "        self.MLP_code = nn.Sequential(\n",
    "            nn.Linear(hidden_size_lstm, hidden_size_lstm),\n",
    "            nn.LayerNorm(hidden_size_lstm),\n",
    "            nn.ReLU(),\n",
    "            nn.Linear(hidden_size_lstm, hidden_size_lstm),\n",
    "            nn.LayerNorm(hidden_size_lstm)\n",
    "        )\n",
    "        self.fully_connected_layer = nn.Linear(hidden_size_lstm, 1)\n",
    "        \n",
    "\n",
    "    def forward(self, text_input_ids, text_attention_mask, code_embedding, code_num, questions_input_ids, questions_attention_mask, prev_struggling, que_num): \n",
    "        batch_size, q_num, c_padding, len = code_embedding.size()\n",
    "        snapshots_lstm = pack_padded_sequence(code_embedding.view(batch_size * q_num, c_padding, len), lengths=code_num.view(batch_size * q_num).to('cpu'), batch_first=True, enforce_sorted=False)\n",
    "        packed_output, (snapshots_h, c_n) = self.lstm_snaphots(snapshots_lstm)\n",
    "        input_lstm_submissions = self.batch_norm(torch.cat((snapshots_h.view(batch_size, q_num, -1), prev_struggling.float().unsqueeze(-1)), dim=-1).view(batch_size * q_num, -1)).view(batch_size, q_num, -1)\n",
    "        packed_output, (final_submission_h, c_n) = self.lstm_submissions(input_lstm_submissions)\n",
    "        with torch.no_grad():\n",
    "            text_output = self.text_model(text_input_ids, text_attention_mask).last_hidden_state[:, 0, :]\n",
    "        text_mlp = self.MLP_text(text_output)\n",
    "        code_mlp = self.MLP_code(final_submission_h.squeeze(0))\n",
    "        combine_rep = text_mlp + code_mlp\n",
    "        output = self.fully_connected_layer(combine_rep)\n",
    "        return output"
   ]
  },
  {
   "cell_type": "markdown",
   "metadata": {},
   "source": [
    "##### All with Taxonomy"
   ]
  },
  {
   "cell_type": "code",
   "execution_count": null,
   "metadata": {},
   "outputs": [],
   "source": [
    "class SnapshotsClassifier(nn.Module):\n",
    "    def __init__(self, text_model_name, hidden_size_lstm=512, question_num=30, num_feature=10):\n",
    "        super(SnapshotsClassifier, self).__init__()\n",
    "        self.text_model = AutoModel.from_pretrained(text_model_name)\n",
    "        self.lstm_snaphots = nn.LSTM(self.text_model.config.hidden_size, hidden_size_lstm, batch_first=True)\n",
    "        self.batch_norm_code_lstm = nn.BatchNorm1d(hidden_size_lstm + 1)\n",
    "        self.batch_norm_text_mlp = nn.BatchNorm1d(self.text_model.config.hidden_size + num_feature)\n",
    "        self.lstm_submissions = nn.LSTM(hidden_size_lstm + 1, hidden_size_lstm, batch_first=True)\n",
    "        self.MLP_text = nn.Sequential(\n",
    "            nn.Linear(self.text_model.config.hidden_size + num_feature, hidden_size_lstm),\n",
    "            nn.LayerNorm(hidden_size_lstm),\n",
    "            nn.ReLU(),\n",
    "            nn.Linear(hidden_size_lstm, hidden_size_lstm),\n",
    "            nn.LayerNorm(hidden_size_lstm)\n",
    "        )\n",
    "        self.MLP_code = nn.Sequential(\n",
    "            nn.Linear(hidden_size_lstm, hidden_size_lstm),\n",
    "            nn.LayerNorm(hidden_size_lstm),\n",
    "            nn.ReLU(),\n",
    "            nn.Linear(hidden_size_lstm, hidden_size_lstm),\n",
    "            nn.LayerNorm(hidden_size_lstm)\n",
    "        )\n",
    "        self.fully_connected_layer = nn.Linear(hidden_size_lstm, 1)\n",
    "        \n",
    "    def forward(self, text_input_ids, text_attention_mask, code_embedding, code_num, questions_input_ids, questions_attention_mask, prev_struggling, que_num, features): \n",
    "        batch_size, q_num, c_padding, len = code_embedding.size()\n",
    "        snapshots_lstm = pack_padded_sequence(code_embedding.view(batch_size * q_num, c_padding, len), lengths=code_num.view(batch_size * q_num).to('cpu'), batch_first=True, enforce_sorted=False)\n",
    "        packed_output, (snapshots_h, c_n) = self.lstm_snaphots(snapshots_lstm)\n",
    "        input_lstm_submissions = self.batch_norm_code_lstm(torch.cat((snapshots_h.view(batch_size, q_num, -1), prev_struggling.float().unsqueeze(-1)), dim=-1).view(batch_size * q_num, -1)).view(batch_size, q_num, -1)\n",
    "        packed_output, (final_submission_h, c_n) = self.lstm_submissions(input_lstm_submissions)\n",
    "        with torch.no_grad():\n",
    "            text_output = self.text_model(text_input_ids, text_attention_mask).last_hidden_state[:, 0, :]\n",
    "        input_text_mlp = self.batch_norm_text_mlp(torch.cat((features, text_output), dim=-1))\n",
    "        text_mlp = self.MLP_text(input_text_mlp)\n",
    "        code_mlp = self.MLP_code(final_submission_h.squeeze(0))\n",
    "        combine_rep = text_mlp + code_mlp\n",
    "        output = self.fully_connected_layer(combine_rep)\n",
    "        return output"
   ]
  },
  {
   "cell_type": "markdown",
   "metadata": {},
   "source": [
    "# More"
   ]
  },
  {
   "cell_type": "markdown",
   "metadata": {},
   "source": [
    "## Falcon"
   ]
  },
  {
   "cell_type": "code",
   "execution_count": null,
   "metadata": {},
   "outputs": [],
   "source": [
    "path = \"/home/nogaschw/Codeworkout/df_taxonomy_falcon_new_label.pkl\"\n",
    "df = pd.read_pickle(path)\n",
    "\n",
    "df.fillna(0, inplace=True)\n",
    "\n",
    "def arrange(df1, st_point=0, end_point=30):\n",
    "    df1 = df1[df1['prev_question'].apply(lambda x: len(x) > end_point and len(x) <= end_point + 20)]\n",
    "    df1['prev_code'] = df1['prev_code'].apply(lambda x: x[st_point:end_point])\n",
    "    df1['prev_question'] = df1['prev_question'].apply(lambda x: x[st_point:end_point])\n",
    "    df1['prev_label'] = df1['prev_label'].apply(lambda x: x[st_point:end_point])\n",
    "    df1 = df1[df1['student_id'].map(df1['student_id'].value_counts()) == 20]\n",
    "    return df1\n",
    "\n",
    "df_1 = arrange(df)\n",
    "df_2 = arrange(df, 50, 80) # More data\n",
    "df = pd.concat([df_1, df_2], ignore_index=True)\n",
    "\n",
    "# df = df[df.type == 'lab'] # Only Lab"
   ]
  },
  {
   "cell_type": "markdown",
   "metadata": {},
   "source": [
    "## Codeworkout"
   ]
  },
  {
   "cell_type": "code",
   "execution_count": null,
   "metadata": {},
   "outputs": [],
   "source": [
    "path = \"/home/nogaschw/Codeworkout/df_codeworkout_TL_Tax.pkl\"\n",
    "df = pd.read_pickle(path)\n",
    "\n",
    "df['IfElse'] = df[['If/Else', 'NestedIf']].max(axis=1)\n",
    "df['Loops'] = df[['While', 'For', 'NestedFor']].max(axis=1)\n",
    "df['MathOperations'] = df[['Math+-*/', 'Math%']].max(axis=1)\n",
    "df['LogicOperators'] = df[['LogicAndNotOr', 'LogicCompareNum', 'LogicBoolean']].max(axis=1)\n",
    "df['StringOperations'] = df[[\"StringFormat\", \"StringConcat\", \"StringIndex\", \"StringLen\", \"StringEqual\", \"CharEqual\"]].max(axis=1)\n",
    "df[\"List\"]= df[\"ArrayIndex\"]\n",
    "df['FileOperations'] = 0\n",
    "df[\"Functions\"] = df[\"DefFunction\"]\n",
    "df['Dictionary'] = 0\n",
    "df['Tuple'] = 0\n",
    "\n",
    "df = df.drop(columns=['If/Else', 'NestedIf', 'StringConcat', 'StringIndex', 'StringFormat',\"StringLen\", \"StringEqual\", 'ArrayIndex', 'DefFunction',\n",
    "                      'While', 'For', 'NestedFor', 'Math+-*/', 'Math%', 'LogicAndNotOr', 'LogicCompareNum', 'LogicBoolean', 'CharEqual'])\n",
    "\n",
    "\n",
    "df.fillna(0, inplace=True)\n",
    "df['prev_code'] = df['prev_code'].apply(lambda x: [list(set(i)) for i in x])\n"
   ]
  },
  {
   "cell_type": "code",
   "execution_count": null,
   "metadata": {},
   "outputs": [],
   "source": [
    "# New use in taxonamy\n",
    "skills = pd.DataFrame({\n",
    "    'problem_id': [41, 43, 44, 45, 46, 48, 49, 51, 56, 57, 64, 67, 70, 71, 104, 106, 107, 108, 112, 118],\n",
    "    'comprehension':  [0.1, 0.2, 0.3, 0.9, 0.8, 0.5, 1.0, 0.7, 0.6, 0.9, 0.7, 0.4, 0.8, 0.6, 0.2, 0.5, 0.3, 0.6, 0.8, 0.1] ,\n",
    "    'alg_design':  [0.6, 0.7, 0.8, 0.9, 0.4, 1.0, 0.5, 0.3, 0.1, 0.2, 0.8, 0.7, 0.6, 0.5, 0.3, 0.1, 1.0, 0.9, 0.4, 0.2] ,\n",
    "    'decomposition':  [0.1, 0.2, 0.3, 0.7, 0.7, 0.4, 1.0, 0.8, 0.5, 0.9, 0.8, 0.5, 0.7, 0.6, 0.2, 0.6, 0.3, 0.9, 0.8, 0.3]\n",
    "})\n",
    "df = df.merge(skills, on='problem_id')"
   ]
  }
 ],
 "metadata": {
  "kernelspec": {
   "display_name": "env",
   "language": "python",
   "name": "python3"
  },
  "language_info": {
   "codemirror_mode": {
    "name": "ipython",
    "version": 3
   },
   "file_extension": ".py",
   "mimetype": "text/x-python",
   "name": "python",
   "nbconvert_exporter": "python",
   "pygments_lexer": "ipython3",
   "version": "3.11.9"
  }
 },
 "nbformat": 4,
 "nbformat_minor": 2
}
