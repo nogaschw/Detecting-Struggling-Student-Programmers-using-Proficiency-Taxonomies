{
 "cells": [
  {
   "cell_type": "code",
   "execution_count": 37,
   "metadata": {},
   "outputs": [],
   "source": [
    "import os\n",
    "import pandas as pd"
   ]
  },
  {
   "cell_type": "code",
   "execution_count": 38,
   "metadata": {},
   "outputs": [],
   "source": [
    "csv_file_path = '/home/nogaschw/Codeworkout/cleaned_code.csv'\n",
    "cwd = os.getcwd()\n",
    "\n",
    "df = pd.read_csv(csv_file_path, sep=',')"
   ]
  },
  {
   "cell_type": "code",
   "execution_count": 39,
   "metadata": {},
   "outputs": [],
   "source": [
    "cleaned_file_path = '/home/nogaschw/Codeworkout/cleaned_questions.csv'\n",
    "\n",
    "questions = pd.read_csv(cleaned_file_path, sep=',')\n",
    "questions = questions[questions.columns[1:]]\n",
    "questions = questions[questions['max_score'] != 0]"
   ]
  },
  {
   "cell_type": "code",
   "execution_count": 42,
   "metadata": {},
   "outputs": [],
   "source": [
    "a = df.merge(questions, how='inner', left_on=['problem_id', 'course_id'], right_on=['id', 'course_id'])"
   ]
  },
  {
   "cell_type": "code",
   "execution_count": 4,
   "metadata": {},
   "outputs": [
    {
     "name": "stderr",
     "output_type": "stream",
     "text": [
      "/tmp/ipykernel_2600147/2430072954.py:2: DeprecationWarning: DataFrameGroupBy.apply operated on the grouping columns. This behavior is deprecated, and in a future version of pandas the grouping columns will be excluded from the operation. Either pass `include_groups=False` to exclude the groupings or explicitly select the grouping columns after groupby to silence this warning.\n",
      "  df = df.groupby(['student_id', 'problem_id', 'course_id']).apply(lambda x: pd.Series({\n"
     ]
    }
   ],
   "source": [
    "df = df.sort_values('timestamp', ascending=True)\n",
    "df = df.groupby(['student_id', 'problem_id', 'course_id']).apply(lambda x: pd.Series({\n",
    "    'ServerTimestamp': x['timestamp'].tolist(),\n",
    "    'score': x['score'].tolist(),\n",
    "    'source_code': x['clean_code'].tolist()\n",
    "})).reset_index()"
   ]
  },
  {
   "cell_type": "code",
   "execution_count": 5,
   "metadata": {},
   "outputs": [],
   "source": [
    "def trim_after_max(score, snapshots, ServerTimestamp):\n",
    "    max_index = score.index(max(score))\n",
    "    return score[:max_index+1], snapshots[:max_index+1], ServerTimestamp[:max_index+1]\n",
    "\n",
    "# Apply the function to each row\n",
    "df['score'], df['source_code'], df['ServerTimestamp'] = zip(*df.apply(lambda row: trim_after_max(row['score'], row['source_code'], row['ServerTimestamp']), axis=1))\n",
    "df['start_time'] = df['ServerTimestamp'].apply(lambda x: 0 if x[-1] == 100 else 1)\n",
    "df['struggling'] = df['score'].apply(lambda x: 0 if x[-1] == 100 else 1)\n",
    "df['max_score'] = [max(i) for i in df['score']]\n",
    "df = df[df['max_score'] != -1] # remove all the rows contain only locall code (not really the grade)"
   ]
  },
  {
   "cell_type": "code",
   "execution_count": 6,
   "metadata": {},
   "outputs": [
    {
     "data": {
      "text/plain": [
       "142718"
      ]
     },
     "execution_count": 6,
     "metadata": {},
     "output_type": "execute_result"
    }
   ],
   "source": [
    "len(df)"
   ]
  },
  {
   "cell_type": "code",
   "execution_count": 7,
   "metadata": {},
   "outputs": [],
   "source": [
    "df_basic = df.merge(questions, how='inner', left_on=['problem_id', 'course_id'], right_on=['id', 'course_id'])"
   ]
  },
  {
   "cell_type": "code",
   "execution_count": 8,
   "metadata": {},
   "outputs": [],
   "source": [
    "df_basic = df_basic[['student_id', 'problem_id', 'course_id', 'start_time', 'score', 'source_code', 'prompt', 'struggling']]"
   ]
  },
  {
   "cell_type": "code",
   "execution_count": 9,
   "metadata": {},
   "outputs": [],
   "source": [
    "df_sorted = df_basic.sort_values(by=['student_id', 'start_time'])\n",
    "df_sorted['row_number'] = df_sorted.groupby('student_id').cumcount() + 1"
   ]
  },
  {
   "cell_type": "code",
   "execution_count": 10,
   "metadata": {},
   "outputs": [],
   "source": [
    "prev_code = df_sorted['source_code'].tolist()\n",
    "prev_code.insert(0, [])\n",
    "prev_q = df_sorted['prompt'].tolist()\n",
    "prev_q.insert(0, [])\n",
    "prev_num_q = df_sorted['problem_id'].tolist()\n",
    "prev_num_q.insert(0, [])\n",
    "prev_score = df_sorted['score'].tolist()\n",
    "prev_score.insert(0, [])"
   ]
  },
  {
   "cell_type": "code",
   "execution_count": 11,
   "metadata": {},
   "outputs": [],
   "source": [
    "df_sorted['prev_code'] = prev_code[:-1] # last question of the last student\n",
    "df_sorted['prev_question'] = prev_q[:-1]\n",
    "df_sorted['prev_question_num'] = prev_num_q[:-1]\n",
    "df_sorted['score'] = prev_score[:-1]\n",
    "\n",
    "df_sorted = df_sorted[df_sorted['row_number'] != 1]"
   ]
  },
  {
   "cell_type": "code",
   "execution_count": 12,
   "metadata": {},
   "outputs": [],
   "source": [
    "prev_code = []\n",
    "prev_question = []\n",
    "prev_q_num = []\n",
    "prev_score = []\n",
    "for i, row in df_sorted.iterrows():\n",
    "    if row['row_number'] == 2:\n",
    "        prev_code.append([row['prev_code']])\n",
    "        prev_question.append([row['prev_question']])\n",
    "        prev_q_num.append([row['prev_question_num']])\n",
    "        prev_score.append([row['score']])\n",
    "    else:\n",
    "        prev_code.append(prev_code[-1] + [row['prev_code']])\n",
    "        prev_question.append(prev_question[-1] + [row['prev_question']])\n",
    "        prev_q_num.append(prev_q_num[-1] + [row['prev_question_num']])\n",
    "        prev_score.append(prev_score[-1] + [row['score']])"
   ]
  },
  {
   "cell_type": "code",
   "execution_count": 13,
   "metadata": {},
   "outputs": [],
   "source": [
    "df_sorted['prev_code'] = prev_code\n",
    "df_sorted['prev_question'] = prev_question\n",
    "df_sorted['prev_question_num'] = prev_q_num\n",
    "df_sorted['score'] = prev_score"
   ]
  },
  {
   "cell_type": "markdown",
   "metadata": {},
   "source": [
    "# Taxonomy"
   ]
  },
  {
   "cell_type": "code",
   "execution_count": 14,
   "metadata": {},
   "outputs": [],
   "source": [
    "q_with_compu = questions.copy()\n",
    "q_with_compu['IfElse'] = questions['conditional']\n",
    "q_with_compu['Loops'] = questions[[\"loop_counting\", \"loop_until\", \"loop_elements\", \"loop_nested\"]].max(axis=1)\n",
    "q_with_compu['MathOperations'] = questions[[\"stat_calculate\", \"assignment\"]].max(axis=1)\n",
    "q_with_compu['LogicOperators'] = 0\n",
    "q_with_compu['StringOperations'] = questions[[\"input_str\", \"input_cast\", \"output\"]].max(axis=1)\n",
    "q_with_compu[\"List\"]= questions[[\"list\", \"list_2d\"]].max(axis=1)\n",
    "q_with_compu['FileOperations'] = questions[[\"file_read\", \"file_write\"]].max(axis=1)\n",
    "q_with_compu[\"Functions\"] = questions[[\"function_call\", \"function_def\", \"function_return\"]].max(axis=1)\n",
    "q_with_compu['Dictionary'] = questions[\"dictionary\"]\n",
    "q_with_compu['Tuple'] = questions[[\"tuple\", \"item_set\"]].max(axis=1)\n",
    "\n",
    "q_with_compu = q_with_compu.drop(columns=['input_str', 'input_cast', 'output', 'assignment', 'conditional',\n",
    "       'function_call', 'function_def', 'function_return', 'loop_counting',\n",
    "       'loop_until', 'loop_elements', 'loop_nested', 'stat_calculate',\n",
    "       'file_read', 'file_write', 'list', 'list_2d', 'dictionary', 'item_set',\n",
    "       'tuple'])\n",
    "\n",
    "\n",
    "q_with_compu.fillna(0, inplace=True)\n",
    "questions.fillna(0, inplace=True)"
   ]
  },
  {
   "cell_type": "code",
   "execution_count": 15,
   "metadata": {},
   "outputs": [],
   "source": [
    "q_with_compu = q_with_compu.rename(columns={'prompt': 'question'})"
   ]
  },
  {
   "cell_type": "code",
   "execution_count": 16,
   "metadata": {},
   "outputs": [],
   "source": [
    "df_taxonomy = df_sorted.merge(q_with_compu, how='inner', left_on=['problem_id', 'course_id'], right_on=['id', 'course_id'])"
   ]
  },
  {
   "cell_type": "code",
   "execution_count": 17,
   "metadata": {},
   "outputs": [],
   "source": [
    "df_taxonomy =df_taxonomy[['student_id', 'course_id', 'problem_id', 'prev_code', 'prev_question_num',\n",
    "                          'prev_question', 'score', 'question', 'struggling', 'type', 'IfElse', 'Loops',\n",
    "       'MathOperations', 'LogicOperators', 'StringOperations', 'List', 'FileOperations', 'Functions', 'Dictionary', 'Tuple']]"
   ]
  },
  {
   "cell_type": "code",
   "execution_count": 36,
   "metadata": {},
   "outputs": [],
   "source": [
    "df_taxonomy[(df_taxonomy['type'] != 'project') & (df_taxonomy['course_id'] == 4)].to_csv(os.path.join(cwd, '../df_taxonomy_falcon.csv'), sep=',')"
   ]
  }
 ],
 "metadata": {
  "kernelspec": {
   "display_name": "env",
   "language": "python",
   "name": "python3"
  },
  "language_info": {
   "codemirror_mode": {
    "name": "ipython",
    "version": 3
   },
   "file_extension": ".py",
   "mimetype": "text/x-python",
   "name": "python",
   "nbconvert_exporter": "python",
   "pygments_lexer": "ipython3",
   "version": "3.11.9"
  }
 },
 "nbformat": 4,
 "nbformat_minor": 2
}
