{
 "cells": [
  {
   "cell_type": "code",
   "execution_count": 1,
   "metadata": {},
   "outputs": [],
   "source": [
    "import os\n",
    "import re\n",
    "import pandas as pd\n",
    "from sklearn.metrics.pairwise import cosine_similarity"
   ]
  },
  {
   "cell_type": "markdown",
   "metadata": {},
   "source": [
    "# Preprocessing"
   ]
  },
  {
   "cell_type": "code",
   "execution_count": 2,
   "metadata": {},
   "outputs": [],
   "source": [
    "cwd = os.getcwd()\n",
    "main_table = pd.read_csv(os.path.join(cwd, '../MainTable.csv'))\n",
    "code = pd.read_csv(os.path.join(cwd, '../LinkTables/CodeStates.csv'))\n",
    "questions = pd.read_excel(os.path.join(cwd, '../LinkTables/questions.xlsx'))"
   ]
  },
  {
   "cell_type": "code",
   "execution_count": 3,
   "metadata": {},
   "outputs": [],
   "source": [
    "# change the time to the same zone time\n",
    "main_table.loc[main_table['ServerTimezone'] == '0', 'ServerTimestamp'] = pd.to_datetime(main_table.loc[main_table['ServerTimezone'] == '0', 'ServerTimestamp']).dt.tz_localize('US/Eastern')\n",
    "\n",
    "main_table.loc[main_table['ServerTimezone'] == 'UTC', 'ServerTimestamp'] = pd.to_datetime(main_table.loc[main_table['ServerTimezone'] == 'UTC', 'ServerTimestamp']).dt.tz_localize('UTC')\n",
    "\n",
    "main_table['ServerTimestamp'] = pd.to_datetime(main_table['ServerTimestamp'], utc=True)"
   ]
  },
  {
   "cell_type": "code",
   "execution_count": 4,
   "metadata": {},
   "outputs": [],
   "source": [
    "# Each student+question row in table has 2-3 rows for the compilition results. lets remove it:\n",
    "main_table = main_table[main_table['Score'].notnull()]"
   ]
  },
  {
   "cell_type": "code",
   "execution_count": 5,
   "metadata": {},
   "outputs": [],
   "source": [
    "subtable = main_table[['SubjectID', 'ServerTimestamp', 'CourseSectionID', 'AssignmentID', 'ProblemID', 'CodeStateID', 'Score']]\n",
    "subtable = subtable.sort_values(by='ServerTimestamp')"
   ]
  },
  {
   "cell_type": "code",
   "execution_count": 6,
   "metadata": {},
   "outputs": [
    {
     "name": "stderr",
     "output_type": "stream",
     "text": [
      "/tmp/ipykernel_3421728/2381715478.py:1: DeprecationWarning: DataFrameGroupBy.apply operated on the grouping columns. This behavior is deprecated, and in a future version of pandas the grouping columns will be excluded from the operation. Either pass `include_groups=False` to exclude the groupings or explicitly select the grouping columns after groupby to silence this warning.\n",
      "  df = subtable.groupby(['SubjectID', 'CourseSectionID', 'AssignmentID', 'ProblemID']).apply(lambda x: pd.Series({\n"
     ]
    }
   ],
   "source": [
    "df = subtable.groupby(['SubjectID', 'CourseSectionID', 'AssignmentID', 'ProblemID']).apply(lambda x: pd.Series({\n",
    "    'start_time': x['ServerTimestamp'].iloc[0],\n",
    "    'code_state_ID': x['CodeStateID'].tolist(),\n",
    "    'score': x['Score'].tolist(),\n",
    "    'server_timestamp': x['ServerTimestamp'].tolist(),\n",
    "})).reset_index()\n",
    "\n",
    "df['num_snapshots'] = df['code_state_ID'].apply(lambda x: len(x))\n",
    "df['time_to_solve'] = df['server_timestamp'].apply(lambda x: (pd.to_datetime(x[-1]) - pd.to_datetime(x[0])).seconds)\n",
    "df['time_between_snapshots'] = df['server_timestamp'].apply(lambda x: [(pd.to_datetime(x[i]) - pd.to_datetime(x[i-1])).seconds for i in range(1, len(x))])\n",
    "df['struggling'] = df['score'].apply(lambda x: 0 if x[-1] == 1 else 1)"
   ]
  },
  {
   "cell_type": "code",
   "execution_count": 7,
   "metadata": {},
   "outputs": [],
   "source": [
    "snapshots = []\n",
    "for i in df['code_state_ID']:\n",
    "    snapshots_student = []\n",
    "    for j in i:\n",
    "        snapshots_student.append(code[code['CodeStateID'] == j]['Code'].values[0])\n",
    "    snapshots.append(snapshots_student)\n",
    "\n",
    "df['source_code'] = snapshots"
   ]
  },
  {
   "cell_type": "code",
   "execution_count": 8,
   "metadata": {},
   "outputs": [],
   "source": [
    "df = df.rename(columns={'SubjectID': 'student_id'})\n",
    "df = df.rename(columns={'CourseSectionID': 'course_id'})\n",
    "df = df.rename(columns={'AssignmentID': 'assignment_id'})\n",
    "df = df.rename(columns={'ProblemID': 'problem_id'})\n",
    "df['max_score'] = df['score'].apply(lambda x: max(x) * 100)\n",
    "df = df.drop(columns=['code_state_ID'])\n",
    "df = df.sort_values(by='start_time')"
   ]
  },
  {
   "cell_type": "code",
   "execution_count": 9,
   "metadata": {},
   "outputs": [],
   "source": [
    "df_basic_model = df[['student_id', 'course_id', 'assignment_id', 'problem_id', 'start_time', 'score', 'source_code', 'struggling']]"
   ]
  },
  {
   "cell_type": "markdown",
   "metadata": {},
   "source": [
    "# Add Coding Task text & Students' codes"
   ]
  },
  {
   "cell_type": "code",
   "execution_count": 10,
   "metadata": {},
   "outputs": [
    {
     "name": "stderr",
     "output_type": "stream",
     "text": [
      "/tmp/ipykernel_3421728/4242415766.py:4: SettingWithCopyWarning: \n",
      "A value is trying to be set on a copy of a slice from a DataFrame.\n",
      "Try using .loc[row_indexer,col_indexer] = value instead\n",
      "\n",
      "See the caveats in the documentation: https://pandas.pydata.org/pandas-docs/stable/user_guide/indexing.html#returning-a-view-versus-a-copy\n",
      "  df_basic_model['question'] = q\n"
     ]
    }
   ],
   "source": [
    "q = []\n",
    "for i, row in df_basic_model.iterrows():\n",
    "    q.append(questions[(questions['AssignmentID'] == row['assignment_id']) & (questions['ProblemID'] == row['problem_id'])]['Requirement'].values[0])\n",
    "df_basic_model['question'] = q"
   ]
  },
  {
   "cell_type": "code",
   "execution_count": 11,
   "metadata": {},
   "outputs": [],
   "source": [
    "df_sorted = df_basic_model.sort_values(by=['student_id', 'start_time'])\n",
    "df_sorted['row_number'] = df_sorted.groupby('student_id').cumcount() + 1\n",
    "df_sorted['question_num'] = df_sorted['assignment_id'].astype(str) + '_' + df_sorted['problem_id'].astype(str)"
   ]
  },
  {
   "cell_type": "code",
   "execution_count": 12,
   "metadata": {},
   "outputs": [],
   "source": [
    "prev_code = df_sorted['source_code'].tolist()\n",
    "prev_code.insert(0, [])\n",
    "prev_q = df_sorted['question'].tolist()\n",
    "prev_q.insert(0, [])\n",
    "prev_num_q = df_sorted['question_num'].tolist()\n",
    "prev_num_q.insert(0, [])\n",
    "prev_score = df_sorted['score'].tolist()\n",
    "prev_score.insert(0, [])"
   ]
  },
  {
   "cell_type": "code",
   "execution_count": 13,
   "metadata": {},
   "outputs": [],
   "source": [
    "df_sorted['prev_code'] = prev_code[:-1] # last question of the last student\n",
    "df_sorted['prev_question'] = prev_q[:-1]\n",
    "df_sorted['prev_question_num'] = prev_num_q[:-1]\n",
    "df_sorted['score'] = prev_score[:-1]\n",
    "\n",
    "df_sorted = df_sorted[df_sorted['row_number'] != 1]"
   ]
  },
  {
   "cell_type": "code",
   "execution_count": 14,
   "metadata": {},
   "outputs": [],
   "source": [
    "prev_code = []\n",
    "prev_question = []\n",
    "prev_q_num = []\n",
    "prev_score = []\n",
    "for i, row in df_sorted.iterrows():\n",
    "    if row['row_number'] == 2:\n",
    "        prev_code.append([row['prev_code']])\n",
    "        prev_question.append([row['prev_question']])\n",
    "        prev_q_num.append([row['prev_question_num']])\n",
    "        prev_score.append([row['score']])\n",
    "    else:\n",
    "        prev_code.append(prev_code[-1] + [row['prev_code']])\n",
    "        prev_question.append(prev_question[-1] + [row['prev_question']])\n",
    "        prev_q_num.append(prev_q_num[-1] + [row['prev_question_num']])\n",
    "        prev_score.append(prev_score[-1] + [row['score']])"
   ]
  },
  {
   "cell_type": "code",
   "execution_count": 15,
   "metadata": {},
   "outputs": [],
   "source": [
    "df_sorted['prev_code'] = prev_code\n",
    "df_sorted['prev_question'] = prev_question\n",
    "df_sorted['prev_question_num'] = prev_q_num\n",
    "df_sorted['score'] = prev_score"
   ]
  },
  {
   "cell_type": "code",
   "execution_count": 16,
   "metadata": {},
   "outputs": [],
   "source": [
    "df_basic_model = df_sorted[['student_id', 'course_id', 'assignment_id', 'problem_id', 'prev_code', 'prev_question', 'question', 'struggling']]"
   ]
  },
  {
   "cell_type": "code",
   "execution_count": 17,
   "metadata": {},
   "outputs": [],
   "source": [
    "df_basic_model.to_csv(os.path.join(cwd, '..\\basic_model.csv'), index=False)"
   ]
  },
  {
   "cell_type": "markdown",
   "metadata": {},
   "source": [
    "# Taxonomy"
   ]
  },
  {
   "cell_type": "code",
   "execution_count": 27,
   "metadata": {},
   "outputs": [],
   "source": [
    "q_with_compu = questions.copy()\n",
    "q_with_compu['IfKnowledge'] = q_with_compu[['If/Else', 'NestedIf']].max(axis=1)\n",
    "q_with_compu['StringKnowledge'] = q_with_compu[['StringConcat', 'StringIndex', 'StringFormat']].max(axis=1)\n",
    "q_with_compu['LoopsKnowledge'] = q_with_compu[['While', 'For', 'NestedFor']].max(axis=1)\n",
    "q_with_compu['Math+-*/%'] = q_with_compu[['Math+-*/', 'Math%']].max(axis=1)\n",
    "q_with_compu['LogicOperators'] = q_with_compu[['LogicAndNotOr', 'LogicCompareNum']].max(axis=1)\n",
    "\n",
    "q_with_compu = q_with_compu.drop(columns=['If/Else', 'NestedIf', 'StringConcat', 'StringIndex', 'StringFormat',\n",
    "                      'While', 'For', 'NestedFor', 'Math+-*/', 'Math%', 'LogicAndNotOr', 'LogicCompareNum', 'Unnamed: 21', 'Unnamed: 22', 'Unnamed: 23'])\n",
    "q_with_compu.fillna(0, inplace=True)\n",
    "questions.fillna(0, inplace=True)"
   ]
  },
  {
   "cell_type": "code",
   "execution_count": 28,
   "metadata": {},
   "outputs": [
    {
     "data": {
      "text/plain": [
       "Index(['AssignmentID', 'ProblemID', 'Requirement', 'If/Else', 'NestedIf',\n",
       "       'While', 'For', 'NestedFor', 'Math+-*/', 'Math%', 'LogicAndNotOr',\n",
       "       'LogicCompareNum', 'LogicBoolean', 'StringFormat', 'StringConcat',\n",
       "       'StringIndex', 'StringLen', 'StringEqual', 'CharEqual', 'ArrayIndex',\n",
       "       'DefFunction', 'Unnamed: 21', 'Unnamed: 22', 'Unnamed: 23'],\n",
       "      dtype='object')"
      ]
     },
     "execution_count": 28,
     "metadata": {},
     "output_type": "execute_result"
    }
   ],
   "source": [
    "questions.columns"
   ]
  },
  {
   "cell_type": "code",
   "execution_count": 29,
   "metadata": {},
   "outputs": [],
   "source": [
    "df_taxonomy = pd.merge(df_sorted, q_with_compu, left_on=['assignment_id', 'problem_id'], right_on=['AssignmentID', 'ProblemID'], how='outer')"
   ]
  },
  {
   "cell_type": "code",
   "execution_count": 30,
   "metadata": {},
   "outputs": [],
   "source": [
    "df_taxonomy =df_taxonomy[['student_id', 'course_id', 'assignment_id', 'problem_id', 'prev_code', 'prev_question_num',\n",
    "                          'prev_question', 'score', 'question', 'struggling', 'If/Else', 'NestedIf',\n",
    "       'While', 'For', 'NestedFor', 'Math+-*/', 'Math%', 'LogicAndNotOr', 'LogicCompareNum', 'LogicBoolean', 'StringFormat', 'StringConcat',\n",
    "       'StringIndex', 'StringLen', 'StringEqual', 'CharEqual', 'ArrayIndex','DefFunction']]\n",
    "df_taxonomy['question_num'] = df_taxonomy['assignment_id'].astype(str) + '_' + df_taxonomy['problem_id'].astype(str)"
   ]
  },
  {
   "cell_type": "code",
   "execution_count": 31,
   "metadata": {},
   "outputs": [],
   "source": [
    "df_taxonomy = df_taxonomy.drop(columns=['question_num', 'prev_question_num'])"
   ]
  },
  {
   "cell_type": "code",
   "execution_count": 32,
   "metadata": {},
   "outputs": [],
   "source": [
    "df_taxonomy.to_csv(os.path.join(cwd, '../df_taxonomy_all.csv'), index=False)"
   ]
  },
  {
   "cell_type": "markdown",
   "metadata": {},
   "source": [
    "# Sort By Similarity"
   ]
  },
  {
   "cell_type": "code",
   "execution_count": null,
   "metadata": {},
   "outputs": [],
   "source": [
    "df_similarity = df_taxonomy.copy()"
   ]
  },
  {
   "cell_type": "code",
   "execution_count": 22,
   "metadata": {},
   "outputs": [],
   "source": [
    "# Caculate similarity of questions\n",
    "questions['Key'] = questions['AssignmentID'].astype('float64').astype(str) + '_' + questions['ProblemID'].astype(str)\n",
    "questions.set_index('Key', inplace=True)\n",
    "feature_columns = ['If/Else', 'NestedIf',\n",
    "       'While', 'For', 'NestedFor', 'Math+-*/', 'Math%', 'LogicAndNotOr',\n",
    "       'LogicCompareNum', 'LogicBoolean', 'StringFormat', 'StringConcat',\n",
    "       'StringIndex', 'StringLen', 'StringEqual', 'CharEqual', 'ArrayIndex',\n",
    "       'DefFunction']\n",
    "similarity_matrix = cosine_similarity(questions[feature_columns])\n",
    "similarity_df = pd.DataFrame(similarity_matrix, index=questions.index, columns=questions.index)"
   ]
  },
  {
   "cell_type": "code",
   "execution_count": 33,
   "metadata": {},
   "outputs": [],
   "source": [
    "def sort_by_similarity(row):\n",
    "    questions_num = row['question_num']\n",
    "    similar_keys = similarity_df.loc[questions_num].sort_values(ascending=False)\n",
    "\n",
    "    # Sort the lists based on the similarity order\n",
    "    sorted_tuple = sorted(zip(row['prev_code'], row['prev_question_num'], row['prev_question'], row['score']), key=lambda pair: similar_keys.get(pair[1], float('inf')), reverse=True)\n",
    "    code, q_num, q, score = zip(*sorted_tuple) \n",
    "    \n",
    "    return pd.Series([list(code), list(q_num), list(q), list(score)])"
   ]
  },
  {
   "cell_type": "code",
   "execution_count": 34,
   "metadata": {},
   "outputs": [],
   "source": [
    "df_taxonomy[['prev_code', 'prev_question_num', 'prev_question', 'score']] = df_taxonomy.apply(sort_by_similarity, axis=1)"
   ]
  },
  {
   "cell_type": "code",
   "execution_count": 39,
   "metadata": {},
   "outputs": [],
   "source": []
  },
  {
   "cell_type": "markdown",
   "metadata": {},
   "source": [
    "# Meta Data"
   ]
  },
  {
   "cell_type": "code",
   "execution_count": null,
   "metadata": {},
   "outputs": [],
   "source": []
  }
 ],
 "metadata": {
  "kernelspec": {
   "display_name": "my_env",
   "language": "python",
   "name": "python3"
  },
  "language_info": {
   "codemirror_mode": {
    "name": "ipython",
    "version": 3
   },
   "file_extension": ".py",
   "mimetype": "text/x-python",
   "name": "python",
   "nbconvert_exporter": "python",
   "pygments_lexer": "ipython3",
   "version": "3.11.9"
  }
 },
 "nbformat": 4,
 "nbformat_minor": 2
}
